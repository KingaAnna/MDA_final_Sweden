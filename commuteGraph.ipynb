{
 "cells": [
  {
   "cell_type": "code",
   "execution_count": 1,
   "id": "527dc80f",
   "metadata": {},
   "outputs": [],
   "source": [
    "import pandas as pd\n",
    "import numpy as np\n",
    "from py2neo import Graph\n",
    "from py2neo import Node\n",
    "from py2neo import Relationship"
   ]
  },
  {
   "cell_type": "markdown",
   "id": "26454524",
   "metadata": {},
   "source": [
    "# Commuting flow preprocessing\n",
    "<BR>\n",
    "<A HREF=\"https://www.census.gov/data/tables/2015/demo/metro-micro/commuting-flows-2015.html\">Commuting Flows Data</A>"
   ]
  },
  {
   "cell_type": "markdown",
   "id": "a8feb07b",
   "metadata": {},
   "source": [
    "The data is read. The missing values result from lines indicating commuting flows to other workplaces outside the USA. These rows are deleted."
   ]
  },
  {
   "cell_type": "code",
   "execution_count": 2,
   "id": "379bcf82",
   "metadata": {},
   "outputs": [],
   "source": [
    "commuting_flow=pd.read_excel(\"RawData/commuting_flows.xlsx\",dtype={'State FIPS Code': object,'County FIPS Code':object,\n",
    "                                                                   'State FIPS Code.1':object,\n",
    "                                                                   'County FIPS Code.1':object})\n",
    "commuting_flow.drop(columns=[\" Margin of Error\"], inplace=True)\n",
    "commuting_flow.dropna(inplace=True)"
   ]
  },
  {
   "cell_type": "markdown",
   "id": "05537fbd",
   "metadata": {},
   "source": [
    "Combining state and county FIPS code to one FIPS code"
   ]
  },
  {
   "cell_type": "code",
   "execution_count": 3,
   "id": "b3f0e396",
   "metadata": {},
   "outputs": [],
   "source": [
    "commuting_flow['State FIPS Code.1']=commuting_flow['State FIPS Code.1'].str[1:]\n",
    "commuting_flow[\"State FIPS Code\"]=commuting_flow[\"State FIPS Code\"]+commuting_flow[\"County FIPS Code\"]\n",
    "commuting_flow[\"State FIPS Code.1\"]=commuting_flow[\"State FIPS Code.1\"]+commuting_flow[\"County FIPS Code.1\"]\n",
    "commuting_flow.drop(columns=['County FIPS Code.1','County FIPS Code'],inplace=True)\n",
    "commuting_flow.rename(columns={'State Name':'ResState','County Name':'ResCounty','State Name.1':'PoWState',\n",
    "                              'County Name.1':'PoWCounty','Workers in Commuting Flow':'Workers',\n",
    "                              'State FIPS Code.1':'PoWGEOID','State FIPS Code':'ResGEOID'},inplace=True)\n",
    "commuting_flow['ResCounty']=commuting_flow['ResCounty'].str.replace(' County', '')\n",
    "commuting_flow['PoWCounty']=commuting_flow['PoWCounty'].str.replace(' County', '')"
   ]
  },
  {
   "cell_type": "code",
   "execution_count": 4,
   "id": "34f35e19",
   "metadata": {},
   "outputs": [],
   "source": [
    "commuting_flow.to_csv('Data_input_Neo4j/WorkPlaceFlows_clean.csv',index=False)"
   ]
  },
  {
   "cell_type": "markdown",
   "id": "331a30d3",
   "metadata": {},
   "source": [
    "# Preparing graph based on commuting flows between states"
   ]
  },
  {
   "cell_type": "markdown",
   "id": "ebcca617",
   "metadata": {},
   "source": [
    "We only consider the commuting flow between states."
   ]
  },
  {
   "cell_type": "code",
   "execution_count": 5,
   "id": "f4d0822b",
   "metadata": {},
   "outputs": [],
   "source": [
    "between_state=commuting_flow[commuting_flow[\"ResState\"]!=commuting_flow[\"PoWState\"]]"
   ]
  },
  {
   "cell_type": "markdown",
   "id": "e3c45222",
   "metadata": {},
   "source": [
    "We compute the nodes and edges and save the results in the folder Data_input_neo4j"
   ]
  },
  {
   "cell_type": "code",
   "execution_count": 6,
   "id": "6ce5da46",
   "metadata": {},
   "outputs": [],
   "source": [
    "commuting_edges=between_state.groupby([\"ResState\",\"PoWState\"],as_index=False).agg({'Workers':'sum'})\n",
    "commuting_nodes=pd.DataFrame(commuting_edges['ResState'].unique(),columns=['State'])"
   ]
  },
  {
   "cell_type": "code",
   "execution_count": 7,
   "id": "02a45517",
   "metadata": {},
   "outputs": [],
   "source": [
    "commuting_edges.to_csv('Data_input_neo4j/commuting_edges.csv',index=False)\n",
    "commuting_nodes.to_csv('Data_input_neo4j/commuting_nodes.csv',index=False)"
   ]
  },
  {
   "cell_type": "markdown",
   "id": "c1e73b40",
   "metadata": {},
   "source": [
    "## Commuting flow degree centrality"
   ]
  },
  {
   "cell_type": "markdown",
   "id": "ef031908",
   "metadata": {},
   "source": [
    "<div class=\"alert alert-block alert-info\"> Make sure that all datafiles that are in the folder Data_input_neo4j are copied into the input folder of your database.</div>"
   ]
  },
  {
   "cell_type": "markdown",
   "id": "c1c155bb",
   "metadata": {},
   "source": [
    "## Make graph"
   ]
  },
  {
   "cell_type": "code",
   "execution_count": 8,
   "id": "05bdc14c",
   "metadata": {},
   "outputs": [],
   "source": [
    "graph = Graph(\"bolt://localhost:7687\", password='xxx', name='neo4j')"
   ]
  },
  {
   "cell_type": "markdown",
   "id": "9fd75fb1",
   "metadata": {},
   "source": [
    "Insert the nodes and relationships."
   ]
  },
  {
   "cell_type": "code",
   "execution_count": 9,
   "id": "afd90b5b",
   "metadata": {},
   "outputs": [
    {
     "data": {
      "text/html": [
       "<table><tr><th>true</th></tr><tr><td style=\"text-align:left\">true</td></tr></table>"
      ],
      "text/plain": [
       " true \n",
       "------\n",
       " true "
      ]
     },
     "execution_count": 9,
     "metadata": {},
     "output_type": "execute_result"
    }
   ],
   "source": [
    "graph.run(\"MATCH (n) DETACH DELETE n\")\n",
    "query=\"\"\"LOAD CSV WITH HEADERS FROM $file as row\n",
    "        with row\n",
    "        CALL apoc.create.node(['State','Place'],{name:row.State}) YIELD node\n",
    "        RETURN distinct true\"\"\"\n",
    "graph.run(query,file='file:///commuting_nodes.csv')\n",
    "query=\"\"\"LOAD CSV WITH HEADERS FROM $file as row\n",
    "        with row\n",
    "        MATCH (source:State{name:row.ResState})\n",
    "        MATCH (target:State{name:row.PoWState})\n",
    "        CALL apoc.create.relationship(source,\"COMMUTING\",{weight:toFloat(row.Workers)},target) YIELD rel\n",
    "        RETURN distinct true\"\"\"\n",
    "graph.run(query,file='file:///commuting_edges.csv')"
   ]
  },
  {
   "cell_type": "markdown",
   "id": "5bb0be26",
   "metadata": {},
   "source": [
    "Create an in-memory graph, called 'Commuting'."
   ]
  },
  {
   "cell_type": "code",
   "execution_count": 10,
   "id": "c123eef0",
   "metadata": {},
   "outputs": [
    {
     "data": {
      "text/html": [
       "<table><tr><th>nodeProjection</th><th>relationshipProjection</th><th>graphName</th><th>nodeCount</th><th>relationshipCount</th><th>projectMillis</th></tr><tr><td style=\"text-align:left\">{State: {label: &#039;State&#039;, properties: {}}}</td><td style=\"text-align:left\">{COMMUTING: {orientation: &#039;UNDIRECTED&#039;, aggregation: &#039;DEFAULT&#039;, type: &#039;COMMUTING&#039;, properties: {weight: {defaultValue: null, property: &#039;weight&#039;, aggregation: &#039;DEFAULT&#039;}}}}</td><td style=\"text-align:left\">Commuting</td><td style=\"text-align:right\">52</td><td style=\"text-align:right\">4748</td><td style=\"text-align:right\">22</td></tr></table>"
      ],
      "text/plain": [
       " nodeProjection                            | relationshipProjection                                                                                                                                                      | graphName | nodeCount | relationshipCount | projectMillis \n",
       "-------------------------------------------|-----------------------------------------------------------------------------------------------------------------------------------------------------------------------------|-----------|-----------|-------------------|---------------\n",
       " {State: {label: 'State', properties: {}}} | {COMMUTING: {orientation: 'UNDIRECTED', aggregation: 'DEFAULT', type: 'COMMUTING', properties: {weight: {defaultValue: null, property: 'weight', aggregation: 'DEFAULT'}}}} | Commuting |        52 |              4748 |            22 "
      ]
     },
     "execution_count": 10,
     "metadata": {},
     "output_type": "execute_result"
    }
   ],
   "source": [
    "query=\"\"\"CALL gds.graph.project('Commuting','State',{COMMUTING:{properties:'weight', orientation:'UNDIRECTED'}})\"\"\"\n",
    "graph.run(query)"
   ]
  },
  {
   "cell_type": "markdown",
   "id": "268423f2",
   "metadata": {},
   "source": [
    "## Perform degree centrality"
   ]
  },
  {
   "cell_type": "markdown",
   "id": "07729ac5",
   "metadata": {},
   "source": [
    "We can use the gds.degree.stream algorithm to calculate the degree centrality of the states."
   ]
  },
  {
   "cell_type": "code",
   "execution_count": 11,
   "id": "3e6ef3fe",
   "metadata": {},
   "outputs": [],
   "source": [
    "query=\"\"\"CALL gds.degree.stream('Commuting',{relationshipWeightProperty:'weight'})\n",
    "        YIELD nodeId, score\n",
    "        RETURN gds.util.asNode(nodeId).name AS Place, score AS Degree_Centrality_com\n",
    "        ORDER by Degree_Centrality_com desc\"\"\"\n",
    "result = graph.run(query).data() \n",
    "df_degree_commuting=pd.DataFrame(result)"
   ]
  },
  {
   "cell_type": "markdown",
   "id": "3ba9e74d",
   "metadata": {},
   "source": [
    "The in-memory graph is dropped again."
   ]
  },
  {
   "cell_type": "code",
   "execution_count": 12,
   "id": "93b58d8d",
   "metadata": {
    "scrolled": true
   },
   "outputs": [
    {
     "data": {
      "text/html": [
       "<table><tr><th>graphName</th><th>database</th><th>memoryUsage</th><th>sizeInBytes</th><th>nodeCount</th><th>relationshipCount</th><th>configuration</th><th>density</th><th>creationTime</th><th>modificationTime</th><th>schema</th></tr><tr><td style=\"text-align:left\">Commuting</td><td style=\"text-align:left\">neo4j</td><td style=\"text-align:left\"></td><td style=\"text-align:right\">-1</td><td style=\"text-align:right\">52</td><td style=\"text-align:right\">4748</td><td style=\"text-align:left\">{relationshipProjection: {COMMUTING: {orientation: &#039;UNDIRECTED&#039;, aggregation: &#039;DEFAULT&#039;, type: &#039;COMMUTING&#039;, properties: {weight: {defaultValue: null, property: &#039;weight&#039;, aggregation: &#039;DEFAULT&#039;}}}}, nodeProjection: {State: {label: &#039;State&#039;, properties: {}}}, relationshipProperties: [], creationTime: datetime(&#039;2022-06-06T08:42:17.940273600+02:00&#039;), validateRelationships: false, readConcurrency: 4, sudo: false, nodeProperties: [], username: null}</td><td style=\"text-align:right\">1.790346907993967</td><td style=\"text-align:left\">datetime(&#039;2022-06-06T08:42:17.940273600+02:00&#039;)</td><td style=\"text-align:left\">datetime(&#039;2022-06-06T08:42:17.960229800+02:00&#039;)</td><td style=\"text-align:left\">{relationships: {COMMUTING: {weight: &#039;Float (DefaultValue(NaN), PERSISTENT, Aggregation.DEFAULT)&#039;}}, nodes: {State: {}}}</td></tr></table>"
      ],
      "text/plain": [
       " graphName | database | memoryUsage | sizeInBytes | nodeCount | relationshipCount | configuration                                                                                                                                                                                                                                                                                                                                                                                                                                                  |           density | creationTime                                    | modificationTime                                | schema                                                                                                                   \n",
       "-----------|----------|-------------|-------------|-----------|-------------------|----------------------------------------------------------------------------------------------------------------------------------------------------------------------------------------------------------------------------------------------------------------------------------------------------------------------------------------------------------------------------------------------------------------------------------------------------------------|-------------------|-------------------------------------------------|-------------------------------------------------|--------------------------------------------------------------------------------------------------------------------------\n",
       " Commuting | neo4j    |             |          -1 |        52 |              4748 | {relationshipProjection: {COMMUTING: {orientation: 'UNDIRECTED', aggregation: 'DEFAULT', type: 'COMMUTING', properties: {weight: {defaultValue: null, property: 'weight', aggregation: 'DEFAULT'}}}}, nodeProjection: {State: {label: 'State', properties: {}}}, relationshipProperties: [], creationTime: datetime('2022-06-06T08:42:17.940273600+02:00'), validateRelationships: false, readConcurrency: 4, sudo: false, nodeProperties: [], username: null} | 1.790346907993967 | datetime('2022-06-06T08:42:17.940273600+02:00') | datetime('2022-06-06T08:42:17.960229800+02:00') | {relationships: {COMMUTING: {weight: 'Float (DefaultValue(NaN), PERSISTENT, Aggregation.DEFAULT)'}}, nodes: {State: {}}} "
      ]
     },
     "execution_count": 12,
     "metadata": {},
     "output_type": "execute_result"
    }
   ],
   "source": [
    "graph.run(\"CALL gds.graph.drop('Commuting')\")"
   ]
  },
  {
   "cell_type": "markdown",
   "id": "dd9c864f",
   "metadata": {},
   "source": [
    "The results are saved into a csv file."
   ]
  },
  {
   "cell_type": "code",
   "execution_count": 13,
   "id": "a764252b",
   "metadata": {},
   "outputs": [],
   "source": [
    "df_degree_commuting.to_csv('PreprocessedData/degree_commuting_between_states.csv',index=False)"
   ]
  },
  {
   "cell_type": "markdown",
   "id": "faf2e7dc",
   "metadata": {},
   "source": [
    "# Preparing graph based on commuting flows between counties\n"
   ]
  },
  {
   "cell_type": "markdown",
   "id": "f372f241",
   "metadata": {},
   "source": [
    "<div class=\"alert alert-block alert-info\"> Make sure that all datafiles that are in the folder Data_input_neo4j are copied into the input folder of your database.</div>"
   ]
  },
  {
   "cell_type": "code",
   "execution_count": 14,
   "id": "4ef30853",
   "metadata": {},
   "outputs": [
    {
     "data": {
      "text/html": [
       "(No data)"
      ],
      "text/plain": [
       "(No data)"
      ]
     },
     "execution_count": 14,
     "metadata": {},
     "output_type": "execute_result"
    }
   ],
   "source": [
    "graph.run(\"MATCH(n) DETACH DELETE n\")"
   ]
  },
  {
   "cell_type": "code",
   "execution_count": 15,
   "id": "c947c928",
   "metadata": {},
   "outputs": [
    {
     "name": "stdout",
     "output_type": "stream",
     "text": [
      "Nodes inserted\n"
     ]
    }
   ],
   "source": [
    "query=\"\"\"\n",
    "LOAD CSV WITH HEADERS FROM \"file:///WorkplaceFlows_clean.csv\" as row\n",
    "MERGE (:County {geoid: row.ResGEOID, county: row.ResCounty, state: row.ResState})\n",
    "\"\"\"\n",
    "graph.run(query)\n",
    "print(\"Nodes inserted\")"
   ]
  },
  {
   "cell_type": "code",
   "execution_count": 16,
   "id": "fdbd71f6",
   "metadata": {},
   "outputs": [
    {
     "name": "stdout",
     "output_type": "stream",
     "text": [
      "Index created\n"
     ]
    }
   ],
   "source": [
    "query=\"\"\"\n",
    "CREATE INDEX INDX IF NOT EXISTS\n",
    "FOR (n:County)\n",
    "ON (n.geoid)\n",
    "\"\"\"\n",
    "graph.run(query)\n",
    "print(\"Index created\")"
   ]
  },
  {
   "cell_type": "code",
   "execution_count": 17,
   "id": "07f16738",
   "metadata": {},
   "outputs": [
    {
     "name": "stdout",
     "output_type": "stream",
     "text": [
      "Relationships created\n"
     ]
    }
   ],
   "source": [
    "query=\"\"\"\n",
    "LOAD CSV WITH HEADERS FROM \"file:///WorkplaceFlows_clean.csv\" as row\n",
    "MERGE (res:County {geoid: row.ResGEOID, county: row.ResCounty, state: row.ResState})\n",
    "MERGE (pow:County {geoid: row.PoWGEOID, county: row.PoWCounty, state: row.PoWState})\n",
    "CREATE (res)-[:COMMUTES {workers: toFloat(row.Workers), res: row.ResGEOID, pow: row.PoWGEOID}]->(pow)\n",
    "\"\"\"\n",
    "graph.run(query)\n",
    "print(\"Relationships created\")"
   ]
  },
  {
   "cell_type": "code",
   "execution_count": 18,
   "id": "b5bde5a4",
   "metadata": {},
   "outputs": [
    {
     "data": {
      "text/html": [
       "<table><tr><th>a.geoid</th><th>a.state</th></tr><tr><td style=\"text-align:left\">36001</td><td style=\"text-align:left\">New York</td></tr><tr><td style=\"text-align:left\">56001</td><td style=\"text-align:left\">Wyoming</td></tr></table>"
      ],
      "text/plain": [
       " a.geoid | a.state  \n",
       "---------|----------\n",
       " 36001   | New York \n",
       " 56001   | Wyoming  "
      ]
     },
     "execution_count": 18,
     "metadata": {},
     "output_type": "execute_result"
    }
   ],
   "source": [
    "# Quick test to make sure things are connected and working, should be two Albany counties, one in NY, one in WY\n",
    "query = \"\"\"\n",
    "MATCH (a:County) WHERE a.county = 'Albany' RETURN a.geoid, a.state;\n",
    "\"\"\"\n",
    "graph.run(query)"
   ]
  },
  {
   "cell_type": "code",
   "execution_count": 19,
   "id": "13c2c856",
   "metadata": {},
   "outputs": [
    {
     "data": {
      "text/html": [
       "<table><tr><th>nodeProjection</th><th>relationshipProjection</th><th>graphName</th><th>nodeCount</th><th>relationshipCount</th><th>projectMillis</th></tr><tr><td style=\"text-align:left\">{County: {label: &#039;County&#039;, properties: {}}}</td><td style=\"text-align:left\">{COMMUTES: {orientation: &#039;NATURAL&#039;, aggregation: &#039;DEFAULT&#039;, type: &#039;COMMUTES&#039;, properties: {workers: {defaultValue: null, property: &#039;workers&#039;, aggregation: &#039;DEFAULT&#039;}}}}</td><td style=\"text-align:left\">counties</td><td style=\"text-align:right\">3220</td><td style=\"text-align:right\">137806</td><td style=\"text-align:right\">73</td></tr></table>"
      ],
      "text/plain": [
       " nodeProjection                              | relationshipProjection                                                                                                                                                   | graphName | nodeCount | relationshipCount | projectMillis \n",
       "---------------------------------------------|--------------------------------------------------------------------------------------------------------------------------------------------------------------------------|-----------|-----------|-------------------|---------------\n",
       " {County: {label: 'County', properties: {}}} | {COMMUTES: {orientation: 'NATURAL', aggregation: 'DEFAULT', type: 'COMMUTES', properties: {workers: {defaultValue: null, property: 'workers', aggregation: 'DEFAULT'}}}} | counties  |      3220 |            137806 |            73 "
      ]
     },
     "execution_count": 19,
     "metadata": {},
     "output_type": "execute_result"
    }
   ],
   "source": [
    "query = \"\"\"\n",
    "CALL gds.graph.project('counties','County',{COMMUTES:{properties:'workers'}});\n",
    "\"\"\"\n",
    "graph.run(query)"
   ]
  },
  {
   "cell_type": "markdown",
   "id": "ab16dc21",
   "metadata": {},
   "source": [
    "## Centrality Measures\n",
    "<A HREF=\"https://neo4j-website.s3.eu-central-1.amazonaws.com/build/html/Algorithms/centrality/centrality.html\">Centrality Measures</A>"
   ]
  },
  {
   "cell_type": "code",
   "execution_count": 20,
   "id": "7ad0241b",
   "metadata": {},
   "outputs": [
    {
     "data": {
      "text/html": [
       "<div>\n",
       "<style scoped>\n",
       "    .dataframe tbody tr th:only-of-type {\n",
       "        vertical-align: middle;\n",
       "    }\n",
       "\n",
       "    .dataframe tbody tr th {\n",
       "        vertical-align: top;\n",
       "    }\n",
       "\n",
       "    .dataframe thead th {\n",
       "        text-align: right;\n",
       "    }\n",
       "</style>\n",
       "<table border=\"1\" class=\"dataframe\">\n",
       "  <thead>\n",
       "    <tr style=\"text-align: right;\">\n",
       "      <th></th>\n",
       "      <th>geoid</th>\n",
       "      <th>county</th>\n",
       "      <th>state</th>\n",
       "      <th>centralScore</th>\n",
       "    </tr>\n",
       "  </thead>\n",
       "  <tbody>\n",
       "    <tr>\n",
       "      <th>0</th>\n",
       "      <td>48201</td>\n",
       "      <td>Harris</td>\n",
       "      <td>Texas</td>\n",
       "      <td>0.574054</td>\n",
       "    </tr>\n",
       "    <tr>\n",
       "      <th>1</th>\n",
       "      <td>17031</td>\n",
       "      <td>Cook</td>\n",
       "      <td>Illinois</td>\n",
       "      <td>0.556574</td>\n",
       "    </tr>\n",
       "    <tr>\n",
       "      <th>2</th>\n",
       "      <td>48113</td>\n",
       "      <td>Dallas</td>\n",
       "      <td>Texas</td>\n",
       "      <td>0.536524</td>\n",
       "    </tr>\n",
       "    <tr>\n",
       "      <th>3</th>\n",
       "      <td>13121</td>\n",
       "      <td>Fulton</td>\n",
       "      <td>Georgia</td>\n",
       "      <td>0.534830</td>\n",
       "    </tr>\n",
       "    <tr>\n",
       "      <th>4</th>\n",
       "      <td>11001</td>\n",
       "      <td>District of Columbia</td>\n",
       "      <td>District of Columbia</td>\n",
       "      <td>0.532263</td>\n",
       "    </tr>\n",
       "    <tr>\n",
       "      <th>5</th>\n",
       "      <td>06037</td>\n",
       "      <td>Los Angeles</td>\n",
       "      <td>California</td>\n",
       "      <td>0.532087</td>\n",
       "    </tr>\n",
       "    <tr>\n",
       "      <th>6</th>\n",
       "      <td>27053</td>\n",
       "      <td>Hennepin</td>\n",
       "      <td>Minnesota</td>\n",
       "      <td>0.527031</td>\n",
       "    </tr>\n",
       "    <tr>\n",
       "      <th>7</th>\n",
       "      <td>47157</td>\n",
       "      <td>Shelby</td>\n",
       "      <td>Tennessee</td>\n",
       "      <td>0.522665</td>\n",
       "    </tr>\n",
       "    <tr>\n",
       "      <th>8</th>\n",
       "      <td>04013</td>\n",
       "      <td>Maricopa</td>\n",
       "      <td>Arizona</td>\n",
       "      <td>0.521056</td>\n",
       "    </tr>\n",
       "    <tr>\n",
       "      <th>9</th>\n",
       "      <td>37119</td>\n",
       "      <td>Mecklenburg</td>\n",
       "      <td>North Carolina</td>\n",
       "      <td>0.520466</td>\n",
       "    </tr>\n",
       "  </tbody>\n",
       "</table>\n",
       "</div>"
      ],
      "text/plain": [
       "   geoid                county                 state  centralScore\n",
       "0  48201                Harris                 Texas      0.574054\n",
       "1  17031                  Cook              Illinois      0.556574\n",
       "2  48113                Dallas                 Texas      0.536524\n",
       "3  13121                Fulton               Georgia      0.534830\n",
       "4  11001  District of Columbia  District of Columbia      0.532263\n",
       "5  06037           Los Angeles            California      0.532087\n",
       "6  27053              Hennepin             Minnesota      0.527031\n",
       "7  47157                Shelby             Tennessee      0.522665\n",
       "8  04013              Maricopa               Arizona      0.521056\n",
       "9  37119           Mecklenburg        North Carolina      0.520466"
      ]
     },
     "execution_count": 20,
     "metadata": {},
     "output_type": "execute_result"
    }
   ],
   "source": [
    "# Counties with highest centrality score\n",
    "query = \"\"\"\n",
    "CALL gds.beta.closeness.stream('counties')\n",
    "YIELD nodeId, score\n",
    "RETURN gds.util.asNode(nodeId).geoid AS geoid, \n",
    "       gds.util.asNode(nodeId).county AS county,\n",
    "       gds.util.asNode(nodeId).state AS state,\n",
    "       score AS centralScore\n",
    "ORDER BY score DESC;\n",
    "\"\"\"\n",
    "result=graph.run(query)\n",
    "centrality = result.to_data_frame()\n",
    "centrality.head(10)"
   ]
  },
  {
   "cell_type": "code",
   "execution_count": 21,
   "id": "1893516e",
   "metadata": {},
   "outputs": [],
   "source": [
    "#centrality.to_csv(\"PreprocessedData/centrality.csv\", index=False)"
   ]
  },
  {
   "cell_type": "code",
   "execution_count": 22,
   "id": "122231cb",
   "metadata": {},
   "outputs": [
    {
     "data": {
      "text/html": [
       "<div>\n",
       "<style scoped>\n",
       "    .dataframe tbody tr th:only-of-type {\n",
       "        vertical-align: middle;\n",
       "    }\n",
       "\n",
       "    .dataframe tbody tr th {\n",
       "        vertical-align: top;\n",
       "    }\n",
       "\n",
       "    .dataframe thead th {\n",
       "        text-align: right;\n",
       "    }\n",
       "</style>\n",
       "<table border=\"1\" class=\"dataframe\">\n",
       "  <thead>\n",
       "    <tr style=\"text-align: right;\">\n",
       "      <th></th>\n",
       "      <th>geoid</th>\n",
       "      <th>county</th>\n",
       "      <th>state</th>\n",
       "      <th>betweenScore</th>\n",
       "    </tr>\n",
       "  </thead>\n",
       "  <tbody>\n",
       "    <tr>\n",
       "      <th>0</th>\n",
       "      <td>48201</td>\n",
       "      <td>Harris</td>\n",
       "      <td>Texas</td>\n",
       "      <td>617958.281608</td>\n",
       "    </tr>\n",
       "    <tr>\n",
       "      <th>1</th>\n",
       "      <td>17031</td>\n",
       "      <td>Cook</td>\n",
       "      <td>Illinois</td>\n",
       "      <td>469159.093054</td>\n",
       "    </tr>\n",
       "    <tr>\n",
       "      <th>2</th>\n",
       "      <td>48113</td>\n",
       "      <td>Dallas</td>\n",
       "      <td>Texas</td>\n",
       "      <td>301811.660055</td>\n",
       "    </tr>\n",
       "    <tr>\n",
       "      <th>3</th>\n",
       "      <td>06037</td>\n",
       "      <td>Los Angeles</td>\n",
       "      <td>California</td>\n",
       "      <td>270725.273712</td>\n",
       "    </tr>\n",
       "    <tr>\n",
       "      <th>4</th>\n",
       "      <td>04013</td>\n",
       "      <td>Maricopa</td>\n",
       "      <td>Arizona</td>\n",
       "      <td>255235.306000</td>\n",
       "    </tr>\n",
       "    <tr>\n",
       "      <th>5</th>\n",
       "      <td>13121</td>\n",
       "      <td>Fulton</td>\n",
       "      <td>Georgia</td>\n",
       "      <td>245228.297783</td>\n",
       "    </tr>\n",
       "    <tr>\n",
       "      <th>6</th>\n",
       "      <td>27053</td>\n",
       "      <td>Hennepin</td>\n",
       "      <td>Minnesota</td>\n",
       "      <td>243818.914986</td>\n",
       "    </tr>\n",
       "    <tr>\n",
       "      <th>7</th>\n",
       "      <td>48439</td>\n",
       "      <td>Tarrant</td>\n",
       "      <td>Texas</td>\n",
       "      <td>223837.763622</td>\n",
       "    </tr>\n",
       "    <tr>\n",
       "      <th>8</th>\n",
       "      <td>47157</td>\n",
       "      <td>Shelby</td>\n",
       "      <td>Tennessee</td>\n",
       "      <td>203355.954000</td>\n",
       "    </tr>\n",
       "    <tr>\n",
       "      <th>9</th>\n",
       "      <td>37119</td>\n",
       "      <td>Mecklenburg</td>\n",
       "      <td>North Carolina</td>\n",
       "      <td>192922.170706</td>\n",
       "    </tr>\n",
       "  </tbody>\n",
       "</table>\n",
       "</div>"
      ],
      "text/plain": [
       "   geoid       county           state   betweenScore\n",
       "0  48201       Harris           Texas  617958.281608\n",
       "1  17031         Cook        Illinois  469159.093054\n",
       "2  48113       Dallas           Texas  301811.660055\n",
       "3  06037  Los Angeles      California  270725.273712\n",
       "4  04013     Maricopa         Arizona  255235.306000\n",
       "5  13121       Fulton         Georgia  245228.297783\n",
       "6  27053     Hennepin       Minnesota  243818.914986\n",
       "7  48439      Tarrant           Texas  223837.763622\n",
       "8  47157       Shelby       Tennessee  203355.954000\n",
       "9  37119  Mecklenburg  North Carolina  192922.170706"
      ]
     },
     "execution_count": 22,
     "metadata": {},
     "output_type": "execute_result"
    }
   ],
   "source": [
    "# Counties with highest betweeness score\n",
    "query = \"\"\"\n",
    "CALL gds.betweenness.stream('counties')\n",
    "YIELD nodeId, score\n",
    "RETURN gds.util.asNode(nodeId).geoid AS geoid, \n",
    "       gds.util.asNode(nodeId).county AS county,\n",
    "       gds.util.asNode(nodeId).state AS state,\n",
    "       score AS betweenScore\n",
    "ORDER BY score DESC;\n",
    "\"\"\"\n",
    "result=graph.run(query)\n",
    "betweeness = result.to_data_frame()\n",
    "betweeness.head(10)"
   ]
  },
  {
   "cell_type": "code",
   "execution_count": 23,
   "id": "c37b2089",
   "metadata": {},
   "outputs": [],
   "source": [
    "#betweeness.to_csv(\"PreprocessedData/betweeness.csv\", index=False)"
   ]
  },
  {
   "cell_type": "code",
   "execution_count": 24,
   "id": "c953ac17",
   "metadata": {},
   "outputs": [
    {
     "data": {
      "text/html": [
       "<div>\n",
       "<style scoped>\n",
       "    .dataframe tbody tr th:only-of-type {\n",
       "        vertical-align: middle;\n",
       "    }\n",
       "\n",
       "    .dataframe tbody tr th {\n",
       "        vertical-align: top;\n",
       "    }\n",
       "\n",
       "    .dataframe thead th {\n",
       "        text-align: right;\n",
       "    }\n",
       "</style>\n",
       "<table border=\"1\" class=\"dataframe\">\n",
       "  <thead>\n",
       "    <tr style=\"text-align: right;\">\n",
       "      <th></th>\n",
       "      <th>geoid</th>\n",
       "      <th>county</th>\n",
       "      <th>state</th>\n",
       "      <th>pageRank</th>\n",
       "    </tr>\n",
       "  </thead>\n",
       "  <tbody>\n",
       "    <tr>\n",
       "      <th>0</th>\n",
       "      <td>72127</td>\n",
       "      <td>San Juan Municipio</td>\n",
       "      <td>Puerto Rico</td>\n",
       "      <td>16.812835</td>\n",
       "    </tr>\n",
       "    <tr>\n",
       "      <th>1</th>\n",
       "      <td>48201</td>\n",
       "      <td>Harris</td>\n",
       "      <td>Texas</td>\n",
       "      <td>16.499235</td>\n",
       "    </tr>\n",
       "    <tr>\n",
       "      <th>2</th>\n",
       "      <td>13121</td>\n",
       "      <td>Fulton</td>\n",
       "      <td>Georgia</td>\n",
       "      <td>14.583588</td>\n",
       "    </tr>\n",
       "    <tr>\n",
       "      <th>3</th>\n",
       "      <td>11001</td>\n",
       "      <td>District of Columbia</td>\n",
       "      <td>District of Columbia</td>\n",
       "      <td>13.112132</td>\n",
       "    </tr>\n",
       "    <tr>\n",
       "      <th>4</th>\n",
       "      <td>36061</td>\n",
       "      <td>New York</td>\n",
       "      <td>New York</td>\n",
       "      <td>12.787671</td>\n",
       "    </tr>\n",
       "    <tr>\n",
       "      <th>5</th>\n",
       "      <td>27053</td>\n",
       "      <td>Hennepin</td>\n",
       "      <td>Minnesota</td>\n",
       "      <td>12.269300</td>\n",
       "    </tr>\n",
       "    <tr>\n",
       "      <th>6</th>\n",
       "      <td>47157</td>\n",
       "      <td>Shelby</td>\n",
       "      <td>Tennessee</td>\n",
       "      <td>11.608050</td>\n",
       "    </tr>\n",
       "    <tr>\n",
       "      <th>7</th>\n",
       "      <td>17031</td>\n",
       "      <td>Cook</td>\n",
       "      <td>Illinois</td>\n",
       "      <td>11.504621</td>\n",
       "    </tr>\n",
       "    <tr>\n",
       "      <th>8</th>\n",
       "      <td>48113</td>\n",
       "      <td>Dallas</td>\n",
       "      <td>Texas</td>\n",
       "      <td>11.472922</td>\n",
       "    </tr>\n",
       "    <tr>\n",
       "      <th>9</th>\n",
       "      <td>21111</td>\n",
       "      <td>Jefferson</td>\n",
       "      <td>Kentucky</td>\n",
       "      <td>11.419643</td>\n",
       "    </tr>\n",
       "  </tbody>\n",
       "</table>\n",
       "</div>"
      ],
      "text/plain": [
       "   geoid                county                 state   pageRank\n",
       "0  72127    San Juan Municipio           Puerto Rico  16.812835\n",
       "1  48201                Harris                 Texas  16.499235\n",
       "2  13121                Fulton               Georgia  14.583588\n",
       "3  11001  District of Columbia  District of Columbia  13.112132\n",
       "4  36061              New York              New York  12.787671\n",
       "5  27053              Hennepin             Minnesota  12.269300\n",
       "6  47157                Shelby             Tennessee  11.608050\n",
       "7  17031                  Cook              Illinois  11.504621\n",
       "8  48113                Dallas                 Texas  11.472922\n",
       "9  21111             Jefferson              Kentucky  11.419643"
      ]
     },
     "execution_count": 24,
     "metadata": {},
     "output_type": "execute_result"
    }
   ],
   "source": [
    "# Counties with highest page rank score\n",
    "query = \"\"\"\n",
    "CALL gds.pageRank.stream('counties',{maxIterations: 50,  dampingFactor: 0.85,relationshipWeightProperty:'workers'})\n",
    "YIELD nodeId, score\n",
    "RETURN gds.util.asNode(nodeId).geoid AS geoid, \n",
    "       gds.util.asNode(nodeId).county AS county,\n",
    "       gds.util.asNode(nodeId).state AS state,\n",
    "       score AS pageRank\n",
    "ORDER BY score DESC;\n",
    "\"\"\"\n",
    "result=graph.run(query)\n",
    "pagerank = result.to_data_frame()\n",
    "pagerank.head(10)"
   ]
  },
  {
   "cell_type": "code",
   "execution_count": 25,
   "id": "e156bd83",
   "metadata": {},
   "outputs": [],
   "source": [
    "#pagerank.to_csv(\"PreprocessedData/pagerank.csv\", index=False)"
   ]
  },
  {
   "cell_type": "markdown",
   "id": "1a4973d3",
   "metadata": {},
   "source": [
    "## Community Detection\n",
    "<A HREF=\"https://neo4j-website.s3.eu-central-1.amazonaws.com/build/html/Algorithms/community/community.html\">Class Notes on Community Detection</A>"
   ]
  },
  {
   "cell_type": "markdown",
   "id": "961d75a7",
   "metadata": {},
   "source": [
    "<A HREF=\"https://neo4j.com/docs/graph-data-science/current/algorithms/louvain/\">Cypher Louvain Modularity</A><BR>"
   ]
  },
  {
   "cell_type": "code",
   "execution_count": 26,
   "id": "7f77e1f5",
   "metadata": {},
   "outputs": [
    {
     "data": {
      "text/html": [
       "<div>\n",
       "<style scoped>\n",
       "    .dataframe tbody tr th:only-of-type {\n",
       "        vertical-align: middle;\n",
       "    }\n",
       "\n",
       "    .dataframe tbody tr th {\n",
       "        vertical-align: top;\n",
       "    }\n",
       "\n",
       "    .dataframe thead th {\n",
       "        text-align: right;\n",
       "    }\n",
       "</style>\n",
       "<table border=\"1\" class=\"dataframe\">\n",
       "  <thead>\n",
       "    <tr style=\"text-align: right;\">\n",
       "      <th></th>\n",
       "      <th>geoid</th>\n",
       "      <th>county</th>\n",
       "      <th>state</th>\n",
       "      <th>communityId</th>\n",
       "      <th>intermediateCommunityIds</th>\n",
       "    </tr>\n",
       "  </thead>\n",
       "  <tbody>\n",
       "    <tr>\n",
       "      <th>0</th>\n",
       "      <td>19041</td>\n",
       "      <td>Clay</td>\n",
       "      <td>Iowa</td>\n",
       "      <td>20</td>\n",
       "      <td>[20]</td>\n",
       "    </tr>\n",
       "    <tr>\n",
       "      <th>1</th>\n",
       "      <td>19063</td>\n",
       "      <td>Emmet</td>\n",
       "      <td>Iowa</td>\n",
       "      <td>20</td>\n",
       "      <td>[20]</td>\n",
       "    </tr>\n",
       "    <tr>\n",
       "      <th>2</th>\n",
       "      <td>19059</td>\n",
       "      <td>Dickinson</td>\n",
       "      <td>Iowa</td>\n",
       "      <td>20</td>\n",
       "      <td>[20]</td>\n",
       "    </tr>\n",
       "    <tr>\n",
       "      <th>3</th>\n",
       "      <td>19147</td>\n",
       "      <td>Palo Alto</td>\n",
       "      <td>Iowa</td>\n",
       "      <td>20</td>\n",
       "      <td>[20]</td>\n",
       "    </tr>\n",
       "    <tr>\n",
       "      <th>4</th>\n",
       "      <td>20137</td>\n",
       "      <td>Norton</td>\n",
       "      <td>Kansas</td>\n",
       "      <td>24</td>\n",
       "      <td>[24]</td>\n",
       "    </tr>\n",
       "    <tr>\n",
       "      <th>5</th>\n",
       "      <td>20147</td>\n",
       "      <td>Phillips</td>\n",
       "      <td>Kansas</td>\n",
       "      <td>24</td>\n",
       "      <td>[24]</td>\n",
       "    </tr>\n",
       "    <tr>\n",
       "      <th>6</th>\n",
       "      <td>20183</td>\n",
       "      <td>Smith</td>\n",
       "      <td>Kansas</td>\n",
       "      <td>24</td>\n",
       "      <td>[24]</td>\n",
       "    </tr>\n",
       "    <tr>\n",
       "      <th>7</th>\n",
       "      <td>31043</td>\n",
       "      <td>Dakota</td>\n",
       "      <td>Nebraska</td>\n",
       "      <td>28</td>\n",
       "      <td>[28]</td>\n",
       "    </tr>\n",
       "    <tr>\n",
       "      <th>8</th>\n",
       "      <td>19133</td>\n",
       "      <td>Monona</td>\n",
       "      <td>Iowa</td>\n",
       "      <td>28</td>\n",
       "      <td>[28]</td>\n",
       "    </tr>\n",
       "    <tr>\n",
       "      <th>9</th>\n",
       "      <td>19149</td>\n",
       "      <td>Plymouth</td>\n",
       "      <td>Iowa</td>\n",
       "      <td>28</td>\n",
       "      <td>[28]</td>\n",
       "    </tr>\n",
       "  </tbody>\n",
       "</table>\n",
       "</div>"
      ],
      "text/plain": [
       "   geoid     county     state  communityId intermediateCommunityIds\n",
       "0  19041       Clay      Iowa           20                     [20]\n",
       "1  19063      Emmet      Iowa           20                     [20]\n",
       "2  19059  Dickinson      Iowa           20                     [20]\n",
       "3  19147  Palo Alto      Iowa           20                     [20]\n",
       "4  20137     Norton    Kansas           24                     [24]\n",
       "5  20147   Phillips    Kansas           24                     [24]\n",
       "6  20183      Smith    Kansas           24                     [24]\n",
       "7  31043     Dakota  Nebraska           28                     [28]\n",
       "8  19133     Monona      Iowa           28                     [28]\n",
       "9  19149   Plymouth      Iowa           28                     [28]"
      ]
     },
     "execution_count": 26,
     "metadata": {},
     "output_type": "execute_result"
    }
   ],
   "source": [
    "# Louvain Modularity \n",
    "# Louvain quantifies how well a node is assigned to a group by looking at the density of connections within \n",
    "# a cluster in comparison to an average or random sample\n",
    "query = \"\"\"\n",
    "CALL gds.louvain.stream('counties',{\n",
    "  includeIntermediateCommunities: true,\n",
    "  relationshipWeightProperty:'workers'\n",
    "})\n",
    "YIELD nodeId, communityId, intermediateCommunityIds\n",
    "RETURN gds.util.asNode(nodeId).geoid AS geoid, \n",
    "       gds.util.asNode(nodeId).county AS county,\n",
    "       gds.util.asNode(nodeId).state AS state,\n",
    "       communityId, \n",
    "       intermediateCommunityIds\n",
    "ORDER BY communityId ASC;\n",
    "\"\"\"\n",
    "result=graph.run(query)\n",
    "louvainMod = result.to_data_frame()\n",
    "louvainMod.head(10)"
   ]
  },
  {
   "cell_type": "code",
   "execution_count": 27,
   "id": "391fcf8d",
   "metadata": {},
   "outputs": [],
   "source": [
    "#louvainMod.to_csv(\"PreprocessedData/louvainmod.csv\", index=False)"
   ]
  },
  {
   "cell_type": "markdown",
   "id": "d5890ef3",
   "metadata": {},
   "source": [
    "<A HREF=\"https://neo4j.com/docs/graph-data-science/current/algorithms/label-propagation/\">Cypher Label Propagation</A><BR>"
   ]
  },
  {
   "cell_type": "code",
   "execution_count": 28,
   "id": "c04bcaec",
   "metadata": {},
   "outputs": [
    {
     "data": {
      "text/html": [
       "<div>\n",
       "<style scoped>\n",
       "    .dataframe tbody tr th:only-of-type {\n",
       "        vertical-align: middle;\n",
       "    }\n",
       "\n",
       "    .dataframe tbody tr th {\n",
       "        vertical-align: top;\n",
       "    }\n",
       "\n",
       "    .dataframe thead th {\n",
       "        text-align: right;\n",
       "    }\n",
       "</style>\n",
       "<table border=\"1\" class=\"dataframe\">\n",
       "  <thead>\n",
       "    <tr style=\"text-align: right;\">\n",
       "      <th></th>\n",
       "      <th>geoid</th>\n",
       "      <th>county</th>\n",
       "      <th>state</th>\n",
       "      <th>label</th>\n",
       "    </tr>\n",
       "  </thead>\n",
       "  <tbody>\n",
       "    <tr>\n",
       "      <th>0</th>\n",
       "      <td>[72137, 72051, 72033, 72119, 72143, 72045, 720...</td>\n",
       "      <td>[Toa Baja Municipio, Dorado Municipio, Cataño ...</td>\n",
       "      <td>[Puerto Rico, Puerto Rico, Puerto Rico, Puerto...</td>\n",
       "      <td>8857</td>\n",
       "    </tr>\n",
       "    <tr>\n",
       "      <th>1</th>\n",
       "      <td>[28033, 47167, 47157, 47047, 28009, 28093]</td>\n",
       "      <td>[DeSoto, Tipton, Shelby, Fayette, Benton, Mars...</td>\n",
       "      <td>[Mississippi, Tennessee, Tennessee, Tennessee,...</td>\n",
       "      <td>6739</td>\n",
       "    </tr>\n",
       "    <tr>\n",
       "      <th>2</th>\n",
       "      <td>[22033, 22063, 22091, 22037, 22121]</td>\n",
       "      <td>[East Baton Rouge Parish, Livingston Parish, S...</td>\n",
       "      <td>[Louisiana, Louisiana, Louisiana, Louisiana, L...</td>\n",
       "      <td>6537</td>\n",
       "    </tr>\n",
       "    <tr>\n",
       "      <th>3</th>\n",
       "      <td>[13079, 13021, 13207, 13169, 13289]</td>\n",
       "      <td>[Crawford, Bibb, Monroe, Jones, Twiggs]</td>\n",
       "      <td>[Georgia, Georgia, Georgia, Georgia, Georgia]</td>\n",
       "      <td>6716</td>\n",
       "    </tr>\n",
       "    <tr>\n",
       "      <th>4</th>\n",
       "      <td>[18109, 18063, 18097, 18081, 18059]</td>\n",
       "      <td>[Morgan, Hendricks, Marion, Johnson, Hancock]</td>\n",
       "      <td>[Indiana, Indiana, Indiana, Indiana, Indiana]</td>\n",
       "      <td>6818</td>\n",
       "    </tr>\n",
       "    <tr>\n",
       "      <th>5</th>\n",
       "      <td>[39049, 39041, 39045, 39117, 39129]</td>\n",
       "      <td>[Franklin, Delaware, Fairfield, Morrow, Pickaway]</td>\n",
       "      <td>[Ohio, Ohio, Ohio, Ohio, Ohio]</td>\n",
       "      <td>6663</td>\n",
       "    </tr>\n",
       "    <tr>\n",
       "      <th>6</th>\n",
       "      <td>[47065, 13083, 13295, 47153, 13047]</td>\n",
       "      <td>[Hamilton, Dade, Walker, Sequatchie, Catoosa]</td>\n",
       "      <td>[Tennessee, Georgia, Georgia, Tennessee, Georgia]</td>\n",
       "      <td>6706</td>\n",
       "    </tr>\n",
       "    <tr>\n",
       "      <th>7</th>\n",
       "      <td>[40143, 40131, 40145, 40037, 40113]</td>\n",
       "      <td>[Tulsa, Rogers, Wagoner, Creek, Osage]</td>\n",
       "      <td>[Oklahoma, Oklahoma, Oklahoma, Oklahoma, Oklah...</td>\n",
       "      <td>6725</td>\n",
       "    </tr>\n",
       "    <tr>\n",
       "      <th>8</th>\n",
       "      <td>[21111, 21103, 21215, 21185, 21029]</td>\n",
       "      <td>[Jefferson, Henry, Spencer, Oldham, Bullitt]</td>\n",
       "      <td>[Kentucky, Kentucky, Kentucky, Kentucky, Kentu...</td>\n",
       "      <td>6758</td>\n",
       "    </tr>\n",
       "    <tr>\n",
       "      <th>9</th>\n",
       "      <td>[13101, 13185, 13027, 13173]</td>\n",
       "      <td>[Echols, Lowndes, Brooks, Lanier]</td>\n",
       "      <td>[Georgia, Georgia, Georgia, Georgia]</td>\n",
       "      <td>6802</td>\n",
       "    </tr>\n",
       "  </tbody>\n",
       "</table>\n",
       "</div>"
      ],
      "text/plain": [
       "                                               geoid  \\\n",
       "0  [72137, 72051, 72033, 72119, 72143, 72045, 720...   \n",
       "1         [28033, 47167, 47157, 47047, 28009, 28093]   \n",
       "2                [22033, 22063, 22091, 22037, 22121]   \n",
       "3                [13079, 13021, 13207, 13169, 13289]   \n",
       "4                [18109, 18063, 18097, 18081, 18059]   \n",
       "5                [39049, 39041, 39045, 39117, 39129]   \n",
       "6                [47065, 13083, 13295, 47153, 13047]   \n",
       "7                [40143, 40131, 40145, 40037, 40113]   \n",
       "8                [21111, 21103, 21215, 21185, 21029]   \n",
       "9                       [13101, 13185, 13027, 13173]   \n",
       "\n",
       "                                              county  \\\n",
       "0  [Toa Baja Municipio, Dorado Municipio, Cataño ...   \n",
       "1  [DeSoto, Tipton, Shelby, Fayette, Benton, Mars...   \n",
       "2  [East Baton Rouge Parish, Livingston Parish, S...   \n",
       "3            [Crawford, Bibb, Monroe, Jones, Twiggs]   \n",
       "4      [Morgan, Hendricks, Marion, Johnson, Hancock]   \n",
       "5  [Franklin, Delaware, Fairfield, Morrow, Pickaway]   \n",
       "6      [Hamilton, Dade, Walker, Sequatchie, Catoosa]   \n",
       "7             [Tulsa, Rogers, Wagoner, Creek, Osage]   \n",
       "8       [Jefferson, Henry, Spencer, Oldham, Bullitt]   \n",
       "9                  [Echols, Lowndes, Brooks, Lanier]   \n",
       "\n",
       "                                               state  label  \n",
       "0  [Puerto Rico, Puerto Rico, Puerto Rico, Puerto...   8857  \n",
       "1  [Mississippi, Tennessee, Tennessee, Tennessee,...   6739  \n",
       "2  [Louisiana, Louisiana, Louisiana, Louisiana, L...   6537  \n",
       "3      [Georgia, Georgia, Georgia, Georgia, Georgia]   6716  \n",
       "4      [Indiana, Indiana, Indiana, Indiana, Indiana]   6818  \n",
       "5                     [Ohio, Ohio, Ohio, Ohio, Ohio]   6663  \n",
       "6  [Tennessee, Georgia, Georgia, Tennessee, Georgia]   6706  \n",
       "7  [Oklahoma, Oklahoma, Oklahoma, Oklahoma, Oklah...   6725  \n",
       "8  [Kentucky, Kentucky, Kentucky, Kentucky, Kentu...   6758  \n",
       "9               [Georgia, Georgia, Georgia, Georgia]   6802  "
      ]
     },
     "execution_count": 28,
     "metadata": {},
     "output_type": "execute_result"
    }
   ],
   "source": [
    "# Label Propagation\n",
    "# In LPA, nodes select their group based on their direct neighbors. \n",
    "# This process is well suited to networks where groupings are less clear and weights can \n",
    "# be used to help a node determine which community to place itself within\n",
    "query = \"\"\"\n",
    "CALL gds.labelPropagation.stream('counties',{\n",
    "maxIterations: 10,\n",
    "relationshipWeightProperty:'workers'\n",
    "})\n",
    "YIELD nodeId, communityId\n",
    "RETURN collect(gds.util.asNode(nodeId).geoid) AS geoid,\n",
    "       collect(gds.util.asNode(nodeId).county) AS county,\n",
    "       collect(gds.util.asNode(nodeId).state) AS state,\n",
    "       communityId AS label\n",
    "ORDER BY size(county) DESC;\n",
    "\"\"\"\n",
    "result=graph.run(query)\n",
    "labelprop = result.to_data_frame()\n",
    "labelprop.head(10)"
   ]
  },
  {
   "cell_type": "code",
   "execution_count": 29,
   "id": "90b88f85",
   "metadata": {},
   "outputs": [],
   "source": [
    "#labelprop.to_csv(\"PreprocessedData/labelprop.csv\", index=False)"
   ]
  },
  {
   "cell_type": "markdown",
   "id": "d20d5c91",
   "metadata": {},
   "source": [
    "<A HREF=\"https://neo4j.com/docs/graph-data-science/current/algorithms/wcc/\">Cypher Weakly Connected Components</A><BR>"
   ]
  },
  {
   "cell_type": "code",
   "execution_count": 30,
   "id": "adc99ece",
   "metadata": {},
   "outputs": [
    {
     "data": {
      "text/html": [
       "<div>\n",
       "<style scoped>\n",
       "    .dataframe tbody tr th:only-of-type {\n",
       "        vertical-align: middle;\n",
       "    }\n",
       "\n",
       "    .dataframe tbody tr th {\n",
       "        vertical-align: top;\n",
       "    }\n",
       "\n",
       "    .dataframe thead th {\n",
       "        text-align: right;\n",
       "    }\n",
       "</style>\n",
       "<table border=\"1\" class=\"dataframe\">\n",
       "  <thead>\n",
       "    <tr style=\"text-align: right;\">\n",
       "      <th></th>\n",
       "      <th>geoid</th>\n",
       "      <th>county</th>\n",
       "      <th>state</th>\n",
       "      <th>Component</th>\n",
       "    </tr>\n",
       "  </thead>\n",
       "  <tbody>\n",
       "    <tr>\n",
       "      <th>0</th>\n",
       "      <td>45001</td>\n",
       "      <td>Abbeville</td>\n",
       "      <td>South Carolina</td>\n",
       "      <td>0</td>\n",
       "    </tr>\n",
       "    <tr>\n",
       "      <th>1</th>\n",
       "      <td>22001</td>\n",
       "      <td>Acadia Parish</td>\n",
       "      <td>Louisiana</td>\n",
       "      <td>0</td>\n",
       "    </tr>\n",
       "    <tr>\n",
       "      <th>2</th>\n",
       "      <td>51001</td>\n",
       "      <td>Accomack</td>\n",
       "      <td>Virginia</td>\n",
       "      <td>0</td>\n",
       "    </tr>\n",
       "    <tr>\n",
       "      <th>3</th>\n",
       "      <td>16001</td>\n",
       "      <td>Ada</td>\n",
       "      <td>Idaho</td>\n",
       "      <td>0</td>\n",
       "    </tr>\n",
       "    <tr>\n",
       "      <th>4</th>\n",
       "      <td>21001</td>\n",
       "      <td>Adair</td>\n",
       "      <td>Kentucky</td>\n",
       "      <td>0</td>\n",
       "    </tr>\n",
       "    <tr>\n",
       "      <th>5</th>\n",
       "      <td>19001</td>\n",
       "      <td>Adair</td>\n",
       "      <td>Iowa</td>\n",
       "      <td>0</td>\n",
       "    </tr>\n",
       "    <tr>\n",
       "      <th>6</th>\n",
       "      <td>29001</td>\n",
       "      <td>Adair</td>\n",
       "      <td>Missouri</td>\n",
       "      <td>0</td>\n",
       "    </tr>\n",
       "    <tr>\n",
       "      <th>7</th>\n",
       "      <td>40001</td>\n",
       "      <td>Adair</td>\n",
       "      <td>Oklahoma</td>\n",
       "      <td>0</td>\n",
       "    </tr>\n",
       "    <tr>\n",
       "      <th>8</th>\n",
       "      <td>38001</td>\n",
       "      <td>Adams</td>\n",
       "      <td>North Dakota</td>\n",
       "      <td>0</td>\n",
       "    </tr>\n",
       "    <tr>\n",
       "      <th>9</th>\n",
       "      <td>39001</td>\n",
       "      <td>Adams</td>\n",
       "      <td>Ohio</td>\n",
       "      <td>0</td>\n",
       "    </tr>\n",
       "  </tbody>\n",
       "</table>\n",
       "</div>"
      ],
      "text/plain": [
       "   geoid         county           state  Component\n",
       "0  45001      Abbeville  South Carolina          0\n",
       "1  22001  Acadia Parish       Louisiana          0\n",
       "2  51001       Accomack        Virginia          0\n",
       "3  16001            Ada           Idaho          0\n",
       "4  21001          Adair        Kentucky          0\n",
       "5  19001          Adair            Iowa          0\n",
       "6  29001          Adair        Missouri          0\n",
       "7  40001          Adair        Oklahoma          0\n",
       "8  38001          Adams    North Dakota          0\n",
       "9  39001          Adams            Ohio          0"
      ]
     },
     "execution_count": 30,
     "metadata": {},
     "output_type": "execute_result"
    }
   ],
   "source": [
    "# Weakly Connected Components (SCC)\n",
    "query = \"\"\"\n",
    "CALL gds.wcc.stream('counties',{relationshipWeightProperty:'workers'})\n",
    "YIELD nodeId, componentId\n",
    "RETURN gds.util.asNode(nodeId).geoid AS geoid, \n",
    "       gds.util.asNode(nodeId).county AS county,\n",
    "       gds.util.asNode(nodeId).state AS state,\n",
    "       componentId AS Component\n",
    "ORDER BY Component, county;\n",
    "\"\"\"\n",
    "result=graph.run(query)\n",
    "wcc = result.to_data_frame()\n",
    "wcc.head(10)\n",
    "# WCC return all counties in one component, thus not very interesting results"
   ]
  },
  {
   "cell_type": "code",
   "execution_count": 31,
   "id": "d19a4e66",
   "metadata": {},
   "outputs": [
    {
     "data": {
      "text/html": [
       "<table><tr><th>componentCount</th></tr><tr><td style=\"text-align:right\">1</td></tr></table>"
      ],
      "text/plain": [
       " componentCount \n",
       "----------------\n",
       "              1 "
      ]
     },
     "execution_count": 31,
     "metadata": {},
     "output_type": "execute_result"
    }
   ],
   "source": [
    "query = \"\"\"\n",
    "CALL gds.wcc.stats('counties',{relationshipWeightProperty:'workers'})\n",
    "YIELD componentCount\n",
    "\"\"\"\n",
    "graph.run(query)\n",
    "# yup, only 1 component"
   ]
  },
  {
   "cell_type": "markdown",
   "id": "c39c90bc",
   "metadata": {},
   "source": [
    "<A HREF=\"https://neo4j.com/docs/graph-data-science/current/algorithms/modularity-optimization/\">Cypher Modularity Optimization</A> aka Girvan-Newman"
   ]
  },
  {
   "cell_type": "code",
   "execution_count": 32,
   "id": "6b9f21ac",
   "metadata": {},
   "outputs": [
    {
     "data": {
      "text/html": [
       "<table><tr><th>nodeId</th><th>geoid</th><th>county</th><th>state</th><th>communityId</th></tr><tr><td style=\"text-align:right\">0</td><td style=\"text-align:left\">19003</td><td style=\"text-align:left\">Adams</td><td style=\"text-align:left\">Iowa</td><td style=\"text-align:right\">1619</td></tr><tr><td style=\"text-align:right\">1</td><td style=\"text-align:left\">19009</td><td style=\"text-align:left\">Audubon</td><td style=\"text-align:left\">Iowa</td><td style=\"text-align:right\">1253</td></tr><tr><td style=\"text-align:right\">2</td><td style=\"text-align:left\">19071</td><td style=\"text-align:left\">Fremont</td><td style=\"text-align:left\">Iowa</td><td style=\"text-align:right\">1253</td></tr></table>"
      ],
      "text/plain": [
       " nodeId | geoid | county  | state | communityId \n",
       "--------|-------|---------|-------|-------------\n",
       "      0 | 19003 | Adams   | Iowa  |        1619 \n",
       "      1 | 19009 | Audubon | Iowa  |        1253 \n",
       "      2 | 19071 | Fremont | Iowa  |        1253 "
      ]
     },
     "execution_count": 32,
     "metadata": {},
     "output_type": "execute_result"
    }
   ],
   "source": [
    "query = \"\"\"\n",
    "CALL gds.beta.modularityOptimization.stream('counties',{relationshipWeightProperty:'workers'})\n",
    "YIELD nodeId, communityId\n",
    "RETURN nodeId,\n",
    "       gds.util.asNode(nodeId).geoid AS geoid, \n",
    "       gds.util.asNode(nodeId).county AS county,\n",
    "       gds.util.asNode(nodeId).state AS state, \n",
    "       communityId\n",
    "ORDER BY nodeId\n",
    "\"\"\"\n",
    "graph.run(query)"
   ]
  },
  {
   "cell_type": "markdown",
   "id": "ff8d32b5",
   "metadata": {},
   "source": [
    "<A HREF=\"https://neo4j.com/docs/graph-data-science/current/algorithms/triangle-count/\">Cypher Triangle Counts</A><BR>\n",
    "This may not work for directed graphs, but here's a bunch of code anyway."
   ]
  },
  {
   "cell_type": "code",
   "execution_count": 35,
   "id": "f5d4fa63",
   "metadata": {},
   "outputs": [
    {
     "data": {
      "text/html": [
       "<table><tr><th>globalTriangleCount</th><th>nodeCount</th></tr><tr><td style=\"text-align:right\">1061847</td><td style=\"text-align:right\">3220</td></tr></table>"
      ],
      "text/plain": [
       " globalTriangleCount | nodeCount \n",
       "---------------------|-----------\n",
       "             1061847 |      3220 "
      ]
     },
     "execution_count": 35,
     "metadata": {},
     "output_type": "execute_result"
    }
   ],
   "source": [
    "# General Triangle Count stats\n",
    "query=\"\"\"CALL gds.graph.project('counties_undirected','County',{COMMUTES:{orientation:'UNDIRECTED'}})\"\"\"\n",
    "graph.run(query)\n",
    "query = \"\"\"\n",
    "CALL gds.triangleCount.stats('counties_undirected')\n",
    "YIELD globalTriangleCount,nodeCount\n",
    "\"\"\"\n",
    "graph.run(query)\n"
   ]
  },
  {
   "cell_type": "code",
   "execution_count": 36,
   "id": "c45b17fe",
   "metadata": {},
   "outputs": [
    {
     "data": {
      "text/html": [
       "<table><tr><th>geoid</th><th>county</th><th>nbr_triangles</th></tr><tr><td style=\"text-align:left\">17031</td><td style=\"text-align:left\">Cook</td><td style=\"text-align:right\">34071</td></tr><tr><td style=\"text-align:left\">48201</td><td style=\"text-align:left\">Harris</td><td style=\"text-align:right\">31656</td></tr><tr><td style=\"text-align:left\">48113</td><td style=\"text-align:left\">Dallas</td><td style=\"text-align:right\">22538</td></tr></table>"
      ],
      "text/plain": [
       " geoid | county | nbr_triangles \n",
       "-------|--------|---------------\n",
       " 17031 | Cook   |         34071 \n",
       " 48201 | Harris |         31656 \n",
       " 48113 | Dallas |         22538 "
      ]
     },
     "execution_count": 36,
     "metadata": {},
     "output_type": "execute_result"
    }
   ],
   "source": [
    "# Print Triangles\n",
    "query = \"\"\"\n",
    "CALL gds.triangleCount.stream('counties_undirected')\n",
    "YIELD nodeId , triangleCount\n",
    "RETURN gds.util.asNode(nodeId).geoid as geoid,\n",
    "       gds.util.asNode(nodeId).county as county,\n",
    "       triangleCount as nbr_triangles\n",
    "ORDER BY triangleCount DESC;\n",
    "\"\"\"\n",
    "graph.run(query)"
   ]
  },
  {
   "cell_type": "code",
   "execution_count": 37,
   "id": "6bdde3e2",
   "metadata": {},
   "outputs": [
    {
     "data": {
      "text/html": [
       "<table><tr><th>nodeA</th><th>nodeB</th><th>nodeC</th></tr><tr><td style=\"text-align:left\">Adams</td><td style=\"text-align:left\">Audubon</td><td style=\"text-align:left\">Story</td></tr><tr><td style=\"text-align:left\">Fremont</td><td style=\"text-align:left\">Page</td><td style=\"text-align:left\">Atchison</td></tr><tr><td style=\"text-align:left\">Fremont</td><td style=\"text-align:left\">Page</td><td style=\"text-align:left\">Nodaway</td></tr></table>"
      ],
      "text/plain": [
       " nodeA   | nodeB   | nodeC    \n",
       "---------|---------|----------\n",
       " Adams   | Audubon | Story    \n",
       " Fremont | Page    | Atchison \n",
       " Fremont | Page    | Nodaway  "
      ]
     },
     "execution_count": 37,
     "metadata": {},
     "output_type": "execute_result"
    }
   ],
   "source": [
    "query = \"\"\"\n",
    "CALL gds.alpha.triangles('counties_undirected')\n",
    "YIELD nodeA, nodeB, nodeC\n",
    "RETURN gds.util.asNode(nodeA).county AS nodeA,\n",
    "       gds.util.asNode(nodeB).county AS nodeB,\n",
    "       gds.util.asNode(nodeC).county AS nodeC;\n",
    "\"\"\"\n",
    "graph.run(query)"
   ]
  },
  {
   "cell_type": "markdown",
   "id": "b207c474",
   "metadata": {},
   "source": [
    "<A HREF=\"https://neo4j.com/docs/graph-data-science/current/algorithms/local-clustering-coefficient/\">Cypher Local Clustering Coeff</A>"
   ]
  },
  {
   "cell_type": "code",
   "execution_count": 38,
   "id": "6663a469",
   "metadata": {},
   "outputs": [
    {
     "data": {
      "text/html": [
       "<table><tr><th>geoid</th><th>county</th><th>state</th><th>localClusteringCoefficient</th></tr><tr><td style=\"text-align:left\">06091</td><td style=\"text-align:left\">Sierra</td><td style=\"text-align:left\">California</td><td style=\"text-align:right\">0.8214285714285714</td></tr><tr><td style=\"text-align:left\">72037</td><td style=\"text-align:left\">Ceiba Municipio</td><td style=\"text-align:left\">Puerto Rico</td><td style=\"text-align:right\">0.7867647058823529</td></tr><tr><td style=\"text-align:left\">06011</td><td style=\"text-align:left\">Colusa</td><td style=\"text-align:left\">California</td><td style=\"text-align:right\">0.7806267806267806</td></tr></table>"
      ],
      "text/plain": [
       " geoid | county          | state       | localClusteringCoefficient \n",
       "-------|-----------------|-------------|----------------------------\n",
       " 06091 | Sierra          | California  |         0.8214285714285714 \n",
       " 72037 | Ceiba Municipio | Puerto Rico |         0.7867647058823529 \n",
       " 06011 | Colusa          | California  |         0.7806267806267806 "
      ]
     },
     "execution_count": 38,
     "metadata": {},
     "output_type": "execute_result"
    }
   ],
   "source": [
    "# Clustering Coefficient - does not support Directed \n",
    "query = \"\"\"\n",
    "CALL gds.localClusteringCoefficient.stream('counties_undirected')\n",
    "YIELD nodeId, localClusteringCoefficient\n",
    "WHERE localClusteringCoefficient > 0\n",
    "RETURN gds.util.asNode(nodeId).geoid as geoid,\n",
    "       gds.util.asNode(nodeId).county as county,\n",
    "       gds.util.asNode(nodeId).state as state,\n",
    "       localClusteringCoefficient\n",
    "ORDER BY localClusteringCoefficient DESC;\n",
    "\"\"\"\n",
    "graph.run(query)"
   ]
  },
  {
   "cell_type": "code",
   "execution_count": 39,
   "id": "81cb8386",
   "metadata": {},
   "outputs": [
    {
     "data": {
      "text/html": [
       "<table><tr><th>graphName</th><th>database</th><th>memoryUsage</th><th>sizeInBytes</th><th>nodeCount</th><th>relationshipCount</th><th>configuration</th><th>density</th><th>creationTime</th><th>modificationTime</th><th>schema</th></tr><tr><td style=\"text-align:left\">counties_undirected</td><td style=\"text-align:left\">neo4j</td><td style=\"text-align:left\"></td><td style=\"text-align:right\">-1</td><td style=\"text-align:right\">3220</td><td style=\"text-align:right\">275612</td><td style=\"text-align:left\">{relationshipProjection: {COMMUTES: {orientation: &#039;UNDIRECTED&#039;, aggregation: &#039;DEFAULT&#039;, type: &#039;COMMUTES&#039;, properties: {}}}, nodeProjection: {County: {label: &#039;County&#039;, properties: {}}}, relationshipProperties: [], creationTime: datetime(&#039;2022-06-06T08:43:00.916208100+02:00&#039;), validateRelationships: false, readConcurrency: 4, sudo: false, nodeProperties: [], username: null}</td><td style=\"text-align:right\">0.02659017981356812</td><td style=\"text-align:left\">datetime(&#039;2022-06-06T08:43:00.916208100+02:00&#039;)</td><td style=\"text-align:left\">datetime(&#039;2022-06-06T08:43:00.945162300+02:00&#039;)</td><td style=\"text-align:left\">{relationships: {COMMUTES: {}}, nodes: {County: {}}}</td></tr></table>"
      ],
      "text/plain": [
       " graphName           | database | memoryUsage | sizeInBytes | nodeCount | relationshipCount | configuration                                                                                                                                                                                                                                                                                                                                                                          |             density | creationTime                                    | modificationTime                                | schema                                               \n",
       "---------------------|----------|-------------|-------------|-----------|-------------------|----------------------------------------------------------------------------------------------------------------------------------------------------------------------------------------------------------------------------------------------------------------------------------------------------------------------------------------------------------------------------------------|---------------------|-------------------------------------------------|-------------------------------------------------|------------------------------------------------------\n",
       " counties_undirected | neo4j    |             |          -1 |      3220 |            275612 | {relationshipProjection: {COMMUTES: {orientation: 'UNDIRECTED', aggregation: 'DEFAULT', type: 'COMMUTES', properties: {}}}, nodeProjection: {County: {label: 'County', properties: {}}}, relationshipProperties: [], creationTime: datetime('2022-06-06T08:43:00.916208100+02:00'), validateRelationships: false, readConcurrency: 4, sudo: false, nodeProperties: [], username: null} | 0.02659017981356812 | datetime('2022-06-06T08:43:00.916208100+02:00') | datetime('2022-06-06T08:43:00.945162300+02:00') | {relationships: {COMMUTES: {}}, nodes: {County: {}}} "
      ]
     },
     "execution_count": 39,
     "metadata": {},
     "output_type": "execute_result"
    }
   ],
   "source": [
    "query = \"\"\"\n",
    "CALL gds.graph.drop('counties');\n",
    "\"\"\"\n",
    "graph.run(query)\n",
    "query = \"\"\"\n",
    "CALL gds.graph.drop('counties_undirected');\n",
    "\"\"\"\n",
    "graph.run(query)"
   ]
  }
 ],
 "metadata": {
  "kernelspec": {
   "display_name": "Python 3",
   "language": "python",
   "name": "python3"
  },
  "language_info": {
   "codemirror_mode": {
    "name": "ipython",
    "version": 3
   },
   "file_extension": ".py",
   "mimetype": "text/x-python",
   "name": "python",
   "nbconvert_exporter": "python",
   "pygments_lexer": "ipython3",
   "version": "3.10.4"
  },
  "toc": {
   "base_numbering": 1,
   "nav_menu": {},
   "number_sections": true,
   "sideBar": true,
   "skip_h1_title": false,
   "title_cell": "Table of Contents",
   "title_sidebar": "Contents",
   "toc_cell": false,
   "toc_position": {},
   "toc_section_display": true,
   "toc_window_display": false
  }
 },
 "nbformat": 4,
 "nbformat_minor": 5
}
