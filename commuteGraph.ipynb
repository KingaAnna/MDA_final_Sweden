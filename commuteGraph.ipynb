{
 "cells": [
  {
   "cell_type": "markdown",
   "id": "faf2e7dc",
   "metadata": {},
   "source": [
    "## Commuting Work Flows \n",
    "<BR>\n",
    "<A HREF=\"https://www.census.gov/data/tables/2015/demo/metro-micro/commuting-flows-2015.html\">Commuting Flows Data</A>"
   ]
  },
  {
   "cell_type": "code",
   "execution_count": 1,
   "id": "c0c3b3ee",
   "metadata": {},
   "outputs": [],
   "source": [
    "from py2neo import Graph\n",
    "from py2neo import Node\n",
    "from py2neo import Relationship\n",
    "import pandas as pd\n",
    "import numpy as np"
   ]
  },
  {
   "cell_type": "markdown",
   "id": "5727f59c",
   "metadata": {},
   "source": [
    "I set the graph up in Neo4j with data cleaned up and saved in WorkplaceFlows_clean.csv\n",
    "\n",
    "\n",
    "LOAD CSV WITH HEADERS FROM \"file:///WorkplaceFlows_clean.csv\" as row<BR>\n",
    "MERGE (:County {geoid: row.ResGEOID, county: row.ResCounty, state: row.ResState});\n",
    "\n",
    "\n",
    "LOAD CSV WITH HEADERS FROM \"file:///WorkplaceFlows_clean.csv\" as row<BR>\n",
    "MERGE (res:County {geoid: row.ResGEOID, county: row.ResCounty, state: row.ResState})<BR>\n",
    "MERGE (pow:County {geoid: row.PoWGEOID, county: row.PoWCounty, state: row.PoWState})<BR>\n",
    "CREATE (res)-[:COMMUTES {workers: row.Workers, res: row.ResGEOID, pow: row.PoWGEOID}]->(pow);<BR>\n",
    "\n",
    "\n",
    "CREATE INDEX INDX IF NOT EXISTS<BR>\n",
    "FOR (n:County)<BR>\n",
    "ON (n.geoid);<BR>"
   ]
  },
  {
   "cell_type": "code",
   "execution_count": 2,
   "id": "b7ec33a9",
   "metadata": {},
   "outputs": [],
   "source": [
    "graph = Graph(\"bolt://localhost:7687\", password='xxx', name='neo4j')"
   ]
  },
  {
   "cell_type": "code",
   "execution_count": 3,
   "id": "b5bde5a4",
   "metadata": {},
   "outputs": [
    {
     "data": {
      "text/html": [
       "<table><tr><th>a.geoid</th><th>a.state</th></tr><tr><td style=\"text-align:left\">36001</td><td style=\"text-align:left\">New York</td></tr><tr><td style=\"text-align:left\">56001</td><td style=\"text-align:left\">Wyoming</td></tr></table>"
      ],
      "text/plain": [
       " a.geoid | a.state  \n",
       "---------|----------\n",
       " 36001   | New York \n",
       " 56001   | Wyoming  "
      ]
     },
     "execution_count": 3,
     "metadata": {},
     "output_type": "execute_result"
    }
   ],
   "source": [
    "# Quick test to make sure things are connected and working, should be two Albany counties, one in NY, one in WY\n",
    "query = \"\"\"\n",
    "MATCH (a:County) WHERE a.county = 'Albany' RETURN a.geoid, a.state;\n",
    "\"\"\"\n",
    "graph.run(query)"
   ]
  },
  {
   "cell_type": "code",
   "execution_count": 4,
   "id": "13c2c856",
   "metadata": {},
   "outputs": [
    {
     "data": {
      "text/html": [
       "<table><tr><th>nodeProjection</th><th>relationshipProjection</th><th>graphName</th><th>nodeCount</th><th>relationshipCount</th><th>createMillis</th></tr><tr><td style=\"text-align:left\">{County: {label: &#039;County&#039;, properties: {}}}</td><td style=\"text-align:left\">{COMMUTES: {orientation: &#039;NATURAL&#039;, aggregation: &#039;DEFAULT&#039;, type: &#039;COMMUTES&#039;, properties: {}}}</td><td style=\"text-align:left\">counties</td><td style=\"text-align:right\">3223</td><td style=\"text-align:right\">137806</td><td style=\"text-align:right\">374</td></tr></table>"
      ],
      "text/plain": [
       " nodeProjection                              | relationshipProjection                                                                         | graphName | nodeCount | relationshipCount | createMillis \n",
       "---------------------------------------------|------------------------------------------------------------------------------------------------|-----------|-----------|-------------------|--------------\n",
       " {County: {label: 'County', properties: {}}} | {COMMUTES: {orientation: 'NATURAL', aggregation: 'DEFAULT', type: 'COMMUTES', properties: {}}} | counties  |      3223 |            137806 |          374 "
      ]
     },
     "execution_count": 4,
     "metadata": {},
     "output_type": "execute_result"
    }
   ],
   "source": [
    "query = \"\"\"\n",
    "CALL gds.graph.create('counties','County','COMMUTES');\n",
    "\"\"\"\n",
    "graph.run(query)"
   ]
  },
  {
   "cell_type": "markdown",
   "id": "ab16dc21",
   "metadata": {},
   "source": [
    "## Centrality Measures\n",
    "<A HREF=\"https://neo4j-website.s3.eu-central-1.amazonaws.com/build/html/Algorithms/centrality/centrality.html\">Centrality Measures</A>"
   ]
  },
  {
   "cell_type": "code",
   "execution_count": 5,
   "id": "7ad0241b",
   "metadata": {},
   "outputs": [
    {
     "data": {
      "text/html": [
       "<div>\n",
       "<style scoped>\n",
       "    .dataframe tbody tr th:only-of-type {\n",
       "        vertical-align: middle;\n",
       "    }\n",
       "\n",
       "    .dataframe tbody tr th {\n",
       "        vertical-align: top;\n",
       "    }\n",
       "\n",
       "    .dataframe thead th {\n",
       "        text-align: right;\n",
       "    }\n",
       "</style>\n",
       "<table border=\"1\" class=\"dataframe\">\n",
       "  <thead>\n",
       "    <tr style=\"text-align: right;\">\n",
       "      <th></th>\n",
       "      <th>geoid</th>\n",
       "      <th>county</th>\n",
       "      <th>state</th>\n",
       "      <th>centralScore</th>\n",
       "    </tr>\n",
       "  </thead>\n",
       "  <tbody>\n",
       "    <tr>\n",
       "      <th>0</th>\n",
       "      <td>48201</td>\n",
       "      <td>Harris</td>\n",
       "      <td>Texas</td>\n",
       "      <td>0.587527</td>\n",
       "    </tr>\n",
       "    <tr>\n",
       "      <th>1</th>\n",
       "      <td>17031</td>\n",
       "      <td>Cook</td>\n",
       "      <td>Illinois</td>\n",
       "      <td>0.575357</td>\n",
       "    </tr>\n",
       "    <tr>\n",
       "      <th>2</th>\n",
       "      <td>48113</td>\n",
       "      <td>Dallas</td>\n",
       "      <td>Texas</td>\n",
       "      <td>0.552943</td>\n",
       "    </tr>\n",
       "    <tr>\n",
       "      <th>3</th>\n",
       "      <td>06037</td>\n",
       "      <td>Los Angeles</td>\n",
       "      <td>California</td>\n",
       "      <td>0.552753</td>\n",
       "    </tr>\n",
       "    <tr>\n",
       "      <th>4</th>\n",
       "      <td>13121</td>\n",
       "      <td>Fulton</td>\n",
       "      <td>Georgia</td>\n",
       "      <td>0.548986</td>\n",
       "    </tr>\n",
       "    <tr>\n",
       "      <th>5</th>\n",
       "      <td>04013</td>\n",
       "      <td>Maricopa</td>\n",
       "      <td>Arizona</td>\n",
       "      <td>0.547122</td>\n",
       "    </tr>\n",
       "    <tr>\n",
       "      <th>6</th>\n",
       "      <td>27053</td>\n",
       "      <td>Hennepin</td>\n",
       "      <td>Minnesota</td>\n",
       "      <td>0.542516</td>\n",
       "    </tr>\n",
       "    <tr>\n",
       "      <th>7</th>\n",
       "      <td>48439</td>\n",
       "      <td>Tarrant</td>\n",
       "      <td>Texas</td>\n",
       "      <td>0.540513</td>\n",
       "    </tr>\n",
       "    <tr>\n",
       "      <th>8</th>\n",
       "      <td>11001</td>\n",
       "      <td>District of Columbia</td>\n",
       "      <td>District of Columbia</td>\n",
       "      <td>0.540513</td>\n",
       "    </tr>\n",
       "    <tr>\n",
       "      <th>9</th>\n",
       "      <td>37119</td>\n",
       "      <td>Mecklenburg</td>\n",
       "      <td>North Carolina</td>\n",
       "      <td>0.539518</td>\n",
       "    </tr>\n",
       "  </tbody>\n",
       "</table>\n",
       "</div>"
      ],
      "text/plain": [
       "   geoid                county                 state  centralScore\n",
       "0  48201                Harris                 Texas      0.587527\n",
       "1  17031                  Cook              Illinois      0.575357\n",
       "2  48113                Dallas                 Texas      0.552943\n",
       "3  06037           Los Angeles            California      0.552753\n",
       "4  13121                Fulton               Georgia      0.548986\n",
       "5  04013              Maricopa               Arizona      0.547122\n",
       "6  27053              Hennepin             Minnesota      0.542516\n",
       "7  48439               Tarrant                 Texas      0.540513\n",
       "8  11001  District of Columbia  District of Columbia      0.540513\n",
       "9  37119           Mecklenburg        North Carolina      0.539518"
      ]
     },
     "execution_count": 5,
     "metadata": {},
     "output_type": "execute_result"
    }
   ],
   "source": [
    "# Counties with highest centrality score\n",
    "query = \"\"\"\n",
    "CALL gds.alpha.closeness.stream({\n",
    "    nodeProjection: \"County\",\n",
    "    relationshipProjection: \"COMMUTES\"\n",
    "})\n",
    "YIELD nodeId, centrality\n",
    "RETURN gds.util.asNode(nodeId).geoid AS geoid, \n",
    "       gds.util.asNode(nodeId).county AS county,\n",
    "       gds.util.asNode(nodeId).state AS state,\n",
    "       centrality AS centralScore\n",
    "ORDER BY centrality DESC;\n",
    "\"\"\"\n",
    "result=graph.run(query)\n",
    "centrality = result.to_data_frame()\n",
    "centrality.head(10)"
   ]
  },
  {
   "cell_type": "code",
   "execution_count": 28,
   "id": "1893516e",
   "metadata": {},
   "outputs": [],
   "source": [
    "#centrality.to_csv(\"centrality.csv\", index=False)"
   ]
  },
  {
   "cell_type": "code",
   "execution_count": 29,
   "id": "122231cb",
   "metadata": {},
   "outputs": [
    {
     "data": {
      "text/html": [
       "<div>\n",
       "<style scoped>\n",
       "    .dataframe tbody tr th:only-of-type {\n",
       "        vertical-align: middle;\n",
       "    }\n",
       "\n",
       "    .dataframe tbody tr th {\n",
       "        vertical-align: top;\n",
       "    }\n",
       "\n",
       "    .dataframe thead th {\n",
       "        text-align: right;\n",
       "    }\n",
       "</style>\n",
       "<table border=\"1\" class=\"dataframe\">\n",
       "  <thead>\n",
       "    <tr style=\"text-align: right;\">\n",
       "      <th></th>\n",
       "      <th>geoid</th>\n",
       "      <th>county</th>\n",
       "      <th>state</th>\n",
       "      <th>betweenScore</th>\n",
       "    </tr>\n",
       "  </thead>\n",
       "  <tbody>\n",
       "    <tr>\n",
       "      <th>0</th>\n",
       "      <td>48201</td>\n",
       "      <td>Harris</td>\n",
       "      <td>Texas</td>\n",
       "      <td>618991.311468</td>\n",
       "    </tr>\n",
       "    <tr>\n",
       "      <th>1</th>\n",
       "      <td>17031</td>\n",
       "      <td>Cook</td>\n",
       "      <td>Illinois</td>\n",
       "      <td>469261.902272</td>\n",
       "    </tr>\n",
       "    <tr>\n",
       "      <th>2</th>\n",
       "      <td>48113</td>\n",
       "      <td>Dallas</td>\n",
       "      <td>Texas</td>\n",
       "      <td>302108.416209</td>\n",
       "    </tr>\n",
       "    <tr>\n",
       "      <th>3</th>\n",
       "      <td>06037</td>\n",
       "      <td>Los Angeles</td>\n",
       "      <td>California</td>\n",
       "      <td>271044.692642</td>\n",
       "    </tr>\n",
       "    <tr>\n",
       "      <th>4</th>\n",
       "      <td>04013</td>\n",
       "      <td>Maricopa</td>\n",
       "      <td>Arizona</td>\n",
       "      <td>255406.312504</td>\n",
       "    </tr>\n",
       "    <tr>\n",
       "      <th>5</th>\n",
       "      <td>13121</td>\n",
       "      <td>Fulton</td>\n",
       "      <td>Georgia</td>\n",
       "      <td>245489.327364</td>\n",
       "    </tr>\n",
       "    <tr>\n",
       "      <th>6</th>\n",
       "      <td>27053</td>\n",
       "      <td>Hennepin</td>\n",
       "      <td>Minnesota</td>\n",
       "      <td>243889.281553</td>\n",
       "    </tr>\n",
       "    <tr>\n",
       "      <th>7</th>\n",
       "      <td>48439</td>\n",
       "      <td>Tarrant</td>\n",
       "      <td>Texas</td>\n",
       "      <td>224589.664287</td>\n",
       "    </tr>\n",
       "    <tr>\n",
       "      <th>8</th>\n",
       "      <td>47157</td>\n",
       "      <td>Shelby</td>\n",
       "      <td>Tennessee</td>\n",
       "      <td>203442.900749</td>\n",
       "    </tr>\n",
       "    <tr>\n",
       "      <th>9</th>\n",
       "      <td>37119</td>\n",
       "      <td>Mecklenburg</td>\n",
       "      <td>North Carolina</td>\n",
       "      <td>192974.112976</td>\n",
       "    </tr>\n",
       "  </tbody>\n",
       "</table>\n",
       "</div>"
      ],
      "text/plain": [
       "   geoid       county           state   betweenScore\n",
       "0  48201       Harris           Texas  618991.311468\n",
       "1  17031         Cook        Illinois  469261.902272\n",
       "2  48113       Dallas           Texas  302108.416209\n",
       "3  06037  Los Angeles      California  271044.692642\n",
       "4  04013     Maricopa         Arizona  255406.312504\n",
       "5  13121       Fulton         Georgia  245489.327364\n",
       "6  27053     Hennepin       Minnesota  243889.281553\n",
       "7  48439      Tarrant           Texas  224589.664287\n",
       "8  47157       Shelby       Tennessee  203442.900749\n",
       "9  37119  Mecklenburg  North Carolina  192974.112976"
      ]
     },
     "execution_count": 29,
     "metadata": {},
     "output_type": "execute_result"
    }
   ],
   "source": [
    "# Counties with highest betweeness score\n",
    "query = \"\"\"\n",
    "CALL gds.betweenness.stream({nodeProjection: \"County\",relationshipProjection: \"COMMUTES\"})\n",
    "YIELD nodeId, score\n",
    "RETURN gds.util.asNode(nodeId).geoid AS geoid, \n",
    "       gds.util.asNode(nodeId).county AS county,\n",
    "       gds.util.asNode(nodeId).state AS state,\n",
    "       score AS betweenScore\n",
    "ORDER BY score DESC;\n",
    "\"\"\"\n",
    "result=graph.run(query)\n",
    "betweeness = result.to_data_frame()\n",
    "betweeness.head(10)"
   ]
  },
  {
   "cell_type": "code",
   "execution_count": 30,
   "id": "c37b2089",
   "metadata": {},
   "outputs": [],
   "source": [
    "#betweeness.to_csv(\"betweeness.csv\", index=False)"
   ]
  },
  {
   "cell_type": "code",
   "execution_count": 32,
   "id": "c953ac17",
   "metadata": {},
   "outputs": [
    {
     "data": {
      "text/html": [
       "<div>\n",
       "<style scoped>\n",
       "    .dataframe tbody tr th:only-of-type {\n",
       "        vertical-align: middle;\n",
       "    }\n",
       "\n",
       "    .dataframe tbody tr th {\n",
       "        vertical-align: top;\n",
       "    }\n",
       "\n",
       "    .dataframe thead th {\n",
       "        text-align: right;\n",
       "    }\n",
       "</style>\n",
       "<table border=\"1\" class=\"dataframe\">\n",
       "  <thead>\n",
       "    <tr style=\"text-align: right;\">\n",
       "      <th></th>\n",
       "      <th>geoid</th>\n",
       "      <th>county</th>\n",
       "      <th>state</th>\n",
       "      <th>pageRank</th>\n",
       "    </tr>\n",
       "  </thead>\n",
       "  <tbody>\n",
       "    <tr>\n",
       "      <th>0</th>\n",
       "      <td>48201</td>\n",
       "      <td>Harris</td>\n",
       "      <td>Texas</td>\n",
       "      <td>17.910908</td>\n",
       "    </tr>\n",
       "    <tr>\n",
       "      <th>1</th>\n",
       "      <td>17031</td>\n",
       "      <td>Cook</td>\n",
       "      <td>Illinois</td>\n",
       "      <td>14.672512</td>\n",
       "    </tr>\n",
       "    <tr>\n",
       "      <th>2</th>\n",
       "      <td>48113</td>\n",
       "      <td>Dallas</td>\n",
       "      <td>Texas</td>\n",
       "      <td>11.690262</td>\n",
       "    </tr>\n",
       "    <tr>\n",
       "      <th>3</th>\n",
       "      <td>11001</td>\n",
       "      <td>District of Columbia</td>\n",
       "      <td>District of Columbia</td>\n",
       "      <td>10.996947</td>\n",
       "    </tr>\n",
       "    <tr>\n",
       "      <th>4</th>\n",
       "      <td>13121</td>\n",
       "      <td>Fulton</td>\n",
       "      <td>Georgia</td>\n",
       "      <td>10.884937</td>\n",
       "    </tr>\n",
       "    <tr>\n",
       "      <th>5</th>\n",
       "      <td>38105</td>\n",
       "      <td>Williams</td>\n",
       "      <td>North Dakota</td>\n",
       "      <td>10.763918</td>\n",
       "    </tr>\n",
       "    <tr>\n",
       "      <th>6</th>\n",
       "      <td>06037</td>\n",
       "      <td>Los Angeles</td>\n",
       "      <td>California</td>\n",
       "      <td>10.295381</td>\n",
       "    </tr>\n",
       "    <tr>\n",
       "      <th>7</th>\n",
       "      <td>27053</td>\n",
       "      <td>Hennepin</td>\n",
       "      <td>Minnesota</td>\n",
       "      <td>9.968158</td>\n",
       "    </tr>\n",
       "    <tr>\n",
       "      <th>8</th>\n",
       "      <td>47157</td>\n",
       "      <td>Shelby</td>\n",
       "      <td>Tennessee</td>\n",
       "      <td>9.316209</td>\n",
       "    </tr>\n",
       "    <tr>\n",
       "      <th>9</th>\n",
       "      <td>37119</td>\n",
       "      <td>Mecklenburg</td>\n",
       "      <td>North Carolina</td>\n",
       "      <td>8.608248</td>\n",
       "    </tr>\n",
       "  </tbody>\n",
       "</table>\n",
       "</div>"
      ],
      "text/plain": [
       "   geoid                county                 state   pageRank\n",
       "0  48201                Harris                 Texas  17.910908\n",
       "1  17031                  Cook              Illinois  14.672512\n",
       "2  48113                Dallas                 Texas  11.690262\n",
       "3  11001  District of Columbia  District of Columbia  10.996947\n",
       "4  13121                Fulton               Georgia  10.884937\n",
       "5  38105              Williams          North Dakota  10.763918\n",
       "6  06037           Los Angeles            California  10.295381\n",
       "7  27053              Hennepin             Minnesota   9.968158\n",
       "8  47157                Shelby             Tennessee   9.316209\n",
       "9  37119           Mecklenburg        North Carolina   8.608248"
      ]
     },
     "execution_count": 32,
     "metadata": {},
     "output_type": "execute_result"
    }
   ],
   "source": [
    "# Counties with highest page rank score\n",
    "query = \"\"\"\n",
    "CALL gds.pageRank.stream({  nodeProjection: \"County\",\n",
    "relationshipProjection: \"COMMUTES\",  maxIterations: 50,  dampingFactor: 0.85})\n",
    "YIELD nodeId, score\n",
    "RETURN gds.util.asNode(nodeId).geoid AS geoid, \n",
    "       gds.util.asNode(nodeId).county AS county,\n",
    "       gds.util.asNode(nodeId).state AS state,\n",
    "       score AS pageRank\n",
    "ORDER BY score DESC;\n",
    "\"\"\"\n",
    "result=graph.run(query)\n",
    "pagerank = result.to_data_frame()\n",
    "pagerank.head(10)"
   ]
  },
  {
   "cell_type": "code",
   "execution_count": 33,
   "id": "e156bd83",
   "metadata": {},
   "outputs": [],
   "source": [
    "#pagerank.to_csv(\"pagerank.csv\", index=False)"
   ]
  },
  {
   "cell_type": "markdown",
   "id": "1a4973d3",
   "metadata": {},
   "source": [
    "## Community Detection\n",
    "<A HREF=\"https://neo4j-website.s3.eu-central-1.amazonaws.com/build/html/Algorithms/community/community.html\">Class Notes on Community Detection</A>"
   ]
  },
  {
   "cell_type": "markdown",
   "id": "961d75a7",
   "metadata": {},
   "source": [
    "<A HREF=\"https://neo4j.com/docs/graph-data-science/current/algorithms/louvain/\">Cypher Louvain Modularity</A><BR>"
   ]
  },
  {
   "cell_type": "code",
   "execution_count": 36,
   "id": "7f77e1f5",
   "metadata": {},
   "outputs": [
    {
     "data": {
      "text/html": [
       "<div>\n",
       "<style scoped>\n",
       "    .dataframe tbody tr th:only-of-type {\n",
       "        vertical-align: middle;\n",
       "    }\n",
       "\n",
       "    .dataframe tbody tr th {\n",
       "        vertical-align: top;\n",
       "    }\n",
       "\n",
       "    .dataframe thead th {\n",
       "        text-align: right;\n",
       "    }\n",
       "</style>\n",
       "<table border=\"1\" class=\"dataframe\">\n",
       "  <thead>\n",
       "    <tr style=\"text-align: right;\">\n",
       "      <th></th>\n",
       "      <th>geoid</th>\n",
       "      <th>county</th>\n",
       "      <th>state</th>\n",
       "      <th>communityId</th>\n",
       "      <th>intermediateCommunityIds</th>\n",
       "    </tr>\n",
       "  </thead>\n",
       "  <tbody>\n",
       "    <tr>\n",
       "      <th>0</th>\n",
       "      <td>47029</td>\n",
       "      <td>Cocke</td>\n",
       "      <td>Tennessee</td>\n",
       "      <td>285</td>\n",
       "      <td>[285]</td>\n",
       "    </tr>\n",
       "    <tr>\n",
       "      <th>1</th>\n",
       "      <td>47089</td>\n",
       "      <td>Jefferson</td>\n",
       "      <td>Tennessee</td>\n",
       "      <td>285</td>\n",
       "      <td>[285]</td>\n",
       "    </tr>\n",
       "    <tr>\n",
       "      <th>2</th>\n",
       "      <td>47129</td>\n",
       "      <td>Morgan</td>\n",
       "      <td>Tennessee</td>\n",
       "      <td>285</td>\n",
       "      <td>[285]</td>\n",
       "    </tr>\n",
       "    <tr>\n",
       "      <th>3</th>\n",
       "      <td>47001</td>\n",
       "      <td>Anderson</td>\n",
       "      <td>Tennessee</td>\n",
       "      <td>285</td>\n",
       "      <td>[285]</td>\n",
       "    </tr>\n",
       "    <tr>\n",
       "      <th>4</th>\n",
       "      <td>47009</td>\n",
       "      <td>Blount</td>\n",
       "      <td>Tennessee</td>\n",
       "      <td>285</td>\n",
       "      <td>[285]</td>\n",
       "    </tr>\n",
       "    <tr>\n",
       "      <th>5</th>\n",
       "      <td>47013</td>\n",
       "      <td>Campbell</td>\n",
       "      <td>Tennessee</td>\n",
       "      <td>285</td>\n",
       "      <td>[285]</td>\n",
       "    </tr>\n",
       "    <tr>\n",
       "      <th>6</th>\n",
       "      <td>47073</td>\n",
       "      <td>Hawkins</td>\n",
       "      <td>Tennessee</td>\n",
       "      <td>285</td>\n",
       "      <td>[285]</td>\n",
       "    </tr>\n",
       "    <tr>\n",
       "      <th>7</th>\n",
       "      <td>47151</td>\n",
       "      <td>Scott</td>\n",
       "      <td>Tennessee</td>\n",
       "      <td>285</td>\n",
       "      <td>[285]</td>\n",
       "    </tr>\n",
       "    <tr>\n",
       "      <th>8</th>\n",
       "      <td>47155</td>\n",
       "      <td>Sevier</td>\n",
       "      <td>Tennessee</td>\n",
       "      <td>285</td>\n",
       "      <td>[285]</td>\n",
       "    </tr>\n",
       "    <tr>\n",
       "      <th>9</th>\n",
       "      <td>47063</td>\n",
       "      <td>Hamblen</td>\n",
       "      <td>Tennessee</td>\n",
       "      <td>285</td>\n",
       "      <td>[285]</td>\n",
       "    </tr>\n",
       "  </tbody>\n",
       "</table>\n",
       "</div>"
      ],
      "text/plain": [
       "   geoid     county      state  communityId intermediateCommunityIds\n",
       "0  47029      Cocke  Tennessee          285                    [285]\n",
       "1  47089  Jefferson  Tennessee          285                    [285]\n",
       "2  47129     Morgan  Tennessee          285                    [285]\n",
       "3  47001   Anderson  Tennessee          285                    [285]\n",
       "4  47009     Blount  Tennessee          285                    [285]\n",
       "5  47013   Campbell  Tennessee          285                    [285]\n",
       "6  47073    Hawkins  Tennessee          285                    [285]\n",
       "7  47151      Scott  Tennessee          285                    [285]\n",
       "8  47155     Sevier  Tennessee          285                    [285]\n",
       "9  47063    Hamblen  Tennessee          285                    [285]"
      ]
     },
     "execution_count": 36,
     "metadata": {},
     "output_type": "execute_result"
    }
   ],
   "source": [
    "# Louvain Modularity \n",
    "# Louvain quantifies how well a node is assigned to a group by looking at the density of connections within \n",
    "# a cluster in comparison to an average or random sample\n",
    "query = \"\"\"\n",
    "CALL gds.louvain.stream({\n",
    "  nodeProjection: \"County\",\n",
    "  relationshipProjection: \"COMMUTES\",\n",
    "  includeIntermediateCommunities: true\n",
    "})\n",
    "YIELD nodeId, communityId, intermediateCommunityIds\n",
    "RETURN gds.util.asNode(nodeId).geoid AS geoid, \n",
    "       gds.util.asNode(nodeId).county AS county,\n",
    "       gds.util.asNode(nodeId).state AS state,\n",
    "       communityId, \n",
    "       intermediateCommunityIds\n",
    "ORDER BY communityId ASC;\n",
    "\"\"\"\n",
    "result=graph.run(query)\n",
    "louvainMod = result.to_data_frame()\n",
    "louvainMod.head(10)"
   ]
  },
  {
   "cell_type": "code",
   "execution_count": 37,
   "id": "391fcf8d",
   "metadata": {},
   "outputs": [],
   "source": [
    "#louvainMod.to_csv(\"louvainmod.csv\", index=False)"
   ]
  },
  {
   "cell_type": "markdown",
   "id": "d5890ef3",
   "metadata": {},
   "source": [
    "<A HREF=\"https://neo4j.com/docs/graph-data-science/current/algorithms/label-propagation/\">Cypher Label Propagation</A><BR>"
   ]
  },
  {
   "cell_type": "code",
   "execution_count": 41,
   "id": "c04bcaec",
   "metadata": {},
   "outputs": [
    {
     "data": {
      "text/html": [
       "<div>\n",
       "<style scoped>\n",
       "    .dataframe tbody tr th:only-of-type {\n",
       "        vertical-align: middle;\n",
       "    }\n",
       "\n",
       "    .dataframe tbody tr th {\n",
       "        vertical-align: top;\n",
       "    }\n",
       "\n",
       "    .dataframe thead th {\n",
       "        text-align: right;\n",
       "    }\n",
       "</style>\n",
       "<table border=\"1\" class=\"dataframe\">\n",
       "  <thead>\n",
       "    <tr style=\"text-align: right;\">\n",
       "      <th></th>\n",
       "      <th>geoid</th>\n",
       "      <th>county</th>\n",
       "      <th>state</th>\n",
       "      <th>label</th>\n",
       "    </tr>\n",
       "  </thead>\n",
       "  <tbody>\n",
       "    <tr>\n",
       "      <th>0</th>\n",
       "      <td>[01001, 01013, 01015, 01021, 01027, 01029, 010...</td>\n",
       "      <td>[Autauga, Butler, Calhoun, Chilton, Clay, Cleb...</td>\n",
       "      <td>[Alabama, Alabama, Alabama, Alabama, Alabama, ...</td>\n",
       "      <td>0</td>\n",
       "    </tr>\n",
       "    <tr>\n",
       "      <th>1</th>\n",
       "      <td>[72049]</td>\n",
       "      <td>[Culebra Municipio]</td>\n",
       "      <td>[Puerto Rico]</td>\n",
       "      <td>3217</td>\n",
       "    </tr>\n",
       "    <tr>\n",
       "      <th>2</th>\n",
       "      <td>[72147]</td>\n",
       "      <td>[Vieques Municipio]</td>\n",
       "      <td>[Puerto Rico]</td>\n",
       "      <td>3221</td>\n",
       "    </tr>\n",
       "  </tbody>\n",
       "</table>\n",
       "</div>"
      ],
      "text/plain": [
       "                                               geoid  \\\n",
       "0  [01001, 01013, 01015, 01021, 01027, 01029, 010...   \n",
       "1                                            [72049]   \n",
       "2                                            [72147]   \n",
       "\n",
       "                                              county  \\\n",
       "0  [Autauga, Butler, Calhoun, Chilton, Clay, Cleb...   \n",
       "1                                [Culebra Municipio]   \n",
       "2                                [Vieques Municipio]   \n",
       "\n",
       "                                               state  label  \n",
       "0  [Alabama, Alabama, Alabama, Alabama, Alabama, ...      0  \n",
       "1                                      [Puerto Rico]   3217  \n",
       "2                                      [Puerto Rico]   3221  "
      ]
     },
     "execution_count": 41,
     "metadata": {},
     "output_type": "execute_result"
    }
   ],
   "source": [
    "# Label Propagation\n",
    "# In LPA, nodes select their group based on their direct neighbors. \n",
    "# This process is well suited to networks where groupings are less clear and weights can \n",
    "# be used to help a node determine which community to place itself within\n",
    "query = \"\"\"\n",
    "CALL gds.labelPropagation.stream({\n",
    "nodeProjection: \"County\",\n",
    "relationshipProjection: \"COMMUTES\",\n",
    "maxIterations: 10\n",
    "})\n",
    "YIELD nodeId, communityId\n",
    "RETURN collect(gds.util.asNode(nodeId).geoid) AS geoid,\n",
    "       collect(gds.util.asNode(nodeId).county) AS county,\n",
    "       collect(gds.util.asNode(nodeId).state) AS state,\n",
    "       communityId AS label\n",
    "ORDER BY label ASC;\n",
    "\"\"\"\n",
    "result=graph.run(query)\n",
    "labelprop = result.to_data_frame()\n",
    "labelprop.head(10)"
   ]
  },
  {
   "cell_type": "code",
   "execution_count": 42,
   "id": "90b88f85",
   "metadata": {},
   "outputs": [],
   "source": [
    "# Not sure I understand the label propagation output, but here it is...\n",
    "#labelprop.to_csv(\"labelprop.csv\", index=False)"
   ]
  },
  {
   "cell_type": "markdown",
   "id": "d20d5c91",
   "metadata": {},
   "source": [
    "<A HREF=\"https://neo4j.com/docs/graph-data-science/current/algorithms/wcc/\">Cypher Weakly Connected Components</A><BR>"
   ]
  },
  {
   "cell_type": "code",
   "execution_count": 71,
   "id": "adc99ece",
   "metadata": {},
   "outputs": [
    {
     "data": {
      "text/html": [
       "<div>\n",
       "<style scoped>\n",
       "    .dataframe tbody tr th:only-of-type {\n",
       "        vertical-align: middle;\n",
       "    }\n",
       "\n",
       "    .dataframe tbody tr th {\n",
       "        vertical-align: top;\n",
       "    }\n",
       "\n",
       "    .dataframe thead th {\n",
       "        text-align: right;\n",
       "    }\n",
       "</style>\n",
       "<table border=\"1\" class=\"dataframe\">\n",
       "  <thead>\n",
       "    <tr style=\"text-align: right;\">\n",
       "      <th></th>\n",
       "      <th>geoid</th>\n",
       "      <th>county</th>\n",
       "      <th>state</th>\n",
       "      <th>Component</th>\n",
       "    </tr>\n",
       "  </thead>\n",
       "  <tbody>\n",
       "    <tr>\n",
       "      <th>0</th>\n",
       "      <td>72011</td>\n",
       "      <td>A??o Municipio</td>\n",
       "      <td>Puerto Rico</td>\n",
       "      <td>0</td>\n",
       "    </tr>\n",
       "    <tr>\n",
       "      <th>1</th>\n",
       "      <td>45001</td>\n",
       "      <td>Abbeville</td>\n",
       "      <td>South Carolina</td>\n",
       "      <td>0</td>\n",
       "    </tr>\n",
       "    <tr>\n",
       "      <th>2</th>\n",
       "      <td>22001</td>\n",
       "      <td>Acadia Parish</td>\n",
       "      <td>Louisiana</td>\n",
       "      <td>0</td>\n",
       "    </tr>\n",
       "    <tr>\n",
       "      <th>3</th>\n",
       "      <td>51001</td>\n",
       "      <td>Accomack</td>\n",
       "      <td>Virginia</td>\n",
       "      <td>0</td>\n",
       "    </tr>\n",
       "    <tr>\n",
       "      <th>4</th>\n",
       "      <td>16001</td>\n",
       "      <td>Ada</td>\n",
       "      <td>Idaho</td>\n",
       "      <td>0</td>\n",
       "    </tr>\n",
       "    <tr>\n",
       "      <th>5</th>\n",
       "      <td>19001</td>\n",
       "      <td>Adair</td>\n",
       "      <td>Iowa</td>\n",
       "      <td>0</td>\n",
       "    </tr>\n",
       "    <tr>\n",
       "      <th>6</th>\n",
       "      <td>40001</td>\n",
       "      <td>Adair</td>\n",
       "      <td>Oklahoma</td>\n",
       "      <td>0</td>\n",
       "    </tr>\n",
       "    <tr>\n",
       "      <th>7</th>\n",
       "      <td>29001</td>\n",
       "      <td>Adair</td>\n",
       "      <td>Missouri</td>\n",
       "      <td>0</td>\n",
       "    </tr>\n",
       "    <tr>\n",
       "      <th>8</th>\n",
       "      <td>21001</td>\n",
       "      <td>Adair</td>\n",
       "      <td>Kentucky</td>\n",
       "      <td>0</td>\n",
       "    </tr>\n",
       "    <tr>\n",
       "      <th>9</th>\n",
       "      <td>16003</td>\n",
       "      <td>Adams</td>\n",
       "      <td>Idaho</td>\n",
       "      <td>0</td>\n",
       "    </tr>\n",
       "  </tbody>\n",
       "</table>\n",
       "</div>"
      ],
      "text/plain": [
       "   geoid          county           state  Component\n",
       "0  72011  A??o Municipio     Puerto Rico          0\n",
       "1  45001       Abbeville  South Carolina          0\n",
       "2  22001   Acadia Parish       Louisiana          0\n",
       "3  51001        Accomack        Virginia          0\n",
       "4  16001             Ada           Idaho          0\n",
       "5  19001           Adair            Iowa          0\n",
       "6  40001           Adair        Oklahoma          0\n",
       "7  29001           Adair        Missouri          0\n",
       "8  21001           Adair        Kentucky          0\n",
       "9  16003           Adams           Idaho          0"
      ]
     },
     "execution_count": 71,
     "metadata": {},
     "output_type": "execute_result"
    }
   ],
   "source": [
    "# Weakly Connected Components (SCC)\n",
    "query = \"\"\"\n",
    "CALL gds.wcc.stream({\n",
    "nodeProjection: 'County',\n",
    "relationshipProjection: 'COMMUTES'\n",
    "})\n",
    "YIELD nodeId, componentId\n",
    "RETURN gds.util.asNode(nodeId).geoid AS geoid, \n",
    "       gds.util.asNode(nodeId).county AS county,\n",
    "       gds.util.asNode(nodeId).state AS state,\n",
    "       componentId AS Component\n",
    "ORDER BY Component, county;\n",
    "\"\"\"\n",
    "result=graph.run(query)\n",
    "wcc = result.to_data_frame()\n",
    "wcc.head(10)\n",
    "# WCC return all counties in one component, thus not very interesting results"
   ]
  },
  {
   "cell_type": "code",
   "execution_count": 72,
   "id": "d19a4e66",
   "metadata": {},
   "outputs": [
    {
     "data": {
      "text/html": [
       "<table><tr><th>componentCount</th></tr><tr><td style=\"text-align:right\">1</td></tr></table>"
      ],
      "text/plain": [
       " componentCount \n",
       "----------------\n",
       "              1 "
      ]
     },
     "execution_count": 72,
     "metadata": {},
     "output_type": "execute_result"
    }
   ],
   "source": [
    "query = \"\"\"\n",
    "CALL gds.wcc.stats({\n",
    "nodeProjection: 'County',\n",
    "relationshipProjection: 'COMMUTES'\n",
    "})\n",
    "YIELD componentCount\n",
    "\"\"\"\n",
    "graph.run(query)\n",
    "# yup, only 1 component"
   ]
  },
  {
   "cell_type": "markdown",
   "id": "c39c90bc",
   "metadata": {},
   "source": [
    "<A HREF=\"https://neo4j.com/docs/graph-data-science/current/algorithms/modularity-optimization/\">Cypher Modularity Optimization</A> aka Girvan-Newman"
   ]
  },
  {
   "cell_type": "code",
   "execution_count": 86,
   "id": "6b9f21ac",
   "metadata": {},
   "outputs": [
    {
     "data": {
      "text/html": [
       "<table><tr><th>nodeId</th><th>geoid</th><th>county</th><th>state</th><th>communityId</th></tr><tr><td style=\"text-align:right\">0</td><td style=\"text-align:left\">01001</td><td style=\"text-align:left\">Autauga</td><td style=\"text-align:left\">Alabama</td><td style=\"text-align:right\">60</td></tr><tr><td style=\"text-align:right\">1</td><td style=\"text-align:left\">01013</td><td style=\"text-align:left\">Butler</td><td style=\"text-align:left\">Alabama</td><td style=\"text-align:right\">60</td></tr><tr><td style=\"text-align:right\">2</td><td style=\"text-align:left\">01015</td><td style=\"text-align:left\">Calhoun</td><td style=\"text-align:left\">Alabama</td><td style=\"text-align:right\">60</td></tr></table>"
      ],
      "text/plain": [
       " nodeId | geoid | county  | state   | communityId \n",
       "--------|-------|---------|---------|-------------\n",
       "      0 | 01001 | Autauga | Alabama |          60 \n",
       "      1 | 01013 | Butler  | Alabama |          60 \n",
       "      2 | 01015 | Calhoun | Alabama |          60 "
      ]
     },
     "execution_count": 86,
     "metadata": {},
     "output_type": "execute_result"
    }
   ],
   "source": [
    "query = \"\"\"\n",
    "CALL gds.beta.modularityOptimization.stream({\n",
    "nodeProjection: 'County',\n",
    "relationshipProjection: 'COMMUTES'\n",
    "})\n",
    "YIELD nodeId, communityId\n",
    "RETURN nodeId,\n",
    "       gds.util.asNode(nodeId).geoid AS geoid, \n",
    "       gds.util.asNode(nodeId).county AS county,\n",
    "       gds.util.asNode(nodeId).state AS state, \n",
    "       communityId\n",
    "ORDER BY nodeId\n",
    "\"\"\"\n",
    "graph.run(query)"
   ]
  },
  {
   "cell_type": "markdown",
   "id": "ff8d32b5",
   "metadata": {},
   "source": [
    "<A HREF=\"https://neo4j.com/docs/graph-data-science/current/algorithms/triangle-count/\">Cypher Triangle Counts</A><BR>\n",
    "This may not work for directed graphs, but here's a bunch of code anyway."
   ]
  },
  {
   "cell_type": "code",
   "execution_count": 53,
   "id": "f5d4fa63",
   "metadata": {},
   "outputs": [
    {
     "data": {
      "text/html": [
       "<table><tr><th>globalTriangleCount</th><th>nodeCount</th></tr><tr><td style=\"text-align:right\">1061592</td><td style=\"text-align:right\">3223</td></tr></table>"
      ],
      "text/plain": [
       " globalTriangleCount | nodeCount \n",
       "---------------------|-----------\n",
       "             1061592 |      3223 "
      ]
     },
     "execution_count": 53,
     "metadata": {},
     "output_type": "execute_result"
    }
   ],
   "source": [
    "# General Triangle Count stats\n",
    "query = \"\"\"\n",
    "CALL gds.triangleCount.stats({\n",
    "nodeProjection:\"County\",\n",
    "relationshipProjection:  {COMMUTES: {\n",
    "type: \"COMMUTES\",\n",
    "   orientation: \"UNDIRECTED\"\n",
    " }}\n",
    "})\n",
    "YIELD globalTriangleCount,nodeCount\n",
    "\"\"\"\n",
    "graph.run(query)\n"
   ]
  },
  {
   "cell_type": "code",
   "execution_count": 65,
   "id": "c45b17fe",
   "metadata": {},
   "outputs": [
    {
     "data": {
      "text/html": [
       "<table><tr><th>geoid</th><th>county</th><th>nbr_triangles</th></tr><tr><td style=\"text-align:left\">17031</td><td style=\"text-align:left\">Cook</td><td style=\"text-align:right\">34071</td></tr><tr><td style=\"text-align:left\">48201</td><td style=\"text-align:left\">Harris</td><td style=\"text-align:right\">31655</td></tr><tr><td style=\"text-align:left\">48113</td><td style=\"text-align:left\">Dallas</td><td style=\"text-align:right\">22538</td></tr></table>"
      ],
      "text/plain": [
       " geoid | county | nbr_triangles \n",
       "-------|--------|---------------\n",
       " 17031 | Cook   |         34071 \n",
       " 48201 | Harris |         31655 \n",
       " 48113 | Dallas |         22538 "
      ]
     },
     "execution_count": 65,
     "metadata": {},
     "output_type": "execute_result"
    }
   ],
   "source": [
    "# Print Triangles\n",
    "query = \"\"\"\n",
    "CALL gds.triangleCount.stream({\n",
    "nodeProjection:\"County\",\n",
    "relationshipProjection:  {COMMUTES: {\n",
    "type: \"COMMUTES\",\n",
    "   orientation: \"UNDIRECTED\"\n",
    " }}\n",
    "})\n",
    "YIELD nodeId , triangleCount\n",
    "RETURN gds.util.asNode(nodeId).geoid as geoid,\n",
    "       gds.util.asNode(nodeId).county as county,\n",
    "       triangleCount as nbr_triangles\n",
    "ORDER BY triangleCount DESC;\n",
    "\"\"\"\n",
    "graph.run(query)"
   ]
  },
  {
   "cell_type": "code",
   "execution_count": 62,
   "id": "6bdde3e2",
   "metadata": {},
   "outputs": [
    {
     "data": {
      "text/html": [
       "<table><tr><th>nodeA</th><th>nodeB</th><th>nodeC</th></tr><tr><td style=\"text-align:left\">Autauga</td><td style=\"text-align:left\">Butler</td><td style=\"text-align:left\">Dallas</td></tr><tr><td style=\"text-align:left\">Autauga</td><td style=\"text-align:left\">Butler</td><td style=\"text-align:left\">Elmore</td></tr><tr><td style=\"text-align:left\">Autauga</td><td style=\"text-align:left\">Butler</td><td style=\"text-align:left\">Jefferson</td></tr></table>"
      ],
      "text/plain": [
       " nodeA   | nodeB  | nodeC     \n",
       "---------|--------|-----------\n",
       " Autauga | Butler | Dallas    \n",
       " Autauga | Butler | Elmore    \n",
       " Autauga | Butler | Jefferson "
      ]
     },
     "execution_count": 62,
     "metadata": {},
     "output_type": "execute_result"
    }
   ],
   "source": [
    "query = \"\"\"\n",
    "CALL gds.alpha.triangles({\n",
    "nodeProjection: \"County\",\n",
    "relationshipProjection:  {\n",
    "    COMMUTES: {type: \"COMMUTES\",\n",
    "    orientation: \"UNDIRECTED\"}\n",
    "    }\n",
    "    })\n",
    "YIELD nodeA, nodeB, nodeC\n",
    "RETURN gds.util.asNode(nodeA).county AS nodeA,\n",
    "       gds.util.asNode(nodeB).county AS nodeB,\n",
    "       gds.util.asNode(nodeC).county AS nodeC;\n",
    "\"\"\"\n",
    "graph.run(query)"
   ]
  },
  {
   "cell_type": "markdown",
   "id": "b207c474",
   "metadata": {},
   "source": [
    "<A HREF=\"https://neo4j.com/docs/graph-data-science/current/algorithms/local-clustering-coefficient/\">Cypher Local Clustering Coeff</A>"
   ]
  },
  {
   "cell_type": "code",
   "execution_count": 64,
   "id": "6663a469",
   "metadata": {},
   "outputs": [
    {
     "data": {
      "text/html": [
       "<table><tr><th>geoid</th><th>county</th><th>state</th><th>localClusteringCoefficient</th></tr><tr><td style=\"text-align:left\">48261</td><td style=\"text-align:left\">Kenedy</td><td style=\"text-align:left\">Texas</td><td style=\"text-align:right\">1.0952380952380953</td></tr><tr><td style=\"text-align:left\">32009</td><td style=\"text-align:left\">Esmeralda</td><td style=\"text-align:left\">Nevada</td><td style=\"text-align:right\">0.8666666666666667</td></tr><tr><td style=\"text-align:left\">06091</td><td style=\"text-align:left\">Sierra</td><td style=\"text-align:left\">California</td><td style=\"text-align:right\">0.8214285714285714</td></tr></table>"
      ],
      "text/plain": [
       " geoid | county    | state      | localClusteringCoefficient \n",
       "-------|-----------|------------|----------------------------\n",
       " 48261 | Kenedy    | Texas      |         1.0952380952380953 \n",
       " 32009 | Esmeralda | Nevada     |         0.8666666666666667 \n",
       " 06091 | Sierra    | California |         0.8214285714285714 "
      ]
     },
     "execution_count": 64,
     "metadata": {},
     "output_type": "execute_result"
    }
   ],
   "source": [
    "# Clustering Coefficient - ahhh, ok does not support Directed \n",
    "query = \"\"\"\n",
    "CALL gds.localClusteringCoefficient.stream({\n",
    "nodeProjection: \"County\",\n",
    "relationshipProjection:  {\n",
    "  DEPENDS_ON: {\n",
    "    type: \"COMMUTES\",\n",
    "    orientation: \"UNDIRECTED\"\n",
    "  }\n",
    "}\n",
    "})\n",
    "YIELD nodeId, localClusteringCoefficient\n",
    "WHERE localClusteringCoefficient > 0\n",
    "RETURN gds.util.asNode(nodeId).geoid as geoid,\n",
    "       gds.util.asNode(nodeId).county as county,\n",
    "       gds.util.asNode(nodeId).state as state,\n",
    "       localClusteringCoefficient\n",
    "ORDER BY localClusteringCoefficient DESC;\n",
    "\"\"\"\n",
    "graph.run(query)"
   ]
  },
  {
   "cell_type": "code",
   "execution_count": null,
   "id": "81cb8386",
   "metadata": {},
   "outputs": [],
   "source": []
  }
 ],
 "metadata": {
  "kernelspec": {
   "display_name": "Python 3",
   "language": "python",
   "name": "python3"
  },
  "language_info": {
   "codemirror_mode": {
    "name": "ipython",
    "version": 3
   },
   "file_extension": ".py",
   "mimetype": "text/x-python",
   "name": "python",
   "nbconvert_exporter": "python",
   "pygments_lexer": "ipython3",
   "version": "3.9.10"
  }
 },
 "nbformat": 4,
 "nbformat_minor": 5
}
