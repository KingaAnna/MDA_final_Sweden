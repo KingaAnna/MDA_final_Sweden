{
 "cells": [
  {
   "cell_type": "code",
   "execution_count": 3,
   "id": "527dc80f",
   "metadata": {},
   "outputs": [],
   "source": [
    "import pandas as pd\n",
    "import numpy as np\n",
    "from py2neo import Graph\n",
    "from py2neo import Node\n",
    "from py2neo import Relationship"
   ]
  },
  {
   "cell_type": "markdown",
   "id": "26454524",
   "metadata": {},
   "source": [
    "# Commuting flow preprocessing\n",
    "<BR>\n",
    "<A HREF=\"https://www.census.gov/data/tables/2015/demo/metro-micro/commuting-flows-2015.html\">Commuting Flows Data</A>"
   ]
  },
  {
   "cell_type": "markdown",
   "id": "a8feb07b",
   "metadata": {},
   "source": [
    "The data is read. The missing values result from lines indicating commuting flows to other workplaces outside the USA. These rows are deleted."
   ]
  },
  {
   "cell_type": "code",
   "execution_count": 28,
   "id": "379bcf82",
   "metadata": {},
   "outputs": [],
   "source": [
    "commuting_flow=pd.read_excel(\"RawData/commuting_flows.xlsx\",dtype={'State FIPS Code': object,'County FIPS Code':object,\n",
    "                                                                   'State FIPS Code.1':object,\n",
    "                                                                   'County FIPS Code.1':object})\n",
    "commuting_flow.drop(columns=[\" Margin of Error\"], inplace=True)\n",
    "commuting_flow.dropna(inplace=True)"
   ]
  },
  {
   "cell_type": "markdown",
   "id": "05537fbd",
   "metadata": {},
   "source": [
    "Combining state and county FIPS code to one FIPS code"
   ]
  },
  {
   "cell_type": "code",
   "execution_count": 29,
   "id": "b3f0e396",
   "metadata": {},
   "outputs": [],
   "source": [
    "commuting_flow['State FIPS Code.1']=commuting_flow['State FIPS Code.1'].str[1:]\n",
    "commuting_flow[\"State FIPS Code\"]=commuting_flow[\"State FIPS Code\"]+commuting_flow[\"County FIPS Code\"]\n",
    "commuting_flow[\"State FIPS Code.1\"]=commuting_flow[\"State FIPS Code.1\"]+commuting_flow[\"County FIPS Code.1\"]\n",
    "commuting_flow.drop(columns=['County FIPS Code.1','County FIPS Code'],inplace=True)\n",
    "commuting_flow.rename(columns={'State Name':'ResState','County Name':'ResCounty','State Name.1':'PoWState',\n",
    "                              'County Name.1':'PoWCounty','Workers in Commuting Flow':'Workers',\n",
    "                              'State FIPS Code.1':'PoWGEOID','State FIPS Code':'ResGEOID'},inplace=True)\n",
    "commuting_flow['ResCounty']=commuting_flow['ResCounty'].str.replace(' County', '')\n",
    "commuting_flow['PoWCounty']=commuting_flow['PoWCounty'].str.replace(' County', '')"
   ]
  },
  {
   "cell_type": "code",
   "execution_count": 31,
   "id": "34f35e19",
   "metadata": {},
   "outputs": [],
   "source": [
    "commuting_flow.to_csv('Data_input_Neo4j/WorkPlaceFlows_clean.csv',index=False)"
   ]
  },
  {
   "cell_type": "markdown",
   "id": "331a30d3",
   "metadata": {},
   "source": [
    "# Preparing graph based on commuting flows between states"
   ]
  },
  {
   "cell_type": "markdown",
   "id": "ebcca617",
   "metadata": {},
   "source": [
    "We only consider the commuting flow between states."
   ]
  },
  {
   "cell_type": "code",
   "execution_count": 5,
   "id": "f4d0822b",
   "metadata": {},
   "outputs": [],
   "source": [
    "between_state=commuting_flow[commuting_flow[\"ResState\"]!=commuting_flow[\"PoWState\"]]"
   ]
  },
  {
   "cell_type": "markdown",
   "id": "e3c45222",
   "metadata": {},
   "source": [
    "We compute the nodes and edges and save the results in the folder Data_input_neo4j"
   ]
  },
  {
   "cell_type": "code",
   "execution_count": 6,
   "id": "6ce5da46",
   "metadata": {},
   "outputs": [],
   "source": [
    "commuting_edges=between_state.groupby([\"ResState\",\"PoWState\"],as_index=False).agg({'Workers':'sum'})\n",
    "commuting_nodes=pd.DataFrame(commuting_edges['ResState'].unique(),columns=['State'])"
   ]
  },
  {
   "cell_type": "code",
   "execution_count": 7,
   "id": "02a45517",
   "metadata": {},
   "outputs": [],
   "source": [
    "commuting_edges.to_csv('Data_input_neo4j/commuting_edges.csv',index=False)\n",
    "commuting_nodes.to_csv('Data_input_neo4j/commuting_nodes.csv',index=False)"
   ]
  },
  {
   "cell_type": "markdown",
   "id": "c1e73b40",
   "metadata": {},
   "source": [
    "## Commuting flow degree centrality"
   ]
  },
  {
   "cell_type": "markdown",
   "id": "ef031908",
   "metadata": {},
   "source": [
    "<div class=\"alert alert-block alert-info\"> Make sure that all datafiles that are in the folder Data_input_neo4j are copied into the input folder of your database.</div>"
   ]
  },
  {
   "cell_type": "markdown",
   "id": "c1c155bb",
   "metadata": {},
   "source": [
    "## Make graph"
   ]
  },
  {
   "cell_type": "code",
   "execution_count": 4,
   "id": "05bdc14c",
   "metadata": {},
   "outputs": [],
   "source": [
    "graph = Graph(\"bolt://localhost:7687\", password='xxx', name='neo4j')"
   ]
  },
  {
   "cell_type": "markdown",
   "id": "9fd75fb1",
   "metadata": {},
   "source": [
    "Insert the nodes and relationships."
   ]
  },
  {
   "cell_type": "code",
   "execution_count": 8,
   "id": "afd90b5b",
   "metadata": {},
   "outputs": [
    {
     "data": {
      "text/html": [
       "<table><tr><th>true</th></tr><tr><td style=\"text-align:left\">true</td></tr></table>"
      ],
      "text/plain": [
       " true \n",
       "------\n",
       " true "
      ]
     },
     "execution_count": 8,
     "metadata": {},
     "output_type": "execute_result"
    }
   ],
   "source": [
    "graph.run(\"MATCH (n) DETACH DELETE n\")\n",
    "query=\"\"\"LOAD CSV WITH HEADERS FROM $file as row\n",
    "        with row\n",
    "        CALL apoc.create.node(['State','Place'],{name:row.State}) YIELD node\n",
    "        RETURN distinct true\"\"\"\n",
    "graph.run(query,file='file:///commuting_nodes.csv')\n",
    "query=\"\"\"LOAD CSV WITH HEADERS FROM $file as row\n",
    "        with row\n",
    "        MATCH (source:State{name:row.ResState})\n",
    "        MATCH (target:State{name:row.PoWState})\n",
    "        CALL apoc.create.relationship(source,\"COMMUTING\",{weight:toFloat(row.Workers)},target) YIELD rel\n",
    "        RETURN distinct true\"\"\"\n",
    "graph.run(query,file='file:///commuting_edges.csv')"
   ]
  },
  {
   "cell_type": "markdown",
   "id": "5bb0be26",
   "metadata": {},
   "source": [
    "Create an in-memory graph, called 'Commuting'."
   ]
  },
  {
   "cell_type": "code",
   "execution_count": 7,
   "id": "c123eef0",
   "metadata": {},
   "outputs": [
    {
     "data": {
      "text/html": [
       "<table><tr><th>nodeProjection</th><th>relationshipProjection</th><th>graphName</th><th>nodeCount</th><th>relationshipCount</th><th>createMillis</th></tr><tr><td style=\"text-align:left\">{State: {properties: {}, label: &#039;State&#039;}}</td><td style=\"text-align:left\">{COMMUTING: {orientation: &#039;UNDIRECTED&#039;, aggregation: &#039;DEFAULT&#039;, type: &#039;COMMUTING&#039;, properties: {weight: {property: &#039;weight&#039;, aggregation: &#039;DEFAULT&#039;, defaultValue: null}}}}</td><td style=\"text-align:left\">Commuting</td><td style=\"text-align:right\">52</td><td style=\"text-align:right\">4748</td><td style=\"text-align:right\">46</td></tr></table>"
      ],
      "text/plain": [
       " nodeProjection                            | relationshipProjection                                                                                                                                                      | graphName | nodeCount | relationshipCount | createMillis \n",
       "-------------------------------------------|-----------------------------------------------------------------------------------------------------------------------------------------------------------------------------|-----------|-----------|-------------------|--------------\n",
       " {State: {properties: {}, label: 'State'}} | {COMMUTING: {orientation: 'UNDIRECTED', aggregation: 'DEFAULT', type: 'COMMUTING', properties: {weight: {property: 'weight', aggregation: 'DEFAULT', defaultValue: null}}}} | Commuting |        52 |              4748 |           46 "
      ]
     },
     "execution_count": 7,
     "metadata": {},
     "output_type": "execute_result"
    }
   ],
   "source": [
    "query=\"\"\"CALL gds.graph.create('Commuting','State',{COMMUTING:{properties:'weight', orientation:'UNDIRECTED'}})\"\"\"\n",
    "graph.run(query)"
   ]
  },
  {
   "cell_type": "markdown",
   "id": "268423f2",
   "metadata": {},
   "source": [
    "## Perform degree centrality"
   ]
  },
  {
   "cell_type": "markdown",
   "id": "07729ac5",
   "metadata": {},
   "source": [
    "We can use the gds.degree.stream algorithm to calculate the degree centrality of the states."
   ]
  },
  {
   "cell_type": "code",
   "execution_count": 8,
   "id": "3e6ef3fe",
   "metadata": {},
   "outputs": [],
   "source": [
    "query=\"\"\"CALL gds.degree.stream('Commuting',{relationshipWeightProperty:'weight'})\n",
    "        YIELD nodeId, score\n",
    "        RETURN gds.util.asNode(nodeId).name AS Place, score AS Degree_Centrality_com\n",
    "        ORDER by Degree_Centrality_com desc\"\"\"\n",
    "result = graph.run(query).data() \n",
    "df_degree_commuting=pd.DataFrame(result)"
   ]
  },
  {
   "cell_type": "markdown",
   "id": "3ba9e74d",
   "metadata": {},
   "source": [
    "The in-memory graph is dropped again."
   ]
  },
  {
   "cell_type": "code",
   "execution_count": 9,
   "id": "93b58d8d",
   "metadata": {
    "scrolled": true
   },
   "outputs": [
    {
     "data": {
      "text/html": [
       "<table><tr><th>graphName</th><th>database</th><th>memoryUsage</th><th>sizeInBytes</th><th>nodeProjection</th><th>relationshipProjection</th><th>nodeQuery</th><th>relationshipQuery</th><th>nodeCount</th><th>relationshipCount</th><th>nodeFilter</th><th>relationshipFilter</th><th>density</th><th>creationTime</th><th>modificationTime</th><th>schema</th></tr><tr><td style=\"text-align:left\">Commuting</td><td style=\"text-align:left\">neo4j</td><td style=\"text-align:left\"></td><td style=\"text-align:right\">-1</td><td style=\"text-align:left\">{State: {properties: {}, label: &#039;State&#039;}}</td><td style=\"text-align:left\">{COMMUTING: {orientation: &#039;UNDIRECTED&#039;, aggregation: &#039;DEFAULT&#039;, type: &#039;COMMUTING&#039;, properties: {weight: {property: &#039;weight&#039;, aggregation: &#039;DEFAULT&#039;, defaultValue: null}}}}</td><td style=\"text-align:right\">null</td><td style=\"text-align:right\">null</td><td style=\"text-align:right\">52</td><td style=\"text-align:right\">4748</td><td style=\"text-align:right\">null</td><td style=\"text-align:right\">null</td><td style=\"text-align:right\">1.790346907993967</td><td style=\"text-align:left\">datetime(&#039;2022-06-01T17:53:16.610593100+02:00&#039;)</td><td style=\"text-align:left\">datetime(&#039;2022-06-01T17:53:16.650904500+02:00&#039;)</td><td style=\"text-align:left\">{relationships: {COMMUTING: {weight: &#039;Float (DefaultValue(NaN), PERSISTENT, Aggregation.DEFAULT)&#039;}}, nodes: {State: {}}}</td></tr></table>"
      ],
      "text/plain": [
       " graphName | database | memoryUsage | sizeInBytes | nodeProjection                            | relationshipProjection                                                                                                                                                      | nodeQuery | relationshipQuery | nodeCount | relationshipCount | nodeFilter | relationshipFilter |           density | creationTime                                    | modificationTime                                | schema                                                                                                                   \n",
       "-----------|----------|-------------|-------------|-------------------------------------------|-----------------------------------------------------------------------------------------------------------------------------------------------------------------------------|-----------|-------------------|-----------|-------------------|------------|--------------------|-------------------|-------------------------------------------------|-------------------------------------------------|--------------------------------------------------------------------------------------------------------------------------\n",
       " Commuting | neo4j    |             |          -1 | {State: {properties: {}, label: 'State'}} | {COMMUTING: {orientation: 'UNDIRECTED', aggregation: 'DEFAULT', type: 'COMMUTING', properties: {weight: {property: 'weight', aggregation: 'DEFAULT', defaultValue: null}}}} |      null |              null |        52 |              4748 |       null |               null | 1.790346907993967 | datetime('2022-06-01T17:53:16.610593100+02:00') | datetime('2022-06-01T17:53:16.650904500+02:00') | {relationships: {COMMUTING: {weight: 'Float (DefaultValue(NaN), PERSISTENT, Aggregation.DEFAULT)'}}, nodes: {State: {}}} "
      ]
     },
     "execution_count": 9,
     "metadata": {},
     "output_type": "execute_result"
    }
   ],
   "source": [
    "graph.run(\"CALL gds.graph.drop('Commuting')\")"
   ]
  },
  {
   "cell_type": "markdown",
   "id": "dd9c864f",
   "metadata": {},
   "source": [
    "The results are saved into a csv file."
   ]
  },
  {
   "cell_type": "code",
   "execution_count": 10,
   "id": "a764252b",
   "metadata": {},
   "outputs": [],
   "source": [
    "df_degree_commuting.to_csv('PreprocessedData/degree_commuting_between_states.csv',index=False)"
   ]
  },
  {
   "cell_type": "markdown",
   "id": "faf2e7dc",
   "metadata": {},
   "source": [
    "# Preparing graph based on commuting flows between counties\n"
   ]
  },
  {
   "cell_type": "markdown",
   "id": "f372f241",
   "metadata": {},
   "source": [
    "<div class=\"alert alert-block alert-info\"> Make sure that all datafiles that are in the folder Data_input_neo4j are copied into the input folder of your database.</div>"
   ]
  },
  {
   "cell_type": "code",
   "execution_count": 5,
   "id": "4ef30853",
   "metadata": {},
   "outputs": [
    {
     "data": {
      "text/html": [
       "(No data)"
      ],
      "text/plain": [
       "(No data)"
      ]
     },
     "execution_count": 5,
     "metadata": {},
     "output_type": "execute_result"
    }
   ],
   "source": [
    "graph.run(\"MATCH(n) DETACH DELETE n\")"
   ]
  },
  {
   "cell_type": "markdown",
   "id": "d6823914",
   "metadata": {},
   "source": [
    "I set the graph up in Neo4j with data cleaned up and saved in WorkplaceFlows_clean.csv\n",
    "\n",
    "\n",
    "LOAD CSV WITH HEADERS FROM \"file:///WorkplaceFlows_clean.csv\" as row<BR>\n",
    "MERGE (:County {geoid: row.ResGEOID, county: row.ResCounty, state: row.ResState});\n",
    "\n",
    "\n",
    "LOAD CSV WITH HEADERS FROM \"file:///WorkplaceFlows_clean.csv\" as row<BR>\n",
    "MERGE (res:County {geoid: row.ResGEOID, county: row.ResCounty, state: row.ResState})<BR>\n",
    "MERGE (pow:County {geoid: row.PoWGEOID, county: row.PoWCounty, state: row.PoWState})<BR>\n",
    "CREATE (res)-[:COMMUTES {workers: row.Workers, res: row.ResGEOID, pow: row.PoWGEOID}]->(pow);<BR>\n",
    "\n",
    "\n",
    "CREATE INDEX INDX IF NOT EXISTS<BR>\n",
    "FOR (n:County)<BR>\n",
    "ON (n.geoid);<BR>"
   ]
  },
  {
   "cell_type": "code",
   "execution_count": 6,
   "id": "c947c928",
   "metadata": {},
   "outputs": [
    {
     "name": "stdout",
     "output_type": "stream",
     "text": [
      "Nodes inserted\n"
     ]
    }
   ],
   "source": [
    "query=\"\"\"\n",
    "LOAD CSV WITH HEADERS FROM \"file:///WorkplaceFlows_clean.csv\" as row\n",
    "MERGE (:County {geoid: row.ResGEOID, county: row.ResCounty, state: row.ResState})\n",
    "\"\"\"\n",
    "graph.run(query)\n",
    "print(\"Nodes inserted\")"
   ]
  },
  {
   "cell_type": "code",
   "execution_count": 7,
   "id": "fdbd71f6",
   "metadata": {},
   "outputs": [
    {
     "name": "stdout",
     "output_type": "stream",
     "text": [
      "Index created\n"
     ]
    }
   ],
   "source": [
    "query=\"\"\"\n",
    "CREATE INDEX INDX IF NOT EXISTS\n",
    "FOR (n:County)\n",
    "ON (n.geoid)\n",
    "\"\"\"\n",
    "graph.run(query)\n",
    "print(\"Index created\")"
   ]
  },
  {
   "cell_type": "code",
   "execution_count": 8,
   "id": "07f16738",
   "metadata": {},
   "outputs": [
    {
     "name": "stdout",
     "output_type": "stream",
     "text": [
      "Relationships created\n"
     ]
    }
   ],
   "source": [
    "query=\"\"\"\n",
    "LOAD CSV WITH HEADERS FROM \"file:///WorkplaceFlows_clean.csv\" as row\n",
    "MERGE (res:County {geoid: row.ResGEOID, county: row.ResCounty, state: row.ResState})\n",
    "MERGE (pow:County {geoid: row.PoWGEOID, county: row.PoWCounty, state: row.PoWState})\n",
    "CREATE (res)-[:COMMUTES {workers: row.Workers, res: row.ResGEOID, pow: row.PoWGEOID}]->(pow)\n",
    "\"\"\"\n",
    "graph.run(query)\n",
    "print(\"Relationships created\")"
   ]
  },
  {
   "cell_type": "code",
   "execution_count": 9,
   "id": "b5bde5a4",
   "metadata": {},
   "outputs": [
    {
     "data": {
      "text/html": [
       "<table><tr><th>a.geoid</th><th>a.state</th></tr><tr><td style=\"text-align:left\">36001</td><td style=\"text-align:left\">New York</td></tr><tr><td style=\"text-align:left\">56001</td><td style=\"text-align:left\">Wyoming</td></tr></table>"
      ],
      "text/plain": [
       " a.geoid | a.state  \n",
       "---------|----------\n",
       " 36001   | New York \n",
       " 56001   | Wyoming  "
      ]
     },
     "execution_count": 9,
     "metadata": {},
     "output_type": "execute_result"
    }
   ],
   "source": [
    "# Quick test to make sure things are connected and working, should be two Albany counties, one in NY, one in WY\n",
    "query = \"\"\"\n",
    "MATCH (a:County) WHERE a.county = 'Albany' RETURN a.geoid, a.state;\n",
    "\"\"\"\n",
    "graph.run(query)"
   ]
  },
  {
   "cell_type": "code",
   "execution_count": 12,
   "id": "13c2c856",
   "metadata": {},
   "outputs": [
    {
     "data": {
      "text/html": [
       "<table><tr><th>nodeProjection</th><th>relationshipProjection</th><th>graphName</th><th>nodeCount</th><th>relationshipCount</th><th>createMillis</th></tr><tr><td style=\"text-align:left\">{County: {properties: {}, label: &#039;County&#039;}}</td><td style=\"text-align:left\">{COMMUTES: {orientation: &#039;NATURAL&#039;, aggregation: &#039;DEFAULT&#039;, type: &#039;COMMUTES&#039;, properties: {}}}</td><td style=\"text-align:left\">counties</td><td style=\"text-align:right\">3220</td><td style=\"text-align:right\">137806</td><td style=\"text-align:right\">19</td></tr></table>"
      ],
      "text/plain": [
       " nodeProjection                              | relationshipProjection                                                                         | graphName | nodeCount | relationshipCount | createMillis \n",
       "---------------------------------------------|------------------------------------------------------------------------------------------------|-----------|-----------|-------------------|--------------\n",
       " {County: {properties: {}, label: 'County'}} | {COMMUTES: {orientation: 'NATURAL', aggregation: 'DEFAULT', type: 'COMMUTES', properties: {}}} | counties  |      3220 |            137806 |           19 "
      ]
     },
     "execution_count": 12,
     "metadata": {},
     "output_type": "execute_result"
    }
   ],
   "source": [
    "query = \"\"\"\n",
    "CALL gds.graph.create('counties','County','COMMUTES');\n",
    "\"\"\"\n",
    "graph.run(query)"
   ]
  },
  {
   "cell_type": "markdown",
   "id": "ab16dc21",
   "metadata": {},
   "source": [
    "## Centrality Measures\n",
    "<A HREF=\"https://neo4j-website.s3.eu-central-1.amazonaws.com/build/html/Algorithms/centrality/centrality.html\">Centrality Measures</A>"
   ]
  },
  {
   "cell_type": "code",
   "execution_count": 13,
   "id": "7ad0241b",
   "metadata": {},
   "outputs": [
    {
     "data": {
      "text/html": [
       "<div>\n",
       "<style scoped>\n",
       "    .dataframe tbody tr th:only-of-type {\n",
       "        vertical-align: middle;\n",
       "    }\n",
       "\n",
       "    .dataframe tbody tr th {\n",
       "        vertical-align: top;\n",
       "    }\n",
       "\n",
       "    .dataframe thead th {\n",
       "        text-align: right;\n",
       "    }\n",
       "</style>\n",
       "<table border=\"1\" class=\"dataframe\">\n",
       "  <thead>\n",
       "    <tr style=\"text-align: right;\">\n",
       "      <th></th>\n",
       "      <th>geoid</th>\n",
       "      <th>county</th>\n",
       "      <th>state</th>\n",
       "      <th>centralScore</th>\n",
       "    </tr>\n",
       "  </thead>\n",
       "  <tbody>\n",
       "    <tr>\n",
       "      <th>0</th>\n",
       "      <td>48201</td>\n",
       "      <td>Harris</td>\n",
       "      <td>Texas</td>\n",
       "      <td>0.587838</td>\n",
       "    </tr>\n",
       "    <tr>\n",
       "      <th>1</th>\n",
       "      <td>17031</td>\n",
       "      <td>Cook</td>\n",
       "      <td>Illinois</td>\n",
       "      <td>0.575850</td>\n",
       "    </tr>\n",
       "    <tr>\n",
       "      <th>2</th>\n",
       "      <td>48113</td>\n",
       "      <td>Dallas</td>\n",
       "      <td>Texas</td>\n",
       "      <td>0.553378</td>\n",
       "    </tr>\n",
       "    <tr>\n",
       "      <th>3</th>\n",
       "      <td>06037</td>\n",
       "      <td>Los Angeles</td>\n",
       "      <td>California</td>\n",
       "      <td>0.552903</td>\n",
       "    </tr>\n",
       "    <tr>\n",
       "      <th>4</th>\n",
       "      <td>13121</td>\n",
       "      <td>Fulton</td>\n",
       "      <td>Georgia</td>\n",
       "      <td>0.549130</td>\n",
       "    </tr>\n",
       "    <tr>\n",
       "      <th>5</th>\n",
       "      <td>04013</td>\n",
       "      <td>Maricopa</td>\n",
       "      <td>Arizona</td>\n",
       "      <td>0.547449</td>\n",
       "    </tr>\n",
       "    <tr>\n",
       "      <th>6</th>\n",
       "      <td>27053</td>\n",
       "      <td>Hennepin</td>\n",
       "      <td>Minnesota</td>\n",
       "      <td>0.542833</td>\n",
       "    </tr>\n",
       "    <tr>\n",
       "      <th>7</th>\n",
       "      <td>11001</td>\n",
       "      <td>District of Columbia</td>\n",
       "      <td>District of Columbia</td>\n",
       "      <td>0.540827</td>\n",
       "    </tr>\n",
       "    <tr>\n",
       "      <th>8</th>\n",
       "      <td>48439</td>\n",
       "      <td>Tarrant</td>\n",
       "      <td>Texas</td>\n",
       "      <td>0.540645</td>\n",
       "    </tr>\n",
       "    <tr>\n",
       "      <th>9</th>\n",
       "      <td>37119</td>\n",
       "      <td>Mecklenburg</td>\n",
       "      <td>North Carolina</td>\n",
       "      <td>0.539829</td>\n",
       "    </tr>\n",
       "  </tbody>\n",
       "</table>\n",
       "</div>"
      ],
      "text/plain": [
       "   geoid                county                 state  centralScore\n",
       "0  48201                Harris                 Texas      0.587838\n",
       "1  17031                  Cook              Illinois      0.575850\n",
       "2  48113                Dallas                 Texas      0.553378\n",
       "3  06037           Los Angeles            California      0.552903\n",
       "4  13121                Fulton               Georgia      0.549130\n",
       "5  04013              Maricopa               Arizona      0.547449\n",
       "6  27053              Hennepin             Minnesota      0.542833\n",
       "7  11001  District of Columbia  District of Columbia      0.540827\n",
       "8  48439               Tarrant                 Texas      0.540645\n",
       "9  37119           Mecklenburg        North Carolina      0.539829"
      ]
     },
     "execution_count": 13,
     "metadata": {},
     "output_type": "execute_result"
    }
   ],
   "source": [
    "# Counties with highest centrality score\n",
    "query = \"\"\"\n",
    "CALL gds.alpha.closeness.stream({\n",
    "    nodeProjection: \"County\",\n",
    "    relationshipProjection: \"COMMUTES\"\n",
    "})\n",
    "YIELD nodeId, centrality\n",
    "RETURN gds.util.asNode(nodeId).geoid AS geoid, \n",
    "       gds.util.asNode(nodeId).county AS county,\n",
    "       gds.util.asNode(nodeId).state AS state,\n",
    "       centrality AS centralScore\n",
    "ORDER BY centrality DESC;\n",
    "\"\"\"\n",
    "result=graph.run(query)\n",
    "centrality = result.to_data_frame()\n",
    "centrality.head(10)"
   ]
  },
  {
   "cell_type": "code",
   "execution_count": 18,
   "id": "1893516e",
   "metadata": {},
   "outputs": [],
   "source": [
    "#centrality.to_csv(\"PreprocessedData/centrality.csv\", index=False)"
   ]
  },
  {
   "cell_type": "code",
   "execution_count": 16,
   "id": "122231cb",
   "metadata": {},
   "outputs": [
    {
     "data": {
      "text/html": [
       "<div>\n",
       "<style scoped>\n",
       "    .dataframe tbody tr th:only-of-type {\n",
       "        vertical-align: middle;\n",
       "    }\n",
       "\n",
       "    .dataframe tbody tr th {\n",
       "        vertical-align: top;\n",
       "    }\n",
       "\n",
       "    .dataframe thead th {\n",
       "        text-align: right;\n",
       "    }\n",
       "</style>\n",
       "<table border=\"1\" class=\"dataframe\">\n",
       "  <thead>\n",
       "    <tr style=\"text-align: right;\">\n",
       "      <th></th>\n",
       "      <th>geoid</th>\n",
       "      <th>county</th>\n",
       "      <th>state</th>\n",
       "      <th>betweenScore</th>\n",
       "    </tr>\n",
       "  </thead>\n",
       "  <tbody>\n",
       "    <tr>\n",
       "      <th>0</th>\n",
       "      <td>48201</td>\n",
       "      <td>Harris</td>\n",
       "      <td>Texas</td>\n",
       "      <td>617958.281608</td>\n",
       "    </tr>\n",
       "    <tr>\n",
       "      <th>1</th>\n",
       "      <td>17031</td>\n",
       "      <td>Cook</td>\n",
       "      <td>Illinois</td>\n",
       "      <td>469159.093054</td>\n",
       "    </tr>\n",
       "    <tr>\n",
       "      <th>2</th>\n",
       "      <td>48113</td>\n",
       "      <td>Dallas</td>\n",
       "      <td>Texas</td>\n",
       "      <td>301811.660055</td>\n",
       "    </tr>\n",
       "    <tr>\n",
       "      <th>3</th>\n",
       "      <td>06037</td>\n",
       "      <td>Los Angeles</td>\n",
       "      <td>California</td>\n",
       "      <td>270725.273712</td>\n",
       "    </tr>\n",
       "    <tr>\n",
       "      <th>4</th>\n",
       "      <td>04013</td>\n",
       "      <td>Maricopa</td>\n",
       "      <td>Arizona</td>\n",
       "      <td>255235.306000</td>\n",
       "    </tr>\n",
       "    <tr>\n",
       "      <th>5</th>\n",
       "      <td>13121</td>\n",
       "      <td>Fulton</td>\n",
       "      <td>Georgia</td>\n",
       "      <td>245228.297783</td>\n",
       "    </tr>\n",
       "    <tr>\n",
       "      <th>6</th>\n",
       "      <td>27053</td>\n",
       "      <td>Hennepin</td>\n",
       "      <td>Minnesota</td>\n",
       "      <td>243818.914986</td>\n",
       "    </tr>\n",
       "    <tr>\n",
       "      <th>7</th>\n",
       "      <td>48439</td>\n",
       "      <td>Tarrant</td>\n",
       "      <td>Texas</td>\n",
       "      <td>223837.763622</td>\n",
       "    </tr>\n",
       "    <tr>\n",
       "      <th>8</th>\n",
       "      <td>47157</td>\n",
       "      <td>Shelby</td>\n",
       "      <td>Tennessee</td>\n",
       "      <td>203355.954000</td>\n",
       "    </tr>\n",
       "    <tr>\n",
       "      <th>9</th>\n",
       "      <td>37119</td>\n",
       "      <td>Mecklenburg</td>\n",
       "      <td>North Carolina</td>\n",
       "      <td>192922.170706</td>\n",
       "    </tr>\n",
       "  </tbody>\n",
       "</table>\n",
       "</div>"
      ],
      "text/plain": [
       "   geoid       county           state   betweenScore\n",
       "0  48201       Harris           Texas  617958.281608\n",
       "1  17031         Cook        Illinois  469159.093054\n",
       "2  48113       Dallas           Texas  301811.660055\n",
       "3  06037  Los Angeles      California  270725.273712\n",
       "4  04013     Maricopa         Arizona  255235.306000\n",
       "5  13121       Fulton         Georgia  245228.297783\n",
       "6  27053     Hennepin       Minnesota  243818.914986\n",
       "7  48439      Tarrant           Texas  223837.763622\n",
       "8  47157       Shelby       Tennessee  203355.954000\n",
       "9  37119  Mecklenburg  North Carolina  192922.170706"
      ]
     },
     "execution_count": 16,
     "metadata": {},
     "output_type": "execute_result"
    }
   ],
   "source": [
    "# Counties with highest betweeness score\n",
    "query = \"\"\"\n",
    "CALL gds.betweenness.stream({nodeProjection: \"County\",relationshipProjection: \"COMMUTES\"})\n",
    "YIELD nodeId, score\n",
    "RETURN gds.util.asNode(nodeId).geoid AS geoid, \n",
    "       gds.util.asNode(nodeId).county AS county,\n",
    "       gds.util.asNode(nodeId).state AS state,\n",
    "       score AS betweenScore\n",
    "ORDER BY score DESC;\n",
    "\"\"\"\n",
    "result=graph.run(query)\n",
    "betweeness = result.to_data_frame()\n",
    "betweeness.head(10)"
   ]
  },
  {
   "cell_type": "code",
   "execution_count": 19,
   "id": "c37b2089",
   "metadata": {},
   "outputs": [],
   "source": [
    "#betweeness.to_csv(\"PreprocessedData/betweeness.csv\", index=False)"
   ]
  },
  {
   "cell_type": "code",
   "execution_count": 20,
   "id": "c953ac17",
   "metadata": {},
   "outputs": [
    {
     "data": {
      "text/html": [
       "<div>\n",
       "<style scoped>\n",
       "    .dataframe tbody tr th:only-of-type {\n",
       "        vertical-align: middle;\n",
       "    }\n",
       "\n",
       "    .dataframe tbody tr th {\n",
       "        vertical-align: top;\n",
       "    }\n",
       "\n",
       "    .dataframe thead th {\n",
       "        text-align: right;\n",
       "    }\n",
       "</style>\n",
       "<table border=\"1\" class=\"dataframe\">\n",
       "  <thead>\n",
       "    <tr style=\"text-align: right;\">\n",
       "      <th></th>\n",
       "      <th>geoid</th>\n",
       "      <th>county</th>\n",
       "      <th>state</th>\n",
       "      <th>pageRank</th>\n",
       "    </tr>\n",
       "  </thead>\n",
       "  <tbody>\n",
       "    <tr>\n",
       "      <th>0</th>\n",
       "      <td>48201</td>\n",
       "      <td>Harris</td>\n",
       "      <td>Texas</td>\n",
       "      <td>17.906262</td>\n",
       "    </tr>\n",
       "    <tr>\n",
       "      <th>1</th>\n",
       "      <td>17031</td>\n",
       "      <td>Cook</td>\n",
       "      <td>Illinois</td>\n",
       "      <td>14.669887</td>\n",
       "    </tr>\n",
       "    <tr>\n",
       "      <th>2</th>\n",
       "      <td>48113</td>\n",
       "      <td>Dallas</td>\n",
       "      <td>Texas</td>\n",
       "      <td>11.687301</td>\n",
       "    </tr>\n",
       "    <tr>\n",
       "      <th>3</th>\n",
       "      <td>11001</td>\n",
       "      <td>District of Columbia</td>\n",
       "      <td>District of Columbia</td>\n",
       "      <td>10.992795</td>\n",
       "    </tr>\n",
       "    <tr>\n",
       "      <th>4</th>\n",
       "      <td>13121</td>\n",
       "      <td>Fulton</td>\n",
       "      <td>Georgia</td>\n",
       "      <td>10.881692</td>\n",
       "    </tr>\n",
       "    <tr>\n",
       "      <th>5</th>\n",
       "      <td>38105</td>\n",
       "      <td>Williams</td>\n",
       "      <td>North Dakota</td>\n",
       "      <td>10.762765</td>\n",
       "    </tr>\n",
       "    <tr>\n",
       "      <th>6</th>\n",
       "      <td>06037</td>\n",
       "      <td>Los Angeles</td>\n",
       "      <td>California</td>\n",
       "      <td>10.291407</td>\n",
       "    </tr>\n",
       "    <tr>\n",
       "      <th>7</th>\n",
       "      <td>27053</td>\n",
       "      <td>Hennepin</td>\n",
       "      <td>Minnesota</td>\n",
       "      <td>9.966452</td>\n",
       "    </tr>\n",
       "    <tr>\n",
       "      <th>8</th>\n",
       "      <td>47157</td>\n",
       "      <td>Shelby</td>\n",
       "      <td>Tennessee</td>\n",
       "      <td>9.314560</td>\n",
       "    </tr>\n",
       "    <tr>\n",
       "      <th>9</th>\n",
       "      <td>37119</td>\n",
       "      <td>Mecklenburg</td>\n",
       "      <td>North Carolina</td>\n",
       "      <td>8.606624</td>\n",
       "    </tr>\n",
       "  </tbody>\n",
       "</table>\n",
       "</div>"
      ],
      "text/plain": [
       "   geoid                county                 state   pageRank\n",
       "0  48201                Harris                 Texas  17.906262\n",
       "1  17031                  Cook              Illinois  14.669887\n",
       "2  48113                Dallas                 Texas  11.687301\n",
       "3  11001  District of Columbia  District of Columbia  10.992795\n",
       "4  13121                Fulton               Georgia  10.881692\n",
       "5  38105              Williams          North Dakota  10.762765\n",
       "6  06037           Los Angeles            California  10.291407\n",
       "7  27053              Hennepin             Minnesota   9.966452\n",
       "8  47157                Shelby             Tennessee   9.314560\n",
       "9  37119           Mecklenburg        North Carolina   8.606624"
      ]
     },
     "execution_count": 20,
     "metadata": {},
     "output_type": "execute_result"
    }
   ],
   "source": [
    "# Counties with highest page rank score\n",
    "query = \"\"\"\n",
    "CALL gds.pageRank.stream({  nodeProjection: \"County\",\n",
    "relationshipProjection: \"COMMUTES\",  maxIterations: 50,  dampingFactor: 0.85})\n",
    "YIELD nodeId, score\n",
    "RETURN gds.util.asNode(nodeId).geoid AS geoid, \n",
    "       gds.util.asNode(nodeId).county AS county,\n",
    "       gds.util.asNode(nodeId).state AS state,\n",
    "       score AS pageRank\n",
    "ORDER BY score DESC;\n",
    "\"\"\"\n",
    "result=graph.run(query)\n",
    "pagerank = result.to_data_frame()\n",
    "pagerank.head(10)"
   ]
  },
  {
   "cell_type": "code",
   "execution_count": 21,
   "id": "e156bd83",
   "metadata": {},
   "outputs": [],
   "source": [
    "#pagerank.to_csv(\"PreprocessedData/pagerank.csv\", index=False)"
   ]
  },
  {
   "cell_type": "markdown",
   "id": "1a4973d3",
   "metadata": {},
   "source": [
    "## Community Detection\n",
    "<A HREF=\"https://neo4j-website.s3.eu-central-1.amazonaws.com/build/html/Algorithms/community/community.html\">Class Notes on Community Detection</A>"
   ]
  },
  {
   "cell_type": "markdown",
   "id": "961d75a7",
   "metadata": {},
   "source": [
    "<A HREF=\"https://neo4j.com/docs/graph-data-science/current/algorithms/louvain/\">Cypher Louvain Modularity</A><BR>"
   ]
  },
  {
   "cell_type": "code",
   "execution_count": 26,
   "id": "7f77e1f5",
   "metadata": {},
   "outputs": [
    {
     "data": {
      "text/html": [
       "<div>\n",
       "<style scoped>\n",
       "    .dataframe tbody tr th:only-of-type {\n",
       "        vertical-align: middle;\n",
       "    }\n",
       "\n",
       "    .dataframe tbody tr th {\n",
       "        vertical-align: top;\n",
       "    }\n",
       "\n",
       "    .dataframe thead th {\n",
       "        text-align: right;\n",
       "    }\n",
       "</style>\n",
       "<table border=\"1\" class=\"dataframe\">\n",
       "  <thead>\n",
       "    <tr style=\"text-align: right;\">\n",
       "      <th></th>\n",
       "      <th>geoid</th>\n",
       "      <th>county</th>\n",
       "      <th>state</th>\n",
       "      <th>communityId</th>\n",
       "      <th>intermediateCommunityIds</th>\n",
       "    </tr>\n",
       "  </thead>\n",
       "  <tbody>\n",
       "    <tr>\n",
       "      <th>0</th>\n",
       "      <td>01001</td>\n",
       "      <td>Autauga</td>\n",
       "      <td>Alabama</td>\n",
       "      <td>88</td>\n",
       "      <td>[88, 88]</td>\n",
       "    </tr>\n",
       "    <tr>\n",
       "      <th>1</th>\n",
       "      <td>01013</td>\n",
       "      <td>Butler</td>\n",
       "      <td>Alabama</td>\n",
       "      <td>88</td>\n",
       "      <td>[88, 88]</td>\n",
       "    </tr>\n",
       "    <tr>\n",
       "      <th>2</th>\n",
       "      <td>01015</td>\n",
       "      <td>Calhoun</td>\n",
       "      <td>Alabama</td>\n",
       "      <td>88</td>\n",
       "      <td>[88, 88]</td>\n",
       "    </tr>\n",
       "    <tr>\n",
       "      <th>3</th>\n",
       "      <td>01021</td>\n",
       "      <td>Chilton</td>\n",
       "      <td>Alabama</td>\n",
       "      <td>88</td>\n",
       "      <td>[88, 88]</td>\n",
       "    </tr>\n",
       "    <tr>\n",
       "      <th>4</th>\n",
       "      <td>01027</td>\n",
       "      <td>Clay</td>\n",
       "      <td>Alabama</td>\n",
       "      <td>88</td>\n",
       "      <td>[88, 88]</td>\n",
       "    </tr>\n",
       "    <tr>\n",
       "      <th>5</th>\n",
       "      <td>01029</td>\n",
       "      <td>Cleburne</td>\n",
       "      <td>Alabama</td>\n",
       "      <td>88</td>\n",
       "      <td>[2272, 88]</td>\n",
       "    </tr>\n",
       "    <tr>\n",
       "      <th>6</th>\n",
       "      <td>01047</td>\n",
       "      <td>Dallas</td>\n",
       "      <td>Alabama</td>\n",
       "      <td>88</td>\n",
       "      <td>[88, 88]</td>\n",
       "    </tr>\n",
       "    <tr>\n",
       "      <th>7</th>\n",
       "      <td>01051</td>\n",
       "      <td>Elmore</td>\n",
       "      <td>Alabama</td>\n",
       "      <td>88</td>\n",
       "      <td>[88, 88]</td>\n",
       "    </tr>\n",
       "    <tr>\n",
       "      <th>8</th>\n",
       "      <td>01073</td>\n",
       "      <td>Jefferson</td>\n",
       "      <td>Alabama</td>\n",
       "      <td>88</td>\n",
       "      <td>[88, 88]</td>\n",
       "    </tr>\n",
       "    <tr>\n",
       "      <th>9</th>\n",
       "      <td>01081</td>\n",
       "      <td>Lee</td>\n",
       "      <td>Alabama</td>\n",
       "      <td>88</td>\n",
       "      <td>[88, 88]</td>\n",
       "    </tr>\n",
       "  </tbody>\n",
       "</table>\n",
       "</div>"
      ],
      "text/plain": [
       "   geoid     county    state  communityId intermediateCommunityIds\n",
       "0  01001    Autauga  Alabama           88                 [88, 88]\n",
       "1  01013     Butler  Alabama           88                 [88, 88]\n",
       "2  01015    Calhoun  Alabama           88                 [88, 88]\n",
       "3  01021    Chilton  Alabama           88                 [88, 88]\n",
       "4  01027       Clay  Alabama           88                 [88, 88]\n",
       "5  01029   Cleburne  Alabama           88               [2272, 88]\n",
       "6  01047     Dallas  Alabama           88                 [88, 88]\n",
       "7  01051     Elmore  Alabama           88                 [88, 88]\n",
       "8  01073  Jefferson  Alabama           88                 [88, 88]\n",
       "9  01081        Lee  Alabama           88                 [88, 88]"
      ]
     },
     "execution_count": 26,
     "metadata": {},
     "output_type": "execute_result"
    }
   ],
   "source": [
    "# Louvain Modularity \n",
    "# Louvain quantifies how well a node is assigned to a group by looking at the density of connections within \n",
    "# a cluster in comparison to an average or random sample\n",
    "query = \"\"\"\n",
    "CALL gds.louvain.stream({\n",
    "  nodeProjection: \"County\",\n",
    "  relationshipProjection: \"COMMUTES\",\n",
    "  includeIntermediateCommunities: true\n",
    "})\n",
    "YIELD nodeId, communityId, intermediateCommunityIds\n",
    "RETURN gds.util.asNode(nodeId).geoid AS geoid, \n",
    "       gds.util.asNode(nodeId).county AS county,\n",
    "       gds.util.asNode(nodeId).state AS state,\n",
    "       communityId, \n",
    "       intermediateCommunityIds\n",
    "ORDER BY communityId ASC;\n",
    "\"\"\"\n",
    "result=graph.run(query)\n",
    "louvainMod = result.to_data_frame()\n",
    "louvainMod.head(10)"
   ]
  },
  {
   "cell_type": "code",
   "execution_count": 37,
   "id": "391fcf8d",
   "metadata": {},
   "outputs": [],
   "source": [
    "#louvainMod.to_csv(\"PreprocessedData/louvainmod.csv\", index=False)"
   ]
  },
  {
   "cell_type": "markdown",
   "id": "d5890ef3",
   "metadata": {},
   "source": [
    "<A HREF=\"https://neo4j.com/docs/graph-data-science/current/algorithms/label-propagation/\">Cypher Label Propagation</A><BR>"
   ]
  },
  {
   "cell_type": "code",
   "execution_count": 27,
   "id": "c04bcaec",
   "metadata": {},
   "outputs": [
    {
     "data": {
      "text/html": [
       "<div>\n",
       "<style scoped>\n",
       "    .dataframe tbody tr th:only-of-type {\n",
       "        vertical-align: middle;\n",
       "    }\n",
       "\n",
       "    .dataframe tbody tr th {\n",
       "        vertical-align: top;\n",
       "    }\n",
       "\n",
       "    .dataframe thead th {\n",
       "        text-align: right;\n",
       "    }\n",
       "</style>\n",
       "<table border=\"1\" class=\"dataframe\">\n",
       "  <thead>\n",
       "    <tr style=\"text-align: right;\">\n",
       "      <th></th>\n",
       "      <th>geoid</th>\n",
       "      <th>county</th>\n",
       "      <th>state</th>\n",
       "      <th>label</th>\n",
       "    </tr>\n",
       "  </thead>\n",
       "  <tbody>\n",
       "    <tr>\n",
       "      <th>0</th>\n",
       "      <td>[01001, 01013, 01015, 01021, 01027, 01029, 010...</td>\n",
       "      <td>[Autauga, Butler, Calhoun, Chilton, Clay, Cleb...</td>\n",
       "      <td>[Alabama, Alabama, Alabama, Alabama, Alabama, ...</td>\n",
       "      <td>0</td>\n",
       "    </tr>\n",
       "    <tr>\n",
       "      <th>1</th>\n",
       "      <td>[72049]</td>\n",
       "      <td>[Culebra Municipio]</td>\n",
       "      <td>[Puerto Rico]</td>\n",
       "      <td>5968</td>\n",
       "    </tr>\n",
       "    <tr>\n",
       "      <th>2</th>\n",
       "      <td>[72147]</td>\n",
       "      <td>[Vieques Municipio]</td>\n",
       "      <td>[Puerto Rico]</td>\n",
       "      <td>5970</td>\n",
       "    </tr>\n",
       "  </tbody>\n",
       "</table>\n",
       "</div>"
      ],
      "text/plain": [
       "                                               geoid  \\\n",
       "0  [01001, 01013, 01015, 01021, 01027, 01029, 010...   \n",
       "1                                            [72049]   \n",
       "2                                            [72147]   \n",
       "\n",
       "                                              county  \\\n",
       "0  [Autauga, Butler, Calhoun, Chilton, Clay, Cleb...   \n",
       "1                                [Culebra Municipio]   \n",
       "2                                [Vieques Municipio]   \n",
       "\n",
       "                                               state  label  \n",
       "0  [Alabama, Alabama, Alabama, Alabama, Alabama, ...      0  \n",
       "1                                      [Puerto Rico]   5968  \n",
       "2                                      [Puerto Rico]   5970  "
      ]
     },
     "execution_count": 27,
     "metadata": {},
     "output_type": "execute_result"
    }
   ],
   "source": [
    "# Label Propagation\n",
    "# In LPA, nodes select their group based on their direct neighbors. \n",
    "# This process is well suited to networks where groupings are less clear and weights can \n",
    "# be used to help a node determine which community to place itself within\n",
    "query = \"\"\"\n",
    "CALL gds.labelPropagation.stream({\n",
    "nodeProjection: \"County\",\n",
    "relationshipProjection: \"COMMUTES\",\n",
    "maxIterations: 10\n",
    "})\n",
    "YIELD nodeId, communityId\n",
    "RETURN collect(gds.util.asNode(nodeId).geoid) AS geoid,\n",
    "       collect(gds.util.asNode(nodeId).county) AS county,\n",
    "       collect(gds.util.asNode(nodeId).state) AS state,\n",
    "       communityId AS label\n",
    "ORDER BY label ASC;\n",
    "\"\"\"\n",
    "result=graph.run(query)\n",
    "labelprop = result.to_data_frame()\n",
    "labelprop.head(10)"
   ]
  },
  {
   "cell_type": "code",
   "execution_count": 42,
   "id": "90b88f85",
   "metadata": {},
   "outputs": [],
   "source": [
    "#labelprop.to_csv(\"PreprocessedData/labelprop.csv\", index=False)"
   ]
  },
  {
   "cell_type": "markdown",
   "id": "d20d5c91",
   "metadata": {},
   "source": [
    "<A HREF=\"https://neo4j.com/docs/graph-data-science/current/algorithms/wcc/\">Cypher Weakly Connected Components</A><BR>"
   ]
  },
  {
   "cell_type": "code",
   "execution_count": 28,
   "id": "adc99ece",
   "metadata": {},
   "outputs": [
    {
     "data": {
      "text/html": [
       "<div>\n",
       "<style scoped>\n",
       "    .dataframe tbody tr th:only-of-type {\n",
       "        vertical-align: middle;\n",
       "    }\n",
       "\n",
       "    .dataframe tbody tr th {\n",
       "        vertical-align: top;\n",
       "    }\n",
       "\n",
       "    .dataframe thead th {\n",
       "        text-align: right;\n",
       "    }\n",
       "</style>\n",
       "<table border=\"1\" class=\"dataframe\">\n",
       "  <thead>\n",
       "    <tr style=\"text-align: right;\">\n",
       "      <th></th>\n",
       "      <th>geoid</th>\n",
       "      <th>county</th>\n",
       "      <th>state</th>\n",
       "      <th>Component</th>\n",
       "    </tr>\n",
       "  </thead>\n",
       "  <tbody>\n",
       "    <tr>\n",
       "      <th>0</th>\n",
       "      <td>45001</td>\n",
       "      <td>Abbeville</td>\n",
       "      <td>South Carolina</td>\n",
       "      <td>0</td>\n",
       "    </tr>\n",
       "    <tr>\n",
       "      <th>1</th>\n",
       "      <td>22001</td>\n",
       "      <td>Acadia Parish</td>\n",
       "      <td>Louisiana</td>\n",
       "      <td>0</td>\n",
       "    </tr>\n",
       "    <tr>\n",
       "      <th>2</th>\n",
       "      <td>51001</td>\n",
       "      <td>Accomack</td>\n",
       "      <td>Virginia</td>\n",
       "      <td>0</td>\n",
       "    </tr>\n",
       "    <tr>\n",
       "      <th>3</th>\n",
       "      <td>16001</td>\n",
       "      <td>Ada</td>\n",
       "      <td>Idaho</td>\n",
       "      <td>0</td>\n",
       "    </tr>\n",
       "    <tr>\n",
       "      <th>4</th>\n",
       "      <td>19001</td>\n",
       "      <td>Adair</td>\n",
       "      <td>Iowa</td>\n",
       "      <td>0</td>\n",
       "    </tr>\n",
       "    <tr>\n",
       "      <th>5</th>\n",
       "      <td>40001</td>\n",
       "      <td>Adair</td>\n",
       "      <td>Oklahoma</td>\n",
       "      <td>0</td>\n",
       "    </tr>\n",
       "    <tr>\n",
       "      <th>6</th>\n",
       "      <td>29001</td>\n",
       "      <td>Adair</td>\n",
       "      <td>Missouri</td>\n",
       "      <td>0</td>\n",
       "    </tr>\n",
       "    <tr>\n",
       "      <th>7</th>\n",
       "      <td>21001</td>\n",
       "      <td>Adair</td>\n",
       "      <td>Kentucky</td>\n",
       "      <td>0</td>\n",
       "    </tr>\n",
       "    <tr>\n",
       "      <th>8</th>\n",
       "      <td>16003</td>\n",
       "      <td>Adams</td>\n",
       "      <td>Idaho</td>\n",
       "      <td>0</td>\n",
       "    </tr>\n",
       "    <tr>\n",
       "      <th>9</th>\n",
       "      <td>31001</td>\n",
       "      <td>Adams</td>\n",
       "      <td>Nebraska</td>\n",
       "      <td>0</td>\n",
       "    </tr>\n",
       "  </tbody>\n",
       "</table>\n",
       "</div>"
      ],
      "text/plain": [
       "   geoid         county           state  Component\n",
       "0  45001      Abbeville  South Carolina          0\n",
       "1  22001  Acadia Parish       Louisiana          0\n",
       "2  51001       Accomack        Virginia          0\n",
       "3  16001            Ada           Idaho          0\n",
       "4  19001          Adair            Iowa          0\n",
       "5  40001          Adair        Oklahoma          0\n",
       "6  29001          Adair        Missouri          0\n",
       "7  21001          Adair        Kentucky          0\n",
       "8  16003          Adams           Idaho          0\n",
       "9  31001          Adams        Nebraska          0"
      ]
     },
     "execution_count": 28,
     "metadata": {},
     "output_type": "execute_result"
    }
   ],
   "source": [
    "# Weakly Connected Components (SCC)\n",
    "query = \"\"\"\n",
    "CALL gds.wcc.stream({\n",
    "nodeProjection: 'County',\n",
    "relationshipProjection: 'COMMUTES'\n",
    "})\n",
    "YIELD nodeId, componentId\n",
    "RETURN gds.util.asNode(nodeId).geoid AS geoid, \n",
    "       gds.util.asNode(nodeId).county AS county,\n",
    "       gds.util.asNode(nodeId).state AS state,\n",
    "       componentId AS Component\n",
    "ORDER BY Component, county;\n",
    "\"\"\"\n",
    "result=graph.run(query)\n",
    "wcc = result.to_data_frame()\n",
    "wcc.head(10)\n",
    "# WCC return all counties in one component, thus not very interesting results"
   ]
  },
  {
   "cell_type": "code",
   "execution_count": 29,
   "id": "d19a4e66",
   "metadata": {},
   "outputs": [
    {
     "data": {
      "text/html": [
       "<table><tr><th>componentCount</th></tr><tr><td style=\"text-align:right\">1</td></tr></table>"
      ],
      "text/plain": [
       " componentCount \n",
       "----------------\n",
       "              1 "
      ]
     },
     "execution_count": 29,
     "metadata": {},
     "output_type": "execute_result"
    }
   ],
   "source": [
    "query = \"\"\"\n",
    "CALL gds.wcc.stats({\n",
    "nodeProjection: 'County',\n",
    "relationshipProjection: 'COMMUTES'\n",
    "})\n",
    "YIELD componentCount\n",
    "\"\"\"\n",
    "graph.run(query)\n",
    "# yup, only 1 component"
   ]
  },
  {
   "cell_type": "markdown",
   "id": "c39c90bc",
   "metadata": {},
   "source": [
    "<A HREF=\"https://neo4j.com/docs/graph-data-science/current/algorithms/modularity-optimization/\">Cypher Modularity Optimization</A> aka Girvan-Newman"
   ]
  },
  {
   "cell_type": "code",
   "execution_count": 30,
   "id": "6b9f21ac",
   "metadata": {},
   "outputs": [
    {
     "data": {
      "text/html": [
       "<table><tr><th>nodeId</th><th>geoid</th><th>county</th><th>state</th><th>communityId</th></tr><tr><td style=\"text-align:right\">0</td><td style=\"text-align:left\">01001</td><td style=\"text-align:left\">Autauga</td><td style=\"text-align:left\">Alabama</td><td style=\"text-align:right\">10</td></tr><tr><td style=\"text-align:right\">1</td><td style=\"text-align:left\">01013</td><td style=\"text-align:left\">Butler</td><td style=\"text-align:left\">Alabama</td><td style=\"text-align:right\">10</td></tr><tr><td style=\"text-align:right\">2</td><td style=\"text-align:left\">01015</td><td style=\"text-align:left\">Calhoun</td><td style=\"text-align:left\">Alabama</td><td style=\"text-align:right\">10</td></tr></table>"
      ],
      "text/plain": [
       " nodeId | geoid | county  | state   | communityId \n",
       "--------|-------|---------|---------|-------------\n",
       "      0 | 01001 | Autauga | Alabama |          10 \n",
       "      1 | 01013 | Butler  | Alabama |          10 \n",
       "      2 | 01015 | Calhoun | Alabama |          10 "
      ]
     },
     "execution_count": 30,
     "metadata": {},
     "output_type": "execute_result"
    }
   ],
   "source": [
    "query = \"\"\"\n",
    "CALL gds.beta.modularityOptimization.stream({\n",
    "nodeProjection: 'County',\n",
    "relationshipProjection: 'COMMUTES'\n",
    "})\n",
    "YIELD nodeId, communityId\n",
    "RETURN nodeId,\n",
    "       gds.util.asNode(nodeId).geoid AS geoid, \n",
    "       gds.util.asNode(nodeId).county AS county,\n",
    "       gds.util.asNode(nodeId).state AS state, \n",
    "       communityId\n",
    "ORDER BY nodeId\n",
    "\"\"\"\n",
    "graph.run(query)"
   ]
  },
  {
   "cell_type": "markdown",
   "id": "ff8d32b5",
   "metadata": {},
   "source": [
    "<A HREF=\"https://neo4j.com/docs/graph-data-science/current/algorithms/triangle-count/\">Cypher Triangle Counts</A><BR>\n",
    "This may not work for directed graphs, but here's a bunch of code anyway."
   ]
  },
  {
   "cell_type": "code",
   "execution_count": 31,
   "id": "f5d4fa63",
   "metadata": {},
   "outputs": [
    {
     "data": {
      "text/html": [
       "<table><tr><th>globalTriangleCount</th><th>nodeCount</th></tr><tr><td style=\"text-align:right\">1061622</td><td style=\"text-align:right\">3220</td></tr></table>"
      ],
      "text/plain": [
       " globalTriangleCount | nodeCount \n",
       "---------------------|-----------\n",
       "             1061622 |      3220 "
      ]
     },
     "execution_count": 31,
     "metadata": {},
     "output_type": "execute_result"
    }
   ],
   "source": [
    "# General Triangle Count stats\n",
    "query = \"\"\"\n",
    "CALL gds.triangleCount.stats({\n",
    "nodeProjection:\"County\",\n",
    "relationshipProjection:  {COMMUTES: {\n",
    "type: \"COMMUTES\",\n",
    "   orientation: \"UNDIRECTED\"\n",
    " }}\n",
    "})\n",
    "YIELD globalTriangleCount,nodeCount\n",
    "\"\"\"\n",
    "graph.run(query)\n"
   ]
  },
  {
   "cell_type": "code",
   "execution_count": 32,
   "id": "c45b17fe",
   "metadata": {},
   "outputs": [
    {
     "data": {
      "text/html": [
       "<table><tr><th>geoid</th><th>county</th><th>nbr_triangles</th></tr><tr><td style=\"text-align:left\">17031</td><td style=\"text-align:left\">Cook</td><td style=\"text-align:right\">34071</td></tr><tr><td style=\"text-align:left\">48201</td><td style=\"text-align:left\">Harris</td><td style=\"text-align:right\">31655</td></tr><tr><td style=\"text-align:left\">48113</td><td style=\"text-align:left\">Dallas</td><td style=\"text-align:right\">22538</td></tr></table>"
      ],
      "text/plain": [
       " geoid | county | nbr_triangles \n",
       "-------|--------|---------------\n",
       " 17031 | Cook   |         34071 \n",
       " 48201 | Harris |         31655 \n",
       " 48113 | Dallas |         22538 "
      ]
     },
     "execution_count": 32,
     "metadata": {},
     "output_type": "execute_result"
    }
   ],
   "source": [
    "# Print Triangles\n",
    "query = \"\"\"\n",
    "CALL gds.triangleCount.stream({\n",
    "nodeProjection:\"County\",\n",
    "relationshipProjection:  {COMMUTES: {\n",
    "type: \"COMMUTES\",\n",
    "   orientation: \"UNDIRECTED\"\n",
    " }}\n",
    "})\n",
    "YIELD nodeId , triangleCount\n",
    "RETURN gds.util.asNode(nodeId).geoid as geoid,\n",
    "       gds.util.asNode(nodeId).county as county,\n",
    "       triangleCount as nbr_triangles\n",
    "ORDER BY triangleCount DESC;\n",
    "\"\"\"\n",
    "graph.run(query)"
   ]
  },
  {
   "cell_type": "code",
   "execution_count": 33,
   "id": "6bdde3e2",
   "metadata": {},
   "outputs": [
    {
     "data": {
      "text/html": [
       "<table><tr><th>nodeA</th><th>nodeB</th><th>nodeC</th></tr><tr><td style=\"text-align:left\">Butler</td><td style=\"text-align:left\">Dallas</td><td style=\"text-align:left\">Elmore</td></tr><tr><td style=\"text-align:left\">Calhoun</td><td style=\"text-align:left\">Chilton</td><td style=\"text-align:left\">Clay</td></tr><tr><td style=\"text-align:left\">Autauga</td><td style=\"text-align:left\">Butler</td><td style=\"text-align:left\">Dallas</td></tr></table>"
      ],
      "text/plain": [
       " nodeA   | nodeB   | nodeC  \n",
       "---------|---------|--------\n",
       " Butler  | Dallas  | Elmore \n",
       " Calhoun | Chilton | Clay   \n",
       " Autauga | Butler  | Dallas "
      ]
     },
     "execution_count": 33,
     "metadata": {},
     "output_type": "execute_result"
    }
   ],
   "source": [
    "query = \"\"\"\n",
    "CALL gds.alpha.triangles({\n",
    "nodeProjection: \"County\",\n",
    "relationshipProjection:  {\n",
    "    COMMUTES: {type: \"COMMUTES\",\n",
    "    orientation: \"UNDIRECTED\"}\n",
    "    }\n",
    "    })\n",
    "YIELD nodeA, nodeB, nodeC\n",
    "RETURN gds.util.asNode(nodeA).county AS nodeA,\n",
    "       gds.util.asNode(nodeB).county AS nodeB,\n",
    "       gds.util.asNode(nodeC).county AS nodeC;\n",
    "\"\"\"\n",
    "graph.run(query)"
   ]
  },
  {
   "cell_type": "markdown",
   "id": "b207c474",
   "metadata": {},
   "source": [
    "<A HREF=\"https://neo4j.com/docs/graph-data-science/current/algorithms/local-clustering-coefficient/\">Cypher Local Clustering Coeff</A>"
   ]
  },
  {
   "cell_type": "code",
   "execution_count": 34,
   "id": "6663a469",
   "metadata": {},
   "outputs": [
    {
     "data": {
      "text/html": [
       "<table><tr><th>geoid</th><th>county</th><th>state</th><th>localClusteringCoefficient</th></tr><tr><td style=\"text-align:left\">48261</td><td style=\"text-align:left\">Kenedy</td><td style=\"text-align:left\">Texas</td><td style=\"text-align:right\">1.0952380952380953</td></tr><tr><td style=\"text-align:left\">32009</td><td style=\"text-align:left\">Esmeralda</td><td style=\"text-align:left\">Nevada</td><td style=\"text-align:right\">0.8666666666666667</td></tr><tr><td style=\"text-align:left\">06091</td><td style=\"text-align:left\">Sierra</td><td style=\"text-align:left\">California</td><td style=\"text-align:right\">0.8214285714285714</td></tr></table>"
      ],
      "text/plain": [
       " geoid | county    | state      | localClusteringCoefficient \n",
       "-------|-----------|------------|----------------------------\n",
       " 48261 | Kenedy    | Texas      |         1.0952380952380953 \n",
       " 32009 | Esmeralda | Nevada     |         0.8666666666666667 \n",
       " 06091 | Sierra    | California |         0.8214285714285714 "
      ]
     },
     "execution_count": 34,
     "metadata": {},
     "output_type": "execute_result"
    }
   ],
   "source": [
    "# Clustering Coefficient - ahhh, ok does not support Directed \n",
    "query = \"\"\"\n",
    "CALL gds.localClusteringCoefficient.stream({\n",
    "nodeProjection: \"County\",\n",
    "relationshipProjection:  {\n",
    "  DEPENDS_ON: {\n",
    "    type: \"COMMUTES\",\n",
    "    orientation: \"UNDIRECTED\"\n",
    "  }\n",
    "}\n",
    "})\n",
    "YIELD nodeId, localClusteringCoefficient\n",
    "WHERE localClusteringCoefficient > 0\n",
    "RETURN gds.util.asNode(nodeId).geoid as geoid,\n",
    "       gds.util.asNode(nodeId).county as county,\n",
    "       gds.util.asNode(nodeId).state as state,\n",
    "       localClusteringCoefficient\n",
    "ORDER BY localClusteringCoefficient DESC;\n",
    "\"\"\"\n",
    "graph.run(query)"
   ]
  },
  {
   "cell_type": "code",
   "execution_count": 35,
   "id": "81cb8386",
   "metadata": {},
   "outputs": [
    {
     "data": {
      "text/html": [
       "<table><tr><th>graphName</th><th>database</th><th>memoryUsage</th><th>sizeInBytes</th><th>nodeProjection</th><th>relationshipProjection</th><th>nodeQuery</th><th>relationshipQuery</th><th>nodeCount</th><th>relationshipCount</th><th>nodeFilter</th><th>relationshipFilter</th><th>density</th><th>creationTime</th><th>modificationTime</th><th>schema</th></tr><tr><td style=\"text-align:left\">counties</td><td style=\"text-align:left\">neo4j</td><td style=\"text-align:left\"></td><td style=\"text-align:right\">-1</td><td style=\"text-align:left\">{County: {properties: {}, label: &#039;County&#039;}}</td><td style=\"text-align:left\">{COMMUTES: {orientation: &#039;NATURAL&#039;, aggregation: &#039;DEFAULT&#039;, type: &#039;COMMUTES&#039;, properties: {}}}</td><td style=\"text-align:right\">null</td><td style=\"text-align:right\">null</td><td style=\"text-align:right\">3220</td><td style=\"text-align:right\">137806</td><td style=\"text-align:right\">null</td><td style=\"text-align:right\">null</td><td style=\"text-align:right\">0.01329508990678406</td><td style=\"text-align:left\">datetime(&#039;2022-06-01T19:10:24.318059400+02:00&#039;)</td><td style=\"text-align:left\">datetime(&#039;2022-06-01T19:10:24.338003700+02:00&#039;)</td><td style=\"text-align:left\">{relationships: {COMMUTES: {}}, nodes: {County: {}}}</td></tr></table>"
      ],
      "text/plain": [
       " graphName | database | memoryUsage | sizeInBytes | nodeProjection                              | relationshipProjection                                                                         | nodeQuery | relationshipQuery | nodeCount | relationshipCount | nodeFilter | relationshipFilter |             density | creationTime                                    | modificationTime                                | schema                                               \n",
       "-----------|----------|-------------|-------------|---------------------------------------------|------------------------------------------------------------------------------------------------|-----------|-------------------|-----------|-------------------|------------|--------------------|---------------------|-------------------------------------------------|-------------------------------------------------|------------------------------------------------------\n",
       " counties  | neo4j    |             |          -1 | {County: {properties: {}, label: 'County'}} | {COMMUTES: {orientation: 'NATURAL', aggregation: 'DEFAULT', type: 'COMMUTES', properties: {}}} |      null |              null |      3220 |            137806 |       null |               null | 0.01329508990678406 | datetime('2022-06-01T19:10:24.318059400+02:00') | datetime('2022-06-01T19:10:24.338003700+02:00') | {relationships: {COMMUTES: {}}, nodes: {County: {}}} "
      ]
     },
     "execution_count": 35,
     "metadata": {},
     "output_type": "execute_result"
    }
   ],
   "source": [
    "query = \"\"\"\n",
    "CALL gds.graph.drop('counties');\n",
    "\"\"\"\n",
    "graph.run(query)"
   ]
  }
 ],
 "metadata": {
  "kernelspec": {
   "display_name": "Python 3",
   "language": "python",
   "name": "python3"
  },
  "language_info": {
   "codemirror_mode": {
    "name": "ipython",
    "version": 3
   },
   "file_extension": ".py",
   "mimetype": "text/x-python",
   "name": "python",
   "nbconvert_exporter": "python",
   "pygments_lexer": "ipython3",
   "version": "3.10.4"
  },
  "toc": {
   "base_numbering": 1,
   "nav_menu": {},
   "number_sections": true,
   "sideBar": true,
   "skip_h1_title": false,
   "title_cell": "Table of Contents",
   "title_sidebar": "Contents",
   "toc_cell": false,
   "toc_position": {},
   "toc_section_display": true,
   "toc_window_display": false
  }
 },
 "nbformat": 4,
 "nbformat_minor": 5
}
