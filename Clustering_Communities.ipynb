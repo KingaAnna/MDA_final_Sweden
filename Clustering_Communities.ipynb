{
 "cells": [
  {
   "cell_type": "code",
   "execution_count": 1,
   "id": "bdabf3c7",
   "metadata": {},
   "outputs": [],
   "source": [
    "import pandas as pd\n",
    "import numpy as np\n",
    "import matplotlib.pyplot as plt\n",
    "import plotly.express as px\n",
    "import statsmodels.api as sm\n",
    "import datetime as dt\n",
    "import json\n",
    "\n",
    "from sklearn.cluster import SpectralClustering, KMeans\n",
    "from sklearn.metrics import silhouette_score\n",
    "from sklearn.decomposition import PCA\n",
    "from sklearn.preprocessing import MinMaxScaler\n",
    "from sklearn.model_selection import GridSearchCV\n",
    "from urllib.request import urlopen\n",
    "from py2neo import Graph\n",
    "from py2neo import Node\n",
    "from py2neo import Relationship\n",
    "from datetime import datetime\n",
    "from sklearn.preprocessing import StandardScaler\n",
    "from sklearn.pipeline import Pipeline\n",
    "from functools import reduce\n",
    "\n",
    "from Python_files import correlation_graph\n",
    "from Python_files import my_regression \n",
    "from Python_files import Outlier_detection "
   ]
  },
  {
   "cell_type": "markdown",
   "id": "31036dbd",
   "metadata": {},
   "source": [
    "# Data Loading"
   ]
  },
  {
   "cell_type": "markdown",
   "id": "6641c917",
   "metadata": {},
   "source": [
    "## Loading the merged data"
   ]
  },
  {
   "cell_type": "code",
   "execution_count": 2,
   "id": "ed93a602",
   "metadata": {},
   "outputs": [],
   "source": [
    "counties_features=pd.read_csv(\"PreprocessedData/mergedata.csv\",dtype={'fips':'string'})"
   ]
  },
  {
   "cell_type": "markdown",
   "id": "06f808e7",
   "metadata": {},
   "source": [
    "## Information states"
   ]
  },
  {
   "cell_type": "code",
   "execution_count": 3,
   "id": "499d48c5",
   "metadata": {},
   "outputs": [],
   "source": [
    "states=counties_features[['state','state abbreviation','state fips','state population']].drop_duplicates()"
   ]
  },
  {
   "cell_type": "markdown",
   "id": "f6c3c4f3",
   "metadata": {},
   "source": [
    "## Weekly data counties"
   ]
  },
  {
   "cell_type": "code",
   "execution_count": 4,
   "id": "2b915ad4",
   "metadata": {},
   "outputs": [],
   "source": [
    "week_merge=pd.read_csv(\"PreprocessedData/week_merge.csv\",dtype={'fips':'string'})"
   ]
  },
  {
   "cell_type": "markdown",
   "id": "0850c9a4",
   "metadata": {},
   "source": [
    "## Counties data"
   ]
  },
  {
   "cell_type": "markdown",
   "id": "338f6b2b",
   "metadata": {},
   "source": [
    "###  Counties 2020"
   ]
  },
  {
   "cell_type": "code",
   "execution_count": 5,
   "id": "eed4271b",
   "metadata": {},
   "outputs": [
    {
     "data": {
      "text/html": [
       "<div>\n",
       "<style scoped>\n",
       "    .dataframe tbody tr th:only-of-type {\n",
       "        vertical-align: middle;\n",
       "    }\n",
       "\n",
       "    .dataframe tbody tr th {\n",
       "        vertical-align: top;\n",
       "    }\n",
       "\n",
       "    .dataframe thead th {\n",
       "        text-align: right;\n",
       "    }\n",
       "</style>\n",
       "<table border=\"1\" class=\"dataframe\">\n",
       "  <thead>\n",
       "    <tr style=\"text-align: right;\">\n",
       "      <th></th>\n",
       "      <th>date</th>\n",
       "      <th>geoid</th>\n",
       "      <th>county</th>\n",
       "      <th>state</th>\n",
       "      <th>cases</th>\n",
       "      <th>cases_avg</th>\n",
       "      <th>cases_avg_per_100k</th>\n",
       "      <th>deaths</th>\n",
       "      <th>deaths_avg</th>\n",
       "      <th>deaths_avg_per_100k</th>\n",
       "    </tr>\n",
       "  </thead>\n",
       "  <tbody>\n",
       "    <tr>\n",
       "      <th>0</th>\n",
       "      <td>2020-01-21</td>\n",
       "      <td>USA-53061</td>\n",
       "      <td>Snohomish</td>\n",
       "      <td>Washington</td>\n",
       "      <td>1</td>\n",
       "      <td>0.14</td>\n",
       "      <td>0.02</td>\n",
       "      <td>0</td>\n",
       "      <td>0.0</td>\n",
       "      <td>0.0</td>\n",
       "    </tr>\n",
       "    <tr>\n",
       "      <th>1</th>\n",
       "      <td>2020-01-22</td>\n",
       "      <td>USA-53061</td>\n",
       "      <td>Snohomish</td>\n",
       "      <td>Washington</td>\n",
       "      <td>0</td>\n",
       "      <td>0.14</td>\n",
       "      <td>0.02</td>\n",
       "      <td>0</td>\n",
       "      <td>0.0</td>\n",
       "      <td>0.0</td>\n",
       "    </tr>\n",
       "    <tr>\n",
       "      <th>2</th>\n",
       "      <td>2020-01-23</td>\n",
       "      <td>USA-53061</td>\n",
       "      <td>Snohomish</td>\n",
       "      <td>Washington</td>\n",
       "      <td>0</td>\n",
       "      <td>0.14</td>\n",
       "      <td>0.02</td>\n",
       "      <td>0</td>\n",
       "      <td>0.0</td>\n",
       "      <td>0.0</td>\n",
       "    </tr>\n",
       "    <tr>\n",
       "      <th>3</th>\n",
       "      <td>2020-01-24</td>\n",
       "      <td>USA-53061</td>\n",
       "      <td>Snohomish</td>\n",
       "      <td>Washington</td>\n",
       "      <td>0</td>\n",
       "      <td>0.14</td>\n",
       "      <td>0.02</td>\n",
       "      <td>0</td>\n",
       "      <td>0.0</td>\n",
       "      <td>0.0</td>\n",
       "    </tr>\n",
       "    <tr>\n",
       "      <th>4</th>\n",
       "      <td>2020-01-24</td>\n",
       "      <td>USA-17031</td>\n",
       "      <td>Cook</td>\n",
       "      <td>Illinois</td>\n",
       "      <td>1</td>\n",
       "      <td>0.14</td>\n",
       "      <td>0.00</td>\n",
       "      <td>0</td>\n",
       "      <td>0.0</td>\n",
       "      <td>0.0</td>\n",
       "    </tr>\n",
       "    <tr>\n",
       "      <th>5</th>\n",
       "      <td>2020-01-25</td>\n",
       "      <td>USA-53061</td>\n",
       "      <td>Snohomish</td>\n",
       "      <td>Washington</td>\n",
       "      <td>0</td>\n",
       "      <td>0.14</td>\n",
       "      <td>0.02</td>\n",
       "      <td>0</td>\n",
       "      <td>0.0</td>\n",
       "      <td>0.0</td>\n",
       "    </tr>\n",
       "    <tr>\n",
       "      <th>6</th>\n",
       "      <td>2020-01-25</td>\n",
       "      <td>USA-17031</td>\n",
       "      <td>Cook</td>\n",
       "      <td>Illinois</td>\n",
       "      <td>0</td>\n",
       "      <td>0.14</td>\n",
       "      <td>0.00</td>\n",
       "      <td>0</td>\n",
       "      <td>0.0</td>\n",
       "      <td>0.0</td>\n",
       "    </tr>\n",
       "    <tr>\n",
       "      <th>7</th>\n",
       "      <td>2020-01-25</td>\n",
       "      <td>USA-06059</td>\n",
       "      <td>Orange</td>\n",
       "      <td>California</td>\n",
       "      <td>1</td>\n",
       "      <td>0.14</td>\n",
       "      <td>0.00</td>\n",
       "      <td>0</td>\n",
       "      <td>0.0</td>\n",
       "      <td>0.0</td>\n",
       "    </tr>\n",
       "    <tr>\n",
       "      <th>8</th>\n",
       "      <td>2020-01-26</td>\n",
       "      <td>USA-53061</td>\n",
       "      <td>Snohomish</td>\n",
       "      <td>Washington</td>\n",
       "      <td>0</td>\n",
       "      <td>0.14</td>\n",
       "      <td>0.02</td>\n",
       "      <td>0</td>\n",
       "      <td>0.0</td>\n",
       "      <td>0.0</td>\n",
       "    </tr>\n",
       "    <tr>\n",
       "      <th>9</th>\n",
       "      <td>2020-01-26</td>\n",
       "      <td>USA-17031</td>\n",
       "      <td>Cook</td>\n",
       "      <td>Illinois</td>\n",
       "      <td>0</td>\n",
       "      <td>0.14</td>\n",
       "      <td>0.00</td>\n",
       "      <td>0</td>\n",
       "      <td>0.0</td>\n",
       "      <td>0.0</td>\n",
       "    </tr>\n",
       "    <tr>\n",
       "      <th>10</th>\n",
       "      <td>2020-01-26</td>\n",
       "      <td>USA-06059</td>\n",
       "      <td>Orange</td>\n",
       "      <td>California</td>\n",
       "      <td>0</td>\n",
       "      <td>0.14</td>\n",
       "      <td>0.00</td>\n",
       "      <td>0</td>\n",
       "      <td>0.0</td>\n",
       "      <td>0.0</td>\n",
       "    </tr>\n",
       "    <tr>\n",
       "      <th>11</th>\n",
       "      <td>2020-01-26</td>\n",
       "      <td>USA-06037</td>\n",
       "      <td>Los Angeles</td>\n",
       "      <td>California</td>\n",
       "      <td>1</td>\n",
       "      <td>0.14</td>\n",
       "      <td>0.00</td>\n",
       "      <td>0</td>\n",
       "      <td>0.0</td>\n",
       "      <td>0.0</td>\n",
       "    </tr>\n",
       "    <tr>\n",
       "      <th>12</th>\n",
       "      <td>2020-01-26</td>\n",
       "      <td>USA-04013</td>\n",
       "      <td>Maricopa</td>\n",
       "      <td>Arizona</td>\n",
       "      <td>1</td>\n",
       "      <td>0.14</td>\n",
       "      <td>0.00</td>\n",
       "      <td>0</td>\n",
       "      <td>0.0</td>\n",
       "      <td>0.0</td>\n",
       "    </tr>\n",
       "    <tr>\n",
       "      <th>13</th>\n",
       "      <td>2020-01-27</td>\n",
       "      <td>USA-53061</td>\n",
       "      <td>Snohomish</td>\n",
       "      <td>Washington</td>\n",
       "      <td>0</td>\n",
       "      <td>0.14</td>\n",
       "      <td>0.02</td>\n",
       "      <td>0</td>\n",
       "      <td>0.0</td>\n",
       "      <td>0.0</td>\n",
       "    </tr>\n",
       "    <tr>\n",
       "      <th>14</th>\n",
       "      <td>2020-01-27</td>\n",
       "      <td>USA-17031</td>\n",
       "      <td>Cook</td>\n",
       "      <td>Illinois</td>\n",
       "      <td>0</td>\n",
       "      <td>0.14</td>\n",
       "      <td>0.00</td>\n",
       "      <td>0</td>\n",
       "      <td>0.0</td>\n",
       "      <td>0.0</td>\n",
       "    </tr>\n",
       "  </tbody>\n",
       "</table>\n",
       "</div>"
      ],
      "text/plain": [
       "         date      geoid       county       state  cases  cases_avg  \\\n",
       "0  2020-01-21  USA-53061    Snohomish  Washington      1       0.14   \n",
       "1  2020-01-22  USA-53061    Snohomish  Washington      0       0.14   \n",
       "2  2020-01-23  USA-53061    Snohomish  Washington      0       0.14   \n",
       "3  2020-01-24  USA-53061    Snohomish  Washington      0       0.14   \n",
       "4  2020-01-24  USA-17031         Cook    Illinois      1       0.14   \n",
       "5  2020-01-25  USA-53061    Snohomish  Washington      0       0.14   \n",
       "6  2020-01-25  USA-17031         Cook    Illinois      0       0.14   \n",
       "7  2020-01-25  USA-06059       Orange  California      1       0.14   \n",
       "8  2020-01-26  USA-53061    Snohomish  Washington      0       0.14   \n",
       "9  2020-01-26  USA-17031         Cook    Illinois      0       0.14   \n",
       "10 2020-01-26  USA-06059       Orange  California      0       0.14   \n",
       "11 2020-01-26  USA-06037  Los Angeles  California      1       0.14   \n",
       "12 2020-01-26  USA-04013     Maricopa     Arizona      1       0.14   \n",
       "13 2020-01-27  USA-53061    Snohomish  Washington      0       0.14   \n",
       "14 2020-01-27  USA-17031         Cook    Illinois      0       0.14   \n",
       "\n",
       "    cases_avg_per_100k  deaths  deaths_avg  deaths_avg_per_100k  \n",
       "0                 0.02       0         0.0                  0.0  \n",
       "1                 0.02       0         0.0                  0.0  \n",
       "2                 0.02       0         0.0                  0.0  \n",
       "3                 0.02       0         0.0                  0.0  \n",
       "4                 0.00       0         0.0                  0.0  \n",
       "5                 0.02       0         0.0                  0.0  \n",
       "6                 0.00       0         0.0                  0.0  \n",
       "7                 0.00       0         0.0                  0.0  \n",
       "8                 0.02       0         0.0                  0.0  \n",
       "9                 0.00       0         0.0                  0.0  \n",
       "10                0.00       0         0.0                  0.0  \n",
       "11                0.00       0         0.0                  0.0  \n",
       "12                0.00       0         0.0                  0.0  \n",
       "13                0.02       0         0.0                  0.0  \n",
       "14                0.00       0         0.0                  0.0  "
      ]
     },
     "execution_count": 5,
     "metadata": {},
     "output_type": "execute_result"
    }
   ],
   "source": [
    "df_counties_2020 = pd.read_csv('RawData/us-counties-2020.csv',parse_dates=['date'])\n",
    "df_counties_2020.head(15)"
   ]
  },
  {
   "cell_type": "markdown",
   "id": "c91828d8",
   "metadata": {},
   "source": [
    "### Counties 2021"
   ]
  },
  {
   "cell_type": "code",
   "execution_count": 6,
   "id": "da2c2d8e",
   "metadata": {},
   "outputs": [
    {
     "data": {
      "text/html": [
       "<div>\n",
       "<style scoped>\n",
       "    .dataframe tbody tr th:only-of-type {\n",
       "        vertical-align: middle;\n",
       "    }\n",
       "\n",
       "    .dataframe tbody tr th {\n",
       "        vertical-align: top;\n",
       "    }\n",
       "\n",
       "    .dataframe thead th {\n",
       "        text-align: right;\n",
       "    }\n",
       "</style>\n",
       "<table border=\"1\" class=\"dataframe\">\n",
       "  <thead>\n",
       "    <tr style=\"text-align: right;\">\n",
       "      <th></th>\n",
       "      <th>date</th>\n",
       "      <th>geoid</th>\n",
       "      <th>county</th>\n",
       "      <th>state</th>\n",
       "      <th>cases</th>\n",
       "      <th>cases_avg</th>\n",
       "      <th>cases_avg_per_100k</th>\n",
       "      <th>deaths</th>\n",
       "      <th>deaths_avg</th>\n",
       "      <th>deaths_avg_per_100k</th>\n",
       "    </tr>\n",
       "  </thead>\n",
       "  <tbody>\n",
       "    <tr>\n",
       "      <th>0</th>\n",
       "      <td>2021-01-01</td>\n",
       "      <td>USA-72999</td>\n",
       "      <td>Unknown</td>\n",
       "      <td>Puerto Rico</td>\n",
       "      <td>-17</td>\n",
       "      <td>35.29</td>\n",
       "      <td>NaN</td>\n",
       "      <td>0</td>\n",
       "      <td>0.0</td>\n",
       "      <td>NaN</td>\n",
       "    </tr>\n",
       "    <tr>\n",
       "      <th>1</th>\n",
       "      <td>2021-01-01</td>\n",
       "      <td>USA-72153</td>\n",
       "      <td>Yauco</td>\n",
       "      <td>Puerto Rico</td>\n",
       "      <td>4</td>\n",
       "      <td>3.00</td>\n",
       "      <td>8.86</td>\n",
       "      <td>0</td>\n",
       "      <td>0.0</td>\n",
       "      <td>0.0</td>\n",
       "    </tr>\n",
       "    <tr>\n",
       "      <th>2</th>\n",
       "      <td>2021-01-01</td>\n",
       "      <td>USA-72151</td>\n",
       "      <td>Yabucoa</td>\n",
       "      <td>Puerto Rico</td>\n",
       "      <td>10</td>\n",
       "      <td>7.29</td>\n",
       "      <td>22.66</td>\n",
       "      <td>0</td>\n",
       "      <td>0.0</td>\n",
       "      <td>0.0</td>\n",
       "    </tr>\n",
       "    <tr>\n",
       "      <th>3</th>\n",
       "      <td>2021-01-01</td>\n",
       "      <td>USA-72149</td>\n",
       "      <td>Villalba</td>\n",
       "      <td>Puerto Rico</td>\n",
       "      <td>8</td>\n",
       "      <td>2.43</td>\n",
       "      <td>11.31</td>\n",
       "      <td>0</td>\n",
       "      <td>0.0</td>\n",
       "      <td>0.0</td>\n",
       "    </tr>\n",
       "    <tr>\n",
       "      <th>4</th>\n",
       "      <td>2021-01-01</td>\n",
       "      <td>USA-72147</td>\n",
       "      <td>Vieques</td>\n",
       "      <td>Puerto Rico</td>\n",
       "      <td>0</td>\n",
       "      <td>1.00</td>\n",
       "      <td>11.96</td>\n",
       "      <td>0</td>\n",
       "      <td>0.0</td>\n",
       "      <td>0.0</td>\n",
       "    </tr>\n",
       "    <tr>\n",
       "      <th>5</th>\n",
       "      <td>2021-01-01</td>\n",
       "      <td>USA-72145</td>\n",
       "      <td>Vega Baja</td>\n",
       "      <td>Puerto Rico</td>\n",
       "      <td>23</td>\n",
       "      <td>14.43</td>\n",
       "      <td>28.75</td>\n",
       "      <td>0</td>\n",
       "      <td>0.0</td>\n",
       "      <td>0.0</td>\n",
       "    </tr>\n",
       "    <tr>\n",
       "      <th>6</th>\n",
       "      <td>2021-01-01</td>\n",
       "      <td>USA-72143</td>\n",
       "      <td>Vega Alta</td>\n",
       "      <td>Puerto Rico</td>\n",
       "      <td>11</td>\n",
       "      <td>6.86</td>\n",
       "      <td>19.15</td>\n",
       "      <td>0</td>\n",
       "      <td>0.0</td>\n",
       "      <td>0.0</td>\n",
       "    </tr>\n",
       "    <tr>\n",
       "      <th>7</th>\n",
       "      <td>2021-01-01</td>\n",
       "      <td>USA-72141</td>\n",
       "      <td>Utuado</td>\n",
       "      <td>Puerto Rico</td>\n",
       "      <td>5</td>\n",
       "      <td>5.13</td>\n",
       "      <td>18.61</td>\n",
       "      <td>0</td>\n",
       "      <td>0.0</td>\n",
       "      <td>0.0</td>\n",
       "    </tr>\n",
       "    <tr>\n",
       "      <th>8</th>\n",
       "      <td>2021-01-01</td>\n",
       "      <td>USA-72139</td>\n",
       "      <td>Trujillo Alto</td>\n",
       "      <td>Puerto Rico</td>\n",
       "      <td>22</td>\n",
       "      <td>13.57</td>\n",
       "      <td>21.29</td>\n",
       "      <td>0</td>\n",
       "      <td>0.0</td>\n",
       "      <td>0.0</td>\n",
       "    </tr>\n",
       "    <tr>\n",
       "      <th>9</th>\n",
       "      <td>2021-01-01</td>\n",
       "      <td>USA-72137</td>\n",
       "      <td>Toa Baja</td>\n",
       "      <td>Puerto Rico</td>\n",
       "      <td>14</td>\n",
       "      <td>13.57</td>\n",
       "      <td>18.19</td>\n",
       "      <td>0</td>\n",
       "      <td>0.0</td>\n",
       "      <td>0.0</td>\n",
       "    </tr>\n",
       "    <tr>\n",
       "      <th>10</th>\n",
       "      <td>2021-01-01</td>\n",
       "      <td>USA-72135</td>\n",
       "      <td>Toa Alta</td>\n",
       "      <td>Puerto Rico</td>\n",
       "      <td>16</td>\n",
       "      <td>15.14</td>\n",
       "      <td>21.30</td>\n",
       "      <td>0</td>\n",
       "      <td>0.0</td>\n",
       "      <td>0.0</td>\n",
       "    </tr>\n",
       "    <tr>\n",
       "      <th>11</th>\n",
       "      <td>2021-01-01</td>\n",
       "      <td>USA-72133</td>\n",
       "      <td>Santa Isabel</td>\n",
       "      <td>Puerto Rico</td>\n",
       "      <td>4</td>\n",
       "      <td>1.71</td>\n",
       "      <td>8.15</td>\n",
       "      <td>0</td>\n",
       "      <td>0.0</td>\n",
       "      <td>0.0</td>\n",
       "    </tr>\n",
       "    <tr>\n",
       "      <th>12</th>\n",
       "      <td>2021-01-01</td>\n",
       "      <td>USA-72131</td>\n",
       "      <td>San Sebastian</td>\n",
       "      <td>Puerto Rico</td>\n",
       "      <td>6</td>\n",
       "      <td>10.71</td>\n",
       "      <td>30.05</td>\n",
       "      <td>0</td>\n",
       "      <td>0.0</td>\n",
       "      <td>0.0</td>\n",
       "    </tr>\n",
       "    <tr>\n",
       "      <th>13</th>\n",
       "      <td>2021-01-01</td>\n",
       "      <td>USA-72129</td>\n",
       "      <td>San Lorenzo</td>\n",
       "      <td>Puerto Rico</td>\n",
       "      <td>21</td>\n",
       "      <td>19.43</td>\n",
       "      <td>54.12</td>\n",
       "      <td>0</td>\n",
       "      <td>0.0</td>\n",
       "      <td>0.0</td>\n",
       "    </tr>\n",
       "    <tr>\n",
       "      <th>14</th>\n",
       "      <td>2021-01-01</td>\n",
       "      <td>USA-72127</td>\n",
       "      <td>San Juan</td>\n",
       "      <td>Puerto Rico</td>\n",
       "      <td>74</td>\n",
       "      <td>73.14</td>\n",
       "      <td>22.79</td>\n",
       "      <td>0</td>\n",
       "      <td>0.0</td>\n",
       "      <td>0.0</td>\n",
       "    </tr>\n",
       "  </tbody>\n",
       "</table>\n",
       "</div>"
      ],
      "text/plain": [
       "         date      geoid         county        state  cases  cases_avg  \\\n",
       "0  2021-01-01  USA-72999        Unknown  Puerto Rico    -17      35.29   \n",
       "1  2021-01-01  USA-72153          Yauco  Puerto Rico      4       3.00   \n",
       "2  2021-01-01  USA-72151        Yabucoa  Puerto Rico     10       7.29   \n",
       "3  2021-01-01  USA-72149       Villalba  Puerto Rico      8       2.43   \n",
       "4  2021-01-01  USA-72147        Vieques  Puerto Rico      0       1.00   \n",
       "5  2021-01-01  USA-72145      Vega Baja  Puerto Rico     23      14.43   \n",
       "6  2021-01-01  USA-72143      Vega Alta  Puerto Rico     11       6.86   \n",
       "7  2021-01-01  USA-72141         Utuado  Puerto Rico      5       5.13   \n",
       "8  2021-01-01  USA-72139  Trujillo Alto  Puerto Rico     22      13.57   \n",
       "9  2021-01-01  USA-72137       Toa Baja  Puerto Rico     14      13.57   \n",
       "10 2021-01-01  USA-72135       Toa Alta  Puerto Rico     16      15.14   \n",
       "11 2021-01-01  USA-72133   Santa Isabel  Puerto Rico      4       1.71   \n",
       "12 2021-01-01  USA-72131  San Sebastian  Puerto Rico      6      10.71   \n",
       "13 2021-01-01  USA-72129    San Lorenzo  Puerto Rico     21      19.43   \n",
       "14 2021-01-01  USA-72127       San Juan  Puerto Rico     74      73.14   \n",
       "\n",
       "    cases_avg_per_100k  deaths  deaths_avg  deaths_avg_per_100k  \n",
       "0                  NaN       0         0.0                  NaN  \n",
       "1                 8.86       0         0.0                  0.0  \n",
       "2                22.66       0         0.0                  0.0  \n",
       "3                11.31       0         0.0                  0.0  \n",
       "4                11.96       0         0.0                  0.0  \n",
       "5                28.75       0         0.0                  0.0  \n",
       "6                19.15       0         0.0                  0.0  \n",
       "7                18.61       0         0.0                  0.0  \n",
       "8                21.29       0         0.0                  0.0  \n",
       "9                18.19       0         0.0                  0.0  \n",
       "10               21.30       0         0.0                  0.0  \n",
       "11                8.15       0         0.0                  0.0  \n",
       "12               30.05       0         0.0                  0.0  \n",
       "13               54.12       0         0.0                  0.0  \n",
       "14               22.79       0         0.0                  0.0  "
      ]
     },
     "execution_count": 6,
     "metadata": {},
     "output_type": "execute_result"
    }
   ],
   "source": [
    "df_counties_2021 = pd.read_csv('RawData/us-counties-2021.csv',parse_dates=['date'])\n",
    "df_counties_2021.head(15)"
   ]
  },
  {
   "cell_type": "markdown",
   "id": "c78924bc",
   "metadata": {},
   "source": [
    "### Counties 2022"
   ]
  },
  {
   "cell_type": "code",
   "execution_count": 7,
   "id": "a362dbc6",
   "metadata": {},
   "outputs": [
    {
     "data": {
      "text/html": [
       "<div>\n",
       "<style scoped>\n",
       "    .dataframe tbody tr th:only-of-type {\n",
       "        vertical-align: middle;\n",
       "    }\n",
       "\n",
       "    .dataframe tbody tr th {\n",
       "        vertical-align: top;\n",
       "    }\n",
       "\n",
       "    .dataframe thead th {\n",
       "        text-align: right;\n",
       "    }\n",
       "</style>\n",
       "<table border=\"1\" class=\"dataframe\">\n",
       "  <thead>\n",
       "    <tr style=\"text-align: right;\">\n",
       "      <th></th>\n",
       "      <th>date</th>\n",
       "      <th>geoid</th>\n",
       "      <th>county</th>\n",
       "      <th>state</th>\n",
       "      <th>cases</th>\n",
       "      <th>cases_avg</th>\n",
       "      <th>cases_avg_per_100k</th>\n",
       "      <th>deaths</th>\n",
       "      <th>deaths_avg</th>\n",
       "      <th>deaths_avg_per_100k</th>\n",
       "    </tr>\n",
       "  </thead>\n",
       "  <tbody>\n",
       "    <tr>\n",
       "      <th>0</th>\n",
       "      <td>2022-01-01</td>\n",
       "      <td>USA-72999</td>\n",
       "      <td>Unknown</td>\n",
       "      <td>Puerto Rico</td>\n",
       "      <td>0</td>\n",
       "      <td>328.14</td>\n",
       "      <td>NaN</td>\n",
       "      <td>0</td>\n",
       "      <td>0.0</td>\n",
       "      <td>NaN</td>\n",
       "    </tr>\n",
       "    <tr>\n",
       "      <th>1</th>\n",
       "      <td>2022-01-01</td>\n",
       "      <td>USA-72153</td>\n",
       "      <td>Yauco</td>\n",
       "      <td>Puerto Rico</td>\n",
       "      <td>0</td>\n",
       "      <td>66.50</td>\n",
       "      <td>196.40</td>\n",
       "      <td>0</td>\n",
       "      <td>0.0</td>\n",
       "      <td>0.0</td>\n",
       "    </tr>\n",
       "    <tr>\n",
       "      <th>2</th>\n",
       "      <td>2022-01-01</td>\n",
       "      <td>USA-72151</td>\n",
       "      <td>Yabucoa</td>\n",
       "      <td>Puerto Rico</td>\n",
       "      <td>0</td>\n",
       "      <td>63.13</td>\n",
       "      <td>196.30</td>\n",
       "      <td>0</td>\n",
       "      <td>0.0</td>\n",
       "      <td>0.0</td>\n",
       "    </tr>\n",
       "    <tr>\n",
       "      <th>3</th>\n",
       "      <td>2022-01-01</td>\n",
       "      <td>USA-72149</td>\n",
       "      <td>Villalba</td>\n",
       "      <td>Puerto Rico</td>\n",
       "      <td>0</td>\n",
       "      <td>47.50</td>\n",
       "      <td>221.18</td>\n",
       "      <td>0</td>\n",
       "      <td>0.0</td>\n",
       "      <td>0.0</td>\n",
       "    </tr>\n",
       "    <tr>\n",
       "      <th>4</th>\n",
       "      <td>2022-01-01</td>\n",
       "      <td>USA-72147</td>\n",
       "      <td>Vieques</td>\n",
       "      <td>Puerto Rico</td>\n",
       "      <td>0</td>\n",
       "      <td>7.63</td>\n",
       "      <td>91.16</td>\n",
       "      <td>0</td>\n",
       "      <td>0.0</td>\n",
       "      <td>0.0</td>\n",
       "    </tr>\n",
       "    <tr>\n",
       "      <th>5</th>\n",
       "      <td>2022-01-01</td>\n",
       "      <td>USA-72145</td>\n",
       "      <td>Vega Baja</td>\n",
       "      <td>Puerto Rico</td>\n",
       "      <td>0</td>\n",
       "      <td>152.50</td>\n",
       "      <td>303.88</td>\n",
       "      <td>0</td>\n",
       "      <td>0.0</td>\n",
       "      <td>0.0</td>\n",
       "    </tr>\n",
       "    <tr>\n",
       "      <th>6</th>\n",
       "      <td>2022-01-01</td>\n",
       "      <td>USA-72143</td>\n",
       "      <td>Vega Alta</td>\n",
       "      <td>Puerto Rico</td>\n",
       "      <td>0</td>\n",
       "      <td>70.50</td>\n",
       "      <td>196.89</td>\n",
       "      <td>0</td>\n",
       "      <td>0.0</td>\n",
       "      <td>0.0</td>\n",
       "    </tr>\n",
       "    <tr>\n",
       "      <th>7</th>\n",
       "      <td>2022-01-01</td>\n",
       "      <td>USA-72141</td>\n",
       "      <td>Utuado</td>\n",
       "      <td>Puerto Rico</td>\n",
       "      <td>0</td>\n",
       "      <td>26.63</td>\n",
       "      <td>96.66</td>\n",
       "      <td>0</td>\n",
       "      <td>0.0</td>\n",
       "      <td>0.0</td>\n",
       "    </tr>\n",
       "    <tr>\n",
       "      <th>8</th>\n",
       "      <td>2022-01-01</td>\n",
       "      <td>USA-72139</td>\n",
       "      <td>Trujillo Alto</td>\n",
       "      <td>Puerto Rico</td>\n",
       "      <td>0</td>\n",
       "      <td>169.75</td>\n",
       "      <td>266.29</td>\n",
       "      <td>0</td>\n",
       "      <td>0.0</td>\n",
       "      <td>0.0</td>\n",
       "    </tr>\n",
       "    <tr>\n",
       "      <th>9</th>\n",
       "      <td>2022-01-01</td>\n",
       "      <td>USA-72137</td>\n",
       "      <td>Toa Baja</td>\n",
       "      <td>Puerto Rico</td>\n",
       "      <td>0</td>\n",
       "      <td>185.50</td>\n",
       "      <td>248.58</td>\n",
       "      <td>0</td>\n",
       "      <td>0.0</td>\n",
       "      <td>0.0</td>\n",
       "    </tr>\n",
       "    <tr>\n",
       "      <th>10</th>\n",
       "      <td>2022-01-01</td>\n",
       "      <td>USA-72135</td>\n",
       "      <td>Toa Alta</td>\n",
       "      <td>Puerto Rico</td>\n",
       "      <td>0</td>\n",
       "      <td>187.88</td>\n",
       "      <td>264.26</td>\n",
       "      <td>0</td>\n",
       "      <td>0.0</td>\n",
       "      <td>0.0</td>\n",
       "    </tr>\n",
       "    <tr>\n",
       "      <th>11</th>\n",
       "      <td>2022-01-01</td>\n",
       "      <td>USA-72133</td>\n",
       "      <td>Santa Isabel</td>\n",
       "      <td>Puerto Rico</td>\n",
       "      <td>0</td>\n",
       "      <td>44.00</td>\n",
       "      <td>209.16</td>\n",
       "      <td>0</td>\n",
       "      <td>0.0</td>\n",
       "      <td>0.0</td>\n",
       "    </tr>\n",
       "    <tr>\n",
       "      <th>12</th>\n",
       "      <td>2022-01-01</td>\n",
       "      <td>USA-72131</td>\n",
       "      <td>San Sebastian</td>\n",
       "      <td>Puerto Rico</td>\n",
       "      <td>0</td>\n",
       "      <td>103.38</td>\n",
       "      <td>289.96</td>\n",
       "      <td>0</td>\n",
       "      <td>0.0</td>\n",
       "      <td>0.0</td>\n",
       "    </tr>\n",
       "    <tr>\n",
       "      <th>13</th>\n",
       "      <td>2022-01-01</td>\n",
       "      <td>USA-72129</td>\n",
       "      <td>San Lorenzo</td>\n",
       "      <td>Puerto Rico</td>\n",
       "      <td>0</td>\n",
       "      <td>76.50</td>\n",
       "      <td>213.09</td>\n",
       "      <td>0</td>\n",
       "      <td>0.0</td>\n",
       "      <td>0.0</td>\n",
       "    </tr>\n",
       "    <tr>\n",
       "      <th>14</th>\n",
       "      <td>2022-01-01</td>\n",
       "      <td>USA-72127</td>\n",
       "      <td>San Juan</td>\n",
       "      <td>Puerto Rico</td>\n",
       "      <td>0</td>\n",
       "      <td>1237.71</td>\n",
       "      <td>385.62</td>\n",
       "      <td>0</td>\n",
       "      <td>0.0</td>\n",
       "      <td>0.0</td>\n",
       "    </tr>\n",
       "  </tbody>\n",
       "</table>\n",
       "</div>"
      ],
      "text/plain": [
       "         date      geoid         county        state  cases  cases_avg  \\\n",
       "0  2022-01-01  USA-72999        Unknown  Puerto Rico      0     328.14   \n",
       "1  2022-01-01  USA-72153          Yauco  Puerto Rico      0      66.50   \n",
       "2  2022-01-01  USA-72151        Yabucoa  Puerto Rico      0      63.13   \n",
       "3  2022-01-01  USA-72149       Villalba  Puerto Rico      0      47.50   \n",
       "4  2022-01-01  USA-72147        Vieques  Puerto Rico      0       7.63   \n",
       "5  2022-01-01  USA-72145      Vega Baja  Puerto Rico      0     152.50   \n",
       "6  2022-01-01  USA-72143      Vega Alta  Puerto Rico      0      70.50   \n",
       "7  2022-01-01  USA-72141         Utuado  Puerto Rico      0      26.63   \n",
       "8  2022-01-01  USA-72139  Trujillo Alto  Puerto Rico      0     169.75   \n",
       "9  2022-01-01  USA-72137       Toa Baja  Puerto Rico      0     185.50   \n",
       "10 2022-01-01  USA-72135       Toa Alta  Puerto Rico      0     187.88   \n",
       "11 2022-01-01  USA-72133   Santa Isabel  Puerto Rico      0      44.00   \n",
       "12 2022-01-01  USA-72131  San Sebastian  Puerto Rico      0     103.38   \n",
       "13 2022-01-01  USA-72129    San Lorenzo  Puerto Rico      0      76.50   \n",
       "14 2022-01-01  USA-72127       San Juan  Puerto Rico      0    1237.71   \n",
       "\n",
       "    cases_avg_per_100k  deaths  deaths_avg  deaths_avg_per_100k  \n",
       "0                  NaN       0         0.0                  NaN  \n",
       "1               196.40       0         0.0                  0.0  \n",
       "2               196.30       0         0.0                  0.0  \n",
       "3               221.18       0         0.0                  0.0  \n",
       "4                91.16       0         0.0                  0.0  \n",
       "5               303.88       0         0.0                  0.0  \n",
       "6               196.89       0         0.0                  0.0  \n",
       "7                96.66       0         0.0                  0.0  \n",
       "8               266.29       0         0.0                  0.0  \n",
       "9               248.58       0         0.0                  0.0  \n",
       "10              264.26       0         0.0                  0.0  \n",
       "11              209.16       0         0.0                  0.0  \n",
       "12              289.96       0         0.0                  0.0  \n",
       "13              213.09       0         0.0                  0.0  \n",
       "14              385.62       0         0.0                  0.0  "
      ]
     },
     "execution_count": 7,
     "metadata": {},
     "output_type": "execute_result"
    }
   ],
   "source": [
    "df_counties_2022 = pd.read_csv('Rawdata/us-counties-2022.csv',parse_dates=['date'])\n",
    "df_counties_2022.head(15)"
   ]
  },
  {
   "cell_type": "markdown",
   "id": "55a937ef",
   "metadata": {},
   "source": [
    "### Merging the counties data"
   ]
  },
  {
   "cell_type": "code",
   "execution_count": 8,
   "id": "a1a61cee",
   "metadata": {},
   "outputs": [
    {
     "data": {
      "text/html": [
       "<div>\n",
       "<style scoped>\n",
       "    .dataframe tbody tr th:only-of-type {\n",
       "        vertical-align: middle;\n",
       "    }\n",
       "\n",
       "    .dataframe tbody tr th {\n",
       "        vertical-align: top;\n",
       "    }\n",
       "\n",
       "    .dataframe thead th {\n",
       "        text-align: right;\n",
       "    }\n",
       "</style>\n",
       "<table border=\"1\" class=\"dataframe\">\n",
       "  <thead>\n",
       "    <tr style=\"text-align: right;\">\n",
       "      <th></th>\n",
       "      <th>date</th>\n",
       "      <th>geoid</th>\n",
       "      <th>county</th>\n",
       "      <th>state</th>\n",
       "      <th>cases</th>\n",
       "      <th>cases_avg</th>\n",
       "      <th>cases_avg_per_100k</th>\n",
       "      <th>deaths</th>\n",
       "      <th>deaths_avg</th>\n",
       "      <th>deaths_avg_per_100k</th>\n",
       "    </tr>\n",
       "  </thead>\n",
       "  <tbody>\n",
       "    <tr>\n",
       "      <th>0</th>\n",
       "      <td>2020-01-21</td>\n",
       "      <td>USA-53061</td>\n",
       "      <td>Snohomish</td>\n",
       "      <td>Washington</td>\n",
       "      <td>1</td>\n",
       "      <td>0.14</td>\n",
       "      <td>0.02</td>\n",
       "      <td>0</td>\n",
       "      <td>0.0</td>\n",
       "      <td>0.0</td>\n",
       "    </tr>\n",
       "    <tr>\n",
       "      <th>1</th>\n",
       "      <td>2020-01-22</td>\n",
       "      <td>USA-53061</td>\n",
       "      <td>Snohomish</td>\n",
       "      <td>Washington</td>\n",
       "      <td>0</td>\n",
       "      <td>0.14</td>\n",
       "      <td>0.02</td>\n",
       "      <td>0</td>\n",
       "      <td>0.0</td>\n",
       "      <td>0.0</td>\n",
       "    </tr>\n",
       "    <tr>\n",
       "      <th>2</th>\n",
       "      <td>2020-01-23</td>\n",
       "      <td>USA-53061</td>\n",
       "      <td>Snohomish</td>\n",
       "      <td>Washington</td>\n",
       "      <td>0</td>\n",
       "      <td>0.14</td>\n",
       "      <td>0.02</td>\n",
       "      <td>0</td>\n",
       "      <td>0.0</td>\n",
       "      <td>0.0</td>\n",
       "    </tr>\n",
       "    <tr>\n",
       "      <th>3</th>\n",
       "      <td>2020-01-24</td>\n",
       "      <td>USA-53061</td>\n",
       "      <td>Snohomish</td>\n",
       "      <td>Washington</td>\n",
       "      <td>0</td>\n",
       "      <td>0.14</td>\n",
       "      <td>0.02</td>\n",
       "      <td>0</td>\n",
       "      <td>0.0</td>\n",
       "      <td>0.0</td>\n",
       "    </tr>\n",
       "    <tr>\n",
       "      <th>4</th>\n",
       "      <td>2020-01-24</td>\n",
       "      <td>USA-17031</td>\n",
       "      <td>Cook</td>\n",
       "      <td>Illinois</td>\n",
       "      <td>1</td>\n",
       "      <td>0.14</td>\n",
       "      <td>0.00</td>\n",
       "      <td>0</td>\n",
       "      <td>0.0</td>\n",
       "      <td>0.0</td>\n",
       "    </tr>\n",
       "    <tr>\n",
       "      <th>5</th>\n",
       "      <td>2020-01-25</td>\n",
       "      <td>USA-53061</td>\n",
       "      <td>Snohomish</td>\n",
       "      <td>Washington</td>\n",
       "      <td>0</td>\n",
       "      <td>0.14</td>\n",
       "      <td>0.02</td>\n",
       "      <td>0</td>\n",
       "      <td>0.0</td>\n",
       "      <td>0.0</td>\n",
       "    </tr>\n",
       "    <tr>\n",
       "      <th>6</th>\n",
       "      <td>2020-01-25</td>\n",
       "      <td>USA-17031</td>\n",
       "      <td>Cook</td>\n",
       "      <td>Illinois</td>\n",
       "      <td>0</td>\n",
       "      <td>0.14</td>\n",
       "      <td>0.00</td>\n",
       "      <td>0</td>\n",
       "      <td>0.0</td>\n",
       "      <td>0.0</td>\n",
       "    </tr>\n",
       "    <tr>\n",
       "      <th>7</th>\n",
       "      <td>2020-01-25</td>\n",
       "      <td>USA-06059</td>\n",
       "      <td>Orange</td>\n",
       "      <td>California</td>\n",
       "      <td>1</td>\n",
       "      <td>0.14</td>\n",
       "      <td>0.00</td>\n",
       "      <td>0</td>\n",
       "      <td>0.0</td>\n",
       "      <td>0.0</td>\n",
       "    </tr>\n",
       "    <tr>\n",
       "      <th>8</th>\n",
       "      <td>2020-01-26</td>\n",
       "      <td>USA-53061</td>\n",
       "      <td>Snohomish</td>\n",
       "      <td>Washington</td>\n",
       "      <td>0</td>\n",
       "      <td>0.14</td>\n",
       "      <td>0.02</td>\n",
       "      <td>0</td>\n",
       "      <td>0.0</td>\n",
       "      <td>0.0</td>\n",
       "    </tr>\n",
       "    <tr>\n",
       "      <th>9</th>\n",
       "      <td>2020-01-26</td>\n",
       "      <td>USA-17031</td>\n",
       "      <td>Cook</td>\n",
       "      <td>Illinois</td>\n",
       "      <td>0</td>\n",
       "      <td>0.14</td>\n",
       "      <td>0.00</td>\n",
       "      <td>0</td>\n",
       "      <td>0.0</td>\n",
       "      <td>0.0</td>\n",
       "    </tr>\n",
       "    <tr>\n",
       "      <th>10</th>\n",
       "      <td>2020-01-26</td>\n",
       "      <td>USA-06059</td>\n",
       "      <td>Orange</td>\n",
       "      <td>California</td>\n",
       "      <td>0</td>\n",
       "      <td>0.14</td>\n",
       "      <td>0.00</td>\n",
       "      <td>0</td>\n",
       "      <td>0.0</td>\n",
       "      <td>0.0</td>\n",
       "    </tr>\n",
       "    <tr>\n",
       "      <th>11</th>\n",
       "      <td>2020-01-26</td>\n",
       "      <td>USA-06037</td>\n",
       "      <td>Los Angeles</td>\n",
       "      <td>California</td>\n",
       "      <td>1</td>\n",
       "      <td>0.14</td>\n",
       "      <td>0.00</td>\n",
       "      <td>0</td>\n",
       "      <td>0.0</td>\n",
       "      <td>0.0</td>\n",
       "    </tr>\n",
       "    <tr>\n",
       "      <th>12</th>\n",
       "      <td>2020-01-26</td>\n",
       "      <td>USA-04013</td>\n",
       "      <td>Maricopa</td>\n",
       "      <td>Arizona</td>\n",
       "      <td>1</td>\n",
       "      <td>0.14</td>\n",
       "      <td>0.00</td>\n",
       "      <td>0</td>\n",
       "      <td>0.0</td>\n",
       "      <td>0.0</td>\n",
       "    </tr>\n",
       "    <tr>\n",
       "      <th>13</th>\n",
       "      <td>2020-01-27</td>\n",
       "      <td>USA-53061</td>\n",
       "      <td>Snohomish</td>\n",
       "      <td>Washington</td>\n",
       "      <td>0</td>\n",
       "      <td>0.14</td>\n",
       "      <td>0.02</td>\n",
       "      <td>0</td>\n",
       "      <td>0.0</td>\n",
       "      <td>0.0</td>\n",
       "    </tr>\n",
       "    <tr>\n",
       "      <th>14</th>\n",
       "      <td>2020-01-27</td>\n",
       "      <td>USA-17031</td>\n",
       "      <td>Cook</td>\n",
       "      <td>Illinois</td>\n",
       "      <td>0</td>\n",
       "      <td>0.14</td>\n",
       "      <td>0.00</td>\n",
       "      <td>0</td>\n",
       "      <td>0.0</td>\n",
       "      <td>0.0</td>\n",
       "    </tr>\n",
       "  </tbody>\n",
       "</table>\n",
       "</div>"
      ],
      "text/plain": [
       "         date      geoid       county       state  cases  cases_avg  \\\n",
       "0  2020-01-21  USA-53061    Snohomish  Washington      1       0.14   \n",
       "1  2020-01-22  USA-53061    Snohomish  Washington      0       0.14   \n",
       "2  2020-01-23  USA-53061    Snohomish  Washington      0       0.14   \n",
       "3  2020-01-24  USA-53061    Snohomish  Washington      0       0.14   \n",
       "4  2020-01-24  USA-17031         Cook    Illinois      1       0.14   \n",
       "5  2020-01-25  USA-53061    Snohomish  Washington      0       0.14   \n",
       "6  2020-01-25  USA-17031         Cook    Illinois      0       0.14   \n",
       "7  2020-01-25  USA-06059       Orange  California      1       0.14   \n",
       "8  2020-01-26  USA-53061    Snohomish  Washington      0       0.14   \n",
       "9  2020-01-26  USA-17031         Cook    Illinois      0       0.14   \n",
       "10 2020-01-26  USA-06059       Orange  California      0       0.14   \n",
       "11 2020-01-26  USA-06037  Los Angeles  California      1       0.14   \n",
       "12 2020-01-26  USA-04013     Maricopa     Arizona      1       0.14   \n",
       "13 2020-01-27  USA-53061    Snohomish  Washington      0       0.14   \n",
       "14 2020-01-27  USA-17031         Cook    Illinois      0       0.14   \n",
       "\n",
       "    cases_avg_per_100k  deaths  deaths_avg  deaths_avg_per_100k  \n",
       "0                 0.02       0         0.0                  0.0  \n",
       "1                 0.02       0         0.0                  0.0  \n",
       "2                 0.02       0         0.0                  0.0  \n",
       "3                 0.02       0         0.0                  0.0  \n",
       "4                 0.00       0         0.0                  0.0  \n",
       "5                 0.02       0         0.0                  0.0  \n",
       "6                 0.00       0         0.0                  0.0  \n",
       "7                 0.00       0         0.0                  0.0  \n",
       "8                 0.02       0         0.0                  0.0  \n",
       "9                 0.00       0         0.0                  0.0  \n",
       "10                0.00       0         0.0                  0.0  \n",
       "11                0.00       0         0.0                  0.0  \n",
       "12                0.00       0         0.0                  0.0  \n",
       "13                0.02       0         0.0                  0.0  \n",
       "14                0.00       0         0.0                  0.0  "
      ]
     },
     "execution_count": 8,
     "metadata": {},
     "output_type": "execute_result"
    }
   ],
   "source": [
    "df_counties=pd.concat([df_counties_2020, df_counties_2021,df_counties_2022],ignore_index=True)\n",
    "df_counties.head(15)"
   ]
  },
  {
   "cell_type": "markdown",
   "id": "bd2856c4",
   "metadata": {},
   "source": [
    "### Data preparation"
   ]
  },
  {
   "cell_type": "code",
   "execution_count": 9,
   "id": "075ea368",
   "metadata": {},
   "outputs": [],
   "source": [
    "df_counties = df_counties[df_counties.county != \"Unknown\"]\n",
    "df_counties['fips']=df_counties['geoid'].str[-5:]"
   ]
  },
  {
   "cell_type": "code",
   "execution_count": 10,
   "id": "2976bde1",
   "metadata": {},
   "outputs": [
    {
     "data": {
      "text/plain": [
       "date                   0\n",
       "geoid                  0\n",
       "county                 0\n",
       "state                  0\n",
       "cases                  0\n",
       "cases_avg              0\n",
       "cases_avg_per_100k     0\n",
       "deaths                 0\n",
       "deaths_avg             0\n",
       "deaths_avg_per_100k    0\n",
       "fips                   0\n",
       "dtype: int64"
      ]
     },
     "execution_count": 10,
     "metadata": {},
     "output_type": "execute_result"
    }
   ],
   "source": [
    "df_counties.isna().sum()"
   ]
  },
  {
   "cell_type": "markdown",
   "id": "1fd0ab28",
   "metadata": {},
   "source": [
    "# Prepare neo4j datafiles"
   ]
  },
  {
   "cell_type": "markdown",
   "id": "9dfbbd5e",
   "metadata": {},
   "source": [
    "## Preparing graph based on correlations"
   ]
  },
  {
   "cell_type": "markdown",
   "id": "d56042c8",
   "metadata": {},
   "source": [
    "We can try to study Covid 19 in the US as nodes and edges. The nodes are defined as the different states. The edges reflect whether the evolution of Covid 19 over time (starting from 2020-01-21 until 2022-04-11) is similar in the different states. Therefore, the rolling averages of the number of cases and number of deaths reported whitin the last 7 days are used. A correlation matrix is made to investigate whether the states are similar or not."
   ]
  },
  {
   "cell_type": "markdown",
   "id": "160eb8f7",
   "metadata": {},
   "source": [
    "### Cases whole period"
   ]
  },
  {
   "cell_type": "markdown",
   "id": "3a765864",
   "metadata": {},
   "source": [
    "A graph is made based on correlations for the whole period. A csv file is made containing the nodes and edges and is stored into the folder Data_input_neo4j"
   ]
  },
  {
   "cell_type": "code",
   "execution_count": 11,
   "id": "05f9cd42",
   "metadata": {},
   "outputs": [],
   "source": [
    "list_cases=[\"cases\",\"cases_avg\"]"
   ]
  },
  {
   "cell_type": "code",
   "execution_count": 12,
   "id": "2b766d1b",
   "metadata": {},
   "outputs": [
    {
     "name": "stdout",
     "output_type": "stream",
     "text": [
      "Makes nodes and edges based on the correlations between timeseries for each state\n"
     ]
    }
   ],
   "source": [
    "make_graph=correlation_graph.my_graph(df_counties,\"whole_period\",list_cases)\n",
    "print(make_graph)"
   ]
  },
  {
   "cell_type": "code",
   "execution_count": 13,
   "id": "eae1b55f",
   "metadata": {},
   "outputs": [],
   "source": [
    "make_graph.fit_transform()"
   ]
  },
  {
   "cell_type": "markdown",
   "id": "d4f1e76d",
   "metadata": {},
   "source": [
    "### Cases specific periods"
   ]
  },
  {
   "cell_type": "markdown",
   "id": "4e7e84bb",
   "metadata": {},
   "source": [
    "Now, we can also make graphs for specific periods. The nodes are still the same, only the edges change. Therefore, the nodes file does not have to be recomputed. A csv file is made for the edges of every period and stored into the folder Data_input_neo4j."
   ]
  },
  {
   "cell_type": "code",
   "execution_count": 14,
   "id": "5f681f2c",
   "metadata": {},
   "outputs": [],
   "source": [
    "period_1= [datetime(2020, 1, 21),datetime(2020,6,20)]\n",
    "period_2=[datetime(2020, 6, 21),datetime(2020,12,20)]\n",
    "period_3=[datetime(2020, 12, 21),datetime(2021,6,20)]\n",
    "period_4=[datetime(2021, 6, 21),datetime(2021,12,20)]\n",
    "period_5=[datetime(2021, 12, 21),datetime(2022,4,11)]\n",
    "period=[period_1,period_2,period_3,period_4,period_5]"
   ]
  },
  {
   "cell_type": "code",
   "execution_count": 15,
   "id": "249ba760",
   "metadata": {},
   "outputs": [],
   "source": [
    "for a in range(5):\n",
    "    df_date=df_counties[(period[a][0]<=df_counties['date'])&(df_counties['date']<=period[a][1])]\n",
    "    make_graph_date=correlation_graph.my_graph(df_date,period[a][0].strftime(\"%b%Y\"),list_cases)\n",
    "    make_graph_date.fit_transform()"
   ]
  },
  {
   "cell_type": "markdown",
   "id": "1fffe489",
   "metadata": {},
   "source": [
    "### Deaths whole period"
   ]
  },
  {
   "cell_type": "markdown",
   "id": "5a158024",
   "metadata": {},
   "source": [
    "A graph is made based on correlations for the whole period. A csv file is made containing the nodes and edges and is stored into the folder Data_input_neo4j"
   ]
  },
  {
   "cell_type": "code",
   "execution_count": 16,
   "id": "326cc232",
   "metadata": {},
   "outputs": [],
   "source": [
    "list_deaths=[\"deaths\",\"deaths_avg\"]"
   ]
  },
  {
   "cell_type": "code",
   "execution_count": 17,
   "id": "136c4405",
   "metadata": {},
   "outputs": [],
   "source": [
    "make_graph=correlation_graph.my_graph(df_counties,\"whole_period\",list_deaths)\n",
    "make_graph.fit_transform()"
   ]
  },
  {
   "cell_type": "markdown",
   "id": "45119842",
   "metadata": {},
   "source": [
    "### Deaths specific periods"
   ]
  },
  {
   "cell_type": "markdown",
   "id": "cc93cbc3",
   "metadata": {},
   "source": [
    "Now, we can also make graphs for specific periods. The nodes are still the same, only the edges change. Therefore, the nodes file does not have to be recomputed. A csv file is made for the edges of every period and stored into the folder Data_input_neo4j."
   ]
  },
  {
   "cell_type": "code",
   "execution_count": 18,
   "id": "893a8c3d",
   "metadata": {},
   "outputs": [],
   "source": [
    "for a in range(5):\n",
    "    df_date=df_counties[(period[a][0]<=df_counties['date'])&(df_counties['date']<=period[a][1])]\n",
    "    make_graph_date=correlation_graph.my_graph(df_date,period[a][0].strftime(\"%b%Y\"),list_deaths)\n",
    "    make_graph_date.fit_transform()"
   ]
  },
  {
   "cell_type": "markdown",
   "id": "cd72a572",
   "metadata": {},
   "source": [
    "# Graph algorithms correlation graph"
   ]
  },
  {
   "cell_type": "markdown",
   "id": "e0d1f51a",
   "metadata": {},
   "source": [
    "Connecting to the database and make sure it is empty. Furthermore, make sure that all datafiles that are in the folder Data_input_neo4j are copied into the input folder of your database."
   ]
  },
  {
   "cell_type": "code",
   "execution_count": 19,
   "id": "1b8d19f4",
   "metadata": {},
   "outputs": [],
   "source": [
    "graph = Graph(password= \"xxx\")"
   ]
  },
  {
   "cell_type": "code",
   "execution_count": 20,
   "id": "edc5987d",
   "metadata": {},
   "outputs": [],
   "source": [
    "com=correlation_graph.my_algorithms(graph)"
   ]
  },
  {
   "cell_type": "markdown",
   "id": "866ad82e",
   "metadata": {},
   "source": [
    "## Cases whole period"
   ]
  },
  {
   "cell_type": "code",
   "execution_count": 21,
   "id": "3ebda94f",
   "metadata": {},
   "outputs": [],
   "source": [
    "df_cases=com.fit_community(\"file:///nodes_states_cases.csv\",\"file:///correlation_states_cases_whole_period.csv\")\n",
    "df_LB_cases=pd.merge(df_cases.explode(\"Places\"),states.drop(columns=['state population']),\n",
    "                     how='inner',left_on='Places',right_on='state').drop(columns=['Places'])\n",
    "df_LB_cases['cluster']=df_LB_cases['cluster'].astype('string')"
   ]
  },
  {
   "cell_type": "code",
   "execution_count": 22,
   "id": "7c7bd871",
   "metadata": {},
   "outputs": [],
   "source": [
    "# Plot the state data in a map\n",
    "\n",
    "with urlopen('https://raw.githubusercontent.com/plotly/datasets/master/geojson-counties-fips.json') as response:\n",
    "    counties = json.load(response)\n",
    "\n",
    "fig = px.choropleth(df_LB_cases,\n",
    "                        locations='state abbreviation',\n",
    "                        color='cluster',\n",
    "                        color_continuous_scale='spectral_r',\n",
    "                        hover_name='state',\n",
    "                        locationmode='USA-states',\n",
    "                        scope='usa')\n",
    "fig.update_layout(margin={\"r\":0,\"t\":0,\"l\":0,\"b\":0})\n",
    "fig.write_image(file='Figures/States_whole_cases.png', format='png')"
   ]
  },
  {
   "cell_type": "markdown",
   "id": "11af7bb8",
   "metadata": {},
   "source": [
    "## Cases at multiple times"
   ]
  },
  {
   "cell_type": "markdown",
   "id": "383b8b68",
   "metadata": {},
   "source": [
    "After performing community detection, we save the communities into a dataframe. Afterwards, this dataframe is merged with the state fips."
   ]
  },
  {
   "cell_type": "code",
   "execution_count": 23,
   "id": "2239784e",
   "metadata": {},
   "outputs": [],
   "source": [
    "for a in range(1,6):\n",
    "    globals()['df_cases_%s' % a]=com.fit_community(\"file:///nodes_states_cases.csv\",\n",
    "                                                   \"file:///correlation_states_cases_\"+period[a-1][0].strftime(\"%b%Y\")+\".csv\")\n",
    "    globals()['df_LB_cases_%s' % a]=pd.merge(globals()['df_cases_%s' % a].explode(\"Places\"),\n",
    "                                             states.drop(columns=['state population']),how='inner',\n",
    "                                             left_on='Places',right_on='state').drop(columns=['Places'])\n",
    "    globals()['df_LB_cases_%s' % a]['cluster']=globals()['df_LB_cases_%s' % a]['cluster'].astype('string')"
   ]
  },
  {
   "cell_type": "markdown",
   "id": "24cb6eed",
   "metadata": {},
   "source": [
    "Now, the communities can be plotted on the graph of the USA"
   ]
  },
  {
   "cell_type": "code",
   "execution_count": 24,
   "id": "7a14a8f8",
   "metadata": {},
   "outputs": [
    {
     "name": "stdout",
     "output_type": "stream",
     "text": [
      "Busy making plot for period 1 out of 5\n",
      "Busy making plot for period 2 out of 5\n",
      "Busy making plot for period 3 out of 5\n",
      "Busy making plot for period 4 out of 5\n",
      "Busy making plot for period 5 out of 5\n"
     ]
    }
   ],
   "source": [
    "# Plot the state data in a map\n",
    "for a in range(1,6):\n",
    "    print(\"Busy making plot for period {} out of 5\".format(a))\n",
    "    fig = px.choropleth(globals()['df_LB_cases_%s' % a],\n",
    "                        locations='state abbreviation',\n",
    "                        color='cluster',\n",
    "                        color_continuous_scale='spectral_r',\n",
    "                        hover_name='state',\n",
    "                        locationmode='USA-states',\n",
    "                        scope='usa')\n",
    "    fig.update_layout(margin={\"r\":0,\"t\":0,\"l\":0,\"b\":0})\n",
    "    fig.write_image(file='Figures/Community_cases_'+str(a)+'.png', format='png')"
   ]
  },
  {
   "cell_type": "markdown",
   "id": "195d6f32",
   "metadata": {},
   "source": [
    "## Deaths whole period"
   ]
  },
  {
   "cell_type": "code",
   "execution_count": 25,
   "id": "2c0e1bcc",
   "metadata": {},
   "outputs": [],
   "source": [
    "df_deaths=com.fit_community(\"file:///nodes_states_cases.csv\",\"file:///correlation_states_deaths_whole_period.csv\")\n",
    "df_LB_deaths=pd.merge(df_deaths.explode(\"Places\"),states.drop(columns=['state population']),\n",
    "                      how='inner',left_on='Places',right_on='state').drop(columns=['Places'])\n",
    "df_LB_deaths['cluster']=df_LB_deaths['cluster'].astype('string')"
   ]
  },
  {
   "cell_type": "code",
   "execution_count": 26,
   "id": "267cfc47",
   "metadata": {},
   "outputs": [],
   "source": [
    "# Plot the state data in a map\n",
    "\n",
    "fig = px.choropleth(df_LB_deaths,\n",
    "                        locations='state abbreviation',\n",
    "                        color='cluster',\n",
    "                        color_continuous_scale='spectral_r',\n",
    "                        hover_name='state',\n",
    "                        locationmode='USA-states',\n",
    "                        scope='usa')\n",
    "fig.update_layout(margin={\"r\":0,\"t\":0,\"l\":0,\"b\":0})\n",
    "fig.write_image(file='Figures/States_whole_deaths.png', format='png')"
   ]
  },
  {
   "cell_type": "markdown",
   "id": "7573a546",
   "metadata": {},
   "source": [
    "## Deaths at multiple times"
   ]
  },
  {
   "cell_type": "markdown",
   "id": "2d82624b",
   "metadata": {},
   "source": [
    "After performing community detection, we save the communities into a dataframe. Afterwards, this dataframe is merged with the state fips. "
   ]
  },
  {
   "cell_type": "code",
   "execution_count": 27,
   "id": "5f4c3dea",
   "metadata": {},
   "outputs": [],
   "source": [
    "for a in range(1,6):\n",
    "    globals()['df_deaths_%s' % a]=com.fit_community(\"file:///nodes_states_cases.csv\",\n",
    "                                                   \"file:///correlation_states_deaths_\"+period[a-1][0].strftime(\"%b%Y\")+\".csv\")\n",
    "    globals()['df_LB_deaths_%s' % a]=pd.merge(globals()['df_deaths_%s' % a].explode(\"Places\"),\n",
    "                                             states.drop(columns=['state population']),how='inner',\n",
    "                                             left_on='Places',right_on='state').drop(columns=['Places'])\n",
    "    globals()['df_LB_deaths_%s' % a]['cluster']=globals()['df_LB_deaths_%s' % a]['cluster'].astype('string')"
   ]
  },
  {
   "cell_type": "code",
   "execution_count": 28,
   "id": "f69bc427",
   "metadata": {},
   "outputs": [
    {
     "name": "stdout",
     "output_type": "stream",
     "text": [
      "Busy making plot for period 1 out of 5\n",
      "Busy making plot for period 2 out of 5\n",
      "Busy making plot for period 3 out of 5\n",
      "Busy making plot for period 4 out of 5\n",
      "Busy making plot for period 5 out of 5\n"
     ]
    }
   ],
   "source": [
    "# Plot the state data in a map\n",
    "for a in range(1,6):\n",
    "    print(\"Busy making plot for period {} out of 5\".format(a))\n",
    "    fig = px.choropleth(globals()['df_LB_deaths_%s' % a],\n",
    "                        locations='state abbreviation',\n",
    "                        color='cluster',\n",
    "                        color_continuous_scale='spectral_r',\n",
    "                        hover_name='state',\n",
    "                        locationmode='USA-states',\n",
    "                        scope='usa')\n",
    "    fig.update_layout(margin={\"r\":0,\"t\":0,\"l\":0,\"b\":0})\n",
    "    fig.write_image(file='Figures/Community_deaths_'+str(a)+'.png', format='png')"
   ]
  },
  {
   "cell_type": "markdown",
   "id": "e3d0f8e4",
   "metadata": {},
   "source": [
    "# Clusters explanatory variables"
   ]
  },
  {
   "cell_type": "markdown",
   "id": "6bec0b80",
   "metadata": {},
   "source": [
    "We can now investigate whether there is a relation between some explanatory variables and the clusters we found."
   ]
  },
  {
   "cell_type": "markdown",
   "id": "5c70393b",
   "metadata": {},
   "source": [
    "## Vaccinations"
   ]
  },
  {
   "cell_type": "markdown",
   "id": "d7666e1f",
   "metadata": {},
   "source": [
    "To use the vaccination data, the data for the different periods in the counties_features dataframe is aggregated within a state and the number of vaccinated people is divided by the total population of the state."
   ]
  },
  {
   "cell_type": "code",
   "execution_count": 29,
   "id": "9286368c",
   "metadata": {},
   "outputs": [
    {
     "data": {
      "text/html": [
       "<div>\n",
       "<style scoped>\n",
       "    .dataframe tbody tr th:only-of-type {\n",
       "        vertical-align: middle;\n",
       "    }\n",
       "\n",
       "    .dataframe tbody tr th {\n",
       "        vertical-align: top;\n",
       "    }\n",
       "\n",
       "    .dataframe thead th {\n",
       "        text-align: right;\n",
       "    }\n",
       "</style>\n",
       "<table border=\"1\" class=\"dataframe\">\n",
       "  <thead>\n",
       "    <tr style=\"text-align: right;\">\n",
       "      <th></th>\n",
       "      <th>state</th>\n",
       "      <th>state abbreviation</th>\n",
       "      <th>state population</th>\n",
       "      <th>Insured per state: uninsured</th>\n",
       "      <th>PovertyRate</th>\n",
       "      <th>Percent &gt;65yrs per state</th>\n",
       "      <th>degree centrality state</th>\n",
       "      <th>Complete_all</th>\n",
       "      <th>Complete_period1</th>\n",
       "      <th>Complete_period2</th>\n",
       "      <th>Complete_period3</th>\n",
       "      <th>Complete_period4</th>\n",
       "      <th>Complete_period5</th>\n",
       "    </tr>\n",
       "  </thead>\n",
       "  <tbody>\n",
       "    <tr>\n",
       "      <th>0</th>\n",
       "      <td>Alabama</td>\n",
       "      <td>AL</td>\n",
       "      <td>4949697</td>\n",
       "      <td>0.097</td>\n",
       "      <td>0.1608</td>\n",
       "      <td>17.8</td>\n",
       "      <td>136606.0</td>\n",
       "      <td>1.375125e+06</td>\n",
       "      <td>0.0</td>\n",
       "      <td>0.0</td>\n",
       "      <td>5.611617e+05</td>\n",
       "      <td>1.767186e+06</td>\n",
       "      <td>2.240422e+06</td>\n",
       "    </tr>\n",
       "    <tr>\n",
       "      <th>1</th>\n",
       "      <td>Alaska</td>\n",
       "      <td>AK</td>\n",
       "      <td>720763</td>\n",
       "      <td>0.115</td>\n",
       "      <td>0.1067</td>\n",
       "      <td>13.1</td>\n",
       "      <td>10832.0</td>\n",
       "      <td>3.211398e+05</td>\n",
       "      <td>0.0</td>\n",
       "      <td>0.0</td>\n",
       "      <td>1.679743e+05</td>\n",
       "      <td>3.989618e+05</td>\n",
       "      <td>4.815736e+05</td>\n",
       "    </tr>\n",
       "    <tr>\n",
       "      <th>2</th>\n",
       "      <td>Arizona</td>\n",
       "      <td>AZ</td>\n",
       "      <td>7640796</td>\n",
       "      <td>0.111</td>\n",
       "      <td>0.1366</td>\n",
       "      <td>18.5</td>\n",
       "      <td>66736.0</td>\n",
       "      <td>2.723513e+06</td>\n",
       "      <td>0.0</td>\n",
       "      <td>0.0</td>\n",
       "      <td>1.212757e+06</td>\n",
       "      <td>3.529354e+06</td>\n",
       "      <td>4.201502e+06</td>\n",
       "    </tr>\n",
       "    <tr>\n",
       "      <th>3</th>\n",
       "      <td>Arkansas</td>\n",
       "      <td>AR</td>\n",
       "      <td>3042017</td>\n",
       "      <td>0.091</td>\n",
       "      <td>0.1631</td>\n",
       "      <td>17.7</td>\n",
       "      <td>89785.0</td>\n",
       "      <td>9.093193e+05</td>\n",
       "      <td>0.0</td>\n",
       "      <td>0.0</td>\n",
       "      <td>3.938021e+05</td>\n",
       "      <td>1.169155e+06</td>\n",
       "      <td>1.439506e+06</td>\n",
       "    </tr>\n",
       "    <tr>\n",
       "      <th>4</th>\n",
       "      <td>California</td>\n",
       "      <td>CA</td>\n",
       "      <td>39664128</td>\n",
       "      <td>0.078</td>\n",
       "      <td>0.1298</td>\n",
       "      <td>15.2</td>\n",
       "      <td>146679.0</td>\n",
       "      <td>1.687288e+07</td>\n",
       "      <td>0.0</td>\n",
       "      <td>0.0</td>\n",
       "      <td>6.951346e+06</td>\n",
       "      <td>2.212455e+07</td>\n",
       "      <td>2.657235e+07</td>\n",
       "    </tr>\n",
       "  </tbody>\n",
       "</table>\n",
       "</div>"
      ],
      "text/plain": [
       "        state state abbreviation  state population  \\\n",
       "0     Alabama                 AL           4949697   \n",
       "1      Alaska                 AK            720763   \n",
       "2     Arizona                 AZ           7640796   \n",
       "3    Arkansas                 AR           3042017   \n",
       "4  California                 CA          39664128   \n",
       "\n",
       "   Insured per state: uninsured  PovertyRate  Percent >65yrs per state  \\\n",
       "0                         0.097       0.1608                      17.8   \n",
       "1                         0.115       0.1067                      13.1   \n",
       "2                         0.111       0.1366                      18.5   \n",
       "3                         0.091       0.1631                      17.7   \n",
       "4                         0.078       0.1298                      15.2   \n",
       "\n",
       "   degree centrality state  Complete_all  Complete_period1  Complete_period2  \\\n",
       "0                 136606.0  1.375125e+06               0.0               0.0   \n",
       "1                  10832.0  3.211398e+05               0.0               0.0   \n",
       "2                  66736.0  2.723513e+06               0.0               0.0   \n",
       "3                  89785.0  9.093193e+05               0.0               0.0   \n",
       "4                 146679.0  1.687288e+07               0.0               0.0   \n",
       "\n",
       "   Complete_period3  Complete_period4  Complete_period5  \n",
       "0      5.611617e+05      1.767186e+06      2.240422e+06  \n",
       "1      1.679743e+05      3.989618e+05      4.815736e+05  \n",
       "2      1.212757e+06      3.529354e+06      4.201502e+06  \n",
       "3      3.938021e+05      1.169155e+06      1.439506e+06  \n",
       "4      6.951346e+06      2.212455e+07      2.657235e+07  "
      ]
     },
     "execution_count": 29,
     "metadata": {},
     "output_type": "execute_result"
    }
   ],
   "source": [
    "features_clusters=counties_features.groupby([\"state\",\"state abbreviation\",\"state population\",\"Insured per state: uninsured\",\n",
    "                                           \"PovertyRate\",'Percent >65yrs per state',\n",
    "                                           'degree centrality state'],as_index=False).agg({'Complete_all':'sum',\n",
    "                                            \"Complete_period1\" :'sum',\"Complete_period2\":'sum',\"Complete_period3\":'sum',\n",
    "                                            \"Complete_period4\":'sum',\"Complete_period5\":'sum'})\n",
    "\n",
    "features_clusters.head(5)"
   ]
  },
  {
   "cell_type": "code",
   "execution_count": 30,
   "id": "a9cd3c57",
   "metadata": {},
   "outputs": [],
   "source": [
    "features_clusters['Complete_all']=features_clusters['Complete_all']/features_clusters['state population']\n",
    "for a in range(2,6):\n",
    "    features_clusters['Complete_period'+str(a)]=features_clusters['Complete_period'+str(a)]/features_clusters['state population']\n",
    "features_clusters['prop_age']=features_clusters['Percent >65yrs per state']/100\n",
    "features_clusters.drop(columns=['state population','Percent >65yrs per state'],inplace=True)"
   ]
  },
  {
   "cell_type": "markdown",
   "id": "a8713c9c",
   "metadata": {},
   "source": [
    "Plotting the vaccination rate."
   ]
  },
  {
   "cell_type": "code",
   "execution_count": 31,
   "id": "7497ddea",
   "metadata": {},
   "outputs": [
    {
     "name": "stdout",
     "output_type": "stream",
     "text": [
      "Busy making plot for period 1 out of 4\n",
      "Busy making plot for period 2 out of 4\n",
      "Busy making plot for period 3 out of 4\n",
      "Busy making plot for period 4 out of 4\n"
     ]
    }
   ],
   "source": [
    "for a in range(2,6):\n",
    "    print(\"Busy making plot for period {} out of 4\".format(a-1))\n",
    "    fig = px.choropleth(features_clusters,\n",
    "                        locations='state abbreviation',\n",
    "                        color='Complete_period'+str(a),\n",
    "                        color_continuous_scale='spectral_r',\n",
    "                        hover_name='state',\n",
    "                        range_color=(0,1),\n",
    "                        locationmode='USA-states',\n",
    "                        scope='usa')\n",
    "    fig.update_layout(margin={\"r\":0,\"t\":0,\"l\":0,\"b\":0})\n",
    "    fig.write_image(file='Figures/Vaccination_'+str(a)+'.png', format='png')"
   ]
  },
  {
   "cell_type": "markdown",
   "id": "84c51d4b",
   "metadata": {},
   "source": [
    "## Insurance, age and poverty rate"
   ]
  },
  {
   "cell_type": "markdown",
   "id": "db89cc2c",
   "metadata": {},
   "source": [
    "Health insurance, age and poverty rate are possible explanatory variables."
   ]
  },
  {
   "cell_type": "code",
   "execution_count": 32,
   "id": "80011f5e",
   "metadata": {},
   "outputs": [],
   "source": [
    "fig = px.choropleth(features_clusters,\n",
    "                        locations='state abbreviation',\n",
    "                        color='Insured per state: uninsured',\n",
    "                        color_continuous_scale='spectral_r',\n",
    "                        hover_name='state',\n",
    "                        locationmode='USA-states',\n",
    "                        scope='usa')\n",
    "fig.update_layout(margin={\"r\":0,\"t\":0,\"l\":0,\"b\":0})\n",
    "fig.write_image(file='Figures/Insurance.png', format='png')"
   ]
  },
  {
   "cell_type": "code",
   "execution_count": 33,
   "id": "2c4f876b",
   "metadata": {},
   "outputs": [],
   "source": [
    "fig = px.choropleth(features_clusters,\n",
    "                     locations='state abbreviation',\n",
    "                     color='prop_age',\n",
    "                     color_continuous_scale='spectral_r',\n",
    "                     hover_name='state',\n",
    "                     locationmode='USA-states',\n",
    "                     scope='usa')\n",
    "fig.update_layout(margin={\"r\":0,\"t\":0,\"l\":0,\"b\":0})\n",
    "fig.write_image(file='Figures/Age.png', format='png')"
   ]
  },
  {
   "cell_type": "code",
   "execution_count": 34,
   "id": "1b0bb80d",
   "metadata": {},
   "outputs": [],
   "source": [
    "fig = px.choropleth(features_clusters,\n",
    "                    locations='state abbreviation',\n",
    "                    color='PovertyRate',\n",
    "                    color_continuous_scale='spectral_r',\n",
    "                    hover_name='state',\n",
    "                    locationmode='USA-states',\n",
    "                    scope='usa',\n",
    "                    range_color=(0,0.2)\n",
    "                          )\n",
    "fig.update_layout(margin={\"r\":0,\"t\":0,\"l\":0,\"b\":0})\n",
    "fig.write_image(file='Figures/Poverty.png', format='png')"
   ]
  },
  {
   "cell_type": "markdown",
   "id": "07e8d62f",
   "metadata": {},
   "source": [
    "## Merging clusters and features"
   ]
  },
  {
   "cell_type": "markdown",
   "id": "2db82d69",
   "metadata": {},
   "source": [
    "Remove the smaller clusters (with less than 10 states). We only consider the period for which there remain at least 2 clusters."
   ]
  },
  {
   "cell_type": "code",
   "execution_count": 35,
   "id": "9c66cb0f",
   "metadata": {},
   "outputs": [],
   "source": [
    "clusters_cases_4=df_cases_4[df_cases_4['cluster']<2].explode(\"Places\").rename(columns={\"cluster\":'cluster_cases_4','Places':'state'})\n",
    "clusters_deaths=df_deaths[df_deaths['cluster']<2].explode(\"Places\").rename(columns={\"cluster\":'cluster_deaths_all','Places':'state'})\n",
    "clusters_deaths_2=df_deaths_2[df_deaths_2['cluster']<2].explode(\"Places\").rename(columns={\"cluster\":'cluster_deaths_2','Places':'state'})\n",
    "clusters_deaths_4=df_deaths_4[df_deaths_4['cluster']<2].explode(\"Places\").rename(columns={\"cluster\":'cluster_deaths_4','Places':'state'})\n",
    "clusters_deaths_5=df_deaths_5[df_deaths_5['cluster']<2].explode(\"Places\").rename(columns={\"cluster\":'cluster_deaths_5','Places':'state'})"
   ]
  },
  {
   "cell_type": "code",
   "execution_count": 36,
   "id": "2e465260",
   "metadata": {},
   "outputs": [],
   "source": [
    "data_frames = [clusters_cases_4, clusters_deaths, clusters_deaths_2,clusters_deaths_4,clusters_deaths_5]\n",
    "df_merged = reduce(lambda  left,right: pd.merge(left,right,on='state',\n",
    "                                            how='outer'), data_frames)"
   ]
  },
  {
   "cell_type": "code",
   "execution_count": 37,
   "id": "894c715e",
   "metadata": {},
   "outputs": [],
   "source": [
    "data_log_model=pd.merge(df_merged,features_clusters,on='state',how='inner')"
   ]
  },
  {
   "cell_type": "markdown",
   "id": "3b987fba",
   "metadata": {},
   "source": [
    "## Logistic model cases period 4"
   ]
  },
  {
   "cell_type": "markdown",
   "id": "c42b1ab1",
   "metadata": {},
   "source": [
    "Looking at the mean vaccination rate of cluster 0 and cluster 1, it seems like there might be a difference."
   ]
  },
  {
   "cell_type": "code",
   "execution_count": 38,
   "id": "345f7265",
   "metadata": {},
   "outputs": [
    {
     "data": {
      "text/plain": [
       "0.5026891049295696"
      ]
     },
     "execution_count": 38,
     "metadata": {},
     "output_type": "execute_result"
    }
   ],
   "source": [
    "mean_cluster0=np.mean(data_log_model.Complete_period4[data_log_model['cluster_cases_4']==0])\n",
    "mean_cluster0"
   ]
  },
  {
   "cell_type": "code",
   "execution_count": 39,
   "id": "fb1d711f",
   "metadata": {},
   "outputs": [
    {
     "data": {
      "text/plain": [
       "0.4012330021957953"
      ]
     },
     "execution_count": 39,
     "metadata": {},
     "output_type": "execute_result"
    }
   ],
   "source": [
    "mean_cluster1=np.mean(data_log_model.Complete_period4[data_log_model['cluster_cases_4']==1])\n",
    "mean_cluster1"
   ]
  },
  {
   "cell_type": "markdown",
   "id": "28ab3108",
   "metadata": {},
   "source": [
    "We can now more formally investigate the relation by fitting a logistic model. Also other possible explanatory variables are checked."
   ]
  },
  {
   "cell_type": "markdown",
   "id": "fe0ab503",
   "metadata": {},
   "source": [
    "The VIF values do not seem worrisome."
   ]
  },
  {
   "cell_type": "code",
   "execution_count": 40,
   "id": "f2b1a309",
   "metadata": {},
   "outputs": [
    {
     "data": {
      "text/plain": [
       "array([[ 1.61072269, -0.54102084,  0.6000524 ,  0.35923296,  0.23421832],\n",
       "       [-0.54102084,  1.27948573, -0.34671031,  0.1864541 , -0.06066652],\n",
       "       [ 0.6000524 , -0.34671031,  1.2740293 , -0.07505345,  0.20699166],\n",
       "       [ 0.35923296,  0.1864541 , -0.07505345,  1.26998592, -0.24960588],\n",
       "       [ 0.23421832, -0.06066652,  0.20699166, -0.24960588,  1.12530549]])"
      ]
     },
     "execution_count": 40,
     "metadata": {},
     "output_type": "execute_result"
    }
   ],
   "source": [
    "np.linalg.inv(data_log_model[['Insured per state: uninsured','PovertyRate','prop_age','Complete_period4','degree centrality state']].corr())"
   ]
  },
  {
   "cell_type": "markdown",
   "id": "914a91f8",
   "metadata": {},
   "source": [
    "We want to scale all explanatory variables with a standard scaler and fit a logistic model afterwards."
   ]
  },
  {
   "cell_type": "code",
   "execution_count": 41,
   "id": "cc8d9ac2",
   "metadata": {},
   "outputs": [],
   "source": [
    "pipe = Pipeline([\n",
    "        ('scaler', StandardScaler()),\n",
    "        ('regressor', my_regression.logistic_model()),\n",
    "        ])"
   ]
  },
  {
   "cell_type": "code",
   "execution_count": 42,
   "id": "b29e2921",
   "metadata": {},
   "outputs": [
    {
     "name": "stdout",
     "output_type": "stream",
     "text": [
      "Optimization terminated successfully.\n",
      "         Current function value: 0.443501\n",
      "         Iterations 7\n",
      "                           Logit Regression Results                           \n",
      "==============================================================================\n",
      "Dep. Variable:        cluster_cases_4   No. Observations:                   50\n",
      "Model:                          Logit   Df Residuals:                       44\n",
      "Method:                           MLE   Df Model:                            5\n",
      "Date:                Sun, 29 May 2022   Pseudo R-squ.:                  0.3213\n",
      "Time:                        11:15:40   Log-Likelihood:                -22.175\n",
      "converged:                       True   LL-Null:                       -32.671\n",
      "Covariance Type:            nonrobust   LLR p-value:                 0.0008130\n",
      "================================================================================================\n",
      "                                   coef    std err          z      P>|z|      [0.025      0.975]\n",
      "------------------------------------------------------------------------------------------------\n",
      "intercept                       -0.8452      0.395     -2.140      0.032      -1.619      -0.071\n",
      "Insured per state: uninsured     0.8532      0.505      1.690      0.091      -0.136       1.843\n",
      "prop_age                        -0.1861      0.416     -0.447      0.655      -1.002       0.630\n",
      "PovertyRate                      0.8632      0.433      1.995      0.046       0.015       1.711\n",
      "Complete_period4                -0.7721      0.431     -1.793      0.073      -1.616       0.072\n",
      "degree centrality state          0.0715      0.454      0.158      0.875      -0.818       0.961\n",
      "================================================================================================\n"
     ]
    }
   ],
   "source": [
    "column_names=['intercept','Insured per state: uninsured','prop_age','PovertyRate','Complete_period4','degree centrality state']\n",
    "X=data_log_model.dropna(subset=['cluster_cases_4'])[[x for x in column_names if x != 'intercept']]\n",
    "y=data_log_model.dropna(subset=['cluster_cases_4'])['cluster_cases_4']\n",
    "pipe.fit(X,y)\n",
    "print(pipe.named_steps['regressor'].result.summary(xname=column_names))"
   ]
  },
  {
   "cell_type": "code",
   "execution_count": 43,
   "id": "622c90e0",
   "metadata": {},
   "outputs": [
    {
     "name": "stdout",
     "output_type": "stream",
     "text": [
      "Optimization terminated successfully.\n",
      "         Current function value: 0.443744\n",
      "         Iterations 7\n",
      "                           Logit Regression Results                           \n",
      "==============================================================================\n",
      "Dep. Variable:        cluster_cases_4   No. Observations:                   50\n",
      "Model:                          Logit   Df Residuals:                       45\n",
      "Method:                           MLE   Df Model:                            4\n",
      "Date:                Sun, 29 May 2022   Pseudo R-squ.:                  0.3209\n",
      "Time:                        11:15:40   Log-Likelihood:                -22.187\n",
      "converged:                       True   LL-Null:                       -32.671\n",
      "Covariance Type:            nonrobust   LLR p-value:                 0.0003214\n",
      "================================================================================================\n",
      "                                   coef    std err          z      P>|z|      [0.025      0.975]\n",
      "------------------------------------------------------------------------------------------------\n",
      "intercept                       -0.8477      0.395     -2.145      0.032      -1.622      -0.073\n",
      "Insured per state: uninsured     0.8308      0.482      1.724      0.085      -0.114       1.775\n",
      "prop_age                        -0.1871      0.413     -0.453      0.650      -0.996       0.622\n",
      "PovertyRate                      0.8668      0.434      1.999      0.046       0.017       1.717\n",
      "Complete_period4                -0.7531      0.411     -1.832      0.067      -1.559       0.053\n",
      "================================================================================================\n"
     ]
    }
   ],
   "source": [
    "column_names.remove('degree centrality state')\n",
    "X.drop(columns=['degree centrality state'],inplace=True)\n",
    "pipe.fit(X,y)\n",
    "print(pipe.named_steps['regressor'].result.summary(xname=column_names))"
   ]
  },
  {
   "cell_type": "code",
   "execution_count": 44,
   "id": "9182c4e1",
   "metadata": {},
   "outputs": [
    {
     "name": "stdout",
     "output_type": "stream",
     "text": [
      "Optimization terminated successfully.\n",
      "         Current function value: 0.445805\n",
      "         Iterations 6\n",
      "                           Logit Regression Results                           \n",
      "==============================================================================\n",
      "Dep. Variable:        cluster_cases_4   No. Observations:                   50\n",
      "Model:                          Logit   Df Residuals:                       46\n",
      "Method:                           MLE   Df Model:                            3\n",
      "Date:                Sun, 29 May 2022   Pseudo R-squ.:                  0.3177\n",
      "Time:                        11:15:40   Log-Likelihood:                -22.290\n",
      "converged:                       True   LL-Null:                       -32.671\n",
      "Covariance Type:            nonrobust   LLR p-value:                 0.0001180\n",
      "================================================================================================\n",
      "                                   coef    std err          z      P>|z|      [0.025      0.975]\n",
      "------------------------------------------------------------------------------------------------\n",
      "intercept                       -0.8434      0.393     -2.143      0.032      -1.615      -0.072\n",
      "Insured per state: uninsured     0.8770      0.466      1.882      0.060      -0.036       1.790\n",
      "PovertyRate                      0.8098      0.412      1.967      0.049       0.003       1.617\n",
      "Complete_period4                -0.7252      0.399     -1.819      0.069      -1.506       0.056\n",
      "================================================================================================\n"
     ]
    }
   ],
   "source": [
    "column_names.remove('prop_age')\n",
    "X.drop(columns=['prop_age'],inplace=True)\n",
    "pipe.fit(X,y)\n",
    "print(pipe.named_steps['regressor'].result.summary(xname=column_names))"
   ]
  },
  {
   "cell_type": "code",
   "execution_count": 45,
   "id": "8810ab3f",
   "metadata": {},
   "outputs": [
    {
     "name": "stdout",
     "output_type": "stream",
     "text": [
      "Optimization terminated successfully.\n",
      "         Current function value: 0.476534\n",
      "         Iterations 6\n",
      "                           Logit Regression Results                           \n",
      "==============================================================================\n",
      "Dep. Variable:        cluster_cases_4   No. Observations:                   50\n",
      "Model:                          Logit   Df Residuals:                       47\n",
      "Method:                           MLE   Df Model:                            2\n",
      "Date:                Sun, 29 May 2022   Pseudo R-squ.:                  0.2707\n",
      "Time:                        11:15:40   Log-Likelihood:                -23.827\n",
      "converged:                       True   LL-Null:                       -32.671\n",
      "Covariance Type:            nonrobust   LLR p-value:                 0.0001442\n",
      "================================================================================================\n",
      "                                   coef    std err          z      P>|z|      [0.025      0.975]\n",
      "------------------------------------------------------------------------------------------------\n",
      "intercept                       -0.7819      0.371     -2.107      0.035      -1.509      -0.055\n",
      "Insured per state: uninsured     0.9734      0.435      2.236      0.025       0.120       1.827\n",
      "PovertyRate                      0.9058      0.408      2.218      0.027       0.105       1.706\n",
      "================================================================================================\n"
     ]
    }
   ],
   "source": [
    "column_names.remove('Complete_period4')\n",
    "X.drop(columns=['Complete_period4'],inplace=True)\n",
    "pipe.fit(X,y)\n",
    "print(pipe.named_steps['regressor'].result.summary(xname=column_names))"
   ]
  },
  {
   "cell_type": "code",
   "execution_count": 46,
   "id": "5c8ccadc",
   "metadata": {},
   "outputs": [
    {
     "name": "stdout",
     "output_type": "stream",
     "text": [
      "Optimization terminated successfully.\n",
      "         Current function value: 0.486444\n",
      "         Iterations 6\n",
      "                           Logit Regression Results                           \n",
      "==============================================================================\n",
      "Dep. Variable:        cluster_cases_4   No. Observations:                   50\n",
      "Model:                          Logit   Df Residuals:                       47\n",
      "Method:                           MLE   Df Model:                            2\n",
      "Date:                Sun, 29 May 2022   Pseudo R-squ.:                  0.2555\n",
      "Time:                        11:15:40   Log-Likelihood:                -24.322\n",
      "converged:                       True   LL-Null:                       -32.671\n",
      "Covariance Type:            nonrobust   LLR p-value:                 0.0002367\n",
      "====================================================================================\n",
      "                       coef    std err          z      P>|z|      [0.025      0.975]\n",
      "------------------------------------------------------------------------------------\n",
      "intercept           -0.7504      0.362     -2.071      0.038      -1.461      -0.040\n",
      "PovertyRate          1.0153      0.415      2.449      0.014       0.203       1.828\n",
      "Complete_period4    -0.8137      0.393     -2.071      0.038      -1.584      -0.044\n",
      "====================================================================================\n"
     ]
    }
   ],
   "source": [
    "column_names=['intercept','PovertyRate','Complete_period4']\n",
    "X=data_log_model.dropna(subset=['cluster_cases_4'])[[x for x in column_names if x != 'intercept']]\n",
    "y=data_log_model.dropna(subset=['cluster_cases_4'])['cluster_cases_4']\n",
    "pipe.fit(X,y)\n",
    "print(pipe.named_steps['regressor'].result.summary(xname=column_names))"
   ]
  },
  {
   "cell_type": "markdown",
   "id": "d4d24aa7",
   "metadata": {},
   "source": [
    "## Logistic model deaths whole period"
   ]
  },
  {
   "cell_type": "code",
   "execution_count": 47,
   "id": "4ff0f5bc",
   "metadata": {},
   "outputs": [
    {
     "name": "stdout",
     "output_type": "stream",
     "text": [
      "Optimization terminated successfully.\n",
      "         Current function value: 0.365247\n",
      "         Iterations 7\n",
      "                           Logit Regression Results                           \n",
      "==============================================================================\n",
      "Dep. Variable:     cluster_deaths_all   No. Observations:                   44\n",
      "Model:                          Logit   Df Residuals:                       38\n",
      "Method:                           MLE   Df Model:                            5\n",
      "Date:                Sun, 29 May 2022   Pseudo R-squ.:                  0.4161\n",
      "Time:                        11:15:40   Log-Likelihood:                -16.071\n",
      "converged:                       True   LL-Null:                       -27.522\n",
      "Covariance Type:            nonrobust   LLR p-value:                 0.0003525\n",
      "================================================================================================\n",
      "                                   coef    std err          z      P>|z|      [0.025      0.975]\n",
      "------------------------------------------------------------------------------------------------\n",
      "intercept                       -1.4982      0.589     -2.543      0.011      -2.653      -0.343\n",
      "Insured per state: uninsured    -1.4612      0.802     -1.821      0.069      -3.034       0.111\n",
      "prop_age                        -0.3115      0.485     -0.642      0.521      -1.262       0.639\n",
      "PovertyRate                     -1.2862      0.784     -1.640      0.101      -2.823       0.251\n",
      "Complete_all                     0.4623      0.420      1.100      0.272      -0.362       1.286\n",
      "degree centrality state          0.7962      0.630      1.263      0.206      -0.439       2.031\n",
      "================================================================================================\n"
     ]
    }
   ],
   "source": [
    "column_names=['intercept','Insured per state: uninsured','prop_age','PovertyRate','Complete_all','degree centrality state']\n",
    "X=data_log_model.dropna(subset=['cluster_deaths_all'])[[x for x in column_names if x != 'intercept']]\n",
    "y=data_log_model.dropna(subset=['cluster_deaths_all'])['cluster_deaths_all']\n",
    "pipe.fit(X,y)\n",
    "print(pipe.named_steps['regressor'].result.summary(xname=column_names))"
   ]
  },
  {
   "cell_type": "code",
   "execution_count": 48,
   "id": "2e5bec59",
   "metadata": {},
   "outputs": [
    {
     "name": "stdout",
     "output_type": "stream",
     "text": [
      "Optimization terminated successfully.\n",
      "         Current function value: 0.370076\n",
      "         Iterations 7\n",
      "                           Logit Regression Results                           \n",
      "==============================================================================\n",
      "Dep. Variable:     cluster_deaths_all   No. Observations:                   44\n",
      "Model:                          Logit   Df Residuals:                       39\n",
      "Method:                           MLE   Df Model:                            4\n",
      "Date:                Sun, 29 May 2022   Pseudo R-squ.:                  0.4083\n",
      "Time:                        11:15:40   Log-Likelihood:                -16.283\n",
      "converged:                       True   LL-Null:                       -27.522\n",
      "Covariance Type:            nonrobust   LLR p-value:                 0.0001611\n",
      "================================================================================================\n",
      "                                   coef    std err          z      P>|z|      [0.025      0.975]\n",
      "------------------------------------------------------------------------------------------------\n",
      "intercept                       -1.4446      0.562     -2.572      0.010      -2.545      -0.344\n",
      "Insured per state: uninsured    -1.2092      0.663     -1.824      0.068      -2.509       0.090\n",
      "PovertyRate                     -1.4562      0.791     -1.841      0.066      -3.006       0.094\n",
      "Complete_all                     0.4472      0.406      1.101      0.271      -0.349       1.243\n",
      "degree centrality state          0.8567      0.630      1.360      0.174      -0.378       2.092\n",
      "================================================================================================\n"
     ]
    }
   ],
   "source": [
    "column_names.remove('prop_age')\n",
    "X.drop(columns=['prop_age'],inplace=True)\n",
    "pipe.fit(X,y)\n",
    "print(pipe.named_steps['regressor'].result.summary(xname=column_names))"
   ]
  },
  {
   "cell_type": "code",
   "execution_count": 49,
   "id": "05d6ab07",
   "metadata": {},
   "outputs": [
    {
     "name": "stdout",
     "output_type": "stream",
     "text": [
      "Optimization terminated successfully.\n",
      "         Current function value: 0.384485\n",
      "         Iterations 7\n",
      "                           Logit Regression Results                           \n",
      "==============================================================================\n",
      "Dep. Variable:     cluster_deaths_all   No. Observations:                   44\n",
      "Model:                          Logit   Df Residuals:                       40\n",
      "Method:                           MLE   Df Model:                            3\n",
      "Date:                Sun, 29 May 2022   Pseudo R-squ.:                  0.3853\n",
      "Time:                        11:15:40   Log-Likelihood:                -16.917\n",
      "converged:                       True   LL-Null:                       -27.522\n",
      "Covariance Type:            nonrobust   LLR p-value:                 9.528e-05\n",
      "================================================================================================\n",
      "                                   coef    std err          z      P>|z|      [0.025      0.975]\n",
      "------------------------------------------------------------------------------------------------\n",
      "intercept                       -1.3527      0.525     -2.577      0.010      -2.381      -0.324\n",
      "Insured per state: uninsured    -1.1274      0.625     -1.805      0.071      -2.352       0.097\n",
      "PovertyRate                     -1.4456      0.745     -1.942      0.052      -2.905       0.014\n",
      "degree centrality state          0.9630      0.607      1.587      0.113      -0.226       2.152\n",
      "================================================================================================\n"
     ]
    }
   ],
   "source": [
    "column_names.remove('Complete_all')\n",
    "X.drop(columns=['Complete_all'],inplace=True)\n",
    "pipe.fit(X,y)\n",
    "print(pipe.named_steps['regressor'].result.summary(xname=column_names))"
   ]
  },
  {
   "cell_type": "code",
   "execution_count": 50,
   "id": "3d8e7f3b",
   "metadata": {},
   "outputs": [
    {
     "name": "stdout",
     "output_type": "stream",
     "text": [
      "Optimization terminated successfully.\n",
      "         Current function value: 0.423365\n",
      "         Iterations 7\n",
      "                           Logit Regression Results                           \n",
      "==============================================================================\n",
      "Dep. Variable:     cluster_deaths_all   No. Observations:                   44\n",
      "Model:                          Logit   Df Residuals:                       41\n",
      "Method:                           MLE   Df Model:                            2\n",
      "Date:                Sun, 29 May 2022   Pseudo R-squ.:                  0.3231\n",
      "Time:                        11:15:40   Log-Likelihood:                -18.628\n",
      "converged:                       True   LL-Null:                       -27.522\n",
      "Covariance Type:            nonrobust   LLR p-value:                 0.0001373\n",
      "================================================================================================\n",
      "                                   coef    std err          z      P>|z|      [0.025      0.975]\n",
      "------------------------------------------------------------------------------------------------\n",
      "intercept                       -1.3166      0.495     -2.659      0.008      -2.287      -0.346\n",
      "Insured per state: uninsured    -1.3672      0.617     -2.217      0.027      -2.576      -0.158\n",
      "PovertyRate                     -1.0160      0.551     -1.844      0.065      -2.096       0.064\n",
      "================================================================================================\n"
     ]
    }
   ],
   "source": [
    "column_names.remove('degree centrality state')\n",
    "X.drop(columns=['degree centrality state'],inplace=True)\n",
    "pipe.fit(X,y)\n",
    "print(pipe.named_steps['regressor'].result.summary(xname=column_names))"
   ]
  },
  {
   "cell_type": "code",
   "execution_count": 51,
   "id": "1b5717a7",
   "metadata": {},
   "outputs": [
    {
     "name": "stdout",
     "output_type": "stream",
     "text": [
      "Optimization terminated successfully.\n",
      "         Current function value: 0.474589\n",
      "         Iterations 7\n",
      "                           Logit Regression Results                           \n",
      "==============================================================================\n",
      "Dep. Variable:     cluster_deaths_all   No. Observations:                   44\n",
      "Model:                          Logit   Df Residuals:                       42\n",
      "Method:                           MLE   Df Model:                            1\n",
      "Date:                Sun, 29 May 2022   Pseudo R-squ.:                  0.2413\n",
      "Time:                        11:15:40   Log-Likelihood:                -20.882\n",
      "converged:                       True   LL-Null:                       -27.522\n",
      "Covariance Type:            nonrobust   LLR p-value:                 0.0002683\n",
      "================================================================================================\n",
      "                                   coef    std err          z      P>|z|      [0.025      0.975]\n",
      "------------------------------------------------------------------------------------------------\n",
      "intercept                       -1.2056      0.460     -2.621      0.009      -2.107      -0.304\n",
      "Insured per state: uninsured    -1.6895      0.590     -2.865      0.004      -2.845      -0.534\n",
      "================================================================================================\n"
     ]
    }
   ],
   "source": [
    "column_names.remove('PovertyRate')\n",
    "X.drop(columns=['PovertyRate'],inplace=True)\n",
    "pipe.fit(X,y)\n",
    "print(pipe.named_steps['regressor'].result.summary(xname=column_names))"
   ]
  },
  {
   "cell_type": "markdown",
   "id": "2ecf9d92",
   "metadata": {},
   "source": [
    "## Logistic model deaths period 2"
   ]
  },
  {
   "cell_type": "code",
   "execution_count": 52,
   "id": "2bb197b1",
   "metadata": {},
   "outputs": [
    {
     "name": "stdout",
     "output_type": "stream",
     "text": [
      "Warning: Maximum number of iterations has been exceeded.\n",
      "         Current function value: 0.258502\n",
      "         Iterations: 35\n",
      "                           Logit Regression Results                           \n",
      "==============================================================================\n",
      "Dep. Variable:       cluster_deaths_2   No. Observations:                   46\n",
      "Model:                          Logit   Df Residuals:                       40\n",
      "Method:                           MLE   Df Model:                            5\n",
      "Date:                Sun, 29 May 2022   Pseudo R-squ.:                  0.3938\n",
      "Time:                        11:15:40   Log-Likelihood:                -11.891\n",
      "converged:                      False   LL-Null:                       -19.617\n",
      "Covariance Type:            nonrobust   LLR p-value:                  0.008595\n",
      "================================================================================================\n",
      "                                   coef    std err          z      P>|z|      [0.025      0.975]\n",
      "------------------------------------------------------------------------------------------------\n",
      "intercept                       -3.2389   1.15e+04     -0.000      1.000   -2.25e+04    2.25e+04\n",
      "Insured per state: uninsured     1.5154      0.701      2.162      0.031       0.142       2.889\n",
      "prop_age                        -0.1024      0.584     -0.175      0.861      -1.246       1.041\n",
      "PovertyRate                      1.0640      0.584      1.822      0.068      -0.081       2.209\n",
      "Complete_period2                -2.9169   7.71e+04  -3.78e-05      1.000   -1.51e+05    1.51e+05\n",
      "degree centrality state          0.3620      0.731      0.495      0.620      -1.071       1.795\n",
      "================================================================================================\n"
     ]
    },
    {
     "name": "stderr",
     "output_type": "stream",
     "text": [
      "C:\\Users\\sara2\\anaconda3\\envs\\MDA_base\\lib\\site-packages\\statsmodels\\base\\model.py:604: ConvergenceWarning:\n",
      "\n",
      "Maximum Likelihood optimization failed to converge. Check mle_retvals\n",
      "\n"
     ]
    }
   ],
   "source": [
    "column_names=['intercept','Insured per state: uninsured','prop_age','PovertyRate','Complete_period2','degree centrality state']\n",
    "X=data_log_model.dropna(subset=['cluster_deaths_2'])[[x for x in column_names if x != 'intercept']]\n",
    "y=data_log_model.dropna(subset=['cluster_deaths_2'])['cluster_deaths_2']\n",
    "pipe.fit(X,y)\n",
    "print(pipe.named_steps['regressor'].result.summary(xname=column_names))"
   ]
  },
  {
   "cell_type": "markdown",
   "id": "7d738f69",
   "metadata": {},
   "source": [
    "The failure to converge is probably due to the small values in Complete_period 2. Therefore, this variable is removed first. It seems unlikely that vaccinations had an influence in this period anyway since the vaccination rate was close to zero."
   ]
  },
  {
   "cell_type": "code",
   "execution_count": 53,
   "id": "7e440d5b",
   "metadata": {},
   "outputs": [
    {
     "name": "stdout",
     "output_type": "stream",
     "text": [
      "Optimization terminated successfully.\n",
      "         Current function value: 0.258540\n",
      "         Iterations 8\n",
      "                           Logit Regression Results                           \n",
      "==============================================================================\n",
      "Dep. Variable:       cluster_deaths_2   No. Observations:                   46\n",
      "Model:                          Logit   Df Residuals:                       41\n",
      "Method:                           MLE   Df Model:                            4\n",
      "Date:                Sun, 29 May 2022   Pseudo R-squ.:                  0.3938\n",
      "Time:                        11:15:40   Log-Likelihood:                -11.893\n",
      "converged:                       True   LL-Null:                       -19.617\n",
      "Covariance Type:            nonrobust   LLR p-value:                  0.003855\n",
      "================================================================================================\n",
      "                                   coef    std err          z      P>|z|      [0.025      0.975]\n",
      "------------------------------------------------------------------------------------------------\n",
      "intercept                       -2.8065      0.801     -3.504      0.000      -4.376      -1.237\n",
      "Insured per state: uninsured     1.5174      0.700      2.168      0.030       0.146       2.889\n",
      "prop_age                        -0.1021      0.584     -0.175      0.861      -1.246       1.042\n",
      "PovertyRate                      1.0650      0.584      1.824      0.068      -0.079       2.209\n",
      "degree centrality state          0.3622      0.732      0.495      0.621      -1.072       1.797\n",
      "================================================================================================\n"
     ]
    }
   ],
   "source": [
    "column_names.remove('Complete_period2')\n",
    "X.drop(columns=['Complete_period2'],inplace=True)\n",
    "pipe.fit(X,y)\n",
    "print(pipe.named_steps['regressor'].result.summary(xname=column_names))"
   ]
  },
  {
   "cell_type": "code",
   "execution_count": 54,
   "id": "aa883c2f",
   "metadata": {},
   "outputs": [
    {
     "name": "stdout",
     "output_type": "stream",
     "text": [
      "Optimization terminated successfully.\n",
      "         Current function value: 0.258874\n",
      "         Iterations 8\n",
      "                           Logit Regression Results                           \n",
      "==============================================================================\n",
      "Dep. Variable:       cluster_deaths_2   No. Observations:                   46\n",
      "Model:                          Logit   Df Residuals:                       42\n",
      "Method:                           MLE   Df Model:                            3\n",
      "Date:                Sun, 29 May 2022   Pseudo R-squ.:                  0.3930\n",
      "Time:                        11:15:40   Log-Likelihood:                -11.908\n",
      "converged:                       True   LL-Null:                       -19.617\n",
      "Covariance Type:            nonrobust   LLR p-value:                  0.001492\n",
      "================================================================================================\n",
      "                                   coef    std err          z      P>|z|      [0.025      0.975]\n",
      "------------------------------------------------------------------------------------------------\n",
      "intercept                       -2.8194      0.806     -3.499      0.000      -4.399      -1.240\n",
      "Insured per state: uninsured     1.5489      0.669      2.316      0.021       0.238       2.859\n",
      "PovertyRate                      1.0554      0.586      1.802      0.072      -0.093       2.203\n",
      "degree centrality state          0.3739      0.732      0.511      0.609      -1.061       1.808\n",
      "================================================================================================\n"
     ]
    }
   ],
   "source": [
    "column_names.remove('prop_age')\n",
    "X.drop(columns=['prop_age'],inplace=True)\n",
    "pipe.fit(X,y)\n",
    "print(pipe.named_steps['regressor'].result.summary(xname=column_names))"
   ]
  },
  {
   "cell_type": "code",
   "execution_count": 55,
   "id": "3e889c71",
   "metadata": {},
   "outputs": [
    {
     "name": "stdout",
     "output_type": "stream",
     "text": [
      "Optimization terminated successfully.\n",
      "         Current function value: 0.261391\n",
      "         Iterations 8\n",
      "                           Logit Regression Results                           \n",
      "==============================================================================\n",
      "Dep. Variable:       cluster_deaths_2   No. Observations:                   46\n",
      "Model:                          Logit   Df Residuals:                       43\n",
      "Method:                           MLE   Df Model:                            2\n",
      "Date:                Sun, 29 May 2022   Pseudo R-squ.:                  0.3871\n",
      "Time:                        11:15:40   Log-Likelihood:                -12.024\n",
      "converged:                       True   LL-Null:                       -19.617\n",
      "Covariance Type:            nonrobust   LLR p-value:                 0.0005039\n",
      "================================================================================================\n",
      "                                   coef    std err          z      P>|z|      [0.025      0.975]\n",
      "------------------------------------------------------------------------------------------------\n",
      "intercept                       -2.8075      0.801     -3.506      0.000      -4.377      -1.238\n",
      "Insured per state: uninsured     1.4791      0.637      2.322      0.020       0.231       2.728\n",
      "PovertyRate                      1.0038      0.552      1.820      0.069      -0.077       2.085\n",
      "================================================================================================\n"
     ]
    }
   ],
   "source": [
    "column_names.remove('degree centrality state')\n",
    "X.drop(columns=['degree centrality state'],inplace=True)\n",
    "pipe.fit(X,y)\n",
    "print(pipe.named_steps['regressor'].result.summary(xname=column_names))"
   ]
  },
  {
   "cell_type": "code",
   "execution_count": 56,
   "id": "657aca9f",
   "metadata": {},
   "outputs": [
    {
     "name": "stdout",
     "output_type": "stream",
     "text": [
      "Optimization terminated successfully.\n",
      "         Current function value: 0.303076\n",
      "         Iterations 7\n",
      "                           Logit Regression Results                           \n",
      "==============================================================================\n",
      "Dep. Variable:       cluster_deaths_2   No. Observations:                   46\n",
      "Model:                          Logit   Df Residuals:                       44\n",
      "Method:                           MLE   Df Model:                            1\n",
      "Date:                Sun, 29 May 2022   Pseudo R-squ.:                  0.2893\n",
      "Time:                        11:15:40   Log-Likelihood:                -13.941\n",
      "converged:                       True   LL-Null:                       -19.617\n",
      "Covariance Type:            nonrobust   LLR p-value:                 0.0007539\n",
      "================================================================================================\n",
      "                                   coef    std err          z      P>|z|      [0.025      0.975]\n",
      "------------------------------------------------------------------------------------------------\n",
      "intercept                       -2.3770      0.633     -3.755      0.000      -3.618      -1.136\n",
      "Insured per state: uninsured     1.5657      0.595      2.633      0.008       0.400       2.731\n",
      "================================================================================================\n"
     ]
    }
   ],
   "source": [
    "column_names.remove('PovertyRate')\n",
    "X.drop(columns=['PovertyRate'],inplace=True)\n",
    "pipe.fit(X,y)\n",
    "print(pipe.named_steps['regressor'].result.summary(xname=column_names))"
   ]
  },
  {
   "cell_type": "markdown",
   "id": "d5eb77e4",
   "metadata": {},
   "source": [
    "## Logistic model deaths period 4"
   ]
  },
  {
   "cell_type": "code",
   "execution_count": 57,
   "id": "5bb46e27",
   "metadata": {},
   "outputs": [
    {
     "name": "stdout",
     "output_type": "stream",
     "text": [
      "Optimization terminated successfully.\n",
      "         Current function value: 0.231232\n",
      "         Iterations 8\n",
      "                           Logit Regression Results                           \n",
      "==============================================================================\n",
      "Dep. Variable:       cluster_deaths_4   No. Observations:                   50\n",
      "Model:                          Logit   Df Residuals:                       44\n",
      "Method:                           MLE   Df Model:                            5\n",
      "Date:                Sun, 29 May 2022   Pseudo R-squ.:                  0.2887\n",
      "Time:                        11:15:40   Log-Likelihood:                -11.562\n",
      "converged:                       True   LL-Null:                       -16.254\n",
      "Covariance Type:            nonrobust   LLR p-value:                   0.09466\n",
      "================================================================================================\n",
      "                                   coef    std err          z      P>|z|      [0.025      0.975]\n",
      "------------------------------------------------------------------------------------------------\n",
      "intercept                       -3.0597      0.811     -3.774      0.000      -4.649      -1.471\n",
      "Insured per state: uninsured     0.2358      0.728      0.324      0.746      -1.191       1.662\n",
      "prop_age                        -0.3880      0.735     -0.528      0.598      -1.829       1.053\n",
      "PovertyRate                      1.3459      0.582      2.314      0.021       0.206       2.486\n",
      "Complete_period4                -0.0083      0.743     -0.011      0.991      -1.464       1.448\n",
      "degree centrality state         -0.2212      0.935     -0.237      0.813      -2.053       1.611\n",
      "================================================================================================\n"
     ]
    }
   ],
   "source": [
    "column_names=['intercept','Insured per state: uninsured','prop_age','PovertyRate','Complete_period4','degree centrality state']\n",
    "X=data_log_model.dropna(subset=['cluster_deaths_4'])[[x for x in column_names if x != 'intercept']]\n",
    "y=data_log_model.dropna(subset=['cluster_deaths_4'])['cluster_deaths_4']\n",
    "pipe.fit(X,y)\n",
    "print(pipe.named_steps['regressor'].result.summary(xname=column_names))"
   ]
  },
  {
   "cell_type": "code",
   "execution_count": 58,
   "id": "0964717c",
   "metadata": {},
   "outputs": [
    {
     "name": "stdout",
     "output_type": "stream",
     "text": [
      "Optimization terminated successfully.\n",
      "         Current function value: 0.231233\n",
      "         Iterations 8\n",
      "                           Logit Regression Results                           \n",
      "==============================================================================\n",
      "Dep. Variable:       cluster_deaths_4   No. Observations:                   50\n",
      "Model:                          Logit   Df Residuals:                       45\n",
      "Method:                           MLE   Df Model:                            4\n",
      "Date:                Sun, 29 May 2022   Pseudo R-squ.:                  0.2887\n",
      "Time:                        11:15:40   Log-Likelihood:                -11.562\n",
      "converged:                       True   LL-Null:                       -16.254\n",
      "Covariance Type:            nonrobust   LLR p-value:                   0.05217\n",
      "================================================================================================\n",
      "                                   coef    std err          z      P>|z|      [0.025      0.975]\n",
      "------------------------------------------------------------------------------------------------\n",
      "intercept                       -3.0590      0.807     -3.789      0.000      -4.642      -1.476\n",
      "Insured per state: uninsured     0.2396      0.640      0.375      0.708      -1.014       1.493\n",
      "prop_age                        -0.3879      0.735     -0.528      0.598      -1.828       1.052\n",
      "PovertyRate                      1.3469      0.575      2.342      0.019       0.220       2.474\n",
      "degree centrality state         -0.2196      0.922     -0.238      0.812      -2.026       1.587\n",
      "================================================================================================\n"
     ]
    }
   ],
   "source": [
    "column_names.remove('Complete_period4')\n",
    "X.drop(columns=['Complete_period4'],inplace=True)\n",
    "pipe.fit(X,y)\n",
    "print(pipe.named_steps['regressor'].result.summary(xname=column_names))"
   ]
  },
  {
   "cell_type": "code",
   "execution_count": 59,
   "id": "190661c9",
   "metadata": {},
   "outputs": [
    {
     "name": "stdout",
     "output_type": "stream",
     "text": [
      "Optimization terminated successfully.\n",
      "         Current function value: 0.231852\n",
      "         Iterations 8\n",
      "                           Logit Regression Results                           \n",
      "==============================================================================\n",
      "Dep. Variable:       cluster_deaths_4   No. Observations:                   50\n",
      "Model:                          Logit   Df Residuals:                       46\n",
      "Method:                           MLE   Df Model:                            3\n",
      "Date:                Sun, 29 May 2022   Pseudo R-squ.:                  0.2868\n",
      "Time:                        11:15:41   Log-Likelihood:                -11.593\n",
      "converged:                       True   LL-Null:                       -16.254\n",
      "Covariance Type:            nonrobust   LLR p-value:                   0.02529\n",
      "================================================================================================\n",
      "                                   coef    std err          z      P>|z|      [0.025      0.975]\n",
      "------------------------------------------------------------------------------------------------\n",
      "intercept                       -3.0565      0.807     -3.789      0.000      -4.637      -1.476\n",
      "Insured per state: uninsured     0.2759      0.623      0.443      0.658      -0.945       1.497\n",
      "prop_age                        -0.3575      0.738     -0.484      0.628      -1.804       1.089\n",
      "PovertyRate                      1.3672      0.576      2.372      0.018       0.237       2.497\n",
      "================================================================================================\n"
     ]
    }
   ],
   "source": [
    "column_names.remove('degree centrality state')\n",
    "X.drop(columns=['degree centrality state'],inplace=True)\n",
    "pipe.fit(X,y)\n",
    "print(pipe.named_steps['regressor'].result.summary(xname=column_names))"
   ]
  },
  {
   "cell_type": "code",
   "execution_count": 60,
   "id": "5530e559",
   "metadata": {},
   "outputs": [
    {
     "name": "stdout",
     "output_type": "stream",
     "text": [
      "Optimization terminated successfully.\n",
      "         Current function value: 0.233788\n",
      "         Iterations 8\n",
      "                           Logit Regression Results                           \n",
      "==============================================================================\n",
      "Dep. Variable:       cluster_deaths_4   No. Observations:                   50\n",
      "Model:                          Logit   Df Residuals:                       47\n",
      "Method:                           MLE   Df Model:                            2\n",
      "Date:                Sun, 29 May 2022   Pseudo R-squ.:                  0.2808\n",
      "Time:                        11:15:41   Log-Likelihood:                -11.689\n",
      "converged:                       True   LL-Null:                       -16.254\n",
      "Covariance Type:            nonrobust   LLR p-value:                   0.01041\n",
      "===============================================================================\n",
      "                  coef    std err          z      P>|z|      [0.025      0.975]\n",
      "-------------------------------------------------------------------------------\n",
      "intercept      -3.0100      0.782     -3.849      0.000      -4.543      -1.477\n",
      "prop_age       -0.5555      0.617     -0.901      0.368      -1.764       0.653\n",
      "PovertyRate     1.4285      0.558      2.559      0.010       0.334       2.522\n",
      "===============================================================================\n"
     ]
    }
   ],
   "source": [
    "column_names.remove('Insured per state: uninsured')\n",
    "X.drop(columns=['Insured per state: uninsured'],inplace=True)\n",
    "pipe.fit(X,y)\n",
    "print(pipe.named_steps['regressor'].result.summary(xname=column_names))"
   ]
  },
  {
   "cell_type": "code",
   "execution_count": 61,
   "id": "3bf2ea48",
   "metadata": {},
   "outputs": [
    {
     "name": "stdout",
     "output_type": "stream",
     "text": [
      "Optimization terminated successfully.\n",
      "         Current function value: 0.241952\n",
      "         Iterations 7\n",
      "                           Logit Regression Results                           \n",
      "==============================================================================\n",
      "Dep. Variable:       cluster_deaths_4   No. Observations:                   50\n",
      "Model:                          Logit   Df Residuals:                       48\n",
      "Method:                           MLE   Df Model:                            1\n",
      "Date:                Sun, 29 May 2022   Pseudo R-squ.:                  0.2557\n",
      "Time:                        11:15:41   Log-Likelihood:                -12.098\n",
      "converged:                       True   LL-Null:                       -16.254\n",
      "Covariance Type:            nonrobust   LLR p-value:                  0.003936\n",
      "===============================================================================\n",
      "                  coef    std err          z      P>|z|      [0.025      0.975]\n",
      "-------------------------------------------------------------------------------\n",
      "intercept      -2.8911      0.729     -3.968      0.000      -4.319      -1.463\n",
      "PovertyRate     1.3258      0.516      2.572      0.010       0.315       2.336\n",
      "===============================================================================\n"
     ]
    }
   ],
   "source": [
    "column_names.remove('prop_age')\n",
    "X.drop(columns=['prop_age'],inplace=True)\n",
    "pipe.fit(X,y)\n",
    "print(pipe.named_steps['regressor'].result.summary(xname=column_names))"
   ]
  },
  {
   "cell_type": "markdown",
   "id": "d18973fd",
   "metadata": {},
   "source": [
    "## Logistic model deaths period 5"
   ]
  },
  {
   "cell_type": "code",
   "execution_count": 62,
   "id": "bc565b2c",
   "metadata": {},
   "outputs": [
    {
     "name": "stdout",
     "output_type": "stream",
     "text": [
      "Optimization terminated successfully.\n",
      "         Current function value: 0.395379\n",
      "         Iterations 7\n",
      "                           Logit Regression Results                           \n",
      "==============================================================================\n",
      "Dep. Variable:       cluster_deaths_5   No. Observations:                   44\n",
      "Model:                          Logit   Df Residuals:                       38\n",
      "Method:                           MLE   Df Model:                            5\n",
      "Date:                Sun, 29 May 2022   Pseudo R-squ.:                  0.4218\n",
      "Time:                        11:15:41   Log-Likelihood:                -17.397\n",
      "converged:                       True   LL-Null:                       -30.088\n",
      "Covariance Type:            nonrobust   LLR p-value:                 0.0001175\n",
      "================================================================================================\n",
      "                                   coef    std err          z      P>|z|      [0.025      0.975]\n",
      "------------------------------------------------------------------------------------------------\n",
      "intercept                       -0.4932      0.439     -1.123      0.261      -1.354       0.367\n",
      "Insured per state: uninsured     1.1263      0.595      1.893      0.058      -0.040       2.293\n",
      "prop_age                        -0.4196      0.509     -0.824      0.410      -1.417       0.578\n",
      "PovertyRate                      0.9937      0.515      1.930      0.054      -0.015       2.003\n",
      "Complete_period5                -1.2471      0.530     -2.352      0.019      -2.286      -0.208\n",
      "degree centrality state          0.3926      0.489      0.803      0.422      -0.566       1.351\n",
      "================================================================================================\n"
     ]
    }
   ],
   "source": [
    "column_names=['intercept','Insured per state: uninsured','prop_age','PovertyRate','Complete_period5','degree centrality state']\n",
    "X=data_log_model.dropna(subset=['cluster_deaths_5'])[[x for x in column_names if x != 'intercept']]\n",
    "y=data_log_model.dropna(subset=['cluster_deaths_5'])['cluster_deaths_5']\n",
    "pipe.fit(X,y)\n",
    "print(pipe.named_steps['regressor'].result.summary(xname=column_names))"
   ]
  },
  {
   "cell_type": "code",
   "execution_count": 63,
   "id": "c5cc4601",
   "metadata": {},
   "outputs": [
    {
     "name": "stdout",
     "output_type": "stream",
     "text": [
      "Optimization terminated successfully.\n",
      "         Current function value: 0.402429\n",
      "         Iterations 7\n",
      "                           Logit Regression Results                           \n",
      "==============================================================================\n",
      "Dep. Variable:       cluster_deaths_5   No. Observations:                   44\n",
      "Model:                          Logit   Df Residuals:                       39\n",
      "Method:                           MLE   Df Model:                            4\n",
      "Date:                Sun, 29 May 2022   Pseudo R-squ.:                  0.4115\n",
      "Time:                        11:15:41   Log-Likelihood:                -17.707\n",
      "converged:                       True   LL-Null:                       -30.088\n",
      "Covariance Type:            nonrobust   LLR p-value:                 5.615e-05\n",
      "================================================================================================\n",
      "                                   coef    std err          z      P>|z|      [0.025      0.975]\n",
      "------------------------------------------------------------------------------------------------\n",
      "intercept                       -0.4825      0.435     -1.110      0.267      -1.334       0.369\n",
      "Insured per state: uninsured     1.0028      0.558      1.796      0.073      -0.092       2.097\n",
      "prop_age                        -0.4621      0.487     -0.949      0.343      -1.417       0.492\n",
      "PovertyRate                      0.9517      0.508      1.874      0.061      -0.044       1.947\n",
      "Complete_period5                -1.0982      0.476     -2.305      0.021      -2.032      -0.165\n",
      "================================================================================================\n"
     ]
    }
   ],
   "source": [
    "column_names.remove('degree centrality state')\n",
    "X.drop(columns=['degree centrality state'],inplace=True)\n",
    "pipe.fit(X,y)\n",
    "print(pipe.named_steps['regressor'].result.summary(xname=column_names))"
   ]
  },
  {
   "cell_type": "code",
   "execution_count": 64,
   "id": "f0dfd790",
   "metadata": {},
   "outputs": [
    {
     "name": "stdout",
     "output_type": "stream",
     "text": [
      "Optimization terminated successfully.\n",
      "         Current function value: 0.413268\n",
      "         Iterations 7\n",
      "                           Logit Regression Results                           \n",
      "==============================================================================\n",
      "Dep. Variable:       cluster_deaths_5   No. Observations:                   44\n",
      "Model:                          Logit   Df Residuals:                       40\n",
      "Method:                           MLE   Df Model:                            3\n",
      "Date:                Sun, 29 May 2022   Pseudo R-squ.:                  0.3956\n",
      "Time:                        11:15:41   Log-Likelihood:                -18.184\n",
      "converged:                       True   LL-Null:                       -30.088\n",
      "Covariance Type:            nonrobust   LLR p-value:                 2.739e-05\n",
      "================================================================================================\n",
      "                                   coef    std err          z      P>|z|      [0.025      0.975]\n",
      "------------------------------------------------------------------------------------------------\n",
      "intercept                       -0.4970      0.433     -1.149      0.251      -1.345       0.351\n",
      "Insured per state: uninsured     1.0544      0.531      1.985      0.047       0.013       2.096\n",
      "PovertyRate                      0.8291      0.471      1.759      0.079      -0.095       1.753\n",
      "Complete_period5                -1.0668      0.510     -2.092      0.036      -2.066      -0.067\n",
      "================================================================================================\n"
     ]
    }
   ],
   "source": [
    "column_names.remove('prop_age')\n",
    "X.drop(columns=['prop_age'],inplace=True)\n",
    "pipe.fit(X,y)\n",
    "print(pipe.named_steps['regressor'].result.summary(xname=column_names))"
   ]
  },
  {
   "cell_type": "code",
   "execution_count": 65,
   "id": "6cf5341a",
   "metadata": {},
   "outputs": [
    {
     "name": "stdout",
     "output_type": "stream",
     "text": [
      "Optimization terminated successfully.\n",
      "         Current function value: 0.453746\n",
      "         Iterations 6\n",
      "                           Logit Regression Results                           \n",
      "==============================================================================\n",
      "Dep. Variable:       cluster_deaths_5   No. Observations:                   44\n",
      "Model:                          Logit   Df Residuals:                       41\n",
      "Method:                           MLE   Df Model:                            2\n",
      "Date:                Sun, 29 May 2022   Pseudo R-squ.:                  0.3365\n",
      "Time:                        11:15:41   Log-Likelihood:                -19.965\n",
      "converged:                       True   LL-Null:                       -30.088\n",
      "Covariance Type:            nonrobust   LLR p-value:                 4.013e-05\n",
      "================================================================================================\n",
      "                                   coef    std err          z      P>|z|      [0.025      0.975]\n",
      "------------------------------------------------------------------------------------------------\n",
      "intercept                       -0.3697      0.396     -0.933      0.351      -1.146       0.407\n",
      "Insured per state: uninsured     1.2590      0.547      2.301      0.021       0.187       2.331\n",
      "Complete_period5                -1.1112      0.580     -1.915      0.055      -2.248       0.026\n",
      "================================================================================================\n"
     ]
    }
   ],
   "source": [
    "column_names.remove('PovertyRate')\n",
    "X.drop(columns=['PovertyRate'],inplace=True)\n",
    "pipe.fit(X,y)\n",
    "print(pipe.named_steps['regressor'].result.summary(xname=column_names))"
   ]
  },
  {
   "cell_type": "code",
   "execution_count": 66,
   "id": "b15df709",
   "metadata": {},
   "outputs": [
    {
     "name": "stdout",
     "output_type": "stream",
     "text": [
      "Optimization terminated successfully.\n",
      "         Current function value: 0.536403\n",
      "         Iterations 6\n",
      "                           Logit Regression Results                           \n",
      "==============================================================================\n",
      "Dep. Variable:       cluster_deaths_5   No. Observations:                   44\n",
      "Model:                          Logit   Df Residuals:                       42\n",
      "Method:                           MLE   Df Model:                            1\n",
      "Date:                Sun, 29 May 2022   Pseudo R-squ.:                  0.2156\n",
      "Time:                        11:15:41   Log-Likelihood:                -23.602\n",
      "converged:                       True   LL-Null:                       -30.088\n",
      "Covariance Type:            nonrobust   LLR p-value:                 0.0003161\n",
      "================================================================================================\n",
      "                                   coef    std err          z      P>|z|      [0.025      0.975]\n",
      "------------------------------------------------------------------------------------------------\n",
      "intercept                       -0.2791      0.356     -0.785      0.433      -0.976       0.418\n",
      "Insured per state: uninsured     1.3979      0.480      2.912      0.004       0.457       2.339\n",
      "================================================================================================\n"
     ]
    }
   ],
   "source": [
    "column_names.remove('Complete_period5')\n",
    "X.drop(columns=['Complete_period5'],inplace=True)\n",
    "pipe.fit(X,y)\n",
    "print(pipe.named_steps['regressor'].result.summary(xname=column_names))"
   ]
  },
  {
   "cell_type": "code",
   "execution_count": 67,
   "id": "ec0b630c",
   "metadata": {},
   "outputs": [
    {
     "name": "stdout",
     "output_type": "stream",
     "text": [
      "Optimization terminated successfully.\n",
      "         Current function value: 0.534504\n",
      "         Iterations 6\n",
      "                           Logit Regression Results                           \n",
      "==============================================================================\n",
      "Dep. Variable:       cluster_deaths_5   No. Observations:                   44\n",
      "Model:                          Logit   Df Residuals:                       42\n",
      "Method:                           MLE   Df Model:                            1\n",
      "Date:                Sun, 29 May 2022   Pseudo R-squ.:                  0.2184\n",
      "Time:                        11:15:41   Log-Likelihood:                -23.518\n",
      "converged:                       True   LL-Null:                       -30.088\n",
      "Covariance Type:            nonrobust   LLR p-value:                 0.0002891\n",
      "====================================================================================\n",
      "                       coef    std err          z      P>|z|      [0.025      0.975]\n",
      "------------------------------------------------------------------------------------\n",
      "intercept           -0.2802      0.356     -0.786      0.432      -0.979       0.418\n",
      "Complete_period5    -1.8062      0.634     -2.849      0.004      -3.049      -0.564\n",
      "====================================================================================\n"
     ]
    }
   ],
   "source": [
    "column_names=['intercept','Complete_period5']\n",
    "X=data_log_model.dropna(subset=['cluster_deaths_5'])[[x for x in column_names if x != 'intercept']]\n",
    "y=data_log_model.dropna(subset=['cluster_deaths_5'])['cluster_deaths_5']\n",
    "pipe.fit(X,y)\n",
    "print(pipe.named_steps['regressor'].result.summary(xname=column_names))"
   ]
  },
  {
   "cell_type": "markdown",
   "id": "2133d46b",
   "metadata": {},
   "source": [
    "# Firth's procedure"
   ]
  },
  {
   "cell_type": "markdown",
   "id": "def6542c",
   "metadata": {},
   "source": [
    "Firth's procedure is more accurate for small samples than normal logistic regression. This procedure is however not implemented in python. On https://gist.github.com/johnlees/3e06380965f367e4894ea20fbae2b90d, an implementation can be found for Firth's regression (by John Lees). This implementation is used as a basis. It is however a little bit adapted to program it in an object-oriented way, such that it can be used in a pipeline."
   ]
  },
  {
   "cell_type": "markdown",
   "id": "98b0bd46",
   "metadata": {},
   "source": [
    "## Firth's procedure on cases"
   ]
  },
  {
   "cell_type": "code",
   "execution_count": 68,
   "id": "1087b582",
   "metadata": {},
   "outputs": [],
   "source": [
    "pipe = Pipeline([\n",
    "        ('scaler', StandardScaler()),\n",
    "        ('regressor', my_regression.Firth_regression()),\n",
    "        ])"
   ]
  },
  {
   "cell_type": "code",
   "execution_count": 69,
   "id": "2effd41f",
   "metadata": {},
   "outputs": [
    {
     "data": {
      "text/html": [
       "<div>\n",
       "<style scoped>\n",
       "    .dataframe tbody tr th:only-of-type {\n",
       "        vertical-align: middle;\n",
       "    }\n",
       "\n",
       "    .dataframe tbody tr th {\n",
       "        vertical-align: top;\n",
       "    }\n",
       "\n",
       "    .dataframe thead th {\n",
       "        text-align: right;\n",
       "    }\n",
       "</style>\n",
       "<table border=\"1\" class=\"dataframe\">\n",
       "  <thead>\n",
       "    <tr style=\"text-align: right;\">\n",
       "      <th></th>\n",
       "      <th>variable</th>\n",
       "      <th>coefficient</th>\n",
       "      <th>p-value</th>\n",
       "    </tr>\n",
       "  </thead>\n",
       "  <tbody>\n",
       "    <tr>\n",
       "      <th>0</th>\n",
       "      <td>intercept</td>\n",
       "      <td>-0.705387</td>\n",
       "      <td>0.051793</td>\n",
       "    </tr>\n",
       "    <tr>\n",
       "      <th>1</th>\n",
       "      <td>Insured per state: uninsured</td>\n",
       "      <td>0.721261</td>\n",
       "      <td>0.123225</td>\n",
       "    </tr>\n",
       "    <tr>\n",
       "      <th>2</th>\n",
       "      <td>prop_age</td>\n",
       "      <td>-0.138143</td>\n",
       "      <td>0.724556</td>\n",
       "    </tr>\n",
       "    <tr>\n",
       "      <th>3</th>\n",
       "      <td>PovertyRate</td>\n",
       "      <td>0.698608</td>\n",
       "      <td>0.080930</td>\n",
       "    </tr>\n",
       "    <tr>\n",
       "      <th>4</th>\n",
       "      <td>Complete_period4</td>\n",
       "      <td>-0.646041</td>\n",
       "      <td>0.104230</td>\n",
       "    </tr>\n",
       "    <tr>\n",
       "      <th>5</th>\n",
       "      <td>degree centrality state</td>\n",
       "      <td>0.102181</td>\n",
       "      <td>0.800395</td>\n",
       "    </tr>\n",
       "  </tbody>\n",
       "</table>\n",
       "</div>"
      ],
      "text/plain": [
       "                       variable  coefficient   p-value\n",
       "0                     intercept    -0.705387  0.051793\n",
       "1  Insured per state: uninsured     0.721261  0.123225\n",
       "2                      prop_age    -0.138143  0.724556\n",
       "3                   PovertyRate     0.698608  0.080930\n",
       "4              Complete_period4    -0.646041  0.104230\n",
       "5       degree centrality state     0.102181  0.800395"
      ]
     },
     "execution_count": 69,
     "metadata": {},
     "output_type": "execute_result"
    }
   ],
   "source": [
    "column_names=['intercept','Insured per state: uninsured','prop_age','PovertyRate','Complete_period4','degree centrality state']\n",
    "X=data_log_model.dropna(subset=['cluster_cases_4'])[[x for x in column_names if x != 'intercept']]\n",
    "y=data_log_model.dropna(subset=['cluster_cases_4'])['cluster_cases_4']\n",
    "pipeline = pipe.fit(X,y)\n",
    "pd.DataFrame({'variable':column_names,'coefficient':pipeline.named_steps['regressor'].beta,'p-value':pipeline.named_steps['regressor'].waldp})"
   ]
  },
  {
   "cell_type": "code",
   "execution_count": 70,
   "id": "fdfacf0d",
   "metadata": {},
   "outputs": [
    {
     "data": {
      "text/html": [
       "<div>\n",
       "<style scoped>\n",
       "    .dataframe tbody tr th:only-of-type {\n",
       "        vertical-align: middle;\n",
       "    }\n",
       "\n",
       "    .dataframe tbody tr th {\n",
       "        vertical-align: top;\n",
       "    }\n",
       "\n",
       "    .dataframe thead th {\n",
       "        text-align: right;\n",
       "    }\n",
       "</style>\n",
       "<table border=\"1\" class=\"dataframe\">\n",
       "  <thead>\n",
       "    <tr style=\"text-align: right;\">\n",
       "      <th></th>\n",
       "      <th>variable</th>\n",
       "      <th>coefficient</th>\n",
       "      <th>p-value</th>\n",
       "    </tr>\n",
       "  </thead>\n",
       "  <tbody>\n",
       "    <tr>\n",
       "      <th>0</th>\n",
       "      <td>intercept</td>\n",
       "      <td>-0.749194</td>\n",
       "      <td>0.042625</td>\n",
       "    </tr>\n",
       "    <tr>\n",
       "      <th>1</th>\n",
       "      <td>Insured per state: uninsured</td>\n",
       "      <td>0.720357</td>\n",
       "      <td>0.113220</td>\n",
       "    </tr>\n",
       "    <tr>\n",
       "      <th>2</th>\n",
       "      <td>prop_age</td>\n",
       "      <td>-0.144145</td>\n",
       "      <td>0.713045</td>\n",
       "    </tr>\n",
       "    <tr>\n",
       "      <th>3</th>\n",
       "      <td>PovertyRate</td>\n",
       "      <td>0.723953</td>\n",
       "      <td>0.074540</td>\n",
       "    </tr>\n",
       "    <tr>\n",
       "      <th>4</th>\n",
       "      <td>Complete_period4</td>\n",
       "      <td>-0.649287</td>\n",
       "      <td>0.092527</td>\n",
       "    </tr>\n",
       "  </tbody>\n",
       "</table>\n",
       "</div>"
      ],
      "text/plain": [
       "                       variable  coefficient   p-value\n",
       "0                     intercept    -0.749194  0.042625\n",
       "1  Insured per state: uninsured     0.720357  0.113220\n",
       "2                      prop_age    -0.144145  0.713045\n",
       "3                   PovertyRate     0.723953  0.074540\n",
       "4              Complete_period4    -0.649287  0.092527"
      ]
     },
     "execution_count": 70,
     "metadata": {},
     "output_type": "execute_result"
    }
   ],
   "source": [
    "column_names.remove('degree centrality state')\n",
    "X.drop(columns=['degree centrality state'],inplace=True)\n",
    "pipeline = pipe.fit(X,y)\n",
    "pd.DataFrame({'variable':column_names,'coefficient':pipeline.named_steps['regressor'].beta,'p-value':pipeline.named_steps['regressor'].waldp})"
   ]
  },
  {
   "cell_type": "code",
   "execution_count": 71,
   "id": "5d09e08c",
   "metadata": {},
   "outputs": [
    {
     "data": {
      "text/html": [
       "<div>\n",
       "<style scoped>\n",
       "    .dataframe tbody tr th:only-of-type {\n",
       "        vertical-align: middle;\n",
       "    }\n",
       "\n",
       "    .dataframe tbody tr th {\n",
       "        vertical-align: top;\n",
       "    }\n",
       "\n",
       "    .dataframe thead th {\n",
       "        text-align: right;\n",
       "    }\n",
       "</style>\n",
       "<table border=\"1\" class=\"dataframe\">\n",
       "  <thead>\n",
       "    <tr style=\"text-align: right;\">\n",
       "      <th></th>\n",
       "      <th>variable</th>\n",
       "      <th>coefficient</th>\n",
       "      <th>p-value</th>\n",
       "    </tr>\n",
       "  </thead>\n",
       "  <tbody>\n",
       "    <tr>\n",
       "      <th>0</th>\n",
       "      <td>intercept</td>\n",
       "      <td>-0.772693</td>\n",
       "      <td>0.038124</td>\n",
       "    </tr>\n",
       "    <tr>\n",
       "      <th>1</th>\n",
       "      <td>Insured per state: uninsured</td>\n",
       "      <td>0.765111</td>\n",
       "      <td>0.081434</td>\n",
       "    </tr>\n",
       "    <tr>\n",
       "      <th>2</th>\n",
       "      <td>PovertyRate</td>\n",
       "      <td>0.706555</td>\n",
       "      <td>0.070820</td>\n",
       "    </tr>\n",
       "    <tr>\n",
       "      <th>3</th>\n",
       "      <td>Complete_period4</td>\n",
       "      <td>-0.644077</td>\n",
       "      <td>0.091186</td>\n",
       "    </tr>\n",
       "  </tbody>\n",
       "</table>\n",
       "</div>"
      ],
      "text/plain": [
       "                       variable  coefficient   p-value\n",
       "0                     intercept    -0.772693  0.038124\n",
       "1  Insured per state: uninsured     0.765111  0.081434\n",
       "2                   PovertyRate     0.706555  0.070820\n",
       "3              Complete_period4    -0.644077  0.091186"
      ]
     },
     "execution_count": 71,
     "metadata": {},
     "output_type": "execute_result"
    }
   ],
   "source": [
    "column_names.remove('prop_age')\n",
    "X.drop(columns=['prop_age'],inplace=True)\n",
    "pipeline = pipe.fit(X,y)\n",
    "pd.DataFrame({'variable':column_names,'coefficient':pipeline.named_steps['regressor'].beta,'p-value':pipeline.named_steps['regressor'].waldp})"
   ]
  },
  {
   "cell_type": "code",
   "execution_count": 72,
   "id": "3e00801e",
   "metadata": {},
   "outputs": [
    {
     "data": {
      "text/html": [
       "<div>\n",
       "<style scoped>\n",
       "    .dataframe tbody tr th:only-of-type {\n",
       "        vertical-align: middle;\n",
       "    }\n",
       "\n",
       "    .dataframe tbody tr th {\n",
       "        vertical-align: top;\n",
       "    }\n",
       "\n",
       "    .dataframe thead th {\n",
       "        text-align: right;\n",
       "    }\n",
       "</style>\n",
       "<table border=\"1\" class=\"dataframe\">\n",
       "  <thead>\n",
       "    <tr style=\"text-align: right;\">\n",
       "      <th></th>\n",
       "      <th>variable</th>\n",
       "      <th>coefficient</th>\n",
       "      <th>p-value</th>\n",
       "    </tr>\n",
       "  </thead>\n",
       "  <tbody>\n",
       "    <tr>\n",
       "      <th>0</th>\n",
       "      <td>intercept</td>\n",
       "      <td>-0.734162</td>\n",
       "      <td>0.039981</td>\n",
       "    </tr>\n",
       "    <tr>\n",
       "      <th>1</th>\n",
       "      <td>Insured per state: uninsured</td>\n",
       "      <td>0.867168</td>\n",
       "      <td>0.035394</td>\n",
       "    </tr>\n",
       "    <tr>\n",
       "      <th>2</th>\n",
       "      <td>PovertyRate</td>\n",
       "      <td>0.813345</td>\n",
       "      <td>0.037328</td>\n",
       "    </tr>\n",
       "  </tbody>\n",
       "</table>\n",
       "</div>"
      ],
      "text/plain": [
       "                       variable  coefficient   p-value\n",
       "0                     intercept    -0.734162  0.039981\n",
       "1  Insured per state: uninsured     0.867168  0.035394\n",
       "2                   PovertyRate     0.813345  0.037328"
      ]
     },
     "execution_count": 72,
     "metadata": {},
     "output_type": "execute_result"
    }
   ],
   "source": [
    "column_names.remove('Complete_period4')\n",
    "X.drop(columns=['Complete_period4'],inplace=True)\n",
    "pipeline = pipe.fit(X,y)\n",
    "pd.DataFrame({'variable':column_names,'coefficient':pipeline.named_steps['regressor'].beta,'p-value':pipeline.named_steps['regressor'].waldp})"
   ]
  },
  {
   "cell_type": "markdown",
   "id": "761fb6fc",
   "metadata": {},
   "source": [
    "## Firth's procedure deaths whole period "
   ]
  },
  {
   "cell_type": "code",
   "execution_count": 73,
   "id": "4eb935da",
   "metadata": {},
   "outputs": [
    {
     "data": {
      "text/html": [
       "<div>\n",
       "<style scoped>\n",
       "    .dataframe tbody tr th:only-of-type {\n",
       "        vertical-align: middle;\n",
       "    }\n",
       "\n",
       "    .dataframe tbody tr th {\n",
       "        vertical-align: top;\n",
       "    }\n",
       "\n",
       "    .dataframe thead th {\n",
       "        text-align: right;\n",
       "    }\n",
       "</style>\n",
       "<table border=\"1\" class=\"dataframe\">\n",
       "  <thead>\n",
       "    <tr style=\"text-align: right;\">\n",
       "      <th></th>\n",
       "      <th>variable</th>\n",
       "      <th>coefficient</th>\n",
       "      <th>p-value</th>\n",
       "    </tr>\n",
       "  </thead>\n",
       "  <tbody>\n",
       "    <tr>\n",
       "      <th>0</th>\n",
       "      <td>intercept</td>\n",
       "      <td>-1.155522</td>\n",
       "      <td>0.016107</td>\n",
       "    </tr>\n",
       "    <tr>\n",
       "      <th>1</th>\n",
       "      <td>Insured per state: uninsured</td>\n",
       "      <td>-1.174258</td>\n",
       "      <td>0.077977</td>\n",
       "    </tr>\n",
       "    <tr>\n",
       "      <th>2</th>\n",
       "      <td>prop_age</td>\n",
       "      <td>-0.246275</td>\n",
       "      <td>0.576128</td>\n",
       "    </tr>\n",
       "    <tr>\n",
       "      <th>3</th>\n",
       "      <td>PovertyRate</td>\n",
       "      <td>-0.917075</td>\n",
       "      <td>0.138074</td>\n",
       "    </tr>\n",
       "    <tr>\n",
       "      <th>4</th>\n",
       "      <td>Complete_all</td>\n",
       "      <td>0.335801</td>\n",
       "      <td>0.385382</td>\n",
       "    </tr>\n",
       "    <tr>\n",
       "      <th>5</th>\n",
       "      <td>degree centrality state</td>\n",
       "      <td>0.522831</td>\n",
       "      <td>0.310578</td>\n",
       "    </tr>\n",
       "  </tbody>\n",
       "</table>\n",
       "</div>"
      ],
      "text/plain": [
       "                       variable  coefficient   p-value\n",
       "0                     intercept    -1.155522  0.016107\n",
       "1  Insured per state: uninsured    -1.174258  0.077977\n",
       "2                      prop_age    -0.246275  0.576128\n",
       "3                   PovertyRate    -0.917075  0.138074\n",
       "4                  Complete_all     0.335801  0.385382\n",
       "5       degree centrality state     0.522831  0.310578"
      ]
     },
     "execution_count": 73,
     "metadata": {},
     "output_type": "execute_result"
    }
   ],
   "source": [
    "column_names=['intercept','Insured per state: uninsured','prop_age','PovertyRate','Complete_all','degree centrality state']\n",
    "X=data_log_model.dropna(subset=['cluster_deaths_all'])[[x for x in column_names if x != 'intercept']]\n",
    "y=data_log_model.dropna(subset=['cluster_deaths_all'])['cluster_deaths_all']\n",
    "pipeline = pipe.fit(X,y)\n",
    "pd.DataFrame({'variable':column_names,'coefficient':pipeline.named_steps['regressor'].beta,'p-value':pipeline.named_steps['regressor'].waldp})"
   ]
  },
  {
   "cell_type": "code",
   "execution_count": 74,
   "id": "b015afb4",
   "metadata": {},
   "outputs": [
    {
     "data": {
      "text/html": [
       "<div>\n",
       "<style scoped>\n",
       "    .dataframe tbody tr th:only-of-type {\n",
       "        vertical-align: middle;\n",
       "    }\n",
       "\n",
       "    .dataframe tbody tr th {\n",
       "        vertical-align: top;\n",
       "    }\n",
       "\n",
       "    .dataframe thead th {\n",
       "        text-align: right;\n",
       "    }\n",
       "</style>\n",
       "<table border=\"1\" class=\"dataframe\">\n",
       "  <thead>\n",
       "    <tr style=\"text-align: right;\">\n",
       "      <th></th>\n",
       "      <th>variable</th>\n",
       "      <th>coefficient</th>\n",
       "      <th>p-value</th>\n",
       "    </tr>\n",
       "  </thead>\n",
       "  <tbody>\n",
       "    <tr>\n",
       "      <th>0</th>\n",
       "      <td>intercept</td>\n",
       "      <td>-1.159682</td>\n",
       "      <td>0.014610</td>\n",
       "    </tr>\n",
       "    <tr>\n",
       "      <th>1</th>\n",
       "      <td>Insured per state: uninsured</td>\n",
       "      <td>-1.021019</td>\n",
       "      <td>0.078396</td>\n",
       "    </tr>\n",
       "    <tr>\n",
       "      <th>2</th>\n",
       "      <td>PovertyRate</td>\n",
       "      <td>-1.064734</td>\n",
       "      <td>0.089154</td>\n",
       "    </tr>\n",
       "    <tr>\n",
       "      <th>3</th>\n",
       "      <td>Complete_all</td>\n",
       "      <td>0.332060</td>\n",
       "      <td>0.385579</td>\n",
       "    </tr>\n",
       "    <tr>\n",
       "      <th>4</th>\n",
       "      <td>degree centrality state</td>\n",
       "      <td>0.594915</td>\n",
       "      <td>0.259746</td>\n",
       "    </tr>\n",
       "  </tbody>\n",
       "</table>\n",
       "</div>"
      ],
      "text/plain": [
       "                       variable  coefficient   p-value\n",
       "0                     intercept    -1.159682  0.014610\n",
       "1  Insured per state: uninsured    -1.021019  0.078396\n",
       "2                   PovertyRate    -1.064734  0.089154\n",
       "3                  Complete_all     0.332060  0.385579\n",
       "4       degree centrality state     0.594915  0.259746"
      ]
     },
     "execution_count": 74,
     "metadata": {},
     "output_type": "execute_result"
    }
   ],
   "source": [
    "column_names.remove('prop_age')\n",
    "X.drop(columns=['prop_age'],inplace=True)\n",
    "pipeline = pipe.fit(X,y)\n",
    "pd.DataFrame({'variable':column_names,'coefficient':pipeline.named_steps['regressor'].beta,'p-value':pipeline.named_steps['regressor'].waldp})"
   ]
  },
  {
   "cell_type": "code",
   "execution_count": 75,
   "id": "c430ac93",
   "metadata": {},
   "outputs": [
    {
     "data": {
      "text/html": [
       "<div>\n",
       "<style scoped>\n",
       "    .dataframe tbody tr th:only-of-type {\n",
       "        vertical-align: middle;\n",
       "    }\n",
       "\n",
       "    .dataframe tbody tr th {\n",
       "        vertical-align: top;\n",
       "    }\n",
       "\n",
       "    .dataframe thead th {\n",
       "        text-align: right;\n",
       "    }\n",
       "</style>\n",
       "<table border=\"1\" class=\"dataframe\">\n",
       "  <thead>\n",
       "    <tr style=\"text-align: right;\">\n",
       "      <th></th>\n",
       "      <th>variable</th>\n",
       "      <th>coefficient</th>\n",
       "      <th>p-value</th>\n",
       "    </tr>\n",
       "  </thead>\n",
       "  <tbody>\n",
       "    <tr>\n",
       "      <th>0</th>\n",
       "      <td>intercept</td>\n",
       "      <td>-1.120618</td>\n",
       "      <td>0.014019</td>\n",
       "    </tr>\n",
       "    <tr>\n",
       "      <th>1</th>\n",
       "      <td>Insured per state: uninsured</td>\n",
       "      <td>-0.956201</td>\n",
       "      <td>0.084110</td>\n",
       "    </tr>\n",
       "    <tr>\n",
       "      <th>2</th>\n",
       "      <td>PovertyRate</td>\n",
       "      <td>-1.092817</td>\n",
       "      <td>0.072704</td>\n",
       "    </tr>\n",
       "    <tr>\n",
       "      <th>3</th>\n",
       "      <td>degree centrality state</td>\n",
       "      <td>0.710034</td>\n",
       "      <td>0.168884</td>\n",
       "    </tr>\n",
       "  </tbody>\n",
       "</table>\n",
       "</div>"
      ],
      "text/plain": [
       "                       variable  coefficient   p-value\n",
       "0                     intercept    -1.120618  0.014019\n",
       "1  Insured per state: uninsured    -0.956201  0.084110\n",
       "2                   PovertyRate    -1.092817  0.072704\n",
       "3       degree centrality state     0.710034  0.168884"
      ]
     },
     "execution_count": 75,
     "metadata": {},
     "output_type": "execute_result"
    }
   ],
   "source": [
    "column_names.remove('Complete_all')\n",
    "X.drop(columns=['Complete_all'],inplace=True)\n",
    "pipeline = pipe.fit(X,y)\n",
    "pd.DataFrame({'variable':column_names,'coefficient':pipeline.named_steps['regressor'].beta,'p-value':pipeline.named_steps['regressor'].waldp})"
   ]
  },
  {
   "cell_type": "code",
   "execution_count": 76,
   "id": "1a281fe4",
   "metadata": {},
   "outputs": [
    {
     "data": {
      "text/html": [
       "<div>\n",
       "<style scoped>\n",
       "    .dataframe tbody tr th:only-of-type {\n",
       "        vertical-align: middle;\n",
       "    }\n",
       "\n",
       "    .dataframe tbody tr th {\n",
       "        vertical-align: top;\n",
       "    }\n",
       "\n",
       "    .dataframe thead th {\n",
       "        text-align: right;\n",
       "    }\n",
       "</style>\n",
       "<table border=\"1\" class=\"dataframe\">\n",
       "  <thead>\n",
       "    <tr style=\"text-align: right;\">\n",
       "      <th></th>\n",
       "      <th>variable</th>\n",
       "      <th>coefficient</th>\n",
       "      <th>p-value</th>\n",
       "    </tr>\n",
       "  </thead>\n",
       "  <tbody>\n",
       "    <tr>\n",
       "      <th>0</th>\n",
       "      <td>intercept</td>\n",
       "      <td>-1.138170</td>\n",
       "      <td>0.011352</td>\n",
       "    </tr>\n",
       "    <tr>\n",
       "      <th>1</th>\n",
       "      <td>Insured per state: uninsured</td>\n",
       "      <td>-1.200130</td>\n",
       "      <td>0.033239</td>\n",
       "    </tr>\n",
       "    <tr>\n",
       "      <th>2</th>\n",
       "      <td>PovertyRate</td>\n",
       "      <td>-0.849794</td>\n",
       "      <td>0.089486</td>\n",
       "    </tr>\n",
       "  </tbody>\n",
       "</table>\n",
       "</div>"
      ],
      "text/plain": [
       "                       variable  coefficient   p-value\n",
       "0                     intercept    -1.138170  0.011352\n",
       "1  Insured per state: uninsured    -1.200130  0.033239\n",
       "2                   PovertyRate    -0.849794  0.089486"
      ]
     },
     "execution_count": 76,
     "metadata": {},
     "output_type": "execute_result"
    }
   ],
   "source": [
    "column_names.remove('degree centrality state')\n",
    "X.drop(columns=['degree centrality state'],inplace=True)\n",
    "pipeline = pipe.fit(X,y)\n",
    "pd.DataFrame({'variable':column_names,'coefficient':pipeline.named_steps['regressor'].beta,'p-value':pipeline.named_steps['regressor'].waldp})"
   ]
  },
  {
   "cell_type": "code",
   "execution_count": 77,
   "id": "b64f6801",
   "metadata": {},
   "outputs": [
    {
     "data": {
      "text/html": [
       "<div>\n",
       "<style scoped>\n",
       "    .dataframe tbody tr th:only-of-type {\n",
       "        vertical-align: middle;\n",
       "    }\n",
       "\n",
       "    .dataframe tbody tr th {\n",
       "        vertical-align: top;\n",
       "    }\n",
       "\n",
       "    .dataframe thead th {\n",
       "        text-align: right;\n",
       "    }\n",
       "</style>\n",
       "<table border=\"1\" class=\"dataframe\">\n",
       "  <thead>\n",
       "    <tr style=\"text-align: right;\">\n",
       "      <th></th>\n",
       "      <th>variable</th>\n",
       "      <th>coefficient</th>\n",
       "      <th>p-value</th>\n",
       "    </tr>\n",
       "  </thead>\n",
       "  <tbody>\n",
       "    <tr>\n",
       "      <th>0</th>\n",
       "      <td>intercept</td>\n",
       "      <td>-1.099383</td>\n",
       "      <td>0.011133</td>\n",
       "    </tr>\n",
       "    <tr>\n",
       "      <th>1</th>\n",
       "      <td>Insured per state: uninsured</td>\n",
       "      <td>-1.520353</td>\n",
       "      <td>0.005672</td>\n",
       "    </tr>\n",
       "  </tbody>\n",
       "</table>\n",
       "</div>"
      ],
      "text/plain": [
       "                       variable  coefficient   p-value\n",
       "0                     intercept    -1.099383  0.011133\n",
       "1  Insured per state: uninsured    -1.520353  0.005672"
      ]
     },
     "execution_count": 77,
     "metadata": {},
     "output_type": "execute_result"
    }
   ],
   "source": [
    "column_names.remove('PovertyRate')\n",
    "X.drop(columns=['PovertyRate'],inplace=True)\n",
    "pipeline = pipe.fit(X,y)\n",
    "pd.DataFrame({'variable':column_names,'coefficient':pipeline.named_steps['regressor'].beta,'p-value':pipeline.named_steps['regressor'].waldp})"
   ]
  },
  {
   "cell_type": "markdown",
   "id": "677664c0",
   "metadata": {},
   "source": [
    "## Firth's procedure period 2"
   ]
  },
  {
   "cell_type": "code",
   "execution_count": 78,
   "id": "1b578e33",
   "metadata": {},
   "outputs": [
    {
     "data": {
      "text/html": [
       "<div>\n",
       "<style scoped>\n",
       "    .dataframe tbody tr th:only-of-type {\n",
       "        vertical-align: middle;\n",
       "    }\n",
       "\n",
       "    .dataframe tbody tr th {\n",
       "        vertical-align: top;\n",
       "    }\n",
       "\n",
       "    .dataframe thead th {\n",
       "        text-align: right;\n",
       "    }\n",
       "</style>\n",
       "<table border=\"1\" class=\"dataframe\">\n",
       "  <thead>\n",
       "    <tr style=\"text-align: right;\">\n",
       "      <th></th>\n",
       "      <th>variable</th>\n",
       "      <th>coefficient</th>\n",
       "      <th>p-value</th>\n",
       "    </tr>\n",
       "  </thead>\n",
       "  <tbody>\n",
       "    <tr>\n",
       "      <th>0</th>\n",
       "      <td>intercept</td>\n",
       "      <td>-2.092566</td>\n",
       "      <td>0.000258</td>\n",
       "    </tr>\n",
       "    <tr>\n",
       "      <th>1</th>\n",
       "      <td>Insured per state: uninsured</td>\n",
       "      <td>1.139002</td>\n",
       "      <td>0.045402</td>\n",
       "    </tr>\n",
       "    <tr>\n",
       "      <th>2</th>\n",
       "      <td>prop_age</td>\n",
       "      <td>-0.068219</td>\n",
       "      <td>0.895101</td>\n",
       "    </tr>\n",
       "    <tr>\n",
       "      <th>3</th>\n",
       "      <td>PovertyRate</td>\n",
       "      <td>0.798273</td>\n",
       "      <td>0.103848</td>\n",
       "    </tr>\n",
       "    <tr>\n",
       "      <th>4</th>\n",
       "      <td>Complete_period2</td>\n",
       "      <td>0.533636</td>\n",
       "      <td>0.179533</td>\n",
       "    </tr>\n",
       "    <tr>\n",
       "      <th>5</th>\n",
       "      <td>degree centrality state</td>\n",
       "      <td>0.388884</td>\n",
       "      <td>0.459316</td>\n",
       "    </tr>\n",
       "  </tbody>\n",
       "</table>\n",
       "</div>"
      ],
      "text/plain": [
       "                       variable  coefficient   p-value\n",
       "0                     intercept    -2.092566  0.000258\n",
       "1  Insured per state: uninsured     1.139002  0.045402\n",
       "2                      prop_age    -0.068219  0.895101\n",
       "3                   PovertyRate     0.798273  0.103848\n",
       "4              Complete_period2     0.533636  0.179533\n",
       "5       degree centrality state     0.388884  0.459316"
      ]
     },
     "execution_count": 78,
     "metadata": {},
     "output_type": "execute_result"
    }
   ],
   "source": [
    "column_names=['intercept','Insured per state: uninsured','prop_age','PovertyRate','Complete_period2','degree centrality state']\n",
    "X=data_log_model.dropna(subset=['cluster_deaths_2'])[[x for x in column_names if x != 'intercept']]\n",
    "y=data_log_model.dropna(subset=['cluster_deaths_2'])['cluster_deaths_2']\n",
    "pipeline = pipe.fit(X,y)\n",
    "pd.DataFrame({'variable':column_names,'coefficient':pipeline.named_steps['regressor'].beta,'p-value':pipeline.named_steps['regressor'].waldp})"
   ]
  },
  {
   "cell_type": "code",
   "execution_count": 79,
   "id": "2d329169",
   "metadata": {},
   "outputs": [
    {
     "data": {
      "text/html": [
       "<div>\n",
       "<style scoped>\n",
       "    .dataframe tbody tr th:only-of-type {\n",
       "        vertical-align: middle;\n",
       "    }\n",
       "\n",
       "    .dataframe tbody tr th {\n",
       "        vertical-align: top;\n",
       "    }\n",
       "\n",
       "    .dataframe thead th {\n",
       "        text-align: right;\n",
       "    }\n",
       "</style>\n",
       "<table border=\"1\" class=\"dataframe\">\n",
       "  <thead>\n",
       "    <tr style=\"text-align: right;\">\n",
       "      <th></th>\n",
       "      <th>variable</th>\n",
       "      <th>coefficient</th>\n",
       "      <th>p-value</th>\n",
       "    </tr>\n",
       "  </thead>\n",
       "  <tbody>\n",
       "    <tr>\n",
       "      <th>0</th>\n",
       "      <td>intercept</td>\n",
       "      <td>-2.193406</td>\n",
       "      <td>0.000283</td>\n",
       "    </tr>\n",
       "    <tr>\n",
       "      <th>1</th>\n",
       "      <td>Insured per state: uninsured</td>\n",
       "      <td>1.194603</td>\n",
       "      <td>0.029345</td>\n",
       "    </tr>\n",
       "    <tr>\n",
       "      <th>2</th>\n",
       "      <td>PovertyRate</td>\n",
       "      <td>0.846438</td>\n",
       "      <td>0.091978</td>\n",
       "    </tr>\n",
       "    <tr>\n",
       "      <th>3</th>\n",
       "      <td>Complete_period2</td>\n",
       "      <td>0.563847</td>\n",
       "      <td>0.159677</td>\n",
       "    </tr>\n",
       "    <tr>\n",
       "      <th>4</th>\n",
       "      <td>degree centrality state</td>\n",
       "      <td>0.451534</td>\n",
       "      <td>0.396872</td>\n",
       "    </tr>\n",
       "  </tbody>\n",
       "</table>\n",
       "</div>"
      ],
      "text/plain": [
       "                       variable  coefficient   p-value\n",
       "0                     intercept    -2.193406  0.000283\n",
       "1  Insured per state: uninsured     1.194603  0.029345\n",
       "2                   PovertyRate     0.846438  0.091978\n",
       "3              Complete_period2     0.563847  0.159677\n",
       "4       degree centrality state     0.451534  0.396872"
      ]
     },
     "execution_count": 79,
     "metadata": {},
     "output_type": "execute_result"
    }
   ],
   "source": [
    "column_names.remove('prop_age')\n",
    "X.drop(columns=['prop_age'],inplace=True)\n",
    "pipeline = pipe.fit(X,y)\n",
    "pd.DataFrame({'variable':column_names,'coefficient':pipeline.named_steps['regressor'].beta,'p-value':pipeline.named_steps['regressor'].waldp})"
   ]
  },
  {
   "cell_type": "code",
   "execution_count": 80,
   "id": "a98b83ca",
   "metadata": {},
   "outputs": [
    {
     "data": {
      "text/html": [
       "<div>\n",
       "<style scoped>\n",
       "    .dataframe tbody tr th:only-of-type {\n",
       "        vertical-align: middle;\n",
       "    }\n",
       "\n",
       "    .dataframe tbody tr th {\n",
       "        vertical-align: top;\n",
       "    }\n",
       "\n",
       "    .dataframe thead th {\n",
       "        text-align: right;\n",
       "    }\n",
       "</style>\n",
       "<table border=\"1\" class=\"dataframe\">\n",
       "  <thead>\n",
       "    <tr style=\"text-align: right;\">\n",
       "      <th></th>\n",
       "      <th>variable</th>\n",
       "      <th>coefficient</th>\n",
       "      <th>p-value</th>\n",
       "    </tr>\n",
       "  </thead>\n",
       "  <tbody>\n",
       "    <tr>\n",
       "      <th>0</th>\n",
       "      <td>intercept</td>\n",
       "      <td>-2.314033</td>\n",
       "      <td>0.000262</td>\n",
       "    </tr>\n",
       "    <tr>\n",
       "      <th>1</th>\n",
       "      <td>Insured per state: uninsured</td>\n",
       "      <td>1.186365</td>\n",
       "      <td>0.027478</td>\n",
       "    </tr>\n",
       "    <tr>\n",
       "      <th>2</th>\n",
       "      <td>PovertyRate</td>\n",
       "      <td>0.854223</td>\n",
       "      <td>0.084575</td>\n",
       "    </tr>\n",
       "    <tr>\n",
       "      <th>3</th>\n",
       "      <td>Complete_period2</td>\n",
       "      <td>0.627328</td>\n",
       "      <td>0.127178</td>\n",
       "    </tr>\n",
       "  </tbody>\n",
       "</table>\n",
       "</div>"
      ],
      "text/plain": [
       "                       variable  coefficient   p-value\n",
       "0                     intercept    -2.314033  0.000262\n",
       "1  Insured per state: uninsured     1.186365  0.027478\n",
       "2                   PovertyRate     0.854223  0.084575\n",
       "3              Complete_period2     0.627328  0.127178"
      ]
     },
     "execution_count": 80,
     "metadata": {},
     "output_type": "execute_result"
    }
   ],
   "source": [
    "column_names.remove('degree centrality state')\n",
    "X.drop(columns=['degree centrality state'],inplace=True)\n",
    "pipeline = pipe.fit(X,y)\n",
    "pd.DataFrame({'variable':column_names,'coefficient':pipeline.named_steps['regressor'].beta,'p-value':pipeline.named_steps['regressor'].waldp})"
   ]
  },
  {
   "cell_type": "code",
   "execution_count": 81,
   "id": "6284cac8",
   "metadata": {},
   "outputs": [
    {
     "data": {
      "text/html": [
       "<div>\n",
       "<style scoped>\n",
       "    .dataframe tbody tr th:only-of-type {\n",
       "        vertical-align: middle;\n",
       "    }\n",
       "\n",
       "    .dataframe tbody tr th {\n",
       "        vertical-align: top;\n",
       "    }\n",
       "\n",
       "    .dataframe thead th {\n",
       "        text-align: right;\n",
       "    }\n",
       "</style>\n",
       "<table border=\"1\" class=\"dataframe\">\n",
       "  <thead>\n",
       "    <tr style=\"text-align: right;\">\n",
       "      <th></th>\n",
       "      <th>variable</th>\n",
       "      <th>coefficient</th>\n",
       "      <th>p-value</th>\n",
       "    </tr>\n",
       "  </thead>\n",
       "  <tbody>\n",
       "    <tr>\n",
       "      <th>0</th>\n",
       "      <td>intercept</td>\n",
       "      <td>-2.408673</td>\n",
       "      <td>0.000259</td>\n",
       "    </tr>\n",
       "    <tr>\n",
       "      <th>1</th>\n",
       "      <td>Insured per state: uninsured</td>\n",
       "      <td>1.187114</td>\n",
       "      <td>0.026846</td>\n",
       "    </tr>\n",
       "    <tr>\n",
       "      <th>2</th>\n",
       "      <td>PovertyRate</td>\n",
       "      <td>0.854705</td>\n",
       "      <td>0.084030</td>\n",
       "    </tr>\n",
       "  </tbody>\n",
       "</table>\n",
       "</div>"
      ],
      "text/plain": [
       "                       variable  coefficient   p-value\n",
       "0                     intercept    -2.408673  0.000259\n",
       "1  Insured per state: uninsured     1.187114  0.026846\n",
       "2                   PovertyRate     0.854705  0.084030"
      ]
     },
     "execution_count": 81,
     "metadata": {},
     "output_type": "execute_result"
    }
   ],
   "source": [
    "column_names.remove('Complete_period2')\n",
    "X.drop(columns=['Complete_period2'],inplace=True)\n",
    "pipeline = pipe.fit(X,y)\n",
    "pd.DataFrame({'variable':column_names,'coefficient':pipeline.named_steps['regressor'].beta,'p-value':pipeline.named_steps['regressor'].waldp})"
   ]
  },
  {
   "cell_type": "code",
   "execution_count": 82,
   "id": "91fb9837",
   "metadata": {},
   "outputs": [
    {
     "data": {
      "text/html": [
       "<div>\n",
       "<style scoped>\n",
       "    .dataframe tbody tr th:only-of-type {\n",
       "        vertical-align: middle;\n",
       "    }\n",
       "\n",
       "    .dataframe tbody tr th {\n",
       "        vertical-align: top;\n",
       "    }\n",
       "\n",
       "    .dataframe thead th {\n",
       "        text-align: right;\n",
       "    }\n",
       "</style>\n",
       "<table border=\"1\" class=\"dataframe\">\n",
       "  <thead>\n",
       "    <tr style=\"text-align: right;\">\n",
       "      <th></th>\n",
       "      <th>variable</th>\n",
       "      <th>coefficient</th>\n",
       "      <th>p-value</th>\n",
       "    </tr>\n",
       "  </thead>\n",
       "  <tbody>\n",
       "    <tr>\n",
       "      <th>0</th>\n",
       "      <td>intercept</td>\n",
       "      <td>-2.156304</td>\n",
       "      <td>0.000131</td>\n",
       "    </tr>\n",
       "    <tr>\n",
       "      <th>1</th>\n",
       "      <td>Insured per state: uninsured</td>\n",
       "      <td>1.356264</td>\n",
       "      <td>0.010470</td>\n",
       "    </tr>\n",
       "  </tbody>\n",
       "</table>\n",
       "</div>"
      ],
      "text/plain": [
       "                       variable  coefficient   p-value\n",
       "0                     intercept    -2.156304  0.000131\n",
       "1  Insured per state: uninsured     1.356264  0.010470"
      ]
     },
     "execution_count": 82,
     "metadata": {},
     "output_type": "execute_result"
    }
   ],
   "source": [
    "column_names.remove('PovertyRate')\n",
    "X.drop(columns=['PovertyRate'],inplace=True)\n",
    "pipeline = pipe.fit(X,y)\n",
    "pd.DataFrame({'variable':column_names,'coefficient':pipeline.named_steps['regressor'].beta,'p-value':pipeline.named_steps['regressor'].waldp})"
   ]
  },
  {
   "cell_type": "markdown",
   "id": "7370762d",
   "metadata": {},
   "source": [
    "## Firth's method period 4"
   ]
  },
  {
   "cell_type": "code",
   "execution_count": 83,
   "id": "923a3c0b",
   "metadata": {},
   "outputs": [
    {
     "data": {
      "text/html": [
       "<div>\n",
       "<style scoped>\n",
       "    .dataframe tbody tr th:only-of-type {\n",
       "        vertical-align: middle;\n",
       "    }\n",
       "\n",
       "    .dataframe tbody tr th {\n",
       "        vertical-align: top;\n",
       "    }\n",
       "\n",
       "    .dataframe thead th {\n",
       "        text-align: right;\n",
       "    }\n",
       "</style>\n",
       "<table border=\"1\" class=\"dataframe\">\n",
       "  <thead>\n",
       "    <tr style=\"text-align: right;\">\n",
       "      <th></th>\n",
       "      <th>variable</th>\n",
       "      <th>coefficient</th>\n",
       "      <th>p-value</th>\n",
       "    </tr>\n",
       "  </thead>\n",
       "  <tbody>\n",
       "    <tr>\n",
       "      <th>0</th>\n",
       "      <td>intercept</td>\n",
       "      <td>-2.260188</td>\n",
       "      <td>0.000039</td>\n",
       "    </tr>\n",
       "    <tr>\n",
       "      <th>1</th>\n",
       "      <td>Insured per state: uninsured</td>\n",
       "      <td>0.140287</td>\n",
       "      <td>0.809270</td>\n",
       "    </tr>\n",
       "    <tr>\n",
       "      <th>2</th>\n",
       "      <td>prop_age</td>\n",
       "      <td>-0.241961</td>\n",
       "      <td>0.675856</td>\n",
       "    </tr>\n",
       "    <tr>\n",
       "      <th>3</th>\n",
       "      <td>PovertyRate</td>\n",
       "      <td>0.951117</td>\n",
       "      <td>0.041281</td>\n",
       "    </tr>\n",
       "    <tr>\n",
       "      <th>4</th>\n",
       "      <td>Complete_period4</td>\n",
       "      <td>-0.118553</td>\n",
       "      <td>0.836637</td>\n",
       "    </tr>\n",
       "    <tr>\n",
       "      <th>5</th>\n",
       "      <td>degree centrality state</td>\n",
       "      <td>0.005740</td>\n",
       "      <td>0.992161</td>\n",
       "    </tr>\n",
       "  </tbody>\n",
       "</table>\n",
       "</div>"
      ],
      "text/plain": [
       "                       variable  coefficient   p-value\n",
       "0                     intercept    -2.260188  0.000039\n",
       "1  Insured per state: uninsured     0.140287  0.809270\n",
       "2                      prop_age    -0.241961  0.675856\n",
       "3                   PovertyRate     0.951117  0.041281\n",
       "4              Complete_period4    -0.118553  0.836637\n",
       "5       degree centrality state     0.005740  0.992161"
      ]
     },
     "execution_count": 83,
     "metadata": {},
     "output_type": "execute_result"
    }
   ],
   "source": [
    "column_names=['intercept','Insured per state: uninsured','prop_age','PovertyRate','Complete_period4','degree centrality state']\n",
    "X=data_log_model.dropna(subset=['cluster_deaths_4'])[[x for x in column_names if x != 'intercept']]\n",
    "y=data_log_model.dropna(subset=['cluster_deaths_4'])['cluster_deaths_4']\n",
    "pipeline = pipe.fit(X,y)\n",
    "pd.DataFrame({'variable':column_names,'coefficient':pipeline.named_steps['regressor'].beta,'p-value':pipeline.named_steps['regressor'].waldp})"
   ]
  },
  {
   "cell_type": "code",
   "execution_count": 84,
   "id": "be818438",
   "metadata": {},
   "outputs": [
    {
     "data": {
      "text/html": [
       "<div>\n",
       "<style scoped>\n",
       "    .dataframe tbody tr th:only-of-type {\n",
       "        vertical-align: middle;\n",
       "    }\n",
       "\n",
       "    .dataframe tbody tr th {\n",
       "        vertical-align: top;\n",
       "    }\n",
       "\n",
       "    .dataframe thead th {\n",
       "        text-align: right;\n",
       "    }\n",
       "</style>\n",
       "<table border=\"1\" class=\"dataframe\">\n",
       "  <thead>\n",
       "    <tr style=\"text-align: right;\">\n",
       "      <th></th>\n",
       "      <th>variable</th>\n",
       "      <th>coefficient</th>\n",
       "      <th>p-value</th>\n",
       "    </tr>\n",
       "  </thead>\n",
       "  <tbody>\n",
       "    <tr>\n",
       "      <th>0</th>\n",
       "      <td>intercept</td>\n",
       "      <td>-2.416785</td>\n",
       "      <td>0.000049</td>\n",
       "    </tr>\n",
       "    <tr>\n",
       "      <th>1</th>\n",
       "      <td>Insured per state: uninsured</td>\n",
       "      <td>0.191788</td>\n",
       "      <td>0.742413</td>\n",
       "    </tr>\n",
       "    <tr>\n",
       "      <th>2</th>\n",
       "      <td>prop_age</td>\n",
       "      <td>-0.187465</td>\n",
       "      <td>0.753488</td>\n",
       "    </tr>\n",
       "    <tr>\n",
       "      <th>3</th>\n",
       "      <td>PovertyRate</td>\n",
       "      <td>1.002108</td>\n",
       "      <td>0.036647</td>\n",
       "    </tr>\n",
       "    <tr>\n",
       "      <th>4</th>\n",
       "      <td>Complete_period4</td>\n",
       "      <td>-0.174655</td>\n",
       "      <td>0.764967</td>\n",
       "    </tr>\n",
       "  </tbody>\n",
       "</table>\n",
       "</div>"
      ],
      "text/plain": [
       "                       variable  coefficient   p-value\n",
       "0                     intercept    -2.416785  0.000049\n",
       "1  Insured per state: uninsured     0.191788  0.742413\n",
       "2                      prop_age    -0.187465  0.753488\n",
       "3                   PovertyRate     1.002108  0.036647\n",
       "4              Complete_period4    -0.174655  0.764967"
      ]
     },
     "execution_count": 84,
     "metadata": {},
     "output_type": "execute_result"
    }
   ],
   "source": [
    "column_names.remove('degree centrality state')\n",
    "X.drop(columns=['degree centrality state'],inplace=True)\n",
    "pipeline = pipe.fit(X,y)\n",
    "pd.DataFrame({'variable':column_names,'coefficient':pipeline.named_steps['regressor'].beta,'p-value':pipeline.named_steps['regressor'].waldp})"
   ]
  },
  {
   "cell_type": "code",
   "execution_count": 85,
   "id": "8fd2affe",
   "metadata": {},
   "outputs": [
    {
     "data": {
      "text/html": [
       "<div>\n",
       "<style scoped>\n",
       "    .dataframe tbody tr th:only-of-type {\n",
       "        vertical-align: middle;\n",
       "    }\n",
       "\n",
       "    .dataframe tbody tr th {\n",
       "        vertical-align: top;\n",
       "    }\n",
       "\n",
       "    .dataframe thead th {\n",
       "        text-align: right;\n",
       "    }\n",
       "</style>\n",
       "<table border=\"1\" class=\"dataframe\">\n",
       "  <thead>\n",
       "    <tr style=\"text-align: right;\">\n",
       "      <th></th>\n",
       "      <th>variable</th>\n",
       "      <th>coefficient</th>\n",
       "      <th>p-value</th>\n",
       "    </tr>\n",
       "  </thead>\n",
       "  <tbody>\n",
       "    <tr>\n",
       "      <th>0</th>\n",
       "      <td>intercept</td>\n",
       "      <td>-2.532071</td>\n",
       "      <td>0.000056</td>\n",
       "    </tr>\n",
       "    <tr>\n",
       "      <th>1</th>\n",
       "      <td>Insured per state: uninsured</td>\n",
       "      <td>0.287808</td>\n",
       "      <td>0.593313</td>\n",
       "    </tr>\n",
       "    <tr>\n",
       "      <th>2</th>\n",
       "      <td>prop_age</td>\n",
       "      <td>-0.244031</td>\n",
       "      <td>0.688618</td>\n",
       "    </tr>\n",
       "    <tr>\n",
       "      <th>3</th>\n",
       "      <td>PovertyRate</td>\n",
       "      <td>1.087260</td>\n",
       "      <td>0.027694</td>\n",
       "    </tr>\n",
       "  </tbody>\n",
       "</table>\n",
       "</div>"
      ],
      "text/plain": [
       "                       variable  coefficient   p-value\n",
       "0                     intercept    -2.532071  0.000056\n",
       "1  Insured per state: uninsured     0.287808  0.593313\n",
       "2                      prop_age    -0.244031  0.688618\n",
       "3                   PovertyRate     1.087260  0.027694"
      ]
     },
     "execution_count": 85,
     "metadata": {},
     "output_type": "execute_result"
    }
   ],
   "source": [
    "column_names.remove('Complete_period4')\n",
    "X.drop(columns=['Complete_period4'],inplace=True)\n",
    "pipeline = pipe.fit(X,y)\n",
    "pd.DataFrame({'variable':column_names,'coefficient':pipeline.named_steps['regressor'].beta,'p-value':pipeline.named_steps['regressor'].waldp})"
   ]
  },
  {
   "cell_type": "code",
   "execution_count": 86,
   "id": "9d711e65",
   "metadata": {},
   "outputs": [
    {
     "data": {
      "text/html": [
       "<div>\n",
       "<style scoped>\n",
       "    .dataframe tbody tr th:only-of-type {\n",
       "        vertical-align: middle;\n",
       "    }\n",
       "\n",
       "    .dataframe tbody tr th {\n",
       "        vertical-align: top;\n",
       "    }\n",
       "\n",
       "    .dataframe thead th {\n",
       "        text-align: right;\n",
       "    }\n",
       "</style>\n",
       "<table border=\"1\" class=\"dataframe\">\n",
       "  <thead>\n",
       "    <tr style=\"text-align: right;\">\n",
       "      <th></th>\n",
       "      <th>variable</th>\n",
       "      <th>coefficient</th>\n",
       "      <th>p-value</th>\n",
       "    </tr>\n",
       "  </thead>\n",
       "  <tbody>\n",
       "    <tr>\n",
       "      <th>0</th>\n",
       "      <td>intercept</td>\n",
       "      <td>-2.668479</td>\n",
       "      <td>0.000077</td>\n",
       "    </tr>\n",
       "    <tr>\n",
       "      <th>1</th>\n",
       "      <td>Insured per state: uninsured</td>\n",
       "      <td>0.410204</td>\n",
       "      <td>0.381491</td>\n",
       "    </tr>\n",
       "    <tr>\n",
       "      <th>2</th>\n",
       "      <td>PovertyRate</td>\n",
       "      <td>1.109181</td>\n",
       "      <td>0.024145</td>\n",
       "    </tr>\n",
       "  </tbody>\n",
       "</table>\n",
       "</div>"
      ],
      "text/plain": [
       "                       variable  coefficient   p-value\n",
       "0                     intercept    -2.668479  0.000077\n",
       "1  Insured per state: uninsured     0.410204  0.381491\n",
       "2                   PovertyRate     1.109181  0.024145"
      ]
     },
     "execution_count": 86,
     "metadata": {},
     "output_type": "execute_result"
    }
   ],
   "source": [
    "column_names.remove('prop_age')\n",
    "X.drop(columns=['prop_age'],inplace=True)\n",
    "pipeline = pipe.fit(X,y)\n",
    "pd.DataFrame({'variable':column_names,'coefficient':pipeline.named_steps['regressor'].beta,'p-value':pipeline.named_steps['regressor'].waldp})"
   ]
  },
  {
   "cell_type": "code",
   "execution_count": 87,
   "id": "eb2bc2ba",
   "metadata": {},
   "outputs": [
    {
     "data": {
      "text/html": [
       "<div>\n",
       "<style scoped>\n",
       "    .dataframe tbody tr th:only-of-type {\n",
       "        vertical-align: middle;\n",
       "    }\n",
       "\n",
       "    .dataframe tbody tr th {\n",
       "        vertical-align: top;\n",
       "    }\n",
       "\n",
       "    .dataframe thead th {\n",
       "        text-align: right;\n",
       "    }\n",
       "</style>\n",
       "<table border=\"1\" class=\"dataframe\">\n",
       "  <thead>\n",
       "    <tr style=\"text-align: right;\">\n",
       "      <th></th>\n",
       "      <th>variable</th>\n",
       "      <th>coefficient</th>\n",
       "      <th>p-value</th>\n",
       "    </tr>\n",
       "  </thead>\n",
       "  <tbody>\n",
       "    <tr>\n",
       "      <th>0</th>\n",
       "      <td>intercept</td>\n",
       "      <td>-2.634529</td>\n",
       "      <td>0.000042</td>\n",
       "    </tr>\n",
       "    <tr>\n",
       "      <th>1</th>\n",
       "      <td>PovertyRate</td>\n",
       "      <td>1.184919</td>\n",
       "      <td>0.012881</td>\n",
       "    </tr>\n",
       "  </tbody>\n",
       "</table>\n",
       "</div>"
      ],
      "text/plain": [
       "      variable  coefficient   p-value\n",
       "0    intercept    -2.634529  0.000042\n",
       "1  PovertyRate     1.184919  0.012881"
      ]
     },
     "execution_count": 87,
     "metadata": {},
     "output_type": "execute_result"
    }
   ],
   "source": [
    "column_names.remove('Insured per state: uninsured')\n",
    "X.drop(columns=['Insured per state: uninsured'],inplace=True)\n",
    "pipeline = pipe.fit(X,y)\n",
    "pd.DataFrame({'variable':column_names,'coefficient':pipeline.named_steps['regressor'].beta,'p-value':pipeline.named_steps['regressor'].waldp})"
   ]
  },
  {
   "cell_type": "markdown",
   "id": "05867e6b",
   "metadata": {},
   "source": [
    "## Firth's procedure period 5"
   ]
  },
  {
   "cell_type": "code",
   "execution_count": 88,
   "id": "3e0f7bdc",
   "metadata": {},
   "outputs": [
    {
     "data": {
      "text/html": [
       "<div>\n",
       "<style scoped>\n",
       "    .dataframe tbody tr th:only-of-type {\n",
       "        vertical-align: middle;\n",
       "    }\n",
       "\n",
       "    .dataframe tbody tr th {\n",
       "        vertical-align: top;\n",
       "    }\n",
       "\n",
       "    .dataframe thead th {\n",
       "        text-align: right;\n",
       "    }\n",
       "</style>\n",
       "<table border=\"1\" class=\"dataframe\">\n",
       "  <thead>\n",
       "    <tr style=\"text-align: right;\">\n",
       "      <th></th>\n",
       "      <th>variable</th>\n",
       "      <th>coefficient</th>\n",
       "      <th>p-value</th>\n",
       "    </tr>\n",
       "  </thead>\n",
       "  <tbody>\n",
       "    <tr>\n",
       "      <th>0</th>\n",
       "      <td>intercept</td>\n",
       "      <td>-0.398308</td>\n",
       "      <td>0.320367</td>\n",
       "    </tr>\n",
       "    <tr>\n",
       "      <th>1</th>\n",
       "      <td>Insured per state: uninsured</td>\n",
       "      <td>0.964580</td>\n",
       "      <td>0.069326</td>\n",
       "    </tr>\n",
       "    <tr>\n",
       "      <th>2</th>\n",
       "      <td>prop_age</td>\n",
       "      <td>-0.327560</td>\n",
       "      <td>0.479405</td>\n",
       "    </tr>\n",
       "    <tr>\n",
       "      <th>3</th>\n",
       "      <td>PovertyRate</td>\n",
       "      <td>0.811123</td>\n",
       "      <td>0.076526</td>\n",
       "    </tr>\n",
       "    <tr>\n",
       "      <th>4</th>\n",
       "      <td>Complete_period5</td>\n",
       "      <td>-0.922025</td>\n",
       "      <td>0.033667</td>\n",
       "    </tr>\n",
       "    <tr>\n",
       "      <th>5</th>\n",
       "      <td>degree centrality state</td>\n",
       "      <td>0.339913</td>\n",
       "      <td>0.437862</td>\n",
       "    </tr>\n",
       "  </tbody>\n",
       "</table>\n",
       "</div>"
      ],
      "text/plain": [
       "                       variable  coefficient   p-value\n",
       "0                     intercept    -0.398308  0.320367\n",
       "1  Insured per state: uninsured     0.964580  0.069326\n",
       "2                      prop_age    -0.327560  0.479405\n",
       "3                   PovertyRate     0.811123  0.076526\n",
       "4              Complete_period5    -0.922025  0.033667\n",
       "5       degree centrality state     0.339913  0.437862"
      ]
     },
     "execution_count": 88,
     "metadata": {},
     "output_type": "execute_result"
    }
   ],
   "source": [
    "column_names=['intercept','Insured per state: uninsured','prop_age','PovertyRate','Complete_period5','degree centrality state']\n",
    "X=data_log_model.dropna(subset=['cluster_deaths_5'])[[x for x in column_names if x != 'intercept']]\n",
    "y=data_log_model.dropna(subset=['cluster_deaths_5'])['cluster_deaths_5']\n",
    "pipeline = pipe.fit(X,y)\n",
    "pd.DataFrame({'variable':column_names,'coefficient':pipeline.named_steps['regressor'].beta,'p-value':pipeline.named_steps['regressor'].waldp})"
   ]
  },
  {
   "cell_type": "code",
   "execution_count": 89,
   "id": "62ff9ce0",
   "metadata": {},
   "outputs": [
    {
     "data": {
      "text/html": [
       "<div>\n",
       "<style scoped>\n",
       "    .dataframe tbody tr th:only-of-type {\n",
       "        vertical-align: middle;\n",
       "    }\n",
       "\n",
       "    .dataframe tbody tr th {\n",
       "        vertical-align: top;\n",
       "    }\n",
       "\n",
       "    .dataframe thead th {\n",
       "        text-align: right;\n",
       "    }\n",
       "</style>\n",
       "<table border=\"1\" class=\"dataframe\">\n",
       "  <thead>\n",
       "    <tr style=\"text-align: right;\">\n",
       "      <th></th>\n",
       "      <th>variable</th>\n",
       "      <th>coefficient</th>\n",
       "      <th>p-value</th>\n",
       "    </tr>\n",
       "  </thead>\n",
       "  <tbody>\n",
       "    <tr>\n",
       "      <th>0</th>\n",
       "      <td>intercept</td>\n",
       "      <td>-0.440465</td>\n",
       "      <td>0.275800</td>\n",
       "    </tr>\n",
       "    <tr>\n",
       "      <th>1</th>\n",
       "      <td>Insured per state: uninsured</td>\n",
       "      <td>1.044460</td>\n",
       "      <td>0.041389</td>\n",
       "    </tr>\n",
       "    <tr>\n",
       "      <th>2</th>\n",
       "      <td>PovertyRate</td>\n",
       "      <td>0.766088</td>\n",
       "      <td>0.081736</td>\n",
       "    </tr>\n",
       "    <tr>\n",
       "      <th>3</th>\n",
       "      <td>Complete_period5</td>\n",
       "      <td>-0.924088</td>\n",
       "      <td>0.037082</td>\n",
       "    </tr>\n",
       "    <tr>\n",
       "      <th>4</th>\n",
       "      <td>degree centrality state</td>\n",
       "      <td>0.411396</td>\n",
       "      <td>0.340202</td>\n",
       "    </tr>\n",
       "  </tbody>\n",
       "</table>\n",
       "</div>"
      ],
      "text/plain": [
       "                       variable  coefficient   p-value\n",
       "0                     intercept    -0.440465  0.275800\n",
       "1  Insured per state: uninsured     1.044460  0.041389\n",
       "2                   PovertyRate     0.766088  0.081736\n",
       "3              Complete_period5    -0.924088  0.037082\n",
       "4       degree centrality state     0.411396  0.340202"
      ]
     },
     "execution_count": 89,
     "metadata": {},
     "output_type": "execute_result"
    }
   ],
   "source": [
    "column_names.remove('prop_age')\n",
    "X.drop(columns=['prop_age'],inplace=True)\n",
    "pipeline = pipe.fit(X,y)\n",
    "pd.DataFrame({'variable':column_names,'coefficient':pipeline.named_steps['regressor'].beta,'p-value':pipeline.named_steps['regressor'].waldp})"
   ]
  },
  {
   "cell_type": "code",
   "execution_count": 90,
   "id": "525a43b4",
   "metadata": {},
   "outputs": [
    {
     "data": {
      "text/html": [
       "<div>\n",
       "<style scoped>\n",
       "    .dataframe tbody tr th:only-of-type {\n",
       "        vertical-align: middle;\n",
       "    }\n",
       "\n",
       "    .dataframe tbody tr th {\n",
       "        vertical-align: top;\n",
       "    }\n",
       "\n",
       "    .dataframe thead th {\n",
       "        text-align: right;\n",
       "    }\n",
       "</style>\n",
       "<table border=\"1\" class=\"dataframe\">\n",
       "  <thead>\n",
       "    <tr style=\"text-align: right;\">\n",
       "      <th></th>\n",
       "      <th>variable</th>\n",
       "      <th>coefficient</th>\n",
       "      <th>p-value</th>\n",
       "    </tr>\n",
       "  </thead>\n",
       "  <tbody>\n",
       "    <tr>\n",
       "      <th>0</th>\n",
       "      <td>intercept</td>\n",
       "      <td>-0.463762</td>\n",
       "      <td>0.250892</td>\n",
       "    </tr>\n",
       "    <tr>\n",
       "      <th>1</th>\n",
       "      <td>Insured per state: uninsured</td>\n",
       "      <td>0.955557</td>\n",
       "      <td>0.048905</td>\n",
       "    </tr>\n",
       "    <tr>\n",
       "      <th>2</th>\n",
       "      <td>PovertyRate</td>\n",
       "      <td>0.739698</td>\n",
       "      <td>0.093590</td>\n",
       "    </tr>\n",
       "    <tr>\n",
       "      <th>3</th>\n",
       "      <td>Complete_period5</td>\n",
       "      <td>-0.804942</td>\n",
       "      <td>0.046256</td>\n",
       "    </tr>\n",
       "  </tbody>\n",
       "</table>\n",
       "</div>"
      ],
      "text/plain": [
       "                       variable  coefficient   p-value\n",
       "0                     intercept    -0.463762  0.250892\n",
       "1  Insured per state: uninsured     0.955557  0.048905\n",
       "2                   PovertyRate     0.739698  0.093590\n",
       "3              Complete_period5    -0.804942  0.046256"
      ]
     },
     "execution_count": 90,
     "metadata": {},
     "output_type": "execute_result"
    }
   ],
   "source": [
    "column_names.remove('degree centrality state')\n",
    "X.drop(columns=['degree centrality state'],inplace=True)\n",
    "pipeline = pipe.fit(X,y)\n",
    "pd.DataFrame({'variable':column_names,'coefficient':pipeline.named_steps['regressor'].beta,'p-value':pipeline.named_steps['regressor'].waldp})"
   ]
  },
  {
   "cell_type": "code",
   "execution_count": 91,
   "id": "e14bbe28",
   "metadata": {},
   "outputs": [
    {
     "data": {
      "text/html": [
       "<div>\n",
       "<style scoped>\n",
       "    .dataframe tbody tr th:only-of-type {\n",
       "        vertical-align: middle;\n",
       "    }\n",
       "\n",
       "    .dataframe tbody tr th {\n",
       "        vertical-align: top;\n",
       "    }\n",
       "\n",
       "    .dataframe thead th {\n",
       "        text-align: right;\n",
       "    }\n",
       "</style>\n",
       "<table border=\"1\" class=\"dataframe\">\n",
       "  <thead>\n",
       "    <tr style=\"text-align: right;\">\n",
       "      <th></th>\n",
       "      <th>variable</th>\n",
       "      <th>coefficient</th>\n",
       "      <th>p-value</th>\n",
       "    </tr>\n",
       "  </thead>\n",
       "  <tbody>\n",
       "    <tr>\n",
       "      <th>0</th>\n",
       "      <td>intercept</td>\n",
       "      <td>-0.363728</td>\n",
       "      <td>0.335599</td>\n",
       "    </tr>\n",
       "    <tr>\n",
       "      <th>1</th>\n",
       "      <td>Insured per state: uninsured</td>\n",
       "      <td>1.222570</td>\n",
       "      <td>0.013211</td>\n",
       "    </tr>\n",
       "    <tr>\n",
       "      <th>2</th>\n",
       "      <td>Complete_period5</td>\n",
       "      <td>-0.793973</td>\n",
       "      <td>0.060778</td>\n",
       "    </tr>\n",
       "  </tbody>\n",
       "</table>\n",
       "</div>"
      ],
      "text/plain": [
       "                       variable  coefficient   p-value\n",
       "0                     intercept    -0.363728  0.335599\n",
       "1  Insured per state: uninsured     1.222570  0.013211\n",
       "2              Complete_period5    -0.793973  0.060778"
      ]
     },
     "execution_count": 91,
     "metadata": {},
     "output_type": "execute_result"
    }
   ],
   "source": [
    "column_names.remove('PovertyRate')\n",
    "X.drop(columns=['PovertyRate'],inplace=True)\n",
    "pipeline = pipe.fit(X,y)\n",
    "pd.DataFrame({'variable':column_names,'coefficient':pipeline.named_steps['regressor'].beta,'p-value':pipeline.named_steps['regressor'].waldp})"
   ]
  },
  {
   "cell_type": "code",
   "execution_count": 92,
   "id": "5f156756",
   "metadata": {},
   "outputs": [
    {
     "data": {
      "text/html": [
       "<div>\n",
       "<style scoped>\n",
       "    .dataframe tbody tr th:only-of-type {\n",
       "        vertical-align: middle;\n",
       "    }\n",
       "\n",
       "    .dataframe tbody tr th {\n",
       "        vertical-align: top;\n",
       "    }\n",
       "\n",
       "    .dataframe thead th {\n",
       "        text-align: right;\n",
       "    }\n",
       "</style>\n",
       "<table border=\"1\" class=\"dataframe\">\n",
       "  <thead>\n",
       "    <tr style=\"text-align: right;\">\n",
       "      <th></th>\n",
       "      <th>variable</th>\n",
       "      <th>coefficient</th>\n",
       "      <th>p-value</th>\n",
       "    </tr>\n",
       "  </thead>\n",
       "  <tbody>\n",
       "    <tr>\n",
       "      <th>0</th>\n",
       "      <td>intercept</td>\n",
       "      <td>-0.276977</td>\n",
       "      <td>0.426781</td>\n",
       "    </tr>\n",
       "    <tr>\n",
       "      <th>1</th>\n",
       "      <td>Insured per state: uninsured</td>\n",
       "      <td>1.269844</td>\n",
       "      <td>0.005198</td>\n",
       "    </tr>\n",
       "  </tbody>\n",
       "</table>\n",
       "</div>"
      ],
      "text/plain": [
       "                       variable  coefficient   p-value\n",
       "0                     intercept    -0.276977  0.426781\n",
       "1  Insured per state: uninsured     1.269844  0.005198"
      ]
     },
     "execution_count": 92,
     "metadata": {},
     "output_type": "execute_result"
    }
   ],
   "source": [
    "column_names.remove('Complete_period5')\n",
    "X.drop(columns=['Complete_period5'],inplace=True)\n",
    "pipeline = pipe.fit(X,y)\n",
    "pd.DataFrame({'variable':column_names,'coefficient':pipeline.named_steps['regressor'].beta,'p-value':pipeline.named_steps['regressor'].waldp})"
   ]
  },
  {
   "cell_type": "markdown",
   "id": "c4ba68cd",
   "metadata": {},
   "source": [
    "# Cases per week"
   ]
  },
  {
   "cell_type": "markdown",
   "id": "2712c93f",
   "metadata": {},
   "source": [
    "We can now use another type of clustering, using the cases per week and counties instead of states. We want to use algorithms like K-means clustering or spectral clustering."
   ]
  },
  {
   "cell_type": "markdown",
   "id": "97ded1e0",
   "metadata": {},
   "source": [
    "We want to investigate whether there are clusters of counties for which the cases per week are really similar throughout the whole period."
   ]
  },
  {
   "cell_type": "code",
   "execution_count": 93,
   "id": "e4629fbc",
   "metadata": {},
   "outputs": [],
   "source": [
    "df_week=pd.pivot_table(data=week_merge,index='fips', columns=['week'], values='casespercapita').fillna(0)"
   ]
  },
  {
   "cell_type": "markdown",
   "id": "393018ca",
   "metadata": {},
   "source": [
    "## Clustering cases per week"
   ]
  },
  {
   "cell_type": "markdown",
   "id": "89672233",
   "metadata": {},
   "source": [
    "A pipeline is built with two possible scalers, different outlier detection algorithms, different dimensions for PCA and different number of clusters for K-means clustering."
   ]
  },
  {
   "cell_type": "code",
   "execution_count": 94,
   "id": "9acba2b5",
   "metadata": {},
   "outputs": [],
   "source": [
    "pipe = Pipeline([\n",
    "        ('scaler', StandardScaler()),\n",
    "        ('outlier_detection',Outlier_detection.my_OneClassSVM()),\n",
    "        ('reduce_dim', PCA()),\n",
    "        ('cluster', KMeans(init=\"k-means++\",random_state=100))\n",
    "        ])"
   ]
  },
  {
   "cell_type": "code",
   "execution_count": 95,
   "id": "a3ec0f8d",
   "metadata": {},
   "outputs": [],
   "source": [
    "n_clusters_to_test = np.arange(2, 6)\n",
    "n_dimensions_to_test=np.arange(2,10)"
   ]
  },
  {
   "cell_type": "code",
   "execution_count": 96,
   "id": "234c6d38",
   "metadata": {},
   "outputs": [],
   "source": [
    "params = [\n",
    "        {'reduce_dim':[PCA()],\n",
    "        'reduce_dim__n_components': n_dimensions_to_test,\\\n",
    "         'outlier_detection':[Outlier_detection.my_IsolationForest(),Outlier_detection.my_OneClassSVM()],\n",
    "         'cluster':[KMeans(init='k-means++',random_state=100)],\n",
    "         'cluster__n_clusters': n_clusters_to_test,\\\n",
    "         'scaler' : [StandardScaler(),MinMaxScaler()]},\n",
    "        {'reduce_dim': [None],\n",
    "         'outlier_detection':[Outlier_detection.my_IsolationForest(),Outlier_detection.my_OneClassSVM()],\n",
    "         'cluster':[SpectralClustering(affinity='nearest_neighbors',random_state=100)],\n",
    "         'cluster__assign_labels':['discretize','kmeans'],\n",
    "         'cluster__n_clusters': n_clusters_to_test,\\\n",
    "         'scaler' : [StandardScaler(),MinMaxScaler()]}]"
   ]
  },
  {
   "cell_type": "markdown",
   "id": "70924d1b",
   "metadata": {},
   "source": [
    "A custom scorer is used to evaluate the performance of the clustering algorithms."
   ]
  },
  {
   "cell_type": "code",
   "execution_count": 97,
   "id": "541e4595",
   "metadata": {},
   "outputs": [],
   "source": [
    "def scorer_silhouette(estimator,X,y=None):\n",
    "    labels=estimator.named_steps['cluster'].labels_\n",
    "    data=estimator.named_steps['outlier_detection'].transformed\n",
    "    return silhouette_score(data,labels)"
   ]
  },
  {
   "cell_type": "markdown",
   "id": "b10ec5e4",
   "metadata": {},
   "source": [
    "Now, some hyperparameter optimalization is used."
   ]
  },
  {
   "cell_type": "code",
   "execution_count": 98,
   "id": "076890c7",
   "metadata": {},
   "outputs": [
    {
     "name": "stdout",
     "output_type": "stream",
     "text": [
      "Fitting 1 folds for each of 160 candidates, totalling 160 fits\n",
      "Final score is:  0.2142439200602813\n"
     ]
    }
   ],
   "source": [
    "cv=[(slice(None),slice(None))]\n",
    "gridsearch = GridSearchCV(pipe, params, verbose=1,cv=cv,scoring=scorer_silhouette).fit(df_week)\n",
    "print('Final score is: ', gridsearch.score(df_week))"
   ]
  },
  {
   "cell_type": "code",
   "execution_count": 99,
   "id": "c0ca2ded",
   "metadata": {},
   "outputs": [
    {
     "data": {
      "text/plain": [
       "{'cluster': SpectralClustering(affinity='nearest_neighbors', n_clusters=2, random_state=100),\n",
       " 'cluster__assign_labels': 'kmeans',\n",
       " 'cluster__n_clusters': 2,\n",
       " 'outlier_detection': Isolation Forest for outlier detection,\n",
       " 'reduce_dim': None,\n",
       " 'scaler': StandardScaler()}"
      ]
     },
     "execution_count": 99,
     "metadata": {},
     "output_type": "execute_result"
    }
   ],
   "source": [
    "gridsearch.best_params_"
   ]
  },
  {
   "cell_type": "markdown",
   "id": "dd0bc584",
   "metadata": {},
   "source": [
    "Now, the clusters for the best parameters are plotted on a map of the USA."
   ]
  },
  {
   "cell_type": "code",
   "execution_count": 100,
   "id": "75a994f2",
   "metadata": {},
   "outputs": [],
   "source": [
    "y_pred=gridsearch.best_estimator_.named_steps['outlier_detection'].fips\n",
    "mask = y_pred != -1\n",
    "fips=df_week.index[mask]"
   ]
  },
  {
   "cell_type": "code",
   "execution_count": 101,
   "id": "99d6c9ba",
   "metadata": {},
   "outputs": [],
   "source": [
    "clusters=pd.DataFrame()\n",
    "clusters[\"fips\"]=fips\n",
    "clusters['cluster']=gridsearch.best_estimator_.named_steps['cluster'].labels_\n",
    "clusters['cluster']=clusters[\"cluster\"].astype('string')"
   ]
  },
  {
   "cell_type": "code",
   "execution_count": 102,
   "id": "f7683fa2",
   "metadata": {},
   "outputs": [],
   "source": [
    "# Plot the county data in a map\n",
    "with urlopen('https://raw.githubusercontent.com/plotly/datasets/master/geojson-counties-fips.json') as response:\n",
    "    counties = json.load(response)\n",
    "    \n",
    "fig = px.choropleth(clusters, geojson=counties, locations='fips', color='cluster',\n",
    "                           scope=\"usa\",\n",
    "                           labels={'cluster':'cases'}\n",
    "                          )\n",
    "fig.update_layout(margin={\"r\":0,\"t\":0,\"l\":0,\"b\":0})\n",
    "fig.write_image(file='Figures/Clustering_Spectral.png', format='png')"
   ]
  },
  {
   "cell_type": "markdown",
   "id": "e780aadb",
   "metadata": {},
   "source": [
    "We can also try what happens if we use Kmeans clustering."
   ]
  },
  {
   "cell_type": "code",
   "execution_count": 103,
   "id": "7e06bbf3",
   "metadata": {},
   "outputs": [
    {
     "name": "stdout",
     "output_type": "stream",
     "text": [
      "Fitting 1 folds for each of 128 candidates, totalling 128 fits\n",
      "Final score is:  0.15513222035302246\n"
     ]
    }
   ],
   "source": [
    "params_kmeans = [\n",
    "        {'reduce_dim':[PCA()],\n",
    "        'reduce_dim__n_components': n_dimensions_to_test,\\\n",
    "         'outlier_detection':[Outlier_detection.my_IsolationForest(),Outlier_detection.my_OneClassSVM()],\n",
    "         'cluster':[KMeans(init='k-means++',random_state=100)],\n",
    "         'cluster__n_clusters': n_clusters_to_test,\\\n",
    "         'scaler' : [StandardScaler(),MinMaxScaler()]}]\n",
    "cv=[(slice(None),slice(None))]\n",
    "gridsearch_kmeans = GridSearchCV(pipe, params_kmeans, verbose=1,cv=cv,scoring=scorer_silhouette).fit(df_week)\n",
    "print('Final score is: ', gridsearch_kmeans.score(df_week))"
   ]
  },
  {
   "cell_type": "code",
   "execution_count": 104,
   "id": "f0717ee2",
   "metadata": {},
   "outputs": [
    {
     "data": {
      "text/plain": [
       "{'cluster': KMeans(n_clusters=2, random_state=100),\n",
       " 'cluster__n_clusters': 2,\n",
       " 'outlier_detection': Support Vector Machines for outlier detection,\n",
       " 'reduce_dim': PCA(n_components=8),\n",
       " 'reduce_dim__n_components': 8,\n",
       " 'scaler': MinMaxScaler()}"
      ]
     },
     "execution_count": 104,
     "metadata": {},
     "output_type": "execute_result"
    }
   ],
   "source": [
    "gridsearch_kmeans.best_params_"
   ]
  },
  {
   "cell_type": "code",
   "execution_count": 105,
   "id": "1d4f121d",
   "metadata": {},
   "outputs": [],
   "source": [
    "y_pred_kmeans=gridsearch_kmeans.best_estimator_.named_steps['outlier_detection'].fips\n",
    "mask = y_pred_kmeans != -1\n",
    "fips_kmeans=df_week.index[mask]\n",
    "clusters_kmeans=pd.DataFrame()\n",
    "clusters_kmeans[\"fips\"]=fips_kmeans\n",
    "clusters_kmeans['cluster']=gridsearch_kmeans.best_estimator_.named_steps['cluster'].labels_\n",
    "clusters_kmeans['cluster']=clusters_kmeans[\"cluster\"].astype('string')"
   ]
  },
  {
   "cell_type": "code",
   "execution_count": 106,
   "id": "d568af83",
   "metadata": {},
   "outputs": [],
   "source": [
    "# Plot the county data in a map\n",
    "with urlopen('https://raw.githubusercontent.com/plotly/datasets/master/geojson-counties-fips.json') as response:\n",
    "    counties = json.load(response)\n",
    "    \n",
    "fig = px.choropleth(clusters_kmeans, geojson=counties, locations='fips', color='cluster',\n",
    "                           scope=\"usa\",\n",
    "                           labels={'cluster':'cases'}\n",
    "                          )\n",
    "fig.update_layout(margin={\"r\":0,\"t\":0,\"l\":0,\"b\":0})\n",
    "fig.write_image(file='Figures/Clustering_Kmeans.png', format='png')"
   ]
  },
  {
   "cell_type": "markdown",
   "id": "0476ed0e",
   "metadata": {},
   "source": [
    "## Influencing variables clusters"
   ]
  },
  {
   "cell_type": "markdown",
   "id": "ada35154",
   "metadata": {},
   "source": [
    "We can check which variables influence the clusters that were found."
   ]
  },
  {
   "cell_type": "code",
   "execution_count": 107,
   "id": "e627eda0",
   "metadata": {},
   "outputs": [],
   "source": [
    "features_model=counties_features[['fips','Vote Republican','Vote Democrat','pagerank score','pop_density','PovertyRate','median_age_2019','Life expectancy','uninsured_2019','Airports','median_individual_income_2019']].copy()"
   ]
  },
  {
   "cell_type": "markdown",
   "id": "9e409bf3",
   "metadata": {},
   "source": [
    "We expect a high correlation between vote republican and vote democrat. However, it can be seen that this is not the case. On the plot, it is shown that this is probably due to the fact that for some counties, these proportional votes are not even close to 1."
   ]
  },
  {
   "cell_type": "code",
   "execution_count": 108,
   "id": "8e1acedc",
   "metadata": {},
   "outputs": [
    {
     "data": {
      "text/plain": [
       "-0.02176530283766239"
      ]
     },
     "execution_count": 108,
     "metadata": {},
     "output_type": "execute_result"
    }
   ],
   "source": [
    "features_model['Vote Republican'].corr(features_model['Vote Democrat'])"
   ]
  },
  {
   "cell_type": "code",
   "execution_count": 109,
   "id": "035e127f",
   "metadata": {},
   "outputs": [
    {
     "data": {
      "image/png": "[encoded data removed]",
      "text/plain": [
       "<Figure size 432x288 with 1 Axes>"
      ]
     },
     "metadata": {
      "needs_background": "light"
     },
     "output_type": "display_data"
    }
   ],
   "source": [
    "fig,ax=plt.subplots()\n",
    "ax.scatter(features_model['Vote Republican'],features_model['Vote Democrat'])\n",
    "plt.show()"
   ]
  },
  {
   "cell_type": "markdown",
   "id": "d85deaef",
   "metadata": {},
   "source": [
    "The data containing the K-means clusters and the data containing possible explanatory variables are merged."
   ]
  },
  {
   "cell_type": "code",
   "execution_count": 110,
   "id": "eebe2ead",
   "metadata": {},
   "outputs": [],
   "source": [
    "features_clusters=pd.merge(features_model,clusters_kmeans,on='fips',how='inner').dropna()"
   ]
  },
  {
   "cell_type": "markdown",
   "id": "ea020370",
   "metadata": {},
   "source": [
    "We can use a pipeline to first use a standardscaler and use a logistic regression model afterwards."
   ]
  },
  {
   "cell_type": "code",
   "execution_count": 111,
   "id": "67034655",
   "metadata": {},
   "outputs": [],
   "source": [
    "pipe = Pipeline([\n",
    "        ('scaler', StandardScaler()),\n",
    "        ('regressor', my_regression.logistic_model()),\n",
    "        ])"
   ]
  },
  {
   "cell_type": "code",
   "execution_count": 112,
   "id": "eadec607",
   "metadata": {},
   "outputs": [
    {
     "name": "stdout",
     "output_type": "stream",
     "text": [
      "Optimization terminated successfully.\n",
      "         Current function value: 0.433334\n",
      "         Iterations 6\n",
      "                           Logit Regression Results                           \n",
      "==============================================================================\n",
      "Dep. Variable:                cluster   No. Observations:                 2799\n",
      "Model:                          Logit   Df Residuals:                     2788\n",
      "Method:                           MLE   Df Model:                           10\n",
      "Date:                Sun, 29 May 2022   Pseudo R-squ.:                  0.3625\n",
      "Time:                        11:22:28   Log-Likelihood:                -1212.9\n",
      "converged:                       True   LL-Null:                       -1902.6\n",
      "Covariance Type:            nonrobust   LLR p-value:                2.667e-290\n",
      "=================================================================================================\n",
      "                                    coef    std err          z      P>|z|      [0.025      0.975]\n",
      "-------------------------------------------------------------------------------------------------\n",
      "intercept                        -0.5091      0.052     -9.715      0.000      -0.612      -0.406\n",
      "Vote Republican                  -0.2607      0.054     -4.795      0.000      -0.367      -0.154\n",
      "Vote Democrat                    -0.4674      0.068     -6.843      0.000      -0.601      -0.334\n",
      "pagerank score                    0.0909      0.071      1.274      0.203      -0.049       0.231\n",
      "pop_density                       0.0433      0.066      0.654      0.513      -0.086       0.173\n",
      "PovertyRate                       1.0639      0.070     15.283      0.000       0.927       1.200\n",
      "median_age_2019                   0.0049      0.058      0.086      0.932      -0.108       0.118\n",
      "Life expectancy                  -0.7186      0.079     -9.072      0.000      -0.874      -0.563\n",
      "uninsured_2019                    0.6023      0.060     10.050      0.000       0.485       0.720\n",
      "Airports                          0.2061      0.061      3.402      0.001       0.087       0.325\n",
      "median_individual_income_2019    -0.0411      0.078     -0.529      0.597      -0.194       0.111\n",
      "=================================================================================================\n"
     ]
    }
   ],
   "source": [
    "column_names=['intercept','Vote Republican','Vote Democrat','pagerank score','pop_density','PovertyRate','median_age_2019','Life expectancy','uninsured_2019','Airports','median_individual_income_2019']\n",
    "X=features_clusters[[x for x in column_names if x != 'intercept']]\n",
    "y=features_clusters['cluster'].astype('float')\n",
    "pipe.fit(X,y)\n",
    "print(pipe.named_steps['regressor'].result.summary(xname=column_names))"
   ]
  }
 ],
 "metadata": {
  "kernelspec": {
   "display_name": "Python 3",
   "language": "python",
   "name": "python3"
  },
  "language_info": {
   "codemirror_mode": {
    "name": "ipython",
    "version": 3
   },
   "file_extension": ".py",
   "mimetype": "text/x-python",
   "name": "python",
   "nbconvert_exporter": "python",
   "pygments_lexer": "ipython3",
   "version": "3.10.4"
  },
  "toc": {
   "base_numbering": 1,
   "nav_menu": {},
   "number_sections": true,
   "sideBar": true,
   "skip_h1_title": false,
   "title_cell": "Table of Contents",
   "title_sidebar": "Contents",
   "toc_cell": false,
   "toc_position": {},
   "toc_section_display": true,
   "toc_window_display": false
  }
 },
 "nbformat": 4,
 "nbformat_minor": 5
}
