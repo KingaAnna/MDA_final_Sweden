{
 "cells": [
  {
   "cell_type": "code",
   "execution_count": 1,
   "id": "8624ceef",
   "metadata": {},
   "outputs": [
    {
     "name": "stderr",
     "output_type": "stream",
     "text": [
      "C:\\Users\\kinan\\anaconda3\\lib\\site-packages\\IPython\\core\\interactiveshell.py:3444: DtypeWarning: Columns (1) have mixed types.Specify dtype option on import or set low_memory=False.\n",
      "  exec(code_obj, self.user_global_ns, self.user_ns)\n"
     ]
    }
   ],
   "source": [
    "#! python3\n",
    "import os\n",
    "import pandas as pd\n",
    "import numpy as np\n",
    "from datetime import datetime\n",
    "\n",
    "# display more than 5 columns\n",
    "desired_width = 320\n",
    "pd.set_option('display.width', desired_width)\n",
    "np.set_printoptions(linewidth=desired_width)\n",
    "pd.set_option('display.max_columns', 10)\n",
    "\n",
    "# set directory\n",
    "os.chdir(r'C:\\Users\\kinan\\Desktop\\StatisticsandDataScience\\Modern Data Analytics\\Data\\Medical')\n",
    "data = pd.read_csv('COVID-19_Vaccinations_in_the_United_States_County.csv', header=[0])"
   ]
  },
  {
   "cell_type": "code",
   "execution_count": 2,
   "id": "7c36ce73",
   "metadata": {},
   "outputs": [
    {
     "data": {
      "text/html": [
       "<div>\n",
       "<style scoped>\n",
       "    .dataframe tbody tr th:only-of-type {\n",
       "        vertical-align: middle;\n",
       "    }\n",
       "\n",
       "    .dataframe tbody tr th {\n",
       "        vertical-align: top;\n",
       "    }\n",
       "\n",
       "    .dataframe thead th {\n",
       "        text-align: right;\n",
       "    }\n",
       "</style>\n",
       "<table border=\"1\" class=\"dataframe\">\n",
       "  <thead>\n",
       "    <tr style=\"text-align: right;\">\n",
       "      <th></th>\n",
       "      <th>Date</th>\n",
       "      <th>FIPS</th>\n",
       "      <th>MMWR_week</th>\n",
       "      <th>Recip_County</th>\n",
       "      <th>Recip_State</th>\n",
       "      <th>...</th>\n",
       "      <th>Census2019_5PlusPop</th>\n",
       "      <th>Census2019_5to17Pop</th>\n",
       "      <th>Census2019_12PlusPop</th>\n",
       "      <th>Census2019_18PlusPop</th>\n",
       "      <th>Census2019_65PlusPop</th>\n",
       "    </tr>\n",
       "  </thead>\n",
       "  <tbody>\n",
       "    <tr>\n",
       "      <th>0</th>\n",
       "      <td>05/03/2022</td>\n",
       "      <td>01013</td>\n",
       "      <td>18</td>\n",
       "      <td>Butler County</td>\n",
       "      <td>AL</td>\n",
       "      <td>...</td>\n",
       "      <td>18348.0</td>\n",
       "      <td>3174.0</td>\n",
       "      <td>16675.0</td>\n",
       "      <td>15174.0</td>\n",
       "      <td>4049.0</td>\n",
       "    </tr>\n",
       "    <tr>\n",
       "      <th>1</th>\n",
       "      <td>05/03/2022</td>\n",
       "      <td>01045</td>\n",
       "      <td>18</td>\n",
       "      <td>Dale County</td>\n",
       "      <td>AL</td>\n",
       "      <td>...</td>\n",
       "      <td>45899.0</td>\n",
       "      <td>7915.0</td>\n",
       "      <td>41540.0</td>\n",
       "      <td>37984.0</td>\n",
       "      <td>8502.0</td>\n",
       "    </tr>\n",
       "    <tr>\n",
       "      <th>2</th>\n",
       "      <td>05/03/2022</td>\n",
       "      <td>05065</td>\n",
       "      <td>18</td>\n",
       "      <td>Izard County</td>\n",
       "      <td>AR</td>\n",
       "      <td>...</td>\n",
       "      <td>13064.0</td>\n",
       "      <td>1883.0</td>\n",
       "      <td>12084.0</td>\n",
       "      <td>11181.0</td>\n",
       "      <td>3558.0</td>\n",
       "    </tr>\n",
       "    <tr>\n",
       "      <th>3</th>\n",
       "      <td>05/03/2022</td>\n",
       "      <td>12043</td>\n",
       "      <td>18</td>\n",
       "      <td>Glades County</td>\n",
       "      <td>FL</td>\n",
       "      <td>...</td>\n",
       "      <td>13407.0</td>\n",
       "      <td>1584.0</td>\n",
       "      <td>12604.0</td>\n",
       "      <td>11823.0</td>\n",
       "      <td>3808.0</td>\n",
       "    </tr>\n",
       "    <tr>\n",
       "      <th>4</th>\n",
       "      <td>05/03/2022</td>\n",
       "      <td>13179</td>\n",
       "      <td>18</td>\n",
       "      <td>Liberty County</td>\n",
       "      <td>GA</td>\n",
       "      <td>...</td>\n",
       "      <td>55036.0</td>\n",
       "      <td>11002.0</td>\n",
       "      <td>48507.0</td>\n",
       "      <td>44034.0</td>\n",
       "      <td>5908.0</td>\n",
       "    </tr>\n",
       "  </tbody>\n",
       "</table>\n",
       "<p>5 rows × 66 columns</p>\n",
       "</div>"
      ],
      "text/plain": [
       "         Date   FIPS  MMWR_week    Recip_County Recip_State  ...  Census2019_5PlusPop  Census2019_5to17Pop  Census2019_12PlusPop  Census2019_18PlusPop  Census2019_65PlusPop\n",
       "0  05/03/2022  01013         18   Butler County          AL  ...              18348.0               3174.0               16675.0               15174.0                4049.0\n",
       "1  05/03/2022  01045         18     Dale County          AL  ...              45899.0               7915.0               41540.0               37984.0                8502.0\n",
       "2  05/03/2022  05065         18    Izard County          AR  ...              13064.0               1883.0               12084.0               11181.0                3558.0\n",
       "3  05/03/2022  12043         18   Glades County          FL  ...              13407.0               1584.0               12604.0               11823.0                3808.0\n",
       "4  05/03/2022  13179         18  Liberty County          GA  ...              55036.0              11002.0               48507.0               44034.0                5908.0\n",
       "\n",
       "[5 rows x 66 columns]"
      ]
     },
     "execution_count": 2,
     "metadata": {},
     "output_type": "execute_result"
    }
   ],
   "source": [
    "data.head()"
   ]
  },
  {
   "cell_type": "code",
   "execution_count": 3,
   "id": "ccd0c7b2",
   "metadata": {},
   "outputs": [],
   "source": [
    "# Choosing only columns of interest\n",
    "# Recip_State -> State\n",
    "# Series_Complete_Yes -> Total number of people who are fully vaccinated\n",
    "# 'Booster_Doses' -> Total number of people who are fully vaccinated and have received a booster (or additional) dose\n",
    "data = data[['Date','Recip_County', 'MMWR_week', 'Recip_State', 'Series_Complete_Yes',\n",
    "             'Booster_Doses']]\n",
    "# cap for date (01/04/2022)\n",
    "data['Date'] = pd.to_datetime(data['Date'], format=\"%m/%d/%Y\")\n",
    "data = data[data['Date'] < '2022-04-01']"
   ]
  },
  {
   "cell_type": "code",
   "execution_count": 4,
   "id": "faa9a609",
   "metadata": {},
   "outputs": [
    {
     "name": "stdout",
     "output_type": "stream",
     "text": [
      "Missing values: ['Series_Complete_Yes', 'Booster_Doses']. Total number: 1209670\n"
     ]
    }
   ],
   "source": [
    "# Checking the numer of NAs\n",
    "NAs = data.columns[data.isnull().any()].tolist()\n",
    "num = data.isna().sum().sum()\n",
    "print('Missing values: '+ str(NAs)+'. Total number: '+str(num))\n",
    "#for i in NAs:\n",
    "#    print(i + '\\t\\t' + str(data[i].isnull().sum()))"
   ]
  },
  {
   "cell_type": "code",
   "execution_count": 5,
   "id": "03fc70dd",
   "metadata": {},
   "outputs": [],
   "source": [
    "data = data.fillna(value='NA') # missing in the data file are blank,chaning it to NA"
   ]
  },
  {
   "cell_type": "code",
   "execution_count": 6,
   "id": "461eaa3c",
   "metadata": {},
   "outputs": [
    {
     "name": "stdout",
     "output_type": "stream",
     "text": [
      "<class 'pandas.core.frame.DataFrame'>\n",
      "Int64Index: 1555611 entries, 108366 to 1663976\n",
      "Data columns (total 6 columns):\n",
      " #   Column               Non-Null Count    Dtype         \n",
      "---  ------               --------------    -----         \n",
      " 0   Date                 1555611 non-null  datetime64[ns]\n",
      " 1   Recip_County         1555611 non-null  object        \n",
      " 2   MMWR_week            1555611 non-null  int64         \n",
      " 3   Recip_State          1555611 non-null  object        \n",
      " 4   Series_Complete_Yes  1555611 non-null  object        \n",
      " 5   Booster_Doses        1555611 non-null  object        \n",
      "dtypes: datetime64[ns](1), int64(1), object(4)\n",
      "memory usage: 83.1+ MB\n"
     ]
    }
   ],
   "source": [
    "data.info()"
   ]
  },
  {
   "cell_type": "code",
   "execution_count": 7,
   "id": "c7baf2fa",
   "metadata": {},
   "outputs": [
    {
     "data": {
      "text/html": [
       "<div>\n",
       "<style scoped>\n",
       "    .dataframe tbody tr th:only-of-type {\n",
       "        vertical-align: middle;\n",
       "    }\n",
       "\n",
       "    .dataframe tbody tr th {\n",
       "        vertical-align: top;\n",
       "    }\n",
       "\n",
       "    .dataframe thead th {\n",
       "        text-align: right;\n",
       "    }\n",
       "</style>\n",
       "<table border=\"1\" class=\"dataframe\">\n",
       "  <thead>\n",
       "    <tr style=\"text-align: right;\">\n",
       "      <th></th>\n",
       "      <th>Date</th>\n",
       "      <th>Recip_County</th>\n",
       "      <th>MMWR_week</th>\n",
       "      <th>Recip_State</th>\n",
       "      <th>Series_Complete_Yes</th>\n",
       "      <th>Booster_Doses</th>\n",
       "    </tr>\n",
       "  </thead>\n",
       "  <tbody>\n",
       "    <tr>\n",
       "      <th>1663972</th>\n",
       "      <td>2020-12-13</td>\n",
       "      <td>Boulder County</td>\n",
       "      <td>51</td>\n",
       "      <td>CO</td>\n",
       "      <td>0.0</td>\n",
       "      <td>0</td>\n",
       "    </tr>\n",
       "    <tr>\n",
       "      <th>1663973</th>\n",
       "      <td>2020-12-13</td>\n",
       "      <td>Kit Carson County</td>\n",
       "      <td>51</td>\n",
       "      <td>CO</td>\n",
       "      <td>0.0</td>\n",
       "      <td>0</td>\n",
       "    </tr>\n",
       "    <tr>\n",
       "      <th>1663974</th>\n",
       "      <td>2020-12-13</td>\n",
       "      <td>Floyd County</td>\n",
       "      <td>51</td>\n",
       "      <td>IA</td>\n",
       "      <td>0.0</td>\n",
       "      <td>0</td>\n",
       "    </tr>\n",
       "    <tr>\n",
       "      <th>1663975</th>\n",
       "      <td>2020-12-13</td>\n",
       "      <td>Brantley County</td>\n",
       "      <td>51</td>\n",
       "      <td>GA</td>\n",
       "      <td>0.0</td>\n",
       "      <td>0</td>\n",
       "    </tr>\n",
       "    <tr>\n",
       "      <th>1663976</th>\n",
       "      <td>2020-12-13</td>\n",
       "      <td>Mecosta County</td>\n",
       "      <td>51</td>\n",
       "      <td>MI</td>\n",
       "      <td>0.0</td>\n",
       "      <td>0</td>\n",
       "    </tr>\n",
       "  </tbody>\n",
       "</table>\n",
       "</div>"
      ],
      "text/plain": [
       "              Date       Recip_County  MMWR_week Recip_State Series_Complete_Yes Booster_Doses\n",
       "1663972 2020-12-13     Boulder County         51          CO                 0.0             0\n",
       "1663973 2020-12-13  Kit Carson County         51          CO                 0.0             0\n",
       "1663974 2020-12-13       Floyd County         51          IA                 0.0             0\n",
       "1663975 2020-12-13    Brantley County         51          GA                 0.0             0\n",
       "1663976 2020-12-13     Mecosta County         51          MI                 0.0             0"
      ]
     },
     "execution_count": 7,
     "metadata": {},
     "output_type": "execute_result"
    }
   ],
   "source": [
    "#459640, 12/15/2021 is the first row when booster doses start being recorded\n",
    "data.loc[(data.Date<'2021-12-15'),'Booster_Doses']=0\n",
    "data.tail()"
   ]
  },
  {
   "cell_type": "code",
   "execution_count": 8,
   "id": "e5dd70db",
   "metadata": {},
   "outputs": [],
   "source": [
    "sort_data=data.copy(deep=True)\n",
    "sort_data.sort_values(by=['Recip_County','Date'],inplace=True, ascending=False)"
   ]
  },
  {
   "cell_type": "code",
   "execution_count": 9,
   "id": "7fcf67df",
   "metadata": {},
   "outputs": [
    {
     "ename": "KeyboardInterrupt",
     "evalue": "",
     "output_type": "error",
     "traceback": [
      "\u001b[1;31m---------------------------------------------------------------------------\u001b[0m",
      "\u001b[1;31mKeyboardInterrupt\u001b[0m                         Traceback (most recent call last)",
      "\u001b[1;32m~\\AppData\\Local\\Temp/ipykernel_13064/124118666.py\u001b[0m in \u001b[0;36m<module>\u001b[1;34m\u001b[0m\n\u001b[0;32m     18\u001b[0m         \u001b[1;32melse\u001b[0m\u001b[1;33m:\u001b[0m\u001b[1;33m\u001b[0m\u001b[1;33m\u001b[0m\u001b[0m\n\u001b[0;32m     19\u001b[0m             sort_data.iloc[i,-2] = 0'''\n\u001b[1;32m---> 20\u001b[1;33m \u001b[0mna_impute\u001b[0m\u001b[1;33m(\u001b[0m\u001b[0msort_data\u001b[0m\u001b[1;33m,\u001b[0m\u001b[1;36m2\u001b[0m\u001b[1;33m)\u001b[0m\u001b[1;33m\u001b[0m\u001b[1;33m\u001b[0m\u001b[0m\n\u001b[0m",
      "\u001b[1;32m~\\AppData\\Local\\Temp/ipykernel_13064/124118666.py\u001b[0m in \u001b[0;36mna_impute\u001b[1;34m(data, col)\u001b[0m\n\u001b[0;32m      9\u001b[0m                 \u001b[0mdata\u001b[0m\u001b[1;33m.\u001b[0m\u001b[0miloc\u001b[0m\u001b[1;33m[\u001b[0m\u001b[0mi\u001b[0m\u001b[1;33m,\u001b[0m\u001b[1;33m-\u001b[0m\u001b[0mcol\u001b[0m\u001b[1;33m]\u001b[0m \u001b[1;33m=\u001b[0m \u001b[0mdata\u001b[0m\u001b[1;33m.\u001b[0m\u001b[0miloc\u001b[0m\u001b[1;33m[\u001b[0m\u001b[0mi\u001b[0m\u001b[1;33m-\u001b[0m\u001b[1;36m1\u001b[0m\u001b[1;33m,\u001b[0m\u001b[1;36m2\u001b[0m\u001b[1;33m]\u001b[0m\u001b[1;33m\u001b[0m\u001b[1;33m\u001b[0m\u001b[0m\n\u001b[0;32m     10\u001b[0m         \u001b[1;32melse\u001b[0m\u001b[1;33m:\u001b[0m\u001b[1;33m\u001b[0m\u001b[1;33m\u001b[0m\u001b[0m\n\u001b[1;32m---> 11\u001b[1;33m             \u001b[0mdata\u001b[0m\u001b[1;33m.\u001b[0m\u001b[0miloc\u001b[0m\u001b[1;33m[\u001b[0m\u001b[0mi\u001b[0m\u001b[1;33m,\u001b[0m\u001b[1;33m-\u001b[0m\u001b[0mcol\u001b[0m\u001b[1;33m]\u001b[0m \u001b[1;33m=\u001b[0m \u001b[1;36m0\u001b[0m\u001b[1;33m\u001b[0m\u001b[1;33m\u001b[0m\u001b[0m\n\u001b[0m\u001b[0;32m     12\u001b[0m '''    \n\u001b[0;32m     13\u001b[0m \u001b[1;31m# let's go back trough time for each county to fill NAs\u001b[0m\u001b[1;33m\u001b[0m\u001b[1;33m\u001b[0m\u001b[0m\n",
      "\u001b[1;32m~\\anaconda3\\lib\\site-packages\\pandas\\core\\indexing.py\u001b[0m in \u001b[0;36m__setitem__\u001b[1;34m(self, key, value)\u001b[0m\n\u001b[0;32m    721\u001b[0m \u001b[1;33m\u001b[0m\u001b[0m\n\u001b[0;32m    722\u001b[0m         \u001b[0miloc\u001b[0m \u001b[1;33m=\u001b[0m \u001b[0mself\u001b[0m \u001b[1;32mif\u001b[0m \u001b[0mself\u001b[0m\u001b[1;33m.\u001b[0m\u001b[0mname\u001b[0m \u001b[1;33m==\u001b[0m \u001b[1;34m\"iloc\"\u001b[0m \u001b[1;32melse\u001b[0m \u001b[0mself\u001b[0m\u001b[1;33m.\u001b[0m\u001b[0mobj\u001b[0m\u001b[1;33m.\u001b[0m\u001b[0miloc\u001b[0m\u001b[1;33m\u001b[0m\u001b[1;33m\u001b[0m\u001b[0m\n\u001b[1;32m--> 723\u001b[1;33m         \u001b[0miloc\u001b[0m\u001b[1;33m.\u001b[0m\u001b[0m_setitem_with_indexer\u001b[0m\u001b[1;33m(\u001b[0m\u001b[0mindexer\u001b[0m\u001b[1;33m,\u001b[0m \u001b[0mvalue\u001b[0m\u001b[1;33m,\u001b[0m \u001b[0mself\u001b[0m\u001b[1;33m.\u001b[0m\u001b[0mname\u001b[0m\u001b[1;33m)\u001b[0m\u001b[1;33m\u001b[0m\u001b[1;33m\u001b[0m\u001b[0m\n\u001b[0m\u001b[0;32m    724\u001b[0m \u001b[1;33m\u001b[0m\u001b[0m\n\u001b[0;32m    725\u001b[0m     \u001b[1;32mdef\u001b[0m \u001b[0m_validate_key\u001b[0m\u001b[1;33m(\u001b[0m\u001b[0mself\u001b[0m\u001b[1;33m,\u001b[0m \u001b[0mkey\u001b[0m\u001b[1;33m,\u001b[0m \u001b[0maxis\u001b[0m\u001b[1;33m:\u001b[0m \u001b[0mint\u001b[0m\u001b[1;33m)\u001b[0m\u001b[1;33m:\u001b[0m\u001b[1;33m\u001b[0m\u001b[1;33m\u001b[0m\u001b[0m\n",
      "\u001b[1;32m~\\anaconda3\\lib\\site-packages\\pandas\\core\\indexing.py\u001b[0m in \u001b[0;36m_setitem_with_indexer\u001b[1;34m(self, indexer, value, name)\u001b[0m\n\u001b[0;32m   1728\u001b[0m         \u001b[1;32mif\u001b[0m \u001b[0mtake_split_path\u001b[0m\u001b[1;33m:\u001b[0m\u001b[1;33m\u001b[0m\u001b[1;33m\u001b[0m\u001b[0m\n\u001b[0;32m   1729\u001b[0m             \u001b[1;31m# We have to operate column-wise\u001b[0m\u001b[1;33m\u001b[0m\u001b[1;33m\u001b[0m\u001b[0m\n\u001b[1;32m-> 1730\u001b[1;33m             \u001b[0mself\u001b[0m\u001b[1;33m.\u001b[0m\u001b[0m_setitem_with_indexer_split_path\u001b[0m\u001b[1;33m(\u001b[0m\u001b[0mindexer\u001b[0m\u001b[1;33m,\u001b[0m \u001b[0mvalue\u001b[0m\u001b[1;33m,\u001b[0m \u001b[0mname\u001b[0m\u001b[1;33m)\u001b[0m\u001b[1;33m\u001b[0m\u001b[1;33m\u001b[0m\u001b[0m\n\u001b[0m\u001b[0;32m   1731\u001b[0m         \u001b[1;32melse\u001b[0m\u001b[1;33m:\u001b[0m\u001b[1;33m\u001b[0m\u001b[1;33m\u001b[0m\u001b[0m\n\u001b[0;32m   1732\u001b[0m             \u001b[0mself\u001b[0m\u001b[1;33m.\u001b[0m\u001b[0m_setitem_single_block\u001b[0m\u001b[1;33m(\u001b[0m\u001b[0mindexer\u001b[0m\u001b[1;33m,\u001b[0m \u001b[0mvalue\u001b[0m\u001b[1;33m,\u001b[0m \u001b[0mname\u001b[0m\u001b[1;33m)\u001b[0m\u001b[1;33m\u001b[0m\u001b[1;33m\u001b[0m\u001b[0m\n",
      "\u001b[1;32m~\\anaconda3\\lib\\site-packages\\pandas\\core\\indexing.py\u001b[0m in \u001b[0;36m_setitem_with_indexer_split_path\u001b[1;34m(self, indexer, value, name)\u001b[0m\n\u001b[0;32m   1815\u001b[0m             \u001b[1;31m# scalar value\u001b[0m\u001b[1;33m\u001b[0m\u001b[1;33m\u001b[0m\u001b[0m\n\u001b[0;32m   1816\u001b[0m             \u001b[1;32mfor\u001b[0m \u001b[0mloc\u001b[0m \u001b[1;32min\u001b[0m \u001b[0milocs\u001b[0m\u001b[1;33m:\u001b[0m\u001b[1;33m\u001b[0m\u001b[1;33m\u001b[0m\u001b[0m\n\u001b[1;32m-> 1817\u001b[1;33m                 \u001b[0mself\u001b[0m\u001b[1;33m.\u001b[0m\u001b[0m_setitem_single_column\u001b[0m\u001b[1;33m(\u001b[0m\u001b[0mloc\u001b[0m\u001b[1;33m,\u001b[0m \u001b[0mvalue\u001b[0m\u001b[1;33m,\u001b[0m \u001b[0mpi\u001b[0m\u001b[1;33m)\u001b[0m\u001b[1;33m\u001b[0m\u001b[1;33m\u001b[0m\u001b[0m\n\u001b[0m\u001b[0;32m   1818\u001b[0m \u001b[1;33m\u001b[0m\u001b[0m\n\u001b[0;32m   1819\u001b[0m     \u001b[1;32mdef\u001b[0m \u001b[0m_setitem_with_indexer_2d_value\u001b[0m\u001b[1;33m(\u001b[0m\u001b[0mself\u001b[0m\u001b[1;33m,\u001b[0m \u001b[0mindexer\u001b[0m\u001b[1;33m,\u001b[0m \u001b[0mvalue\u001b[0m\u001b[1;33m)\u001b[0m\u001b[1;33m:\u001b[0m\u001b[1;33m\u001b[0m\u001b[1;33m\u001b[0m\u001b[0m\n",
      "\u001b[1;31mKeyboardInterrupt\u001b[0m: "
     ]
    }
   ],
   "source": [
    "''' We can replace NA with mean or mode. However if we know the number of boosters/series in a particular place at the preius date\n",
    "we can imputing the missing value with the value from the previous day. To achieve it we need to check present day and the day\n",
    "before'''\n",
    "for i in range(1,len(sort_data)):\n",
    "    if sort_data.iloc[i,-2]=='NA':\n",
    "        if sort_data.iloc[i,2]==sort_data.iloc[i-1,2]:\n",
    "            sort_data.iloc[i,-2] = sort_data.iloc[i-1,2]\n",
    "        else:\n",
    "            sort_data.iloc[i,-2] = 0\n",
    "\n",
    "for i in range(1,len(sort_data)):\n",
    "    if sort_data.iloc[i,-1]=='NA':\n",
    "        if sort_data.iloc[i,2]==sort_data.iloc[i-1,2]:\n",
    "            sort_data.iloc[i,-1] = sort_data.iloc[i-1,2]\n",
    "        else:\n",
    "            sort_data.iloc[i,-1] = 0"
   ]
  },
  {
   "cell_type": "code",
   "execution_count": null,
   "id": "bfdb194a",
   "metadata": {},
   "outputs": [],
   "source": [
    "sort_data[sort_data=='NA'].count()"
   ]
  },
  {
   "cell_type": "code",
   "execution_count": null,
   "id": "34a19307",
   "metadata": {},
   "outputs": [],
   "source": [
    "# Grouping data by State\n",
    "data_gr1 = sort_data.groupby(['Date', 'Recip_State'])[['Series_Complete_Yes', 'Booster_Doses']].sum()\n",
    "data_gr2 = sort_data.groupby(['Date', 'Recip_State'])[['MMWR_week']].agg(lambda x:x.value_counts().index[0])"
   ]
  },
  {
   "cell_type": "code",
   "execution_count": null,
   "id": "75316250",
   "metadata": {},
   "outputs": [],
   "source": [
    "data_gr1.info()\n",
    "data_gr2.info()"
   ]
  },
  {
   "cell_type": "code",
   "execution_count": null,
   "id": "253982d7",
   "metadata": {},
   "outputs": [],
   "source": [
    "date = data_gr1.index.get_level_values('Date')\n",
    "state = data_gr1.index.get_level_values('Recip_State')\n",
    "series_complete_yes = data_gr1.iloc[:,0].to_list()\n",
    "booster_doses = data_gr1.iloc[:,1].to_list()\n",
    "mmwr = data_gr2.iloc[:,0].to_list()\n",
    "\n",
    "new = {'Date':date,'State':state,'Series_Complete_Yes':series_complete_yes,'Booster_Doses':booster_doses,'MMWR_week':mmwr}\n",
    "new_data = pd.DataFrame(new)\n",
    "new_data = new_data[::-1]"
   ]
  },
  {
   "cell_type": "code",
   "execution_count": null,
   "id": "d4af4411",
   "metadata": {},
   "outputs": [],
   "source": [
    "new_data.to_csv(r'vaccine2.csv',sep=',',index=False)"
   ]
  }
 ],
 "metadata": {
  "kernelspec": {
   "display_name": "Python 3 (ipykernel)",
   "language": "python",
   "name": "python3"
  },
  "language_info": {
   "codemirror_mode": {
    "name": "ipython",
    "version": 3
   },
   "file_extension": ".py",
   "mimetype": "text/x-python",
   "name": "python",
   "nbconvert_exporter": "python",
   "pygments_lexer": "ipython3",
   "version": "3.9.7"
  }
 },
 "nbformat": 4,
 "nbformat_minor": 5
}
