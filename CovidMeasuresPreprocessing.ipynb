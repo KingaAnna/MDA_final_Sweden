{
 "cells": [
  {
   "cell_type": "markdown",
   "id": "385b4ba9",
   "metadata": {},
   "source": [
    "# Covid Measures Preprocessing\n",
    "\n",
    "The data on Covid measures contains information for countries around the globe and is quite large (link: https://github.com/OxCGRT/covid-policy-tracker). Therefore, this mini-script reduces it the necessary columns and rows. Because the original data set is so big, I did not upload it to the GitHub."
   ]
  },
  {
   "cell_type": "code",
   "execution_count": null,
   "id": "69613bf2",
   "metadata": {},
   "outputs": [],
   "source": [
    "# Import the necessary packages\n",
    "import numpy as np\n",
    "import matplotlib as plt\n",
    "import pandas as pd\n",
    "import plotly.express as px\n",
    "from urllib.request import urlopen\n",
    "import json\n",
    "import ipywidgets as widgets\n",
    "import datetime as dt"
   ]
  },
  {
   "cell_type": "markdown",
   "id": "9b163541",
   "metadata": {},
   "source": [
    "Only concider information about vaccination (V4), Facial Coverings (H6) and schools closing (C1).\n",
    "More specifically:\n",
    "* If at least some types of school need to close, we indicate it with a 1. Otherwise it gets a 0\n",
    "* As soon as facial coverings become required in public spaces where social distancing is not possible, we indicate it as a 1, otherwise it gets a zero\n",
    "* If vaccination is universally available, this is indicated as a 1; otherwise it is 0."
   ]
  },
  {
   "cell_type": "code",
   "execution_count": null,
   "id": "7d5cb995",
   "metadata": {
    "scrolled": false
   },
   "outputs": [],
   "source": [
    "# Read in the data\n",
    "df = pd.read_csv(\"RawData/OxCGRT_latest_combined.csv\")\n",
    "\n",
    "df_reduced = df[['CountryName', 'RegionName', 'Date', 'H7_combined', 'H6_combined', 'C1_combined']]\n",
    "df_reduced.rename(columns = {\"H7_combined\" : \"Vaccination\", \"H6_combined\" : \"Masks\", \"C1_combined\" : \"Close_schools\"}, \\\n",
    "                 inplace = True)\n",
    "\n",
    "def get_masks_var(mask):\n",
    "    if pd.isnull(mask):\n",
    "        return 0\n",
    "    elif int(mask[0]) >= 3:\n",
    "        return 1\n",
    "    else:\n",
    "        return 0\n",
    "\n",
    "def get_schools_var(school):\n",
    "    if pd.isnull(school):\n",
    "        return 0\n",
    "    elif int(school[0]) >= 2:\n",
    "        return 1\n",
    "    else:\n",
    "        return 0\n",
    "\n",
    "def get_vacs_var(row):\n",
    "    if pd.isnull(row['Vaccination']):\n",
    "        return 0\n",
    "    else:\n",
    "        return 1 if row['Vaccination'].startswith('5') else 0\n",
    "\n",
    "df_reduced.loc[:,'Masks'] = df_reduced.apply(lambda row: get_masks_var(row['Masks']), axis = 1)\n",
    "df_reduced.loc[:,'Close_schools'] = df_reduced.apply(lambda row: get_schools_var(row['Close_schools']), axis = 1)\n",
    "df_reduced.loc[:,'Vaccination'] = df_reduced.apply(lambda row: get_vacs_var(row), axis = 1)\n",
    "\n",
    "# Reduce to only US observations\n",
    "df_reduced = df_reduced.loc[df_reduced['CountryName'] == \"United States\",:]\n",
    "df_reduced.reset_index(inplace = True, drop = True)\n",
    "\n"
   ]
  },
  {
   "cell_type": "code",
   "execution_count": null,
   "id": "0fe48c05",
   "metadata": {},
   "outputs": [],
   "source": [
    "# Remove missing values\n",
    "df_reduced = df_reduced.loc[~pd.isnull(df_reduced['RegionName'])]\n",
    "\n",
    "# Merge state fips\n",
    "state_fips = pd.read_csv(\"RawData/state_fips.csv\")\n",
    "df_reduced = pd.merge(df_reduced, state_fips, left_on = \"RegionName\", right_on = \"Name\")\n",
    "df_reduced.drop(columns = ['Name', 'CountryName', 'Postal Code'], inplace = True)\n"
   ]
  },
  {
   "cell_type": "markdown",
   "id": "96806b22",
   "metadata": {},
   "source": [
    "### Collapse the data frame to only contain changes in policies"
   ]
  },
  {
   "cell_type": "code",
   "execution_count": null,
   "id": "2a44dece",
   "metadata": {},
   "outputs": [],
   "source": [
    "cols = ['fips', 'Vaccination', 'Masks', 'Close_schools']\n",
    "df_collapsed = df_reduced.loc[(df_reduced[cols].shift() != df_reduced[cols]).any(axis = 1)]\n",
    "cols.append('Date')\n",
    "df_collapsed = df_collapsed[cols].reset_index(drop = True)\n",
    "\n",
    "# Fix the dates\n",
    "def fix_dates(date):\n",
    "    date_string = str(date)\n",
    "    year = date_string[:4]\n",
    "    month = date_string[4:6]\n",
    "    day = date_string[6:8]\n",
    "    \n",
    "    return year + \"-\" + month + \"-\" + day\n",
    "\n",
    "df_collapsed.loc[:,'Date'] = df_collapsed.apply(lambda row: fix_dates(row['Date']), axis = 1)"
   ]
  },
  {
   "cell_type": "code",
   "execution_count": null,
   "id": "9d2e3fa0",
   "metadata": {},
   "outputs": [],
   "source": [
    "df_collapsed"
   ]
  },
  {
   "cell_type": "code",
   "execution_count": null,
   "id": "c69062f3",
   "metadata": {},
   "outputs": [],
   "source": [
    "df_collapsed.to_csv(\"PreprocessedData/covidMeasures.csv\", index = False)"
   ]
  }
 ],
 "metadata": {
  "kernelspec": {
   "display_name": "Python 3 (ipykernel)",
   "language": "python",
   "name": "python3"
  },
  "language_info": {
   "codemirror_mode": {
    "name": "ipython",
    "version": 3
   },
   "file_extension": ".py",
   "mimetype": "text/x-python",
   "name": "python",
   "nbconvert_exporter": "python",
   "pygments_lexer": "ipython3",
   "version": "3.9.7"
  },
  "varInspector": {
   "cols": {
    "lenName": 16,
    "lenType": 16,
    "lenVar": 40
   },
   "kernels_config": {
    "python": {
     "delete_cmd_postfix": "",
     "delete_cmd_prefix": "del ",
     "library": "var_list.py",
     "varRefreshCmd": "print(var_dic_list())"
    },
    "r": {
     "delete_cmd_postfix": ") ",
     "delete_cmd_prefix": "rm(",
     "library": "var_list.r",
     "varRefreshCmd": "cat(var_dic_list()) "
    }
   },
   "types_to_exclude": [
    "module",
    "function",
    "builtin_function_or_method",
    "instance",
    "_Feature"
   ],
   "window_display": false
  }
 },
 "nbformat": 4,
 "nbformat_minor": 5
}
