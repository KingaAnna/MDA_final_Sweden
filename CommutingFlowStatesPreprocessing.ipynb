{
 "cells": [
  {
   "cell_type": "code",
   "execution_count": 1,
   "id": "527dc80f",
   "metadata": {},
   "outputs": [],
   "source": [
    "import pandas as pd\n",
    "import numpy as np\n",
    "from py2neo import Graph\n",
    "from py2neo import Node\n",
    "from py2neo import Relationship"
   ]
  },
  {
   "cell_type": "markdown",
   "id": "26454524",
   "metadata": {},
   "source": [
    "# Commuting flow between states: Degree centrality"
   ]
  },
  {
   "cell_type": "markdown",
   "id": "870c052a",
   "metadata": {},
   "source": [
    "## Preprocessing the data"
   ]
  },
  {
   "cell_type": "markdown",
   "id": "a8feb07b",
   "metadata": {},
   "source": [
    "The data is read. The missing values result from lines indicating commuting flows to other workplaces outside the USA. These rows are deleted."
   ]
  },
  {
   "cell_type": "code",
   "execution_count": 2,
   "id": "379bcf82",
   "metadata": {},
   "outputs": [],
   "source": [
    "commuting_flow=pd.read_excel(\"RawData/commuting_flows.xlsx\",dtype={'State FIPS Residence': object,'County FIPS Residence':object,'State FIPS Work':object,'County FIPS Work':object})\n",
    "commuting_flow.drop(columns=[\" Margin of Error\"], inplace=True)\n",
    "commuting_flow.dropna(inplace=True)"
   ]
  },
  {
   "cell_type": "markdown",
   "id": "05537fbd",
   "metadata": {},
   "source": [
    "Combining state and county FIPS code to one FIPS code"
   ]
  },
  {
   "cell_type": "code",
   "execution_count": 3,
   "id": "b3f0e396",
   "metadata": {},
   "outputs": [],
   "source": [
    "commuting_flow['State FIPS Work']=commuting_flow['State FIPS Work'].str[1:]\n",
    "commuting_flow[\"FIPS_Residence\"]=commuting_flow[\"State FIPS Residence\"]+commuting_flow[\"County FIPS Residence\"]\n",
    "commuting_flow[\"FIPS_Work\"]=commuting_flow[\"State FIPS Work\"]+commuting_flow[\"County FIPS Work\"]\n",
    "commuting_flow.drop(columns=['State FIPS Work', 'State FIPS Residence','County FIPS Residence','County FIPS Work'],inplace=True)"
   ]
  },
  {
   "cell_type": "markdown",
   "id": "331a30d3",
   "metadata": {},
   "source": [
    "## Preparing graph based on commuting flows between states"
   ]
  },
  {
   "cell_type": "markdown",
   "id": "ebcca617",
   "metadata": {},
   "source": [
    "We only consider the commuting flow between states."
   ]
  },
  {
   "cell_type": "code",
   "execution_count": 4,
   "id": "f4d0822b",
   "metadata": {},
   "outputs": [],
   "source": [
    "between_state=commuting_flow[commuting_flow[\"State Residence\"]!=commuting_flow[\"State Work\"]]"
   ]
  },
  {
   "cell_type": "markdown",
   "id": "e3c45222",
   "metadata": {},
   "source": [
    "We compute the nodes and edges and save the results in the folder Data_input_neo4j"
   ]
  },
  {
   "cell_type": "code",
   "execution_count": 5,
   "id": "6ce5da46",
   "metadata": {},
   "outputs": [],
   "source": [
    "commuting_edges=between_state.groupby([\"State Residence\",\"State Work\"],as_index=False).agg({'Workers in Commuting Flow':'sum'}).rename(columns={'Workers in Commuting Flow':'Commuting','State Residence':'source','State Work':'target'})\n",
    "commuting_nodes=pd.DataFrame(commuting_edges['source'].unique(),columns=['State'])"
   ]
  },
  {
   "cell_type": "code",
   "execution_count": 6,
   "id": "02a45517",
   "metadata": {},
   "outputs": [],
   "source": [
    "commuting_edges.to_csv('Data_input_neo4j/commuting_edges.csv',index=False)\n",
    "commuting_nodes.to_csv('Data_input_neo4j/commuting_nodes.csv',index=False)"
   ]
  },
  {
   "cell_type": "markdown",
   "id": "c1e73b40",
   "metadata": {},
   "source": [
    "## Commuting flow degree centrality"
   ]
  },
  {
   "cell_type": "markdown",
   "id": "ef031908",
   "metadata": {},
   "source": [
    "Make sure that all the datafiles in the folder Data_input_neo4j are in the input folder of your database."
   ]
  },
  {
   "cell_type": "markdown",
   "id": "c1c155bb",
   "metadata": {},
   "source": [
    "### Make graph"
   ]
  },
  {
   "cell_type": "code",
   "execution_count": 7,
   "id": "05bdc14c",
   "metadata": {},
   "outputs": [],
   "source": [
    "graph = Graph(password= \"xxx\")"
   ]
  },
  {
   "cell_type": "markdown",
   "id": "9fd75fb1",
   "metadata": {},
   "source": [
    "Insert the nodes and relationships."
   ]
  },
  {
   "cell_type": "code",
   "execution_count": 8,
   "id": "afd90b5b",
   "metadata": {},
   "outputs": [
    {
     "data": {
      "text/html": [
       "<table><tr><th>true</th></tr><tr><td style=\"text-align:left\">true</td></tr></table>"
      ],
      "text/plain": [
       " true \n",
       "------\n",
       " true "
      ]
     },
     "execution_count": 8,
     "metadata": {},
     "output_type": "execute_result"
    }
   ],
   "source": [
    "graph.run(\"MATCH (n) DETACH DELETE n\")\n",
    "query=\"\"\"LOAD CSV WITH HEADERS FROM $file as row\n",
    "        with row\n",
    "        CALL apoc.create.node(['State','Place'],{name:row.State}) YIELD node\n",
    "        RETURN distinct true\"\"\"\n",
    "graph.run(query,file='file:///commuting_nodes.csv')\n",
    "query=\"\"\"LOAD CSV WITH HEADERS FROM $file as row\n",
    "        with row\n",
    "        MATCH (source:State{name:row.source})\n",
    "        MATCH (target:State{name:row.target})\n",
    "        CALL apoc.create.relationship(source,\"COMMUTING\",{weight:toFloat(row.Commuting)},target) YIELD rel\n",
    "        RETURN distinct true\"\"\"\n",
    "graph.run(query,file='file:///commuting_edges.csv')"
   ]
  },
  {
   "cell_type": "markdown",
   "id": "5bb0be26",
   "metadata": {},
   "source": [
    "Create an in-memory graph, called 'Commuting'."
   ]
  },
  {
   "cell_type": "code",
   "execution_count": 9,
   "id": "c123eef0",
   "metadata": {},
   "outputs": [
    {
     "data": {
      "text/html": [
       "<table><tr><th>nodeProjection</th><th>relationshipProjection</th><th>graphName</th><th>nodeCount</th><th>relationshipCount</th><th>createMillis</th></tr><tr><td style=\"text-align:left\">{State: {properties: {}, label: &#039;State&#039;}}</td><td style=\"text-align:left\">{COMMUTING: {orientation: &#039;UNDIRECTED&#039;, aggregation: &#039;DEFAULT&#039;, type: &#039;COMMUTING&#039;, properties: {weight: {property: &#039;weight&#039;, aggregation: &#039;DEFAULT&#039;, defaultValue: null}}}}</td><td style=\"text-align:left\">Commuting</td><td style=\"text-align:right\">52</td><td style=\"text-align:right\">4748</td><td style=\"text-align:right\">127</td></tr></table>"
      ],
      "text/plain": [
       " nodeProjection                            | relationshipProjection                                                                                                                                                      | graphName | nodeCount | relationshipCount | createMillis \n",
       "-------------------------------------------|-----------------------------------------------------------------------------------------------------------------------------------------------------------------------------|-----------|-----------|-------------------|--------------\n",
       " {State: {properties: {}, label: 'State'}} | {COMMUTING: {orientation: 'UNDIRECTED', aggregation: 'DEFAULT', type: 'COMMUTING', properties: {weight: {property: 'weight', aggregation: 'DEFAULT', defaultValue: null}}}} | Commuting |        52 |              4748 |          127 "
      ]
     },
     "execution_count": 9,
     "metadata": {},
     "output_type": "execute_result"
    }
   ],
   "source": [
    "query=\"\"\"CALL gds.graph.create('Commuting','State',{COMMUTING:{properties:'weight', orientation:'UNDIRECTED'}})\"\"\"\n",
    "graph.run(query)"
   ]
  },
  {
   "cell_type": "markdown",
   "id": "268423f2",
   "metadata": {},
   "source": [
    "### Perform degree centrality"
   ]
  },
  {
   "cell_type": "markdown",
   "id": "07729ac5",
   "metadata": {},
   "source": [
    "We can use the gds.degree.stream algorithm to calculate the degree centrality of the states."
   ]
  },
  {
   "cell_type": "code",
   "execution_count": 10,
   "id": "3e6ef3fe",
   "metadata": {},
   "outputs": [],
   "source": [
    "query=\"\"\"CALL gds.degree.stream('Commuting',{relationshipWeightProperty:'weight'})\n",
    "        YIELD nodeId, score\n",
    "        RETURN gds.util.asNode(nodeId).name AS Place, score AS Degree_Centrality_com\n",
    "        ORDER by Degree_Centrality_com desc\"\"\"\n",
    "result = graph.run(query).data() \n",
    "df_degree_commuting=pd.DataFrame(result)"
   ]
  },
  {
   "cell_type": "markdown",
   "id": "3ba9e74d",
   "metadata": {},
   "source": [
    "The in-memory graph is dropped again."
   ]
  },
  {
   "cell_type": "code",
   "execution_count": 11,
   "id": "93b58d8d",
   "metadata": {
    "scrolled": true
   },
   "outputs": [
    {
     "data": {
      "text/html": [
       "<table><tr><th>graphName</th><th>database</th><th>memoryUsage</th><th>sizeInBytes</th><th>nodeProjection</th><th>relationshipProjection</th><th>nodeQuery</th><th>relationshipQuery</th><th>nodeCount</th><th>relationshipCount</th><th>nodeFilter</th><th>relationshipFilter</th><th>density</th><th>creationTime</th><th>modificationTime</th><th>schema</th></tr><tr><td style=\"text-align:left\">Commuting</td><td style=\"text-align:left\">neo4j</td><td style=\"text-align:left\"></td><td style=\"text-align:right\">-1</td><td style=\"text-align:left\">{State: {properties: {}, label: &#039;State&#039;}}</td><td style=\"text-align:left\">{COMMUTING: {orientation: &#039;UNDIRECTED&#039;, aggregation: &#039;DEFAULT&#039;, type: &#039;COMMUTING&#039;, properties: {weight: {property: &#039;weight&#039;, aggregation: &#039;DEFAULT&#039;, defaultValue: null}}}}</td><td style=\"text-align:right\">null</td><td style=\"text-align:right\">null</td><td style=\"text-align:right\">52</td><td style=\"text-align:right\">4748</td><td style=\"text-align:right\">null</td><td style=\"text-align:right\">null</td><td style=\"text-align:right\">1.790346907993967</td><td style=\"text-align:left\">datetime(&#039;2022-05-29T10:06:39.502472300+02:00&#039;)</td><td style=\"text-align:left\">datetime(&#039;2022-05-29T10:06:43.310351900+02:00&#039;)</td><td style=\"text-align:left\">{relationships: {COMMUTING: {weight: &#039;Float (DefaultValue(NaN), PERSISTENT, Aggregation.DEFAULT)&#039;}}, nodes: {State: {}}}</td></tr></table>"
      ],
      "text/plain": [
       " graphName | database | memoryUsage | sizeInBytes | nodeProjection                            | relationshipProjection                                                                                                                                                      | nodeQuery | relationshipQuery | nodeCount | relationshipCount | nodeFilter | relationshipFilter |           density | creationTime                                    | modificationTime                                | schema                                                                                                                   \n",
       "-----------|----------|-------------|-------------|-------------------------------------------|-----------------------------------------------------------------------------------------------------------------------------------------------------------------------------|-----------|-------------------|-----------|-------------------|------------|--------------------|-------------------|-------------------------------------------------|-------------------------------------------------|--------------------------------------------------------------------------------------------------------------------------\n",
       " Commuting | neo4j    |             |          -1 | {State: {properties: {}, label: 'State'}} | {COMMUTING: {orientation: 'UNDIRECTED', aggregation: 'DEFAULT', type: 'COMMUTING', properties: {weight: {property: 'weight', aggregation: 'DEFAULT', defaultValue: null}}}} |      null |              null |        52 |              4748 |       null |               null | 1.790346907993967 | datetime('2022-05-29T10:06:39.502472300+02:00') | datetime('2022-05-29T10:06:43.310351900+02:00') | {relationships: {COMMUTING: {weight: 'Float (DefaultValue(NaN), PERSISTENT, Aggregation.DEFAULT)'}}, nodes: {State: {}}} "
      ]
     },
     "execution_count": 11,
     "metadata": {},
     "output_type": "execute_result"
    }
   ],
   "source": [
    "graph.run(\"CALL gds.graph.drop('Commuting')\")"
   ]
  },
  {
   "cell_type": "markdown",
   "id": "dd9c864f",
   "metadata": {},
   "source": [
    "The results are saved into a csv file."
   ]
  },
  {
   "cell_type": "code",
   "execution_count": 12,
   "id": "a764252b",
   "metadata": {},
   "outputs": [],
   "source": [
    "df_degree_commuting.to_csv('PreprocessedData/degree_commuting_between_states.csv',index=False)"
   ]
  }
 ],
 "metadata": {
  "kernelspec": {
   "display_name": "Python 3",
   "language": "python",
   "name": "python3"
  },
  "language_info": {
   "codemirror_mode": {
    "name": "ipython",
    "version": 3
   },
   "file_extension": ".py",
   "mimetype": "text/x-python",
   "name": "python",
   "nbconvert_exporter": "python",
   "pygments_lexer": "ipython3",
   "version": "3.10.4"
  },
  "toc": {
   "base_numbering": 1,
   "nav_menu": {},
   "number_sections": true,
   "sideBar": true,
   "skip_h1_title": false,
   "title_cell": "Table of Contents",
   "title_sidebar": "Contents",
   "toc_cell": false,
   "toc_position": {},
   "toc_section_display": true,
   "toc_window_display": false
  }
 },
 "nbformat": 4,
 "nbformat_minor": 5
}
